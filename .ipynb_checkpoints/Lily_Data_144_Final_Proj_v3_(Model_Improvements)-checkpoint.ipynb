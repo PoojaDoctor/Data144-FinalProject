{
 "cells": [
  {
   "cell_type": "markdown",
   "metadata": {
    "colab_type": "text",
    "id": "view-in-github"
   },
   "source": [
    "<a href=\"https://colab.research.google.com/github/PoojaDoctor/Data144-FinalProject/blob/master/Lily_Data_144_Final_Proj_v3_(Model_Improvements).ipynb\" target=\"_parent\"><img src=\"https://colab.research.google.com/assets/colab-badge.svg\" alt=\"Open In Colab\"/></a>"
   ]
  },
  {
   "cell_type": "markdown",
   "metadata": {
    "colab_type": "text",
    "id": "PzFRBnjMAbdE"
   },
   "source": [
    "### **Data 144 Final Project - Lily Li - Version 3**"
   ]
  },
  {
   "cell_type": "markdown",
   "metadata": {
    "colab_type": "text",
    "id": "o-5Z-48e_os-"
   },
   "source": [
    "Recommend Methods:\n",
    "1. Random forest\n",
    "2. Decision tree\n",
    "3. Neural network\n",
    "4. Linear Regression\n",
    "\n",
    "Try different models and throw the data into them!"
   ]
  },
  {
   "cell_type": "markdown",
   "metadata": {
    "colab_type": "text",
    "id": "ZqY1KkxcHqRK"
   },
   "source": [
    "Use Mean square error;\n",
    "Mean absolute error;\n",
    "Train the data of the log of views\n",
    "\n"
   ]
  },
  {
   "cell_type": "markdown",
   "metadata": {
    "colab_type": "text",
    "id": "1_SXrZu3FxyN"
   },
   "source": [
    "### **Ted Main Dataset**"
   ]
  },
  {
   "cell_type": "code",
   "execution_count": 0,
   "metadata": {
    "colab": {},
    "colab_type": "code",
    "id": "EBXbuNpYAkNY"
   },
   "outputs": [],
   "source": [
    "import pandas as pd\n",
    "import matplotlib.pyplot as plt\n",
    "import seaborn as sns\n",
    "import numpy as np\n",
    "from scipy.stats import norm\n",
    "from sklearn.preprocessing import StandardScaler\n",
    "from scipy import stats\n",
    "import warnings\n",
    "warnings.filterwarnings('ignore')\n",
    "%matplotlib inline"
   ]
  },
  {
   "cell_type": "code",
   "execution_count": 0,
   "metadata": {
    "colab": {},
    "colab_type": "code",
    "id": "F3PnWbv-BCwM"
   },
   "outputs": [],
   "source": [
    "# Upload the \"Ted Main\" dataset\n",
    "\n",
    "url = 'https://raw.githubusercontent.com/PoojaDoctor/Data144-FinalProject/master/datasets/ted_main.csv'\n",
    "df_ted = pd.read_csv(url)\n",
    "# Dataset is now stored in a Pandas Dataframe"
   ]
  },
  {
   "cell_type": "code",
   "execution_count": 0,
   "metadata": {
    "colab": {
     "base_uri": "https://localhost:8080/",
     "height": 598
    },
    "colab_type": "code",
    "id": "Hc5Ri85xB94H",
    "outputId": "0f7fc50c-9ff6-498f-9525-eefd40a3cf03"
   },
   "outputs": [
    {
     "data": {
      "text/html": [
       "<div>\n",
       "<style scoped>\n",
       "    .dataframe tbody tr th:only-of-type {\n",
       "        vertical-align: middle;\n",
       "    }\n",
       "\n",
       "    .dataframe tbody tr th {\n",
       "        vertical-align: top;\n",
       "    }\n",
       "\n",
       "    .dataframe thead th {\n",
       "        text-align: right;\n",
       "    }\n",
       "</style>\n",
       "<table border=\"1\" class=\"dataframe\">\n",
       "  <thead>\n",
       "    <tr style=\"text-align: right;\">\n",
       "      <th></th>\n",
       "      <th>comments</th>\n",
       "      <th>description</th>\n",
       "      <th>duration</th>\n",
       "      <th>event</th>\n",
       "      <th>film_date</th>\n",
       "      <th>languages</th>\n",
       "      <th>main_speaker</th>\n",
       "      <th>name</th>\n",
       "      <th>num_speaker</th>\n",
       "      <th>published_date</th>\n",
       "      <th>ratings</th>\n",
       "      <th>related_talks</th>\n",
       "      <th>speaker_occupation</th>\n",
       "      <th>tags</th>\n",
       "      <th>title</th>\n",
       "      <th>url</th>\n",
       "      <th>views</th>\n",
       "    </tr>\n",
       "  </thead>\n",
       "  <tbody>\n",
       "    <tr>\n",
       "      <th>0</th>\n",
       "      <td>4553</td>\n",
       "      <td>Sir Ken Robinson makes an entertaining and pro...</td>\n",
       "      <td>1164</td>\n",
       "      <td>TED2006</td>\n",
       "      <td>1140825600</td>\n",
       "      <td>60</td>\n",
       "      <td>Ken Robinson</td>\n",
       "      <td>Ken Robinson: Do schools kill creativity?</td>\n",
       "      <td>1</td>\n",
       "      <td>1151367060</td>\n",
       "      <td>[{'id': 7, 'name': 'Funny', 'count': 19645}, {...</td>\n",
       "      <td>[{'id': 865, 'hero': 'https://pe.tedcdn.com/im...</td>\n",
       "      <td>Author/educator</td>\n",
       "      <td>['children', 'creativity', 'culture', 'dance',...</td>\n",
       "      <td>Do schools kill creativity?</td>\n",
       "      <td>https://www.ted.com/talks/ken_robinson_says_sc...</td>\n",
       "      <td>47227110</td>\n",
       "    </tr>\n",
       "    <tr>\n",
       "      <th>1</th>\n",
       "      <td>265</td>\n",
       "      <td>With the same humor and humanity he exuded in ...</td>\n",
       "      <td>977</td>\n",
       "      <td>TED2006</td>\n",
       "      <td>1140825600</td>\n",
       "      <td>43</td>\n",
       "      <td>Al Gore</td>\n",
       "      <td>Al Gore: Averting the climate crisis</td>\n",
       "      <td>1</td>\n",
       "      <td>1151367060</td>\n",
       "      <td>[{'id': 7, 'name': 'Funny', 'count': 544}, {'i...</td>\n",
       "      <td>[{'id': 243, 'hero': 'https://pe.tedcdn.com/im...</td>\n",
       "      <td>Climate advocate</td>\n",
       "      <td>['alternative energy', 'cars', 'climate change...</td>\n",
       "      <td>Averting the climate crisis</td>\n",
       "      <td>https://www.ted.com/talks/al_gore_on_averting_...</td>\n",
       "      <td>3200520</td>\n",
       "    </tr>\n",
       "    <tr>\n",
       "      <th>2</th>\n",
       "      <td>124</td>\n",
       "      <td>New York Times columnist David Pogue takes aim...</td>\n",
       "      <td>1286</td>\n",
       "      <td>TED2006</td>\n",
       "      <td>1140739200</td>\n",
       "      <td>26</td>\n",
       "      <td>David Pogue</td>\n",
       "      <td>David Pogue: Simplicity sells</td>\n",
       "      <td>1</td>\n",
       "      <td>1151367060</td>\n",
       "      <td>[{'id': 7, 'name': 'Funny', 'count': 964}, {'i...</td>\n",
       "      <td>[{'id': 1725, 'hero': 'https://pe.tedcdn.com/i...</td>\n",
       "      <td>Technology columnist</td>\n",
       "      <td>['computers', 'entertainment', 'interface desi...</td>\n",
       "      <td>Simplicity sells</td>\n",
       "      <td>https://www.ted.com/talks/david_pogue_says_sim...</td>\n",
       "      <td>1636292</td>\n",
       "    </tr>\n",
       "    <tr>\n",
       "      <th>3</th>\n",
       "      <td>200</td>\n",
       "      <td>In an emotionally charged talk, MacArthur-winn...</td>\n",
       "      <td>1116</td>\n",
       "      <td>TED2006</td>\n",
       "      <td>1140912000</td>\n",
       "      <td>35</td>\n",
       "      <td>Majora Carter</td>\n",
       "      <td>Majora Carter: Greening the ghetto</td>\n",
       "      <td>1</td>\n",
       "      <td>1151367060</td>\n",
       "      <td>[{'id': 3, 'name': 'Courageous', 'count': 760}...</td>\n",
       "      <td>[{'id': 1041, 'hero': 'https://pe.tedcdn.com/i...</td>\n",
       "      <td>Activist for environmental justice</td>\n",
       "      <td>['MacArthur grant', 'activism', 'business', 'c...</td>\n",
       "      <td>Greening the ghetto</td>\n",
       "      <td>https://www.ted.com/talks/majora_carter_s_tale...</td>\n",
       "      <td>1697550</td>\n",
       "    </tr>\n",
       "    <tr>\n",
       "      <th>4</th>\n",
       "      <td>593</td>\n",
       "      <td>You've never seen data presented like this. Wi...</td>\n",
       "      <td>1190</td>\n",
       "      <td>TED2006</td>\n",
       "      <td>1140566400</td>\n",
       "      <td>48</td>\n",
       "      <td>Hans Rosling</td>\n",
       "      <td>Hans Rosling: The best stats you've ever seen</td>\n",
       "      <td>1</td>\n",
       "      <td>1151440680</td>\n",
       "      <td>[{'id': 9, 'name': 'Ingenious', 'count': 3202}...</td>\n",
       "      <td>[{'id': 2056, 'hero': 'https://pe.tedcdn.com/i...</td>\n",
       "      <td>Global health expert; data visionary</td>\n",
       "      <td>['Africa', 'Asia', 'Google', 'demo', 'economic...</td>\n",
       "      <td>The best stats you've ever seen</td>\n",
       "      <td>https://www.ted.com/talks/hans_rosling_shows_t...</td>\n",
       "      <td>12005869</td>\n",
       "    </tr>\n",
       "  </tbody>\n",
       "</table>\n",
       "</div>"
      ],
      "text/plain": [
       "   comments  ...     views\n",
       "0      4553  ...  47227110\n",
       "1       265  ...   3200520\n",
       "2       124  ...   1636292\n",
       "3       200  ...   1697550\n",
       "4       593  ...  12005869\n",
       "\n",
       "[5 rows x 17 columns]"
      ]
     },
     "execution_count": 15,
     "metadata": {
      "tags": []
     },
     "output_type": "execute_result"
    }
   ],
   "source": [
    "df_ted.head()"
   ]
  },
  {
   "cell_type": "code",
   "execution_count": 0,
   "metadata": {
    "colab": {
     "base_uri": "https://localhost:8080/",
     "height": 297
    },
    "colab_type": "code",
    "id": "FiuaP6feGZhc",
    "outputId": "71cc54a1-194f-46d2-f56d-e0492a2e5ef5"
   },
   "outputs": [
    {
     "data": {
      "text/html": [
       "<div>\n",
       "<style scoped>\n",
       "    .dataframe tbody tr th:only-of-type {\n",
       "        vertical-align: middle;\n",
       "    }\n",
       "\n",
       "    .dataframe tbody tr th {\n",
       "        vertical-align: top;\n",
       "    }\n",
       "\n",
       "    .dataframe thead th {\n",
       "        text-align: right;\n",
       "    }\n",
       "</style>\n",
       "<table border=\"1\" class=\"dataframe\">\n",
       "  <thead>\n",
       "    <tr style=\"text-align: right;\">\n",
       "      <th></th>\n",
       "      <th>comments</th>\n",
       "      <th>duration</th>\n",
       "      <th>film_date</th>\n",
       "      <th>languages</th>\n",
       "      <th>num_speaker</th>\n",
       "      <th>published_date</th>\n",
       "      <th>views</th>\n",
       "    </tr>\n",
       "  </thead>\n",
       "  <tbody>\n",
       "    <tr>\n",
       "      <th>count</th>\n",
       "      <td>2550.000000</td>\n",
       "      <td>2550.000000</td>\n",
       "      <td>2.550000e+03</td>\n",
       "      <td>2550.000000</td>\n",
       "      <td>2550.000000</td>\n",
       "      <td>2.550000e+03</td>\n",
       "      <td>2.550000e+03</td>\n",
       "    </tr>\n",
       "    <tr>\n",
       "      <th>mean</th>\n",
       "      <td>191.562353</td>\n",
       "      <td>826.510196</td>\n",
       "      <td>1.321928e+09</td>\n",
       "      <td>27.326275</td>\n",
       "      <td>1.028235</td>\n",
       "      <td>1.343525e+09</td>\n",
       "      <td>1.698297e+06</td>\n",
       "    </tr>\n",
       "    <tr>\n",
       "      <th>std</th>\n",
       "      <td>282.315223</td>\n",
       "      <td>374.009138</td>\n",
       "      <td>1.197391e+08</td>\n",
       "      <td>9.563452</td>\n",
       "      <td>0.207705</td>\n",
       "      <td>9.464009e+07</td>\n",
       "      <td>2.498479e+06</td>\n",
       "    </tr>\n",
       "    <tr>\n",
       "      <th>min</th>\n",
       "      <td>2.000000</td>\n",
       "      <td>135.000000</td>\n",
       "      <td>7.464960e+07</td>\n",
       "      <td>0.000000</td>\n",
       "      <td>1.000000</td>\n",
       "      <td>1.151367e+09</td>\n",
       "      <td>5.044300e+04</td>\n",
       "    </tr>\n",
       "    <tr>\n",
       "      <th>25%</th>\n",
       "      <td>63.000000</td>\n",
       "      <td>577.000000</td>\n",
       "      <td>1.257466e+09</td>\n",
       "      <td>23.000000</td>\n",
       "      <td>1.000000</td>\n",
       "      <td>1.268463e+09</td>\n",
       "      <td>7.557928e+05</td>\n",
       "    </tr>\n",
       "    <tr>\n",
       "      <th>50%</th>\n",
       "      <td>118.000000</td>\n",
       "      <td>848.000000</td>\n",
       "      <td>1.333238e+09</td>\n",
       "      <td>28.000000</td>\n",
       "      <td>1.000000</td>\n",
       "      <td>1.340935e+09</td>\n",
       "      <td>1.124524e+06</td>\n",
       "    </tr>\n",
       "    <tr>\n",
       "      <th>75%</th>\n",
       "      <td>221.750000</td>\n",
       "      <td>1046.750000</td>\n",
       "      <td>1.412964e+09</td>\n",
       "      <td>33.000000</td>\n",
       "      <td>1.000000</td>\n",
       "      <td>1.423432e+09</td>\n",
       "      <td>1.700760e+06</td>\n",
       "    </tr>\n",
       "    <tr>\n",
       "      <th>max</th>\n",
       "      <td>6404.000000</td>\n",
       "      <td>5256.000000</td>\n",
       "      <td>1.503792e+09</td>\n",
       "      <td>72.000000</td>\n",
       "      <td>5.000000</td>\n",
       "      <td>1.506092e+09</td>\n",
       "      <td>4.722711e+07</td>\n",
       "    </tr>\n",
       "  </tbody>\n",
       "</table>\n",
       "</div>"
      ],
      "text/plain": [
       "          comments     duration  ...  published_date         views\n",
       "count  2550.000000  2550.000000  ...    2.550000e+03  2.550000e+03\n",
       "mean    191.562353   826.510196  ...    1.343525e+09  1.698297e+06\n",
       "std     282.315223   374.009138  ...    9.464009e+07  2.498479e+06\n",
       "min       2.000000   135.000000  ...    1.151367e+09  5.044300e+04\n",
       "25%      63.000000   577.000000  ...    1.268463e+09  7.557928e+05\n",
       "50%     118.000000   848.000000  ...    1.340935e+09  1.124524e+06\n",
       "75%     221.750000  1046.750000  ...    1.423432e+09  1.700760e+06\n",
       "max    6404.000000  5256.000000  ...    1.506092e+09  4.722711e+07\n",
       "\n",
       "[8 rows x 7 columns]"
      ]
     },
     "execution_count": 16,
     "metadata": {
      "tags": []
     },
     "output_type": "execute_result"
    }
   ],
   "source": [
    "df_ted.describe()"
   ]
  },
  {
   "cell_type": "code",
   "execution_count": 0,
   "metadata": {
    "colab": {
     "base_uri": "https://localhost:8080/",
     "height": 419
    },
    "colab_type": "code",
    "id": "VPsXovZaJUqu",
    "outputId": "b67879c0-c3fa-4c9a-d95b-24a4d1130dcb"
   },
   "outputs": [
    {
     "data": {
      "text/html": [
       "<div>\n",
       "<style scoped>\n",
       "    .dataframe tbody tr th:only-of-type {\n",
       "        vertical-align: middle;\n",
       "    }\n",
       "\n",
       "    .dataframe tbody tr th {\n",
       "        vertical-align: top;\n",
       "    }\n",
       "\n",
       "    .dataframe thead th {\n",
       "        text-align: right;\n",
       "    }\n",
       "</style>\n",
       "<table border=\"1\" class=\"dataframe\">\n",
       "  <thead>\n",
       "    <tr style=\"text-align: right;\">\n",
       "      <th></th>\n",
       "      <th>views</th>\n",
       "      <th>comments</th>\n",
       "    </tr>\n",
       "  </thead>\n",
       "  <tbody>\n",
       "    <tr>\n",
       "      <th>0</th>\n",
       "      <td>47227110</td>\n",
       "      <td>4553</td>\n",
       "    </tr>\n",
       "    <tr>\n",
       "      <th>1</th>\n",
       "      <td>3200520</td>\n",
       "      <td>265</td>\n",
       "    </tr>\n",
       "    <tr>\n",
       "      <th>2</th>\n",
       "      <td>1636292</td>\n",
       "      <td>124</td>\n",
       "    </tr>\n",
       "    <tr>\n",
       "      <th>3</th>\n",
       "      <td>1697550</td>\n",
       "      <td>200</td>\n",
       "    </tr>\n",
       "    <tr>\n",
       "      <th>4</th>\n",
       "      <td>12005869</td>\n",
       "      <td>593</td>\n",
       "    </tr>\n",
       "    <tr>\n",
       "      <th>...</th>\n",
       "      <td>...</td>\n",
       "      <td>...</td>\n",
       "    </tr>\n",
       "    <tr>\n",
       "      <th>2545</th>\n",
       "      <td>450430</td>\n",
       "      <td>17</td>\n",
       "    </tr>\n",
       "    <tr>\n",
       "      <th>2546</th>\n",
       "      <td>417470</td>\n",
       "      <td>6</td>\n",
       "    </tr>\n",
       "    <tr>\n",
       "      <th>2547</th>\n",
       "      <td>375647</td>\n",
       "      <td>10</td>\n",
       "    </tr>\n",
       "    <tr>\n",
       "      <th>2548</th>\n",
       "      <td>419309</td>\n",
       "      <td>32</td>\n",
       "    </tr>\n",
       "    <tr>\n",
       "      <th>2549</th>\n",
       "      <td>391721</td>\n",
       "      <td>8</td>\n",
       "    </tr>\n",
       "  </tbody>\n",
       "</table>\n",
       "<p>2550 rows × 2 columns</p>\n",
       "</div>"
      ],
      "text/plain": [
       "         views  comments\n",
       "0     47227110      4553\n",
       "1      3200520       265\n",
       "2      1636292       124\n",
       "3      1697550       200\n",
       "4     12005869       593\n",
       "...        ...       ...\n",
       "2545    450430        17\n",
       "2546    417470         6\n",
       "2547    375647        10\n",
       "2548    419309        32\n",
       "2549    391721         8\n",
       "\n",
       "[2550 rows x 2 columns]"
      ]
     },
     "execution_count": 17,
     "metadata": {
      "tags": []
     },
     "output_type": "execute_result"
    }
   ],
   "source": [
    "df_ted[['views','comments']] "
   ]
  },
  {
   "cell_type": "code",
   "execution_count": 0,
   "metadata": {
    "colab": {
     "base_uri": "https://localhost:8080/",
     "height": 282
    },
    "colab_type": "code",
    "id": "hxRYTaotF9Gi",
    "outputId": "e11b6993-61e5-4dfc-e730-1e802b4f5a7d"
   },
   "outputs": [
    {
     "data": {
      "image/png": "[encoded data removed]",
      "text/plain": [
       "<Figure size 432x288 with 1 Axes>"
      ]
     },
     "metadata": {
      "tags": []
     },
     "output_type": "display_data"
    }
   ],
   "source": [
    "# Because comments and views have strong correlation:\n",
    "from sklearn.linear_model import LinearRegression\n",
    "\n",
    "data = df_ted[['views','comments']]  # load data set\n",
    "X = data.iloc[:, 0].values.reshape(-1, 1)  # values converts it into a numpy array\n",
    "Y = data.iloc[:, 1].values.reshape(-1, 1)  # -1 means that calculate the dimension of rows, but have 1 column\n",
    "linear_regressor = LinearRegression()  # create object for the class\n",
    "linear_regressor.fit(X, Y)  # perform linear regression\n",
    "Y_pred = linear_regressor.predict(X)  # make predictions\n",
    "data.plot.scatter(x='views', y='comments', xlim=(1,7.722711e+06), ylim=(0,1004))\n",
    "plt.plot(X, Y_pred, color='red')\n",
    "plt.show()\n",
    "\n",
    "#var = 'views'\n",
    "#data = pd.concat([df_ted['comments'], df_ted[var]], axis=1)\n",
    "#data.plot.scatter(x=var, y='comments', xlim=(1,8.722711e+06), ylim=(0,1004));"
   ]
  },
  {
   "cell_type": "code",
   "execution_count": 0,
   "metadata": {
    "colab": {},
    "colab_type": "code",
    "id": "E2ETi4slMvsP"
   },
   "outputs": [],
   "source": [
    "# How to use number of comments to predict views"
   ]
  },
  {
   "cell_type": "code",
   "execution_count": 0,
   "metadata": {
    "colab": {},
    "colab_type": "code",
    "id": "FwKQiCdrKKyU"
   },
   "outputs": [],
   "source": [
    "# Now, the next goal is to use the number of comments to predict views."
   ]
  },
  {
   "cell_type": "code",
   "execution_count": 0,
   "metadata": {
    "colab": {
     "base_uri": "https://localhost:8080/",
     "height": 34
    },
    "colab_type": "code",
    "id": "RFOrZ-RwUH3q",
    "outputId": "24531052-bac2-4d70-a7ca-ee064c042aab"
   },
   "outputs": [
    {
     "data": {
      "text/plain": [
       "(2550, 17)"
      ]
     },
     "execution_count": 21,
     "metadata": {
      "tags": []
     },
     "output_type": "execute_result"
    }
   ],
   "source": [
    "df_ted.shape"
   ]
  },
  {
   "cell_type": "code",
   "execution_count": 0,
   "metadata": {
    "colab": {
     "base_uri": "https://localhost:8080/",
     "height": 102
    },
    "colab_type": "code",
    "id": "4YxKkrjoUNOK",
    "outputId": "69769015-eb33-4e69-d45f-890f2907c791"
   },
   "outputs": [
    {
     "data": {
      "text/plain": [
       "Index(['comments', 'description', 'duration', 'event', 'film_date',\n",
       "       'languages', 'main_speaker', 'name', 'num_speaker', 'published_date',\n",
       "       'ratings', 'related_talks', 'speaker_occupation', 'tags', 'title',\n",
       "       'url', 'views'],\n",
       "      dtype='object')"
      ]
     },
     "execution_count": 22,
     "metadata": {
      "tags": []
     },
     "output_type": "execute_result"
    }
   ],
   "source": [
    "df_ted.columns"
   ]
  },
  {
   "cell_type": "code",
   "execution_count": 0,
   "metadata": {
    "colab": {
     "base_uri": "https://localhost:8080/",
     "height": 297
    },
    "colab_type": "code",
    "id": "HlyAN6T3URBd",
    "outputId": "8d63c2ff-8d9c-4539-bb97-439ffe8d2295"
   },
   "outputs": [
    {
     "data": {
      "text/html": [
       "<div>\n",
       "<style scoped>\n",
       "    .dataframe tbody tr th:only-of-type {\n",
       "        vertical-align: middle;\n",
       "    }\n",
       "\n",
       "    .dataframe tbody tr th {\n",
       "        vertical-align: top;\n",
       "    }\n",
       "\n",
       "    .dataframe thead th {\n",
       "        text-align: right;\n",
       "    }\n",
       "</style>\n",
       "<table border=\"1\" class=\"dataframe\">\n",
       "  <thead>\n",
       "    <tr style=\"text-align: right;\">\n",
       "      <th></th>\n",
       "      <th>comments</th>\n",
       "      <th>duration</th>\n",
       "      <th>film_date</th>\n",
       "      <th>languages</th>\n",
       "      <th>num_speaker</th>\n",
       "      <th>published_date</th>\n",
       "      <th>views</th>\n",
       "    </tr>\n",
       "  </thead>\n",
       "  <tbody>\n",
       "    <tr>\n",
       "      <th>count</th>\n",
       "      <td>2550.000000</td>\n",
       "      <td>2550.000000</td>\n",
       "      <td>2.550000e+03</td>\n",
       "      <td>2550.000000</td>\n",
       "      <td>2550.000000</td>\n",
       "      <td>2.550000e+03</td>\n",
       "      <td>2.550000e+03</td>\n",
       "    </tr>\n",
       "    <tr>\n",
       "      <th>mean</th>\n",
       "      <td>191.562353</td>\n",
       "      <td>826.510196</td>\n",
       "      <td>1.321928e+09</td>\n",
       "      <td>27.326275</td>\n",
       "      <td>1.028235</td>\n",
       "      <td>1.343525e+09</td>\n",
       "      <td>1.698297e+06</td>\n",
       "    </tr>\n",
       "    <tr>\n",
       "      <th>std</th>\n",
       "      <td>282.315223</td>\n",
       "      <td>374.009138</td>\n",
       "      <td>1.197391e+08</td>\n",
       "      <td>9.563452</td>\n",
       "      <td>0.207705</td>\n",
       "      <td>9.464009e+07</td>\n",
       "      <td>2.498479e+06</td>\n",
       "    </tr>\n",
       "    <tr>\n",
       "      <th>min</th>\n",
       "      <td>2.000000</td>\n",
       "      <td>135.000000</td>\n",
       "      <td>7.464960e+07</td>\n",
       "      <td>0.000000</td>\n",
       "      <td>1.000000</td>\n",
       "      <td>1.151367e+09</td>\n",
       "      <td>5.044300e+04</td>\n",
       "    </tr>\n",
       "    <tr>\n",
       "      <th>25%</th>\n",
       "      <td>63.000000</td>\n",
       "      <td>577.000000</td>\n",
       "      <td>1.257466e+09</td>\n",
       "      <td>23.000000</td>\n",
       "      <td>1.000000</td>\n",
       "      <td>1.268463e+09</td>\n",
       "      <td>7.557928e+05</td>\n",
       "    </tr>\n",
       "    <tr>\n",
       "      <th>50%</th>\n",
       "      <td>118.000000</td>\n",
       "      <td>848.000000</td>\n",
       "      <td>1.333238e+09</td>\n",
       "      <td>28.000000</td>\n",
       "      <td>1.000000</td>\n",
       "      <td>1.340935e+09</td>\n",
       "      <td>1.124524e+06</td>\n",
       "    </tr>\n",
       "    <tr>\n",
       "      <th>75%</th>\n",
       "      <td>221.750000</td>\n",
       "      <td>1046.750000</td>\n",
       "      <td>1.412964e+09</td>\n",
       "      <td>33.000000</td>\n",
       "      <td>1.000000</td>\n",
       "      <td>1.423432e+09</td>\n",
       "      <td>1.700760e+06</td>\n",
       "    </tr>\n",
       "    <tr>\n",
       "      <th>max</th>\n",
       "      <td>6404.000000</td>\n",
       "      <td>5256.000000</td>\n",
       "      <td>1.503792e+09</td>\n",
       "      <td>72.000000</td>\n",
       "      <td>5.000000</td>\n",
       "      <td>1.506092e+09</td>\n",
       "      <td>4.722711e+07</td>\n",
       "    </tr>\n",
       "  </tbody>\n",
       "</table>\n",
       "</div>"
      ],
      "text/plain": [
       "          comments     duration  ...  published_date         views\n",
       "count  2550.000000  2550.000000  ...    2.550000e+03  2.550000e+03\n",
       "mean    191.562353   826.510196  ...    1.343525e+09  1.698297e+06\n",
       "std     282.315223   374.009138  ...    9.464009e+07  2.498479e+06\n",
       "min       2.000000   135.000000  ...    1.151367e+09  5.044300e+04\n",
       "25%      63.000000   577.000000  ...    1.268463e+09  7.557928e+05\n",
       "50%     118.000000   848.000000  ...    1.340935e+09  1.124524e+06\n",
       "75%     221.750000  1046.750000  ...    1.423432e+09  1.700760e+06\n",
       "max    6404.000000  5256.000000  ...    1.506092e+09  4.722711e+07\n",
       "\n",
       "[8 rows x 7 columns]"
      ]
     },
     "execution_count": 23,
     "metadata": {
      "tags": []
     },
     "output_type": "execute_result"
    }
   ],
   "source": [
    "df_ted.describe()"
   ]
  },
  {
   "cell_type": "code",
   "execution_count": 0,
   "metadata": {
    "colab": {
     "base_uri": "https://localhost:8080/",
     "height": 323
    },
    "colab_type": "code",
    "id": "UPPIY0Nv6upP",
    "outputId": "8993372b-9df2-4962-80f6-b4df0cc07dec"
   },
   "outputs": [
    {
     "name": "stdout",
     "output_type": "stream",
     "text": [
      "comments              0\n",
      "description           0\n",
      "duration              0\n",
      "event                 0\n",
      "film_date             0\n",
      "languages             0\n",
      "main_speaker          0\n",
      "name                  0\n",
      "num_speaker           0\n",
      "published_date        0\n",
      "ratings               0\n",
      "related_talks         0\n",
      "speaker_occupation    6\n",
      "tags                  0\n",
      "title                 0\n",
      "url                   0\n",
      "views                 0\n",
      "dtype: int64\n"
     ]
    }
   ],
   "source": [
    "# Finding the null values\n",
    "print(df_ted.isnull().sum())"
   ]
  },
  {
   "cell_type": "code",
   "execution_count": 0,
   "metadata": {
    "colab": {
     "base_uri": "https://localhost:8080/",
     "height": 697
    },
    "colab_type": "code",
    "id": "ryDatc4U7aEJ",
    "outputId": "9bb2a532-b5b0-43fe-e683-f52e6fdd3df5"
   },
   "outputs": [
    {
     "data": {
      "text/html": [
       "<div>\n",
       "<style scoped>\n",
       "    .dataframe tbody tr th:only-of-type {\n",
       "        vertical-align: middle;\n",
       "    }\n",
       "\n",
       "    .dataframe tbody tr th {\n",
       "        vertical-align: top;\n",
       "    }\n",
       "\n",
       "    .dataframe thead th {\n",
       "        text-align: right;\n",
       "    }\n",
       "</style>\n",
       "<table border=\"1\" class=\"dataframe\">\n",
       "  <thead>\n",
       "    <tr style=\"text-align: right;\">\n",
       "      <th></th>\n",
       "      <th>comments</th>\n",
       "      <th>description</th>\n",
       "      <th>duration</th>\n",
       "      <th>event</th>\n",
       "      <th>film_date</th>\n",
       "      <th>languages</th>\n",
       "      <th>main_speaker</th>\n",
       "      <th>name</th>\n",
       "      <th>num_speaker</th>\n",
       "      <th>published_date</th>\n",
       "      <th>ratings</th>\n",
       "      <th>related_talks</th>\n",
       "      <th>speaker_occupation</th>\n",
       "      <th>tags</th>\n",
       "      <th>title</th>\n",
       "      <th>url</th>\n",
       "      <th>views</th>\n",
       "    </tr>\n",
       "  </thead>\n",
       "  <tbody>\n",
       "    <tr>\n",
       "      <th>1113</th>\n",
       "      <td>145</td>\n",
       "      <td>After a crisis, how can we tell if water is sa...</td>\n",
       "      <td>217</td>\n",
       "      <td>TEDGlobal 2011</td>\n",
       "      <td>1310601600</td>\n",
       "      <td>38</td>\n",
       "      <td>Sonaar Luthra</td>\n",
       "      <td>Sonaar Luthra: Meet the Water Canary</td>\n",
       "      <td>1</td>\n",
       "      <td>1326731605</td>\n",
       "      <td>[{'id': 10, 'name': 'Inspiring', 'count': 73},...</td>\n",
       "      <td>[{'id': 523, 'hero': 'https://pe.tedcdn.com/im...</td>\n",
       "      <td>NaN</td>\n",
       "      <td>['TED Fellows', 'design', 'global development'...</td>\n",
       "      <td>Meet the Water Canary</td>\n",
       "      <td>https://www.ted.com/talks/sonaar_luthra_meet_t...</td>\n",
       "      <td>353749</td>\n",
       "    </tr>\n",
       "    <tr>\n",
       "      <th>1192</th>\n",
       "      <td>122</td>\n",
       "      <td>The Pirate Party fights for transparency, anon...</td>\n",
       "      <td>1097</td>\n",
       "      <td>TEDxObserver</td>\n",
       "      <td>1331424000</td>\n",
       "      <td>10</td>\n",
       "      <td>Rick Falkvinge</td>\n",
       "      <td>Rick Falkvinge: I am a pirate</td>\n",
       "      <td>1</td>\n",
       "      <td>1333289675</td>\n",
       "      <td>[{'id': 8, 'name': 'Informative', 'count': 156...</td>\n",
       "      <td>[{'id': 1329, 'hero': 'https://pe.tedcdn.com/i...</td>\n",
       "      <td>NaN</td>\n",
       "      <td>['Internet', 'TEDx', 'global issues', 'politic...</td>\n",
       "      <td>I am a pirate</td>\n",
       "      <td>https://www.ted.com/talks/rick_falkvinge_i_am_...</td>\n",
       "      <td>181010</td>\n",
       "    </tr>\n",
       "    <tr>\n",
       "      <th>1220</th>\n",
       "      <td>257</td>\n",
       "      <td>As you surf the Web, information is being coll...</td>\n",
       "      <td>399</td>\n",
       "      <td>TED2012</td>\n",
       "      <td>1330473600</td>\n",
       "      <td>32</td>\n",
       "      <td>Gary Kovacs</td>\n",
       "      <td>Gary Kovacs: Tracking our online trackers</td>\n",
       "      <td>1</td>\n",
       "      <td>1336057219</td>\n",
       "      <td>[{'id': 23, 'name': 'Jaw-dropping', 'count': 9...</td>\n",
       "      <td>[{'id': 1370, 'hero': 'https://pe.tedcdn.com/i...</td>\n",
       "      <td>NaN</td>\n",
       "      <td>['Internet', 'advertising', 'business', 'priva...</td>\n",
       "      <td>Tracking our online trackers</td>\n",
       "      <td>https://www.ted.com/talks/gary_kovacs_tracking...</td>\n",
       "      <td>2098639</td>\n",
       "    </tr>\n",
       "    <tr>\n",
       "      <th>1656</th>\n",
       "      <td>140</td>\n",
       "      <td>In this lovely talk, TED Fellow Ryan Holladay ...</td>\n",
       "      <td>389</td>\n",
       "      <td>TED@BCG San Francisco</td>\n",
       "      <td>1383091200</td>\n",
       "      <td>33</td>\n",
       "      <td>Ryan Holladay</td>\n",
       "      <td>Ryan Holladay: To hear this music you have to ...</td>\n",
       "      <td>1</td>\n",
       "      <td>1389369735</td>\n",
       "      <td>[{'id': 1, 'name': 'Beautiful', 'count': 211},...</td>\n",
       "      <td>[{'id': 1152, 'hero': 'https://pe.tedcdn.com/i...</td>\n",
       "      <td>NaN</td>\n",
       "      <td>['TED Fellows', 'entertainment', 'music', 'tec...</td>\n",
       "      <td>To hear this music you have to be there. Liter...</td>\n",
       "      <td>https://www.ted.com/talks/ryan_holladay_to_hea...</td>\n",
       "      <td>1284510</td>\n",
       "    </tr>\n",
       "    <tr>\n",
       "      <th>1911</th>\n",
       "      <td>48</td>\n",
       "      <td>What do you do with an outdated encyclopedia i...</td>\n",
       "      <td>366</td>\n",
       "      <td>TEDYouth 2014</td>\n",
       "      <td>1415059200</td>\n",
       "      <td>34</td>\n",
       "      <td>Brian Dettmer</td>\n",
       "      <td>Brian Dettmer: Old books reborn as art</td>\n",
       "      <td>1</td>\n",
       "      <td>1423238442</td>\n",
       "      <td>[{'id': 1, 'name': 'Beautiful', 'count': 361},...</td>\n",
       "      <td>[{'id': 610, 'hero': 'https://pe.tedcdn.com/im...</td>\n",
       "      <td>NaN</td>\n",
       "      <td>['TEDYouth', 'art', 'books', 'creativity']</td>\n",
       "      <td>Old books reborn as art</td>\n",
       "      <td>https://www.ted.com/talks/brian_dettmer_old_bo...</td>\n",
       "      <td>1159937</td>\n",
       "    </tr>\n",
       "    <tr>\n",
       "      <th>1949</th>\n",
       "      <td>70</td>\n",
       "      <td>Photographer Boniface Mwangi wanted to protest...</td>\n",
       "      <td>440</td>\n",
       "      <td>TEDGlobal 2014</td>\n",
       "      <td>1413763200</td>\n",
       "      <td>33</td>\n",
       "      <td>Boniface Mwangi</td>\n",
       "      <td>Boniface Mwangi: The day I stood up alone</td>\n",
       "      <td>1</td>\n",
       "      <td>1427989423</td>\n",
       "      <td>[{'id': 3, 'name': 'Courageous', 'count': 614}...</td>\n",
       "      <td>[{'id': 1757, 'hero': 'https://pe.tedcdn.com/i...</td>\n",
       "      <td>NaN</td>\n",
       "      <td>['TED Fellows', 'activism', 'art', 'corruption...</td>\n",
       "      <td>The day I stood up alone</td>\n",
       "      <td>https://www.ted.com/talks/boniface_mwangi_boni...</td>\n",
       "      <td>1342431</td>\n",
       "    </tr>\n",
       "  </tbody>\n",
       "</table>\n",
       "</div>"
      ],
      "text/plain": [
       "      comments  ...    views\n",
       "1113       145  ...   353749\n",
       "1192       122  ...   181010\n",
       "1220       257  ...  2098639\n",
       "1656       140  ...  1284510\n",
       "1911        48  ...  1159937\n",
       "1949        70  ...  1342431\n",
       "\n",
       "[6 rows x 17 columns]"
      ]
     },
     "execution_count": 25,
     "metadata": {
      "tags": []
     },
     "output_type": "execute_result"
    }
   ],
   "source": [
    "# Identify the null values rolls\n",
    "no_speaker_occ = df_ted[df_ted[\"speaker_occupation\"].isnull()]\n",
    "no_speaker_occ"
   ]
  },
  {
   "cell_type": "code",
   "execution_count": 0,
   "metadata": {
    "colab": {
     "base_uri": "https://localhost:8080/",
     "height": 170
    },
    "colab_type": "code",
    "id": "BZvZoO2Y-9py",
    "outputId": "a7c7de35-d6fb-40d6-a2ff-d0cec8523780"
   },
   "outputs": [
    {
     "data": {
      "text/plain": [
       "count    2.550000e+03\n",
       "mean     1.698297e+06\n",
       "std      2.498479e+06\n",
       "min      5.044300e+04\n",
       "25%      7.557928e+05\n",
       "50%      1.124524e+06\n",
       "75%      1.700760e+06\n",
       "max      4.722711e+07\n",
       "Name: views, dtype: float64"
      ]
     },
     "execution_count": 26,
     "metadata": {
      "tags": []
     },
     "output_type": "execute_result"
    }
   ],
   "source": [
    "df_ted['views'].describe()"
   ]
  },
  {
   "cell_type": "code",
   "execution_count": 0,
   "metadata": {
    "colab": {
     "base_uri": "https://localhost:8080/",
     "height": 170
    },
    "colab_type": "code",
    "id": "FpB3i6IfUsa1",
    "outputId": "8f5990e1-ec7e-42fe-9407-c8ad7c5c22a1"
   },
   "outputs": [
    {
     "data": {
      "text/plain": [
       "count    6.000000e+00\n",
       "mean     1.070046e+06\n",
       "std      7.056541e+05\n",
       "min      1.810100e+05\n",
       "25%      5.552960e+05\n",
       "50%      1.222224e+06\n",
       "75%      1.327951e+06\n",
       "max      2.098639e+06\n",
       "Name: views, dtype: float64"
      ]
     },
     "execution_count": 27,
     "metadata": {
      "tags": []
     },
     "output_type": "execute_result"
    }
   ],
   "source": [
    "no_speaker_occ['views'].describe()"
   ]
  },
  {
   "cell_type": "code",
   "execution_count": 0,
   "metadata": {
    "colab": {},
    "colab_type": "code",
    "id": "6OOoPyt0UuP_"
   },
   "outputs": [],
   "source": [
    "# Finding:\n",
    "# Becuase the average views for ted talks that speakers' have no occupations is samller than the average views.\n",
    "# I want to learn more about the relationship between occupations & views."
   ]
  },
  {
   "cell_type": "code",
   "execution_count": 0,
   "metadata": {
    "colab": {
     "base_uri": "https://localhost:8080/",
     "height": 102
    },
    "colab_type": "code",
    "id": "GC6_r5fBVTBE",
    "outputId": "2dc50a04-525a-469c-af41-0e0289b5eb24"
   },
   "outputs": [
    {
     "data": {
      "text/plain": [
       "count       2544\n",
       "unique      1458\n",
       "top       Writer\n",
       "freq          45\n",
       "Name: speaker_occupation, dtype: object"
      ]
     },
     "execution_count": 29,
     "metadata": {
      "tags": []
     },
     "output_type": "execute_result"
    }
   ],
   "source": [
    "df_ted['speaker_occupation'].describe()"
   ]
  },
  {
   "cell_type": "code",
   "execution_count": 0,
   "metadata": {
    "colab": {
     "base_uri": "https://localhost:8080/",
     "height": 34
    },
    "colab_type": "code",
    "id": "V861uUzpVVb4",
    "outputId": "0f5463fd-0071-45a0-f0fc-5c52babf09e4"
   },
   "outputs": [
    {
     "name": "stdout",
     "output_type": "stream",
     "text": [
      "The most popular occupation for speakers is Writer.\n"
     ]
    }
   ],
   "source": [
    "print('The most popular occupation for speakers is Writer.')\n",
    "# later, in the graphing area, I will explore more about how different occupations are related to views."
   ]
  },
  {
   "cell_type": "code",
   "execution_count": 0,
   "metadata": {
    "colab": {
     "base_uri": "https://localhost:8080/",
     "height": 51
    },
    "colab_type": "code",
    "id": "1__MAnhbV--q",
    "outputId": "b2a0587f-9abe-414b-805d-f43440840f11"
   },
   "outputs": [
    {
     "name": "stdout",
     "output_type": "stream",
     "text": [
      "NUMBER OF UNIQUE OCCUPATIONS\n",
      "1459\n"
     ]
    }
   ],
   "source": [
    "# How many unique occupations?\n",
    "print('NUMBER OF UNIQUE OCCUPATIONS')\n",
    "print(len(df_ted['speaker_occupation'].unique()))"
   ]
  },
  {
   "cell_type": "code",
   "execution_count": 0,
   "metadata": {
    "colab": {
     "base_uri": "https://localhost:8080/",
     "height": 51
    },
    "colab_type": "code",
    "id": "fHlFrEY0WHIC",
    "outputId": "8b260d4f-be4e-4022-aedb-d37d215140c6"
   },
   "outputs": [
    {
     "name": "stdout",
     "output_type": "stream",
     "text": [
      "NUMBER OF UNIQUE SPEAKERS\n",
      "2156\n"
     ]
    }
   ],
   "source": [
    "# How many unique speakers?\n",
    "print('NUMBER OF UNIQUE SPEAKERS')\n",
    "print(len(df_ted['main_speaker'].unique()))"
   ]
  },
  {
   "cell_type": "code",
   "execution_count": 0,
   "metadata": {
    "colab": {
     "base_uri": "https://localhost:8080/",
     "height": 51
    },
    "colab_type": "code",
    "id": "X-ZsAzvxWZhi",
    "outputId": "006b1b61-aa1f-4376-ddc7-638d810d0d0a"
   },
   "outputs": [
    {
     "name": "stdout",
     "output_type": "stream",
     "text": [
      "NUMBER OF UNIQUE EVENT\n",
      "355\n"
     ]
    }
   ],
   "source": [
    "# How many unique event?\n",
    "print('NUMBER OF UNIQUE EVENT')\n",
    "print(len(df_ted['event'].unique()))"
   ]
  },
  {
   "cell_type": "code",
   "execution_count": 0,
   "metadata": {
    "colab": {
     "base_uri": "https://localhost:8080/",
     "height": 290
    },
    "colab_type": "code",
    "id": "Iq3-Al7W_jth",
    "outputId": "02a4cb5a-618f-4fd6-9008-aa6a29138cde"
   },
   "outputs": [
    {
     "data": {
      "image/png": "[encoded data removed]",
      "text/plain": [
       "<Figure size 432x288 with 1 Axes>"
      ]
     },
     "metadata": {
      "tags": []
     },
     "output_type": "display_data"
    }
   ],
   "source": [
    "# histogram\n",
    "# to learn about how do views distribute\n",
    "sns.distplot(df_ted['views']);"
   ]
  },
  {
   "cell_type": "markdown",
   "metadata": {
    "colab_type": "text",
    "id": "J60t_e5IBK1i"
   },
   "source": [
    "Relationship with numerical variables"
   ]
  },
  {
   "cell_type": "markdown",
   "metadata": {
    "colab_type": "text",
    "id": "P19ZCDeVBa_g"
   },
   "source": [
    "scatter plot comments/views"
   ]
  },
  {
   "cell_type": "code",
   "execution_count": 0,
   "metadata": {
    "colab": {
     "base_uri": "https://localhost:8080/",
     "height": 283
    },
    "colab_type": "code",
    "id": "-N-_e6yH_4L_",
    "outputId": "946d1661-1ad5-4363-96de-d342a29304f9"
   },
   "outputs": [
    {
     "data": {
      "image/png": "[encoded data removed]",
      "text/plain": [
       "<Figure size 432x288 with 1 Axes>"
      ]
     },
     "metadata": {
      "tags": []
     },
     "output_type": "display_data"
    }
   ],
   "source": [
    "# is the the number of comments related to the popularity?\n",
    "\n",
    "var = 'comments'\n",
    "data = pd.concat([df_ted['views'], df_ted[var]], axis=1)\n",
    "data.plot.scatter(x=var, y='views', xlim=(1,400), ylim=(0,7000000));\n"
   ]
  },
  {
   "cell_type": "markdown",
   "metadata": {
    "colab_type": "text",
    "id": "nyn8SreZBWKl"
   },
   "source": [
    "scatter plot languages/views"
   ]
  },
  {
   "cell_type": "code",
   "execution_count": 0,
   "metadata": {
    "colab": {
     "base_uri": "https://localhost:8080/",
     "height": 283
    },
    "colab_type": "code",
    "id": "pYcvkQSDAmCH",
    "outputId": "947128cd-1248-498d-8f32-9a087c9c7ff3"
   },
   "outputs": [
    {
     "data": {
      "image/png": "[encoded data removed]",
      "text/plain": [
       "<Figure size 432x288 with 1 Axes>"
      ]
     },
     "metadata": {
      "tags": []
     },
     "output_type": "display_data"
    }
   ],
   "source": [
    "# is the the number of language available related to the popularity?\n",
    "\n",
    "var = 'languages'\n",
    "data = pd.concat([df_ted['views'], df_ted[var]], axis=1)\n",
    "data.plot.scatter(x=var, y='views', xlim=(1,51), ylim=(0,7000000));\n"
   ]
  },
  {
   "cell_type": "markdown",
   "metadata": {
    "colab_type": "text",
    "id": "Hy-Fw2EPBQxQ"
   },
   "source": [
    "scatter plot num_speaker/views"
   ]
  },
  {
   "cell_type": "code",
   "execution_count": 0,
   "metadata": {
    "colab": {
     "base_uri": "https://localhost:8080/",
     "height": 284
    },
    "colab_type": "code",
    "id": "0cL0oETfA2Y_",
    "outputId": "c117ca11-15a7-4f6e-b99f-3353a5497623"
   },
   "outputs": [
    {
     "data": {
      "image/png": "[encoded data removed]",
      "text/plain": [
       "<Figure size 432x288 with 1 Axes>"
      ]
     },
     "metadata": {
      "tags": []
     },
     "output_type": "display_data"
    }
   ],
   "source": [
    "# is the the number of speakers related to the popularity?\n",
    "\n",
    "var = 'num_speaker'\n",
    "data = pd.concat([df_ted['views'], df_ted[var]], axis=1)\n",
    "data.plot.scatter(x=var, y='views', xlim=(1,5), ylim=(0,7000000));\n"
   ]
  },
  {
   "cell_type": "markdown",
   "metadata": {
    "colab_type": "text",
    "id": "GbTCTIdpBHlQ"
   },
   "source": [
    "Relationship with categorical features"
   ]
  },
  {
   "cell_type": "code",
   "execution_count": 0,
   "metadata": {
    "colab": {
     "base_uri": "https://localhost:8080/",
     "height": 392
    },
    "colab_type": "code",
    "id": "pcfq60lQAa3W",
    "outputId": "eccfc419-f12d-4e26-8ac3-df2c72127b6c"
   },
   "outputs": [
    {
     "data": {
      "image/png": "[encoded data removed]",
      "text/plain": [
       "<Figure size 576x432 with 1 Axes>"
      ]
     },
     "metadata": {
      "tags": []
     },
     "output_type": "display_data"
    }
   ],
   "source": [
    "# box plot views/speaker_occupation\n",
    "# is the the speaker occupation related to the popularity?\n",
    "\n",
    "var = 'views'\n",
    "data = pd.concat([df_ted['speaker_occupation'], df_ted[var]], axis=1)\n",
    "f, ax = plt.subplots(figsize=(8, 6))\n",
    "fig = sns.boxplot(x=var, y=\"speaker_occupation\", data=data)\n",
    "fig.axis(ymin=0, xmax=2e+07, ymax = 10);"
   ]
  },
  {
   "cell_type": "code",
   "execution_count": 0,
   "metadata": {
    "colab": {
     "base_uri": "https://localhost:8080/",
     "height": 170
    },
    "colab_type": "code",
    "id": "Y625DJ8c5YK-",
    "outputId": "e7d79391-0625-41bf-e014-1d3666d67cc1"
   },
   "outputs": [
    {
     "data": {
      "text/plain": [
       "count    6.000000e+00\n",
       "mean     1.070046e+06\n",
       "std      7.056541e+05\n",
       "min      1.810100e+05\n",
       "25%      5.552960e+05\n",
       "50%      1.222224e+06\n",
       "75%      1.327951e+06\n",
       "max      2.098639e+06\n",
       "Name: views, dtype: float64"
      ]
     },
     "execution_count": 39,
     "metadata": {
      "tags": []
     },
     "output_type": "execute_result"
    }
   ],
   "source": [
    "no_speaker_occ['views'].describe()"
   ]
  },
  {
   "cell_type": "code",
   "execution_count": 0,
   "metadata": {
    "colab": {
     "base_uri": "https://localhost:8080/",
     "height": 1000
    },
    "colab_type": "code",
    "id": "c4a3VCxY54XP",
    "outputId": "78ce30bd-5b53-422f-f140-f66d39096878"
   },
   "outputs": [
    {
     "data": {
      "text/html": [
       "<div>\n",
       "<style scoped>\n",
       "    .dataframe tbody tr th:only-of-type {\n",
       "        vertical-align: middle;\n",
       "    }\n",
       "\n",
       "    .dataframe tbody tr th {\n",
       "        vertical-align: top;\n",
       "    }\n",
       "\n",
       "    .dataframe thead th {\n",
       "        text-align: right;\n",
       "    }\n",
       "</style>\n",
       "<table border=\"1\" class=\"dataframe\">\n",
       "  <thead>\n",
       "    <tr style=\"text-align: right;\">\n",
       "      <th></th>\n",
       "      <th>comments</th>\n",
       "      <th>description</th>\n",
       "      <th>duration</th>\n",
       "      <th>event</th>\n",
       "      <th>film_date</th>\n",
       "      <th>languages</th>\n",
       "      <th>main_speaker</th>\n",
       "      <th>name</th>\n",
       "      <th>num_speaker</th>\n",
       "      <th>published_date</th>\n",
       "      <th>ratings</th>\n",
       "      <th>related_talks</th>\n",
       "      <th>speaker_occupation</th>\n",
       "      <th>tags</th>\n",
       "      <th>title</th>\n",
       "      <th>url</th>\n",
       "      <th>views</th>\n",
       "    </tr>\n",
       "  </thead>\n",
       "  <tbody>\n",
       "    <tr>\n",
       "      <th>4</th>\n",
       "      <td>593</td>\n",
       "      <td>You've never seen data presented like this. Wi...</td>\n",
       "      <td>1190</td>\n",
       "      <td>TED2006</td>\n",
       "      <td>1140566400</td>\n",
       "      <td>48</td>\n",
       "      <td>Hans Rosling</td>\n",
       "      <td>Hans Rosling: The best stats you've ever seen</td>\n",
       "      <td>1</td>\n",
       "      <td>1151440680</td>\n",
       "      <td>[{'id': 9, 'name': 'Ingenious', 'count': 3202}...</td>\n",
       "      <td>[{'id': 2056, 'hero': 'https://pe.tedcdn.com/i...</td>\n",
       "      <td>Global health expert; data visionary</td>\n",
       "      <td>['Africa', 'Asia', 'Google', 'demo', 'economic...</td>\n",
       "      <td>The best stats you've ever seen</td>\n",
       "      <td>https://www.ted.com/talks/hans_rosling_shows_t...</td>\n",
       "      <td>12005869</td>\n",
       "    </tr>\n",
       "    <tr>\n",
       "      <th>117</th>\n",
       "      <td>261</td>\n",
       "      <td>Researcher Hans Rosling uses his cool data too...</td>\n",
       "      <td>1137</td>\n",
       "      <td>TED2007</td>\n",
       "      <td>1172880000</td>\n",
       "      <td>35</td>\n",
       "      <td>Hans Rosling</td>\n",
       "      <td>Hans Rosling: New insights on poverty</td>\n",
       "      <td>1</td>\n",
       "      <td>1182762720</td>\n",
       "      <td>[{'id': 1, 'name': 'Beautiful', 'count': 218},...</td>\n",
       "      <td>[{'id': 494, 'hero': 'https://pe.tedcdn.com/im...</td>\n",
       "      <td>Global health expert; data visionary</td>\n",
       "      <td>['Africa', 'Asia', 'Google', 'economics', 'glo...</td>\n",
       "      <td>New insights on poverty</td>\n",
       "      <td>https://www.ted.com/talks/hans_rosling_reveals...</td>\n",
       "      <td>3243784</td>\n",
       "    </tr>\n",
       "    <tr>\n",
       "      <th>447</th>\n",
       "      <td>125</td>\n",
       "      <td>Hans Rosling unveils data visuals that untangl...</td>\n",
       "      <td>602</td>\n",
       "      <td>TED2009</td>\n",
       "      <td>1233878400</td>\n",
       "      <td>40</td>\n",
       "      <td>Hans Rosling</td>\n",
       "      <td>Hans Rosling: Insights on HIV, in stunning dat...</td>\n",
       "      <td>1</td>\n",
       "      <td>1242197400</td>\n",
       "      <td>[{'id': 23, 'name': 'Jaw-dropping', 'count': 9...</td>\n",
       "      <td>[{'id': 499, 'hero': 'https://pe.tedcdn.com/im...</td>\n",
       "      <td>Global health expert; data visionary</td>\n",
       "      <td>['AIDS', 'Africa', 'disease', 'global issues',...</td>\n",
       "      <td>Insights on HIV, in stunning data visuals</td>\n",
       "      <td>https://www.ted.com/talks/hans_rosling_the_tru...</td>\n",
       "      <td>904813</td>\n",
       "    </tr>\n",
       "    <tr>\n",
       "      <th>502</th>\n",
       "      <td>122</td>\n",
       "      <td>Talking at the US State Department this summer...</td>\n",
       "      <td>1196</td>\n",
       "      <td>TED@State</td>\n",
       "      <td>1244073600</td>\n",
       "      <td>33</td>\n",
       "      <td>Hans Rosling</td>\n",
       "      <td>Hans Rosling: Let my dataset change your mindset</td>\n",
       "      <td>1</td>\n",
       "      <td>1251334800</td>\n",
       "      <td>[{'id': 22, 'name': 'Fascinating', 'count': 61...</td>\n",
       "      <td>[{'id': 92, 'hero': 'https://pe.tedcdn.com/ima...</td>\n",
       "      <td>Global health expert; data visionary</td>\n",
       "      <td>['Africa', 'Asia', 'data', 'global development...</td>\n",
       "      <td>Let my dataset change your mindset</td>\n",
       "      <td>https://www.ted.com/talks/hans_rosling_at_state\\n</td>\n",
       "      <td>1471039</td>\n",
       "    </tr>\n",
       "    <tr>\n",
       "      <th>558</th>\n",
       "      <td>276</td>\n",
       "      <td>Hans Rosling was a young guest student in Indi...</td>\n",
       "      <td>950</td>\n",
       "      <td>TEDIndia 2009</td>\n",
       "      <td>1257292800</td>\n",
       "      <td>36</td>\n",
       "      <td>Hans Rosling</td>\n",
       "      <td>Hans Rosling: Asia's rise -- how and when</td>\n",
       "      <td>1</td>\n",
       "      <td>1258938000</td>\n",
       "      <td>[{'id': 22, 'name': 'Fascinating', 'count': 77...</td>\n",
       "      <td>[{'id': 92, 'hero': 'https://pe.tedcdn.com/ima...</td>\n",
       "      <td>Global health expert; data visionary</td>\n",
       "      <td>['Asia', 'economics', 'health', 'india', 'stat...</td>\n",
       "      <td>Asia's rise -- how and when</td>\n",
       "      <td>https://www.ted.com/talks/hans_rosling_asia_s_...</td>\n",
       "      <td>1738069</td>\n",
       "    </tr>\n",
       "    <tr>\n",
       "      <th>726</th>\n",
       "      <td>607</td>\n",
       "      <td>The world's population will grow to 9 billion ...</td>\n",
       "      <td>604</td>\n",
       "      <td>TED@Cannes</td>\n",
       "      <td>1277078400</td>\n",
       "      <td>46</td>\n",
       "      <td>Hans Rosling</td>\n",
       "      <td>Hans Rosling: Global population growth, box by...</td>\n",
       "      <td>1</td>\n",
       "      <td>1278663300</td>\n",
       "      <td>[{'id': 22, 'name': 'Fascinating', 'count': 76...</td>\n",
       "      <td>[{'id': 695, 'hero': 'https://pe.tedcdn.com/im...</td>\n",
       "      <td>Global health expert; data visionary</td>\n",
       "      <td>['culture', 'data', 'demo', 'global issues', '...</td>\n",
       "      <td>Global population growth, box by box</td>\n",
       "      <td>https://www.ted.com/talks/hans_rosling_on_glob...</td>\n",
       "      <td>2934262</td>\n",
       "    </tr>\n",
       "    <tr>\n",
       "      <th>784</th>\n",
       "      <td>342</td>\n",
       "      <td>Hans Rosling reframes 10 years of UN data with...</td>\n",
       "      <td>934</td>\n",
       "      <td>TEDxChange</td>\n",
       "      <td>1284940800</td>\n",
       "      <td>33</td>\n",
       "      <td>Hans Rosling</td>\n",
       "      <td>Hans Rosling: The good news of the decade? We'...</td>\n",
       "      <td>1</td>\n",
       "      <td>1286442720</td>\n",
       "      <td>[{'id': 8, 'name': 'Informative', 'count': 554...</td>\n",
       "      <td>[{'id': 540, 'hero': 'https://pe.tedcdn.com/im...</td>\n",
       "      <td>Global health expert; data visionary</td>\n",
       "      <td>['Africa', 'TEDx', 'data', 'global development...</td>\n",
       "      <td>The good news of the decade? We're winning the...</td>\n",
       "      <td>https://www.ted.com/talks/hans_rosling_the_goo...</td>\n",
       "      <td>738895</td>\n",
       "    </tr>\n",
       "    <tr>\n",
       "      <th>893</th>\n",
       "      <td>268</td>\n",
       "      <td>What was the greatest invention of the industr...</td>\n",
       "      <td>555</td>\n",
       "      <td>TEDWomen 2010</td>\n",
       "      <td>1291420800</td>\n",
       "      <td>46</td>\n",
       "      <td>Hans Rosling</td>\n",
       "      <td>Hans Rosling: The magic washing machine</td>\n",
       "      <td>1</td>\n",
       "      <td>1300714380</td>\n",
       "      <td>[{'id': 9, 'name': 'Ingenious', 'count': 457},...</td>\n",
       "      <td>[{'id': 620, 'hero': 'https://pe.tedcdn.com/im...</td>\n",
       "      <td>Global health expert; data visionary</td>\n",
       "      <td>['culture', 'data', 'economics', 'women']</td>\n",
       "      <td>The magic washing machine</td>\n",
       "      <td>https://www.ted.com/talks/hans_rosling_and_the...</td>\n",
       "      <td>2391977</td>\n",
       "    </tr>\n",
       "    <tr>\n",
       "      <th>1239</th>\n",
       "      <td>491</td>\n",
       "      <td>Hans Rosling had a question: Do some religions...</td>\n",
       "      <td>800</td>\n",
       "      <td>TEDxSummit</td>\n",
       "      <td>1334534400</td>\n",
       "      <td>36</td>\n",
       "      <td>Hans Rosling</td>\n",
       "      <td>Hans Rosling: Religions and babies</td>\n",
       "      <td>1</td>\n",
       "      <td>1337698856</td>\n",
       "      <td>[{'id': 22, 'name': 'Fascinating', 'count': 86...</td>\n",
       "      <td>[{'id': 1418, 'hero': 'https://pe.tedcdn.com/i...</td>\n",
       "      <td>Global health expert; data visionary</td>\n",
       "      <td>['TEDx', 'data', 'global issues', 'population'...</td>\n",
       "      <td>Religions and babies</td>\n",
       "      <td>https://www.ted.com/talks/hans_rosling_religio...</td>\n",
       "      <td>2138419</td>\n",
       "    </tr>\n",
       "  </tbody>\n",
       "</table>\n",
       "</div>"
      ],
      "text/plain": [
       "      comments  ...     views\n",
       "4          593  ...  12005869\n",
       "117        261  ...   3243784\n",
       "447        125  ...    904813\n",
       "502        122  ...   1471039\n",
       "558        276  ...   1738069\n",
       "726        607  ...   2934262\n",
       "784        342  ...    738895\n",
       "893        268  ...   2391977\n",
       "1239       491  ...   2138419\n",
       "\n",
       "[9 rows x 17 columns]"
      ]
     },
     "execution_count": 40,
     "metadata": {
      "tags": []
     },
     "output_type": "execute_result"
    }
   ],
   "source": [
    "df_ted[df_ted['main_speaker'] == 'Hans Rosling']"
   ]
  },
  {
   "cell_type": "code",
   "execution_count": 0,
   "metadata": {
    "colab": {},
    "colab_type": "code",
    "id": "PsTgMDQUXyhT"
   },
   "outputs": [],
   "source": [
    "# discovering patterns from the most popular speaker, Hans Rosling"
   ]
  },
  {
   "cell_type": "code",
   "execution_count": 0,
   "metadata": {
    "colab": {
     "base_uri": "https://localhost:8080/",
     "height": 450
    },
    "colab_type": "code",
    "id": "SUrPES0mDkT0",
    "outputId": "61b9b06b-578f-4d05-8d82-525b675e0dd1"
   },
   "outputs": [
    {
     "data": {
      "text/html": [
       "<div>\n",
       "<style scoped>\n",
       "    .dataframe tbody tr th:only-of-type {\n",
       "        vertical-align: middle;\n",
       "    }\n",
       "\n",
       "    .dataframe tbody tr th {\n",
       "        vertical-align: top;\n",
       "    }\n",
       "\n",
       "    .dataframe thead th {\n",
       "        text-align: right;\n",
       "    }\n",
       "</style>\n",
       "<table border=\"1\" class=\"dataframe\">\n",
       "  <thead>\n",
       "    <tr style=\"text-align: right;\">\n",
       "      <th></th>\n",
       "      <th>comments</th>\n",
       "      <th>duration</th>\n",
       "      <th>film_date</th>\n",
       "      <th>languages</th>\n",
       "      <th>num_speaker</th>\n",
       "      <th>published_date</th>\n",
       "      <th>views</th>\n",
       "    </tr>\n",
       "    <tr>\n",
       "      <th>event</th>\n",
       "      <th></th>\n",
       "      <th></th>\n",
       "      <th></th>\n",
       "      <th></th>\n",
       "      <th></th>\n",
       "      <th></th>\n",
       "      <th></th>\n",
       "    </tr>\n",
       "  </thead>\n",
       "  <tbody>\n",
       "    <tr>\n",
       "      <th>AORN Congress</th>\n",
       "      <td>87</td>\n",
       "      <td>510</td>\n",
       "      <td>1237024800</td>\n",
       "      <td>0</td>\n",
       "      <td>1</td>\n",
       "      <td>1263027540</td>\n",
       "      <td>149818</td>\n",
       "    </tr>\n",
       "    <tr>\n",
       "      <th>Arbejdsglaede Live</th>\n",
       "      <td>258</td>\n",
       "      <td>1092</td>\n",
       "      <td>1241481600</td>\n",
       "      <td>22</td>\n",
       "      <td>1</td>\n",
       "      <td>1267802040</td>\n",
       "      <td>971594</td>\n",
       "    </tr>\n",
       "    <tr>\n",
       "      <th>BBC TV</th>\n",
       "      <td>146</td>\n",
       "      <td>3955</td>\n",
       "      <td>426531600</td>\n",
       "      <td>0</td>\n",
       "      <td>1</td>\n",
       "      <td>1267631820</td>\n",
       "      <td>521974</td>\n",
       "    </tr>\n",
       "    <tr>\n",
       "      <th>Bowery Poetry Club</th>\n",
       "      <td>177</td>\n",
       "      <td>182</td>\n",
       "      <td>1131805080</td>\n",
       "      <td>0</td>\n",
       "      <td>1</td>\n",
       "      <td>1264252560</td>\n",
       "      <td>676741</td>\n",
       "    </tr>\n",
       "    <tr>\n",
       "      <th>Business Innovation Factory</th>\n",
       "      <td>264</td>\n",
       "      <td>3317</td>\n",
       "      <td>3765052800</td>\n",
       "      <td>49</td>\n",
       "      <td>3</td>\n",
       "      <td>3832642740</td>\n",
       "      <td>912258</td>\n",
       "    </tr>\n",
       "    <tr>\n",
       "      <th>...</th>\n",
       "      <td>...</td>\n",
       "      <td>...</td>\n",
       "      <td>...</td>\n",
       "      <td>...</td>\n",
       "      <td>...</td>\n",
       "      <td>...</td>\n",
       "      <td>...</td>\n",
       "    </tr>\n",
       "    <tr>\n",
       "      <th>The Do Lectures</th>\n",
       "      <td>40</td>\n",
       "      <td>1690</td>\n",
       "      <td>1253232000</td>\n",
       "      <td>0</td>\n",
       "      <td>1</td>\n",
       "      <td>1285488000</td>\n",
       "      <td>112321</td>\n",
       "    </tr>\n",
       "    <tr>\n",
       "      <th>Toronto Youth Corps</th>\n",
       "      <td>373</td>\n",
       "      <td>262</td>\n",
       "      <td>74649600</td>\n",
       "      <td>0</td>\n",
       "      <td>1</td>\n",
       "      <td>1273847820</td>\n",
       "      <td>1028630</td>\n",
       "    </tr>\n",
       "    <tr>\n",
       "      <th>University of California</th>\n",
       "      <td>121</td>\n",
       "      <td>8829</td>\n",
       "      <td>2087596800</td>\n",
       "      <td>0</td>\n",
       "      <td>2</td>\n",
       "      <td>2532243480</td>\n",
       "      <td>523663</td>\n",
       "    </tr>\n",
       "    <tr>\n",
       "      <th>Web 2.0 Expo 2008</th>\n",
       "      <td>556</td>\n",
       "      <td>927</td>\n",
       "      <td>1221846540</td>\n",
       "      <td>0</td>\n",
       "      <td>1</td>\n",
       "      <td>1268412360</td>\n",
       "      <td>757791</td>\n",
       "    </tr>\n",
       "    <tr>\n",
       "      <th>World Science Festival</th>\n",
       "      <td>321</td>\n",
       "      <td>184</td>\n",
       "      <td>1244592000</td>\n",
       "      <td>0</td>\n",
       "      <td>1</td>\n",
       "      <td>1267232400</td>\n",
       "      <td>3302312</td>\n",
       "    </tr>\n",
       "  </tbody>\n",
       "</table>\n",
       "<p>355 rows × 7 columns</p>\n",
       "</div>"
      ],
      "text/plain": [
       "                             comments  duration  ...  published_date    views\n",
       "event                                            ...                         \n",
       "AORN Congress                      87       510  ...      1263027540   149818\n",
       "Arbejdsglaede Live                258      1092  ...      1267802040   971594\n",
       "BBC TV                            146      3955  ...      1267631820   521974\n",
       "Bowery Poetry Club                177       182  ...      1264252560   676741\n",
       "Business Innovation Factory       264      3317  ...      3832642740   912258\n",
       "...                               ...       ...  ...             ...      ...\n",
       "The Do Lectures                    40      1690  ...      1285488000   112321\n",
       "Toronto Youth Corps               373       262  ...      1273847820  1028630\n",
       "University of California          121      8829  ...      2532243480   523663\n",
       "Web 2.0 Expo 2008                 556       927  ...      1268412360   757791\n",
       "World Science Festival            321       184  ...      1267232400  3302312\n",
       "\n",
       "[355 rows x 7 columns]"
      ]
     },
     "execution_count": 42,
     "metadata": {
      "tags": []
     },
     "output_type": "execute_result"
    }
   ],
   "source": [
    "df_ted.groupby('event').sum()"
   ]
  },
  {
   "cell_type": "code",
   "execution_count": 0,
   "metadata": {
    "colab": {
     "base_uri": "https://localhost:8080/",
     "height": 102
    },
    "colab_type": "code",
    "id": "OSGBI9ayRKqc",
    "outputId": "bd239ac0-2083-4a57-aa01-982a6fa9be7c"
   },
   "outputs": [
    {
     "data": {
      "text/plain": [
       "count        2550\n",
       "unique        355\n",
       "top       TED2014\n",
       "freq           84\n",
       "Name: event, dtype: object"
      ]
     },
     "execution_count": 43,
     "metadata": {
      "tags": []
     },
     "output_type": "execute_result"
    }
   ],
   "source": [
    "df_ted['event'].describe()"
   ]
  },
  {
   "cell_type": "code",
   "execution_count": 0,
   "metadata": {
    "colab": {
     "base_uri": "https://localhost:8080/",
     "height": 392
    },
    "colab_type": "code",
    "id": "vvWz4O7qQbKy",
    "outputId": "2064ea08-b5bb-49d2-c033-ae052e4d520a"
   },
   "outputs": [
    {
     "data": {
      "image/png": "[encoded data removed]",
      "text/plain": [
       "<Figure size 576x432 with 1 Axes>"
      ]
     },
     "metadata": {
      "tags": []
     },
     "output_type": "display_data"
    }
   ],
   "source": [
    "# box plot views/speaker_occupation\n",
    "var = 'views'\n",
    "data = pd.concat([df_ted['event'], df_ted[var]], axis=1)\n",
    "f, ax = plt.subplots(figsize=(8, 6))\n",
    "fig = sns.boxplot(x=var, y=\"event\", data=data)\n",
    "fig.axis(ymin=0, xmax=8000000, ymax = 20);"
   ]
  },
  {
   "cell_type": "code",
   "execution_count": 0,
   "metadata": {
    "colab": {
     "base_uri": "https://localhost:8080/",
     "height": 568
    },
    "colab_type": "code",
    "id": "OvtT3pbSEn9X",
    "outputId": "8366a970-1bfb-476d-c907-bbe4ec011e96"
   },
   "outputs": [
    {
     "data": {
      "image/png": "[encoded data removed]",
      "text/plain": [
       "<Figure size 432x288 with 1 Axes>"
      ]
     },
     "metadata": {
      "tags": []
     },
     "output_type": "display_data"
    },
    {
     "data": {
      "image/png": "[encoded data removed]",
      "text/plain": [
       "<Figure size 432x288 with 1 Axes>"
      ]
     },
     "metadata": {
      "tags": []
     },
     "output_type": "display_data"
    }
   ],
   "source": [
    "#histogram and normal probability plot\n",
    "sns.distplot(df_ted['views'], fit=norm);\n",
    "fig = plt.figure()\n",
    "res = stats.probplot(df_ted['views'], plot=plt)"
   ]
  },
  {
   "cell_type": "code",
   "execution_count": 0,
   "metadata": {
    "colab": {
     "base_uri": "https://localhost:8080/",
     "height": 400
    },
    "colab_type": "code",
    "id": "CeULk7w2LiN1",
    "outputId": "48b3737d-91d9-4d4f-b5f6-7fc945230447"
   },
   "outputs": [
    {
     "data": {
      "text/html": [
       "<div>\n",
       "<style scoped>\n",
       "    .dataframe tbody tr th:only-of-type {\n",
       "        vertical-align: middle;\n",
       "    }\n",
       "\n",
       "    .dataframe tbody tr th {\n",
       "        vertical-align: top;\n",
       "    }\n",
       "\n",
       "    .dataframe thead th {\n",
       "        text-align: right;\n",
       "    }\n",
       "</style>\n",
       "<table border=\"1\" class=\"dataframe\">\n",
       "  <thead>\n",
       "    <tr style=\"text-align: right;\">\n",
       "      <th></th>\n",
       "      <th>Unnamed: 0</th>\n",
       "      <th>comments</th>\n",
       "      <th>description</th>\n",
       "      <th>duration</th>\n",
       "      <th>languages</th>\n",
       "      <th>main_speaker</th>\n",
       "      <th>name</th>\n",
       "      <th>num_speaker</th>\n",
       "      <th>related_talks</th>\n",
       "      <th>speaker_occupation</th>\n",
       "      <th>tags</th>\n",
       "      <th>title</th>\n",
       "      <th>url</th>\n",
       "      <th>views</th>\n",
       "      <th>transcript</th>\n",
       "      <th>Funny</th>\n",
       "      <th>Beautiful</th>\n",
       "      <th>Ingenious</th>\n",
       "      <th>Courageous</th>\n",
       "      <th>Longwinded</th>\n",
       "      <th>Confusing</th>\n",
       "      <th>Informative</th>\n",
       "      <th>Fascinating</th>\n",
       "      <th>Unconvincing</th>\n",
       "      <th>Persuasive</th>\n",
       "      <th>Jaw-dropping</th>\n",
       "      <th>OK</th>\n",
       "      <th>Obnoxious</th>\n",
       "      <th>Inspiring</th>\n",
       "      <th>max_rating</th>\n",
       "      <th>yr</th>\n",
       "      <th>month</th>\n",
       "    </tr>\n",
       "  </thead>\n",
       "  <tbody>\n",
       "    <tr>\n",
       "      <th>0</th>\n",
       "      <td>0</td>\n",
       "      <td>4553</td>\n",
       "      <td>Sir Ken Robinson makes an entertaining and pro...</td>\n",
       "      <td>1164</td>\n",
       "      <td>60</td>\n",
       "      <td>Ken Robinson</td>\n",
       "      <td>Ken Robinson: Do schools kill creativity?</td>\n",
       "      <td>1</td>\n",
       "      <td>[{'id': 865, 'hero': 'https://pe.tedcdn.com/im...</td>\n",
       "      <td>Author/educator</td>\n",
       "      <td>['children', 'creativity', 'culture', 'dance',...</td>\n",
       "      <td>Do schools kill creativity?</td>\n",
       "      <td>https://www.ted.com/talks/ken_robinson_says_sc...</td>\n",
       "      <td>47227110</td>\n",
       "      <td>Good morning. How are you?(Laughter)It's been ...</td>\n",
       "      <td>19645</td>\n",
       "      <td>4573</td>\n",
       "      <td>6073</td>\n",
       "      <td>3253</td>\n",
       "      <td>387</td>\n",
       "      <td>242</td>\n",
       "      <td>7346</td>\n",
       "      <td>10581</td>\n",
       "      <td>300</td>\n",
       "      <td>10704</td>\n",
       "      <td>4439</td>\n",
       "      <td>1174</td>\n",
       "      <td>209</td>\n",
       "      <td>24924</td>\n",
       "      <td>Inspiring</td>\n",
       "      <td>2006</td>\n",
       "      <td>6</td>\n",
       "    </tr>\n",
       "    <tr>\n",
       "      <th>1</th>\n",
       "      <td>1</td>\n",
       "      <td>265</td>\n",
       "      <td>With the same humor and humanity he exuded in ...</td>\n",
       "      <td>977</td>\n",
       "      <td>43</td>\n",
       "      <td>Al Gore</td>\n",
       "      <td>Al Gore: Averting the climate crisis</td>\n",
       "      <td>1</td>\n",
       "      <td>[{'id': 243, 'hero': 'https://pe.tedcdn.com/im...</td>\n",
       "      <td>Climate advocate</td>\n",
       "      <td>['alternative energy', 'cars', 'climate change...</td>\n",
       "      <td>Averting the climate crisis</td>\n",
       "      <td>https://www.ted.com/talks/al_gore_on_averting_...</td>\n",
       "      <td>3200520</td>\n",
       "      <td>Thank you so much, Chris. And it's truly a gre...</td>\n",
       "      <td>544</td>\n",
       "      <td>58</td>\n",
       "      <td>56</td>\n",
       "      <td>139</td>\n",
       "      <td>113</td>\n",
       "      <td>62</td>\n",
       "      <td>443</td>\n",
       "      <td>132</td>\n",
       "      <td>258</td>\n",
       "      <td>268</td>\n",
       "      <td>116</td>\n",
       "      <td>203</td>\n",
       "      <td>131</td>\n",
       "      <td>413</td>\n",
       "      <td>Funny</td>\n",
       "      <td>2006</td>\n",
       "      <td>6</td>\n",
       "    </tr>\n",
       "    <tr>\n",
       "      <th>2</th>\n",
       "      <td>2</td>\n",
       "      <td>124</td>\n",
       "      <td>New York Times columnist David Pogue takes aim...</td>\n",
       "      <td>1286</td>\n",
       "      <td>26</td>\n",
       "      <td>David Pogue</td>\n",
       "      <td>David Pogue: Simplicity sells</td>\n",
       "      <td>1</td>\n",
       "      <td>[{'id': 1725, 'hero': 'https://pe.tedcdn.com/i...</td>\n",
       "      <td>Technology columnist</td>\n",
       "      <td>['computers', 'entertainment', 'interface desi...</td>\n",
       "      <td>Simplicity sells</td>\n",
       "      <td>https://www.ted.com/talks/david_pogue_says_sim...</td>\n",
       "      <td>1636292</td>\n",
       "      <td>(Music: \"The Sound of Silence,\" Simon &amp; Garfun...</td>\n",
       "      <td>964</td>\n",
       "      <td>60</td>\n",
       "      <td>183</td>\n",
       "      <td>45</td>\n",
       "      <td>78</td>\n",
       "      <td>27</td>\n",
       "      <td>395</td>\n",
       "      <td>166</td>\n",
       "      <td>104</td>\n",
       "      <td>230</td>\n",
       "      <td>54</td>\n",
       "      <td>146</td>\n",
       "      <td>142</td>\n",
       "      <td>230</td>\n",
       "      <td>Funny</td>\n",
       "      <td>2006</td>\n",
       "      <td>6</td>\n",
       "    </tr>\n",
       "  </tbody>\n",
       "</table>\n",
       "</div>"
      ],
      "text/plain": [
       "   Unnamed: 0  comments  ...    yr  month\n",
       "0           0      4553  ...  2006      6\n",
       "1           1       265  ...  2006      6\n",
       "2           2       124  ...  2006      6\n",
       "\n",
       "[3 rows x 32 columns]"
      ]
     },
     "execution_count": 46,
     "metadata": {
      "tags": []
     },
     "output_type": "execute_result"
    }
   ],
   "source": [
    "# Upload the \"Cleanned\" dataset\n",
    "\n",
    "url = 'https://raw.githubusercontent.com/PoojaDoctor/Data144-FinalProject/master/datasets/cleaned.csv'\n",
    "df_cleanned = pd.read_csv(url)\n",
    "# Dataset is now stored in a Pandas Dataframe\n",
    "df_cleanned.head(3)"
   ]
  },
  {
   "cell_type": "markdown",
   "metadata": {
    "colab_type": "text",
    "id": "11wWfeYJMJac"
   },
   "source": [
    "# **RANDOM FOREST:**"
   ]
  },
  {
   "cell_type": "code",
   "execution_count": 0,
   "metadata": {
    "colab": {},
    "colab_type": "code",
    "id": "g4PU09JDMQQ4"
   },
   "outputs": [],
   "source": [
    "# Import necessary library\n",
    "import pandas as pd\n",
    "import matplotlib.pyplot as plt\n",
    "import seaborn as sns\n",
    "import numpy as np\n",
    "from scipy.stats import norm\n",
    "from sklearn.preprocessing import StandardScaler\n",
    "from scipy import stats\n",
    "import warnings\n",
    "warnings.filterwarnings('ignore')\n",
    "%matplotlib inline"
   ]
  },
  {
   "cell_type": "code",
   "execution_count": 0,
   "metadata": {
    "colab": {
     "base_uri": "https://localhost:8080/",
     "height": 400
    },
    "colab_type": "code",
    "id": "9iUwk7SMzuwB",
    "outputId": "4eb3362a-4b03-411a-d211-60c4b4f1fc4c"
   },
   "outputs": [
    {
     "data": {
      "text/html": [
       "<div>\n",
       "<style scoped>\n",
       "    .dataframe tbody tr th:only-of-type {\n",
       "        vertical-align: middle;\n",
       "    }\n",
       "\n",
       "    .dataframe tbody tr th {\n",
       "        vertical-align: top;\n",
       "    }\n",
       "\n",
       "    .dataframe thead th {\n",
       "        text-align: right;\n",
       "    }\n",
       "</style>\n",
       "<table border=\"1\" class=\"dataframe\">\n",
       "  <thead>\n",
       "    <tr style=\"text-align: right;\">\n",
       "      <th></th>\n",
       "      <th>Unnamed: 0</th>\n",
       "      <th>comments</th>\n",
       "      <th>description</th>\n",
       "      <th>duration</th>\n",
       "      <th>languages</th>\n",
       "      <th>main_speaker</th>\n",
       "      <th>name</th>\n",
       "      <th>num_speaker</th>\n",
       "      <th>related_talks</th>\n",
       "      <th>speaker_occupation</th>\n",
       "      <th>tags</th>\n",
       "      <th>title</th>\n",
       "      <th>url</th>\n",
       "      <th>views</th>\n",
       "      <th>transcript</th>\n",
       "      <th>Funny</th>\n",
       "      <th>Beautiful</th>\n",
       "      <th>Ingenious</th>\n",
       "      <th>Courageous</th>\n",
       "      <th>Longwinded</th>\n",
       "      <th>Confusing</th>\n",
       "      <th>Informative</th>\n",
       "      <th>Fascinating</th>\n",
       "      <th>Unconvincing</th>\n",
       "      <th>Persuasive</th>\n",
       "      <th>Jaw-dropping</th>\n",
       "      <th>OK</th>\n",
       "      <th>Obnoxious</th>\n",
       "      <th>Inspiring</th>\n",
       "      <th>max_rating</th>\n",
       "      <th>yr</th>\n",
       "      <th>month</th>\n",
       "    </tr>\n",
       "  </thead>\n",
       "  <tbody>\n",
       "    <tr>\n",
       "      <th>0</th>\n",
       "      <td>0</td>\n",
       "      <td>4553</td>\n",
       "      <td>Sir Ken Robinson makes an entertaining and pro...</td>\n",
       "      <td>1164</td>\n",
       "      <td>60</td>\n",
       "      <td>Ken Robinson</td>\n",
       "      <td>Ken Robinson: Do schools kill creativity?</td>\n",
       "      <td>1</td>\n",
       "      <td>[{'id': 865, 'hero': 'https://pe.tedcdn.com/im...</td>\n",
       "      <td>Author/educator</td>\n",
       "      <td>['children', 'creativity', 'culture', 'dance',...</td>\n",
       "      <td>Do schools kill creativity?</td>\n",
       "      <td>https://www.ted.com/talks/ken_robinson_says_sc...</td>\n",
       "      <td>47227110</td>\n",
       "      <td>Good morning. How are you?(Laughter)It's been ...</td>\n",
       "      <td>19645</td>\n",
       "      <td>4573</td>\n",
       "      <td>6073</td>\n",
       "      <td>3253</td>\n",
       "      <td>387</td>\n",
       "      <td>242</td>\n",
       "      <td>7346</td>\n",
       "      <td>10581</td>\n",
       "      <td>300</td>\n",
       "      <td>10704</td>\n",
       "      <td>4439</td>\n",
       "      <td>1174</td>\n",
       "      <td>209</td>\n",
       "      <td>24924</td>\n",
       "      <td>Inspiring</td>\n",
       "      <td>2006</td>\n",
       "      <td>6</td>\n",
       "    </tr>\n",
       "    <tr>\n",
       "      <th>1</th>\n",
       "      <td>1</td>\n",
       "      <td>265</td>\n",
       "      <td>With the same humor and humanity he exuded in ...</td>\n",
       "      <td>977</td>\n",
       "      <td>43</td>\n",
       "      <td>Al Gore</td>\n",
       "      <td>Al Gore: Averting the climate crisis</td>\n",
       "      <td>1</td>\n",
       "      <td>[{'id': 243, 'hero': 'https://pe.tedcdn.com/im...</td>\n",
       "      <td>Climate advocate</td>\n",
       "      <td>['alternative energy', 'cars', 'climate change...</td>\n",
       "      <td>Averting the climate crisis</td>\n",
       "      <td>https://www.ted.com/talks/al_gore_on_averting_...</td>\n",
       "      <td>3200520</td>\n",
       "      <td>Thank you so much, Chris. And it's truly a gre...</td>\n",
       "      <td>544</td>\n",
       "      <td>58</td>\n",
       "      <td>56</td>\n",
       "      <td>139</td>\n",
       "      <td>113</td>\n",
       "      <td>62</td>\n",
       "      <td>443</td>\n",
       "      <td>132</td>\n",
       "      <td>258</td>\n",
       "      <td>268</td>\n",
       "      <td>116</td>\n",
       "      <td>203</td>\n",
       "      <td>131</td>\n",
       "      <td>413</td>\n",
       "      <td>Funny</td>\n",
       "      <td>2006</td>\n",
       "      <td>6</td>\n",
       "    </tr>\n",
       "    <tr>\n",
       "      <th>2</th>\n",
       "      <td>2</td>\n",
       "      <td>124</td>\n",
       "      <td>New York Times columnist David Pogue takes aim...</td>\n",
       "      <td>1286</td>\n",
       "      <td>26</td>\n",
       "      <td>David Pogue</td>\n",
       "      <td>David Pogue: Simplicity sells</td>\n",
       "      <td>1</td>\n",
       "      <td>[{'id': 1725, 'hero': 'https://pe.tedcdn.com/i...</td>\n",
       "      <td>Technology columnist</td>\n",
       "      <td>['computers', 'entertainment', 'interface desi...</td>\n",
       "      <td>Simplicity sells</td>\n",
       "      <td>https://www.ted.com/talks/david_pogue_says_sim...</td>\n",
       "      <td>1636292</td>\n",
       "      <td>(Music: \"The Sound of Silence,\" Simon &amp; Garfun...</td>\n",
       "      <td>964</td>\n",
       "      <td>60</td>\n",
       "      <td>183</td>\n",
       "      <td>45</td>\n",
       "      <td>78</td>\n",
       "      <td>27</td>\n",
       "      <td>395</td>\n",
       "      <td>166</td>\n",
       "      <td>104</td>\n",
       "      <td>230</td>\n",
       "      <td>54</td>\n",
       "      <td>146</td>\n",
       "      <td>142</td>\n",
       "      <td>230</td>\n",
       "      <td>Funny</td>\n",
       "      <td>2006</td>\n",
       "      <td>6</td>\n",
       "    </tr>\n",
       "  </tbody>\n",
       "</table>\n",
       "</div>"
      ],
      "text/plain": [
       "   Unnamed: 0  comments  ...    yr  month\n",
       "0           0      4553  ...  2006      6\n",
       "1           1       265  ...  2006      6\n",
       "2           2       124  ...  2006      6\n",
       "\n",
       "[3 rows x 32 columns]"
      ]
     },
     "execution_count": 48,
     "metadata": {
      "tags": []
     },
     "output_type": "execute_result"
    }
   ],
   "source": [
    "url = 'https://raw.githubusercontent.com/PoojaDoctor/Data144-FinalProject/master/datasets/cleaned.csv'\n",
    "df_cleanned = pd.read_csv(url)\n",
    "df_cleanned.head(3)"
   ]
  },
  {
   "cell_type": "code",
   "execution_count": 0,
   "metadata": {
    "colab": {},
    "colab_type": "code",
    "id": "Fg2iAudoMLHt"
   },
   "outputs": [],
   "source": [
    "#Import scikit-learn dataset library\n",
    "from sklearn import datasets\n",
    "data = df_cleanned\n",
    "\n",
    "# Import train_test_split function\n",
    "from sklearn.model_selection import train_test_split\n",
    "\n",
    "X=data[['comments','duration','languages','num_speaker','month']]  # Features\n",
    "# 'Funny','Beautiful','Ingenious','Courageous','Longwinded',\n",
    "#        'Confusing','Informative','Fascinating','Unconvincing','Persuasive','Jaw-dropping','OK','Obnoxious','Inspiring',\n",
    "#        'max_rating','yr',\n",
    "y=data['views']  # Labels\n",
    "\n",
    "# Split dataset into training set and test set\n",
    "X_train, X_test, y_train, y_test = train_test_split(X, y, test_size=0.3) # 70% training and 30% test"
   ]
  },
  {
   "cell_type": "code",
   "execution_count": 0,
   "metadata": {
    "colab": {},
    "colab_type": "code",
    "id": "0PdS_Q_9NfO0"
   },
   "outputs": [],
   "source": [
    "# Feature Scaling\n",
    "\n",
    "from sklearn.preprocessing import StandardScaler\n",
    "\n",
    "sc = StandardScaler()\n",
    "X_train = sc.fit_transform(X_train)\n",
    "X_test = sc.transform(X_test)"
   ]
  },
  {
   "cell_type": "code",
   "execution_count": 0,
   "metadata": {
    "colab": {},
    "colab_type": "code",
    "id": "xf1E33snORCk"
   },
   "outputs": [],
   "source": [
    "# Feature Scaling\n",
    "from sklearn.preprocessing import StandardScaler\n",
    "\n",
    "sc = StandardScaler()\n",
    "X_train = sc.fit_transform(X_train)\n",
    "X_test = sc.transform(X_test)"
   ]
  },
  {
   "cell_type": "code",
   "execution_count": 0,
   "metadata": {
    "colab": {},
    "colab_type": "code",
    "id": "HUfqptXjOUil"
   },
   "outputs": [],
   "source": [
    "from sklearn.ensemble import RandomForestRegressor\n",
    "\n",
    "regressor = RandomForestRegressor(n_estimators=20, random_state=0)\n",
    "regressor.fit(X_train, y_train)\n",
    "y_pred = regressor.predict(X_test)"
   ]
  },
  {
   "cell_type": "code",
   "execution_count": 0,
   "metadata": {
    "colab": {
     "base_uri": "https://localhost:8080/",
     "height": 68
    },
    "colab_type": "code",
    "id": "tDAmEo4kOXgu",
    "outputId": "afdb7dd3-f2dc-4e97-a8d9-1bcadf9f8cc5"
   },
   "outputs": [
    {
     "name": "stdout",
     "output_type": "stream",
     "text": [
      "Mean Absolute Error: 866042.0115384617\n",
      "Mean Squared Error: 3402861345723.3545\n",
      "Root Mean Squared Error: 1844684.619582262\n"
     ]
    }
   ],
   "source": [
    "from sklearn import metrics\n",
    "\n",
    "print('Mean Absolute Error:', metrics.mean_absolute_error(y_test, y_pred))\n",
    "print('Mean Squared Error:', metrics.mean_squared_error(y_test, y_pred))\n",
    "print('Root Mean Squared Error:', np.sqrt(metrics.mean_squared_error(y_test, y_pred)))"
   ]
  },
  {
   "cell_type": "code",
   "execution_count": 0,
   "metadata": {
    "colab": {},
    "colab_type": "code",
    "id": "DT7QtatKSmM3"
   },
   "outputs": [],
   "source": [
    "# The following is what I did wrong. Because we are training a regressive model,\n",
    "# accuracy should not be the metric to test the model performance.\n",
    "\n",
    "\n",
    "\n",
    "#Import scikit-learn metrics module for accuracy calculation\n",
    "# from sklearn import metrics\n",
    "\n",
    "# Model Accuracy, how often is the classifier correct?\n",
    "# print(\"Accuracy:\", metrics.accuracy_score(y_test, y_pred))\n",
    "\n",
    "# print('Accuracy with descriptive labels is Accuracy: 0.001349527665317139')"
   ]
  },
  {
   "cell_type": "code",
   "execution_count": 0,
   "metadata": {
    "colab": {},
    "colab_type": "code",
    "id": "Qji3Q4eYL1PW"
   },
   "outputs": [],
   "source": [
    "# helpful link: \n",
    "# 1 | https://www.datacamp.com/community/tutorials/random-forests-classifier-python\n",
    "# 2 | https://stackabuse.com/random-forest-algorithm-with-python-and-scikit-learn/"
   ]
  },
  {
   "cell_type": "markdown",
   "metadata": {
    "colab_type": "text",
    "id": "POs_RqopQvTc"
   },
   "source": [
    "Conclude Random Forest.\n",
    "\n",
    "Explore: on the slide:\n",
    "\n",
    "1) Use a flow chart to visualize what I did with the random forest\n",
    "\n",
    "2) Talk about my \"failure\"\n",
    "\n",
    "3) Talk about the results & interpret it (with a table of other models' performances) "
   ]
  },
  {
   "cell_type": "markdown",
   "metadata": {
    "colab_type": "text",
    "id": "zeF_8mjHQ4kT"
   },
   "source": [
    "# **DECISION TREE**"
   ]
  },
  {
   "cell_type": "code",
   "execution_count": 0,
   "metadata": {
    "colab": {},
    "colab_type": "code",
    "id": "gmA2p5UjPxa0"
   },
   "outputs": [],
   "source": [
    "import pandas as pd\n",
    "import numpy as np\n",
    "import matplotlib.pyplot as plt\n",
    "%matplotlib inline"
   ]
  },
  {
   "cell_type": "code",
   "execution_count": 0,
   "metadata": {
    "colab": {
     "base_uri": "https://localhost:8080/",
     "height": 400
    },
    "colab_type": "code",
    "id": "m6lzlg8kQCzR",
    "outputId": "4f6799a4-d01a-418f-e466-1d6dfce20a29"
   },
   "outputs": [
    {
     "data": {
      "text/html": [
       "<div>\n",
       "<style scoped>\n",
       "    .dataframe tbody tr th:only-of-type {\n",
       "        vertical-align: middle;\n",
       "    }\n",
       "\n",
       "    .dataframe tbody tr th {\n",
       "        vertical-align: top;\n",
       "    }\n",
       "\n",
       "    .dataframe thead th {\n",
       "        text-align: right;\n",
       "    }\n",
       "</style>\n",
       "<table border=\"1\" class=\"dataframe\">\n",
       "  <thead>\n",
       "    <tr style=\"text-align: right;\">\n",
       "      <th></th>\n",
       "      <th>Unnamed: 0</th>\n",
       "      <th>comments</th>\n",
       "      <th>description</th>\n",
       "      <th>duration</th>\n",
       "      <th>languages</th>\n",
       "      <th>main_speaker</th>\n",
       "      <th>name</th>\n",
       "      <th>num_speaker</th>\n",
       "      <th>related_talks</th>\n",
       "      <th>speaker_occupation</th>\n",
       "      <th>tags</th>\n",
       "      <th>title</th>\n",
       "      <th>url</th>\n",
       "      <th>views</th>\n",
       "      <th>transcript</th>\n",
       "      <th>Funny</th>\n",
       "      <th>Beautiful</th>\n",
       "      <th>Ingenious</th>\n",
       "      <th>Courageous</th>\n",
       "      <th>Longwinded</th>\n",
       "      <th>Confusing</th>\n",
       "      <th>Informative</th>\n",
       "      <th>Fascinating</th>\n",
       "      <th>Unconvincing</th>\n",
       "      <th>Persuasive</th>\n",
       "      <th>Jaw-dropping</th>\n",
       "      <th>OK</th>\n",
       "      <th>Obnoxious</th>\n",
       "      <th>Inspiring</th>\n",
       "      <th>max_rating</th>\n",
       "      <th>yr</th>\n",
       "      <th>month</th>\n",
       "    </tr>\n",
       "  </thead>\n",
       "  <tbody>\n",
       "    <tr>\n",
       "      <th>0</th>\n",
       "      <td>0</td>\n",
       "      <td>4553</td>\n",
       "      <td>Sir Ken Robinson makes an entertaining and pro...</td>\n",
       "      <td>1164</td>\n",
       "      <td>60</td>\n",
       "      <td>Ken Robinson</td>\n",
       "      <td>Ken Robinson: Do schools kill creativity?</td>\n",
       "      <td>1</td>\n",
       "      <td>[{'id': 865, 'hero': 'https://pe.tedcdn.com/im...</td>\n",
       "      <td>Author/educator</td>\n",
       "      <td>['children', 'creativity', 'culture', 'dance',...</td>\n",
       "      <td>Do schools kill creativity?</td>\n",
       "      <td>https://www.ted.com/talks/ken_robinson_says_sc...</td>\n",
       "      <td>47227110</td>\n",
       "      <td>Good morning. How are you?(Laughter)It's been ...</td>\n",
       "      <td>19645</td>\n",
       "      <td>4573</td>\n",
       "      <td>6073</td>\n",
       "      <td>3253</td>\n",
       "      <td>387</td>\n",
       "      <td>242</td>\n",
       "      <td>7346</td>\n",
       "      <td>10581</td>\n",
       "      <td>300</td>\n",
       "      <td>10704</td>\n",
       "      <td>4439</td>\n",
       "      <td>1174</td>\n",
       "      <td>209</td>\n",
       "      <td>24924</td>\n",
       "      <td>Inspiring</td>\n",
       "      <td>2006</td>\n",
       "      <td>6</td>\n",
       "    </tr>\n",
       "    <tr>\n",
       "      <th>1</th>\n",
       "      <td>1</td>\n",
       "      <td>265</td>\n",
       "      <td>With the same humor and humanity he exuded in ...</td>\n",
       "      <td>977</td>\n",
       "      <td>43</td>\n",
       "      <td>Al Gore</td>\n",
       "      <td>Al Gore: Averting the climate crisis</td>\n",
       "      <td>1</td>\n",
       "      <td>[{'id': 243, 'hero': 'https://pe.tedcdn.com/im...</td>\n",
       "      <td>Climate advocate</td>\n",
       "      <td>['alternative energy', 'cars', 'climate change...</td>\n",
       "      <td>Averting the climate crisis</td>\n",
       "      <td>https://www.ted.com/talks/al_gore_on_averting_...</td>\n",
       "      <td>3200520</td>\n",
       "      <td>Thank you so much, Chris. And it's truly a gre...</td>\n",
       "      <td>544</td>\n",
       "      <td>58</td>\n",
       "      <td>56</td>\n",
       "      <td>139</td>\n",
       "      <td>113</td>\n",
       "      <td>62</td>\n",
       "      <td>443</td>\n",
       "      <td>132</td>\n",
       "      <td>258</td>\n",
       "      <td>268</td>\n",
       "      <td>116</td>\n",
       "      <td>203</td>\n",
       "      <td>131</td>\n",
       "      <td>413</td>\n",
       "      <td>Funny</td>\n",
       "      <td>2006</td>\n",
       "      <td>6</td>\n",
       "    </tr>\n",
       "    <tr>\n",
       "      <th>2</th>\n",
       "      <td>2</td>\n",
       "      <td>124</td>\n",
       "      <td>New York Times columnist David Pogue takes aim...</td>\n",
       "      <td>1286</td>\n",
       "      <td>26</td>\n",
       "      <td>David Pogue</td>\n",
       "      <td>David Pogue: Simplicity sells</td>\n",
       "      <td>1</td>\n",
       "      <td>[{'id': 1725, 'hero': 'https://pe.tedcdn.com/i...</td>\n",
       "      <td>Technology columnist</td>\n",
       "      <td>['computers', 'entertainment', 'interface desi...</td>\n",
       "      <td>Simplicity sells</td>\n",
       "      <td>https://www.ted.com/talks/david_pogue_says_sim...</td>\n",
       "      <td>1636292</td>\n",
       "      <td>(Music: \"The Sound of Silence,\" Simon &amp; Garfun...</td>\n",
       "      <td>964</td>\n",
       "      <td>60</td>\n",
       "      <td>183</td>\n",
       "      <td>45</td>\n",
       "      <td>78</td>\n",
       "      <td>27</td>\n",
       "      <td>395</td>\n",
       "      <td>166</td>\n",
       "      <td>104</td>\n",
       "      <td>230</td>\n",
       "      <td>54</td>\n",
       "      <td>146</td>\n",
       "      <td>142</td>\n",
       "      <td>230</td>\n",
       "      <td>Funny</td>\n",
       "      <td>2006</td>\n",
       "      <td>6</td>\n",
       "    </tr>\n",
       "  </tbody>\n",
       "</table>\n",
       "</div>"
      ],
      "text/plain": [
       "   Unnamed: 0  comments  ...    yr  month\n",
       "0           0      4553  ...  2006      6\n",
       "1           1       265  ...  2006      6\n",
       "2           2       124  ...  2006      6\n",
       "\n",
       "[3 rows x 32 columns]"
      ]
     },
     "execution_count": 87,
     "metadata": {
      "tags": []
     },
     "output_type": "execute_result"
    }
   ],
   "source": [
    "url = 'https://raw.githubusercontent.com/PoojaDoctor/Data144-FinalProject/master/datasets/cleaned.csv'\n",
    "dataset = pd.read_csv(url)\n",
    "dataset.head(3)"
   ]
  },
  {
   "cell_type": "code",
   "execution_count": 0,
   "metadata": {
    "colab": {},
    "colab_type": "code",
    "id": "2m3fIjY_Q6TG"
   },
   "outputs": [],
   "source": [
    "X = dataset[['comments','duration','languages','num_speaker','month']]\n",
    "y = dataset['views']"
   ]
  },
  {
   "cell_type": "code",
   "execution_count": 0,
   "metadata": {
    "colab": {},
    "colab_type": "code",
    "id": "nlRBNN5SRJng"
   },
   "outputs": [],
   "source": [
    "from sklearn.model_selection import train_test_split\n",
    "X_train, X_test, y_train, y_test = train_test_split(X, y, test_size=0.20)"
   ]
  },
  {
   "cell_type": "code",
   "execution_count": 0,
   "metadata": {
    "colab": {
     "base_uri": "https://localhost:8080/",
     "height": 119
    },
    "colab_type": "code",
    "id": "5fAWEF9dRMKZ",
    "outputId": "638d130e-0ec1-42c6-f0d1-a16307dcc13c"
   },
   "outputs": [
    {
     "data": {
      "text/plain": [
       "DecisionTreeClassifier(class_weight=None, criterion='gini', max_depth=None,\n",
       "                       max_features=None, max_leaf_nodes=None,\n",
       "                       min_impurity_decrease=0.0, min_impurity_split=None,\n",
       "                       min_samples_leaf=1, min_samples_split=2,\n",
       "                       min_weight_fraction_leaf=0.0, presort=False,\n",
       "                       random_state=None, splitter='best')"
      ]
     },
     "execution_count": 90,
     "metadata": {
      "tags": []
     },
     "output_type": "execute_result"
    }
   ],
   "source": [
    "from sklearn.tree import DecisionTreeClassifier\n",
    "classifier = DecisionTreeClassifier()\n",
    "classifier.fit(X_train, y_train)"
   ]
  },
  {
   "cell_type": "code",
   "execution_count": 0,
   "metadata": {
    "colab": {},
    "colab_type": "code",
    "id": "nASgUdFbRho9"
   },
   "outputs": [],
   "source": [
    "y_pred = classifier.predict(X_test)"
   ]
  },
  {
   "cell_type": "code",
   "execution_count": 0,
   "metadata": {
    "colab": {
     "base_uri": "https://localhost:8080/",
     "height": 68
    },
    "colab_type": "code",
    "id": "mApTmIdHRmWB",
    "outputId": "6fa67495-8367-4830-ac4e-0d729699715d"
   },
   "outputs": [
    {
     "name": "stdout",
     "output_type": "stream",
     "text": [
      "Mean Absolute Error: 1229155.7995951418\n",
      "Mean Squared Error: 9709761173378.059\n",
      "Root Mean Squared Error: 3116048.968385776\n"
     ]
    }
   ],
   "source": [
    "from sklearn import metrics\n",
    "\n",
    "from sklearn import metrics\n",
    "\n",
    "print('Mean Absolute Error:', metrics.mean_absolute_error(y_test, y_pred))\n",
    "print('Mean Squared Error:', metrics.mean_squared_error(y_test, y_pred))\n",
    "print('Root Mean Squared Error:', np.sqrt(metrics.mean_squared_error(y_test, y_pred)))"
   ]
  },
  {
   "cell_type": "code",
   "execution_count": 0,
   "metadata": {
    "colab": {},
    "colab_type": "code",
    "id": "7FDL3QaxL09b"
   },
   "outputs": [],
   "source": [
    "# Model Accuracy, how often is the classifier correct?\n",
    "# print(\"Accuracy:\",metrics.accuracy_score(y_test, y_pred))\n",
    "\n",
    "# print('The accuracy of metrics in decision tree is higher, 0.006747638326585695, is higher than the random forest.')"
   ]
  },
  {
   "cell_type": "code",
   "execution_count": 0,
   "metadata": {
    "colab": {},
    "colab_type": "code",
    "id": "_gipm9enL0v7"
   },
   "outputs": [],
   "source": [
    "# At the beginning, I try to implement Scikit-learn, optimization of decision tree classifier\n",
    "\n",
    "# Create Decision Tree classifer object\n",
    "# clf = DecisionTreeClassifier(criterion=\"entropy\", max_depth=3)\n",
    "\n",
    "# Train Decision Tree Classifer\n",
    "# clf = clf.fit(X_train,y_train)\n",
    "\n",
    "# Predict the response for test dataset\n",
    "# y_pred = clf.predict(X_test)\n",
    "\n",
    "# Model Accuracy, how often is the classifier correct?\n",
    "# print(\"Accuracy:\",metrics.accuracy_score(y_test, y_pred))\n",
    "\n",
    "# print('The accuracy with scikit-learn does not help to optimize the accuracy')"
   ]
  },
  {
   "cell_type": "markdown",
   "metadata": {
    "colab_type": "text",
    "id": "_-77gSXoTKzY"
   },
   "source": [
    "# **To-do: think about how to visualize the decision tree**"
   ]
  },
  {
   "cell_type": "code",
   "execution_count": 0,
   "metadata": {
    "colab": {},
    "colab_type": "code",
    "id": "9A11k_QLSr2p"
   },
   "outputs": [],
   "source": []
  },
  {
   "cell_type": "code",
   "execution_count": 0,
   "metadata": {
    "colab": {},
    "colab_type": "code",
    "id": "jCjvPo4VSw1_"
   },
   "outputs": [],
   "source": [
    "# remember, xxxx.data = df_cleanned.views\n"
   ]
  },
  {
   "cell_type": "markdown",
   "metadata": {
    "colab_type": "text",
    "id": "3ic_prvw36_5"
   },
   "source": [
    "# **Neural Network**"
   ]
  },
  {
   "cell_type": "code",
   "execution_count": 0,
   "metadata": {
    "colab": {
     "base_uri": "https://localhost:8080/",
     "height": 513
    },
    "colab_type": "code",
    "id": "HjT6DXZd39o7",
    "outputId": "f8a0722a-4e55-4de1-b24f-11b80458c3fe"
   },
   "outputs": [
    {
     "name": "stdout",
     "output_type": "stream",
     "text": [
      "Requirement already satisfied: gensim in /usr/local/lib/python3.6/dist-packages (3.6.0)\n",
      "Requirement already satisfied: smart-open>=1.2.1 in /usr/local/lib/python3.6/dist-packages (from gensim) (1.9.0)\n",
      "Requirement already satisfied: numpy>=1.11.3 in /usr/local/lib/python3.6/dist-packages (from gensim) (1.17.4)\n",
      "Requirement already satisfied: six>=1.5.0 in /usr/local/lib/python3.6/dist-packages (from gensim) (1.12.0)\n",
      "Requirement already satisfied: scipy>=0.18.1 in /usr/local/lib/python3.6/dist-packages (from gensim) (1.3.2)\n",
      "Requirement already satisfied: requests in /usr/local/lib/python3.6/dist-packages (from smart-open>=1.2.1->gensim) (2.21.0)\n",
      "Requirement already satisfied: boto3 in /usr/local/lib/python3.6/dist-packages (from smart-open>=1.2.1->gensim) (1.10.18)\n",
      "Requirement already satisfied: boto>=2.32 in /usr/local/lib/python3.6/dist-packages (from smart-open>=1.2.1->gensim) (2.49.0)\n",
      "Requirement already satisfied: idna<2.9,>=2.5 in /usr/local/lib/python3.6/dist-packages (from requests->smart-open>=1.2.1->gensim) (2.8)\n",
      "Requirement already satisfied: urllib3<1.25,>=1.21.1 in /usr/local/lib/python3.6/dist-packages (from requests->smart-open>=1.2.1->gensim) (1.24.3)\n",
      "Requirement already satisfied: certifi>=2017.4.17 in /usr/local/lib/python3.6/dist-packages (from requests->smart-open>=1.2.1->gensim) (2019.9.11)\n",
      "Requirement already satisfied: chardet<3.1.0,>=3.0.2 in /usr/local/lib/python3.6/dist-packages (from requests->smart-open>=1.2.1->gensim) (3.0.4)\n",
      "Requirement already satisfied: botocore<1.14.0,>=1.13.18 in /usr/local/lib/python3.6/dist-packages (from boto3->smart-open>=1.2.1->gensim) (1.13.18)\n",
      "Requirement already satisfied: jmespath<1.0.0,>=0.7.1 in /usr/local/lib/python3.6/dist-packages (from boto3->smart-open>=1.2.1->gensim) (0.9.4)\n",
      "Requirement already satisfied: s3transfer<0.3.0,>=0.2.0 in /usr/local/lib/python3.6/dist-packages (from boto3->smart-open>=1.2.1->gensim) (0.2.1)\n",
      "Requirement already satisfied: docutils<0.16,>=0.10 in /usr/local/lib/python3.6/dist-packages (from botocore<1.14.0,>=1.13.18->boto3->smart-open>=1.2.1->gensim) (0.15.2)\n",
      "Requirement already satisfied: python-dateutil<2.8.1,>=2.1; python_version >= \"2.7\" in /usr/local/lib/python3.6/dist-packages (from botocore<1.14.0,>=1.13.18->boto3->smart-open>=1.2.1->gensim) (2.6.1)\n",
      "--2019-11-26 03:03:43--  https://s3.amazonaws.com/dl4j-distribution/GoogleNews-vectors-negative300.bin.gz\n",
      "Resolving s3.amazonaws.com (s3.amazonaws.com)... 52.216.96.149\n",
      "Connecting to s3.amazonaws.com (s3.amazonaws.com)|52.216.96.149|:443... connected.\n",
      "HTTP request sent, awaiting response... 200 OK\n",
      "Length: 1647046227 (1.5G) [application/x-gzip]\n",
      "Saving to: ‘GoogleNews-vectors-negative300.bin.gz’\n",
      "\n",
      "GoogleNews-vectors- 100%[===================>]   1.53G  29.1MB/s    in 45s     \n",
      "\n",
      "2019-11-26 03:04:28 (34.7 MB/s) - ‘GoogleNews-vectors-negative300.bin.gz’ saved [1647046227/1647046227]\n",
      "\n"
     ]
    }
   ],
   "source": [
    "import os\n",
    "import string\n",
    "import pandas as pd\n",
    "import numpy as np\n",
    "import re\n",
    "import pprint\n",
    "from urllib.request import urlopen\n",
    "\n",
    "import gensim\n",
    "from gensim import corpora, models, similarities\n",
    "import nltk\n",
    "from nltk import word_tokenize, tokenize\n",
    "\n",
    "!pip install gensim\n",
    "!wget -nc https://s3.amazonaws.com/dl4j-distribution/GoogleNews-vectors-negative300.bin.gz \n",
    "\n",
    "import pandas as pd\n",
    "import numpy as np \n",
    "import gensim"
   ]
  },
  {
   "cell_type": "code",
   "execution_count": 0,
   "metadata": {
    "colab": {},
    "colab_type": "code",
    "id": "r7z6cLB25lBq"
   },
   "outputs": [],
   "source": [
    "from gensim.models import KeyedVectors\n",
    "model = KeyedVectors.load_word2vec_format('GoogleNews-vectors-negative300.bin.gz', binary=True)"
   ]
  },
  {
   "cell_type": "code",
   "execution_count": 0,
   "metadata": {
    "colab": {
     "base_uri": "https://localhost:8080/",
     "height": 1000
    },
    "colab_type": "code",
    "id": "axewD9_r5nm6",
    "outputId": "d6cff8a1-45aa-4f1e-d83d-cb30e6e18b19"
   },
   "outputs": [
    {
     "data": {
      "text/plain": [
       "{'</s>': <gensim.models.keyedvectors.Vocab at 0x7fbf38129be0>,\n",
       " 'in': <gensim.models.keyedvectors.Vocab at 0x7fbf38129cc0>,\n",
       " 'for': <gensim.models.keyedvectors.Vocab at 0x7fbf38129d30>,\n",
       " 'that': <gensim.models.keyedvectors.Vocab at 0x7fbf38129da0>,\n",
       " 'is': <gensim.models.keyedvectors.Vocab at 0x7fbf38129e10>,\n",
       " 'on': <gensim.models.keyedvectors.Vocab at 0x7fbf38129e80>,\n",
       " '##': <gensim.models.keyedvectors.Vocab at 0x7fbf38129ef0>,\n",
       " 'The': <gensim.models.keyedvectors.Vocab at 0x7fbf38129f60>,\n",
       " 'with': <gensim.models.keyedvectors.Vocab at 0x7fbf38129fd0>,\n",
       " 'said': <gensim.models.keyedvectors.Vocab at 0x7fbf3813f080>,\n",
       " 'was': <gensim.models.keyedvectors.Vocab at 0x7fbf3813f0f0>,\n",
       " 'the': <gensim.models.keyedvectors.Vocab at 0x7fbf3813f160>,\n",
       " 'at': <gensim.models.keyedvectors.Vocab at 0x7fbf3813f1d0>,\n",
       " 'not': <gensim.models.keyedvectors.Vocab at 0x7fbf3813f240>,\n",
       " 'as': <gensim.models.keyedvectors.Vocab at 0x7fbf3813f2b0>,\n",
       " 'it': <gensim.models.keyedvectors.Vocab at 0x7fbf3813f320>,\n",
       " 'be': <gensim.models.keyedvectors.Vocab at 0x7fbf3813f390>,\n",
       " 'from': <gensim.models.keyedvectors.Vocab at 0x7fbf3813f400>,\n",
       " 'by': <gensim.models.keyedvectors.Vocab at 0x7fbf3813f470>,\n",
       " 'are': <gensim.models.keyedvectors.Vocab at 0x7fbf3813f4e0>,\n",
       " 'I': <gensim.models.keyedvectors.Vocab at 0x7fbf3813f518>,\n",
       " 'have': <gensim.models.keyedvectors.Vocab at 0x7fbf3813f588>,\n",
       " 'he': <gensim.models.keyedvectors.Vocab at 0x7fbf3813f5f8>,\n",
       " 'will': <gensim.models.keyedvectors.Vocab at 0x7fbf3813f668>,\n",
       " 'has': <gensim.models.keyedvectors.Vocab at 0x7fbf3813f6d8>,\n",
       " '####': <gensim.models.keyedvectors.Vocab at 0x7fbf3813f748>,\n",
       " 'his': <gensim.models.keyedvectors.Vocab at 0x7fbf3813f7b8>,\n",
       " 'an': <gensim.models.keyedvectors.Vocab at 0x7fbf3813f828>,\n",
       " 'this': <gensim.models.keyedvectors.Vocab at 0x7fbf3813f898>,\n",
       " 'or': <gensim.models.keyedvectors.Vocab at 0x7fbf3813f908>,\n",
       " 'their': <gensim.models.keyedvectors.Vocab at 0x7fbf3813f978>,\n",
       " 'who': <gensim.models.keyedvectors.Vocab at 0x7fbf3813f9e8>,\n",
       " 'they': <gensim.models.keyedvectors.Vocab at 0x7fbf3813fa58>,\n",
       " 'but': <gensim.models.keyedvectors.Vocab at 0x7fbf3813fac8>,\n",
       " '$': <gensim.models.keyedvectors.Vocab at 0x7fbf3813fb00>,\n",
       " 'had': <gensim.models.keyedvectors.Vocab at 0x7fbf3813fb70>,\n",
       " 'year': <gensim.models.keyedvectors.Vocab at 0x7fbf3813fbe0>,\n",
       " 'were': <gensim.models.keyedvectors.Vocab at 0x7fbf3813fc50>,\n",
       " 'we': <gensim.models.keyedvectors.Vocab at 0x7fbf3813fcc0>,\n",
       " 'more': <gensim.models.keyedvectors.Vocab at 0x7fbf3813fd30>,\n",
       " '###': <gensim.models.keyedvectors.Vocab at 0x7fbf3813fda0>,\n",
       " 'up': <gensim.models.keyedvectors.Vocab at 0x7fbf3813fe10>,\n",
       " 'been': <gensim.models.keyedvectors.Vocab at 0x7fbf3813fe80>,\n",
       " 'you': <gensim.models.keyedvectors.Vocab at 0x7fbf3813fef0>,\n",
       " 'its': <gensim.models.keyedvectors.Vocab at 0x7fbf3813ff60>,\n",
       " 'one': <gensim.models.keyedvectors.Vocab at 0x7fbf3813ffd0>,\n",
       " 'about': <gensim.models.keyedvectors.Vocab at 0x7fbf38142080>,\n",
       " 'would': <gensim.models.keyedvectors.Vocab at 0x7fbf381420f0>,\n",
       " 'which': <gensim.models.keyedvectors.Vocab at 0x7fbf38142160>,\n",
       " 'out': <gensim.models.keyedvectors.Vocab at 0x7fbf381421d0>,\n",
       " 'can': <gensim.models.keyedvectors.Vocab at 0x7fbf38142240>,\n",
       " 'It': <gensim.models.keyedvectors.Vocab at 0x7fbf381422b0>,\n",
       " 'all': <gensim.models.keyedvectors.Vocab at 0x7fbf38142320>,\n",
       " 'also': <gensim.models.keyedvectors.Vocab at 0x7fbf38142390>,\n",
       " 'two': <gensim.models.keyedvectors.Vocab at 0x7fbf38142400>,\n",
       " 'after': <gensim.models.keyedvectors.Vocab at 0x7fbf38142470>,\n",
       " 'first': <gensim.models.keyedvectors.Vocab at 0x7fbf381424e0>,\n",
       " 'He': <gensim.models.keyedvectors.Vocab at 0x7fbf38142550>,\n",
       " 'do': <gensim.models.keyedvectors.Vocab at 0x7fbf381425c0>,\n",
       " 'time': <gensim.models.keyedvectors.Vocab at 0x7fbf38142630>,\n",
       " 'than': <gensim.models.keyedvectors.Vocab at 0x7fbf381426a0>,\n",
       " 'when': <gensim.models.keyedvectors.Vocab at 0x7fbf38142710>,\n",
       " 'We': <gensim.models.keyedvectors.Vocab at 0x7fbf38142780>,\n",
       " 'over': <gensim.models.keyedvectors.Vocab at 0x7fbf381427f0>,\n",
       " 'last': <gensim.models.keyedvectors.Vocab at 0x7fbf38142860>,\n",
       " 'new': <gensim.models.keyedvectors.Vocab at 0x7fbf381428d0>,\n",
       " 'other': <gensim.models.keyedvectors.Vocab at 0x7fbf38142940>,\n",
       " 'her': <gensim.models.keyedvectors.Vocab at 0x7fbf381429b0>,\n",
       " 'people': <gensim.models.keyedvectors.Vocab at 0x7fbf38142a20>,\n",
       " 'into': <gensim.models.keyedvectors.Vocab at 0x7fbf38142a90>,\n",
       " 'In': <gensim.models.keyedvectors.Vocab at 0x7fbf38142b00>,\n",
       " 'our': <gensim.models.keyedvectors.Vocab at 0x7fbf38142b70>,\n",
       " 'there': <gensim.models.keyedvectors.Vocab at 0x7fbf38142be0>,\n",
       " 'A': <gensim.models.keyedvectors.Vocab at 0x7fbf38142c18>,\n",
       " 'she': <gensim.models.keyedvectors.Vocab at 0x7fbf38142c88>,\n",
       " 'could': <gensim.models.keyedvectors.Vocab at 0x7fbf38142cf8>,\n",
       " 'just': <gensim.models.keyedvectors.Vocab at 0x7fbf38142d68>,\n",
       " 'years': <gensim.models.keyedvectors.Vocab at 0x7fbf38142dd8>,\n",
       " 'some': <gensim.models.keyedvectors.Vocab at 0x7fbf38142e48>,\n",
       " 'U.S.': <gensim.models.keyedvectors.Vocab at 0x7fbf38142eb8>,\n",
       " 'three': <gensim.models.keyedvectors.Vocab at 0x7fbf38142f28>,\n",
       " 'million': <gensim.models.keyedvectors.Vocab at 0x7fbf38142f98>,\n",
       " 'them': <gensim.models.keyedvectors.Vocab at 0x7fbf38143048>,\n",
       " 'what': <gensim.models.keyedvectors.Vocab at 0x7fbf381430b8>,\n",
       " 'But': <gensim.models.keyedvectors.Vocab at 0x7fbf38143128>,\n",
       " 'so': <gensim.models.keyedvectors.Vocab at 0x7fbf38143198>,\n",
       " 'no': <gensim.models.keyedvectors.Vocab at 0x7fbf38143208>,\n",
       " 'like': <gensim.models.keyedvectors.Vocab at 0x7fbf38143278>,\n",
       " 'if': <gensim.models.keyedvectors.Vocab at 0x7fbf381432e8>,\n",
       " 'only': <gensim.models.keyedvectors.Vocab at 0x7fbf38143358>,\n",
       " 'percent': <gensim.models.keyedvectors.Vocab at 0x7fbf381433c8>,\n",
       " 'get': <gensim.models.keyedvectors.Vocab at 0x7fbf38143438>,\n",
       " 'did': <gensim.models.keyedvectors.Vocab at 0x7fbf381434a8>,\n",
       " 'him': <gensim.models.keyedvectors.Vocab at 0x7fbf38143518>,\n",
       " 'game': <gensim.models.keyedvectors.Vocab at 0x7fbf38143588>,\n",
       " 'back': <gensim.models.keyedvectors.Vocab at 0x7fbf381435f8>,\n",
       " 'because': <gensim.models.keyedvectors.Vocab at 0x7fbf38143668>,\n",
       " 'now': <gensim.models.keyedvectors.Vocab at 0x7fbf381436d8>,\n",
       " '#.#': <gensim.models.keyedvectors.Vocab at 0x7fbf38143748>,\n",
       " 'before': <gensim.models.keyedvectors.Vocab at 0x7fbf381437b8>,\n",
       " 'company': <gensim.models.keyedvectors.Vocab at 0x7fbf38143828>,\n",
       " 'any': <gensim.models.keyedvectors.Vocab at 0x7fbf38143898>,\n",
       " 'team': <gensim.models.keyedvectors.Vocab at 0x7fbf38143908>,\n",
       " 'against': <gensim.models.keyedvectors.Vocab at 0x7fbf38143978>,\n",
       " 'off': <gensim.models.keyedvectors.Vocab at 0x7fbf381439e8>,\n",
       " 'This': <gensim.models.keyedvectors.Vocab at 0x7fbf38143a58>,\n",
       " 'most': <gensim.models.keyedvectors.Vocab at 0x7fbf38143ac8>,\n",
       " 'made': <gensim.models.keyedvectors.Vocab at 0x7fbf38143b38>,\n",
       " 'through': <gensim.models.keyedvectors.Vocab at 0x7fbf38143ba8>,\n",
       " 'make': <gensim.models.keyedvectors.Vocab at 0x7fbf38143c18>,\n",
       " 'second': <gensim.models.keyedvectors.Vocab at 0x7fbf38143c88>,\n",
       " 'state': <gensim.models.keyedvectors.Vocab at 0x7fbf38143cf8>,\n",
       " 'well': <gensim.models.keyedvectors.Vocab at 0x7fbf38143d68>,\n",
       " 'day': <gensim.models.keyedvectors.Vocab at 0x7fbf38143dd8>,\n",
       " 'season': <gensim.models.keyedvectors.Vocab at 0x7fbf38143e48>,\n",
       " 'says': <gensim.models.keyedvectors.Vocab at 0x7fbf38143eb8>,\n",
       " 'week': <gensim.models.keyedvectors.Vocab at 0x7fbf38143f28>,\n",
       " 'where': <gensim.models.keyedvectors.Vocab at 0x7fbf38143f98>,\n",
       " 'while': <gensim.models.keyedvectors.Vocab at 0x7fbf38146048>,\n",
       " 'down': <gensim.models.keyedvectors.Vocab at 0x7fbf381460b8>,\n",
       " 'being': <gensim.models.keyedvectors.Vocab at 0x7fbf38146128>,\n",
       " 'government': <gensim.models.keyedvectors.Vocab at 0x7fbf38146160>,\n",
       " 'your': <gensim.models.keyedvectors.Vocab at 0x7fbf381461d0>,\n",
       " '#-#': <gensim.models.keyedvectors.Vocab at 0x7fbf38146240>,\n",
       " 'home': <gensim.models.keyedvectors.Vocab at 0x7fbf381462b0>,\n",
       " 'going': <gensim.models.keyedvectors.Vocab at 0x7fbf38146320>,\n",
       " 'my': <gensim.models.keyedvectors.Vocab at 0x7fbf38146390>,\n",
       " 'good': <gensim.models.keyedvectors.Vocab at 0x7fbf38146400>,\n",
       " 'They': <gensim.models.keyedvectors.Vocab at 0x7fbf38146470>,\n",
       " \"'re\": <gensim.models.keyedvectors.Vocab at 0x7fbf381464e0>,\n",
       " 'should': <gensim.models.keyedvectors.Vocab at 0x7fbf38146550>,\n",
       " 'many': <gensim.models.keyedvectors.Vocab at 0x7fbf381465c0>,\n",
       " 'way': <gensim.models.keyedvectors.Vocab at 0x7fbf38146630>,\n",
       " 'those': <gensim.models.keyedvectors.Vocab at 0x7fbf381466a0>,\n",
       " 'four': <gensim.models.keyedvectors.Vocab at 0x7fbf38146710>,\n",
       " 'during': <gensim.models.keyedvectors.Vocab at 0x7fbf38146780>,\n",
       " 'such': <gensim.models.keyedvectors.Vocab at 0x7fbf381467f0>,\n",
       " 'may': <gensim.models.keyedvectors.Vocab at 0x7fbf38146860>,\n",
       " 'very': <gensim.models.keyedvectors.Vocab at 0x7fbf381468d0>,\n",
       " 'how': <gensim.models.keyedvectors.Vocab at 0x7fbf38146940>,\n",
       " 'since': <gensim.models.keyedvectors.Vocab at 0x7fbf381469b0>,\n",
       " 'work': <gensim.models.keyedvectors.Vocab at 0x7fbf38146a20>,\n",
       " 'take': <gensim.models.keyedvectors.Vocab at 0x7fbf38146a90>,\n",
       " 'including': <gensim.models.keyedvectors.Vocab at 0x7fbf38146ac8>,\n",
       " 'high': <gensim.models.keyedvectors.Vocab at 0x7fbf38146b38>,\n",
       " 'then': <gensim.models.keyedvectors.Vocab at 0x7fbf38146ba8>,\n",
       " '%': <gensim.models.keyedvectors.Vocab at 0x7fbf38146be0>,\n",
       " 'next': <gensim.models.keyedvectors.Vocab at 0x7fbf38146c50>,\n",
       " '#,###': <gensim.models.keyedvectors.Vocab at 0x7fbf38146cc0>,\n",
       " 'By': <gensim.models.keyedvectors.Vocab at 0x7fbf38146d30>,\n",
       " 'much': <gensim.models.keyedvectors.Vocab at 0x7fbf38146da0>,\n",
       " 'still': <gensim.models.keyedvectors.Vocab at 0x7fbf38146e10>,\n",
       " 'go': <gensim.models.keyedvectors.Vocab at 0x7fbf38146e80>,\n",
       " 'think': <gensim.models.keyedvectors.Vocab at 0x7fbf38146ef0>,\n",
       " 'old': <gensim.models.keyedvectors.Vocab at 0x7fbf38146f60>,\n",
       " 'even': <gensim.models.keyedvectors.Vocab at 0x7fbf38146fd0>,\n",
       " '#.##': <gensim.models.keyedvectors.Vocab at 0x7fbf38149080>,\n",
       " 'world': <gensim.models.keyedvectors.Vocab at 0x7fbf381490f0>,\n",
       " 'see': <gensim.models.keyedvectors.Vocab at 0x7fbf38149160>,\n",
       " 'say': <gensim.models.keyedvectors.Vocab at 0x7fbf381491d0>,\n",
       " 'business': <gensim.models.keyedvectors.Vocab at 0x7fbf38149208>,\n",
       " 'five': <gensim.models.keyedvectors.Vocab at 0x7fbf38149278>,\n",
       " 'told': <gensim.models.keyedvectors.Vocab at 0x7fbf381492e8>,\n",
       " 'under': <gensim.models.keyedvectors.Vocab at 0x7fbf38149358>,\n",
       " 'us': <gensim.models.keyedvectors.Vocab at 0x7fbf381493c8>,\n",
       " '1': <gensim.models.keyedvectors.Vocab at 0x7fbf38149400>,\n",
       " 'these': <gensim.models.keyedvectors.Vocab at 0x7fbf38149470>,\n",
       " 'If': <gensim.models.keyedvectors.Vocab at 0x7fbf381494e0>,\n",
       " 'right': <gensim.models.keyedvectors.Vocab at 0x7fbf38149550>,\n",
       " 'And': <gensim.models.keyedvectors.Vocab at 0x7fbf381495c0>,\n",
       " 'me': <gensim.models.keyedvectors.Vocab at 0x7fbf38149630>,\n",
       " 'between': <gensim.models.keyedvectors.Vocab at 0x7fbf381496a0>,\n",
       " 'play': <gensim.models.keyedvectors.Vocab at 0x7fbf38149710>,\n",
       " 'help': <gensim.models.keyedvectors.Vocab at 0x7fbf38149780>,\n",
       " '##,###': <gensim.models.keyedvectors.Vocab at 0x7fbf381497f0>,\n",
       " 'market': <gensim.models.keyedvectors.Vocab at 0x7fbf38149860>,\n",
       " 'That': <gensim.models.keyedvectors.Vocab at 0x7fbf381498d0>,\n",
       " 'know': <gensim.models.keyedvectors.Vocab at 0x7fbf38149940>,\n",
       " 'end': <gensim.models.keyedvectors.Vocab at 0x7fbf381499b0>,\n",
       " 'AP': <gensim.models.keyedvectors.Vocab at 0x7fbf38149a20>,\n",
       " 'long': <gensim.models.keyedvectors.Vocab at 0x7fbf38149a90>,\n",
       " 'information': <gensim.models.keyedvectors.Vocab at 0x7fbf38149ac8>,\n",
       " 'points': <gensim.models.keyedvectors.Vocab at 0x7fbf38149b38>,\n",
       " 'does': <gensim.models.keyedvectors.Vocab at 0x7fbf38149ba8>,\n",
       " 'both': <gensim.models.keyedvectors.Vocab at 0x7fbf38149c18>,\n",
       " 'There': <gensim.models.keyedvectors.Vocab at 0x7fbf38149c88>,\n",
       " 'part': <gensim.models.keyedvectors.Vocab at 0x7fbf38149cf8>,\n",
       " 'around': <gensim.models.keyedvectors.Vocab at 0x7fbf38149d68>,\n",
       " 'police': <gensim.models.keyedvectors.Vocab at 0x7fbf38149dd8>,\n",
       " 'want': <gensim.models.keyedvectors.Vocab at 0x7fbf38149e48>,\n",
       " \"'ve\": <gensim.models.keyedvectors.Vocab at 0x7fbf38149eb8>,\n",
       " 'based': <gensim.models.keyedvectors.Vocab at 0x7fbf38149f28>,\n",
       " 'For': <gensim.models.keyedvectors.Vocab at 0x7fbf38149f98>,\n",
       " 'got': <gensim.models.keyedvectors.Vocab at 0x7fbf37cb4048>,\n",
       " 'third': <gensim.models.keyedvectors.Vocab at 0x7fbf37cb40b8>,\n",
       " 'school': <gensim.models.keyedvectors.Vocab at 0x7fbf37cb4128>,\n",
       " 'left': <gensim.models.keyedvectors.Vocab at 0x7fbf37cb4198>,\n",
       " 'another': <gensim.models.keyedvectors.Vocab at 0x7fbf37cb4208>,\n",
       " 'country': <gensim.models.keyedvectors.Vocab at 0x7fbf37cb4278>,\n",
       " 'need': <gensim.models.keyedvectors.Vocab at 0x7fbf37cb42e8>,\n",
       " '2': <gensim.models.keyedvectors.Vocab at 0x7fbf37cb4320>,\n",
       " 'best': <gensim.models.keyedvectors.Vocab at 0x7fbf37cb4390>,\n",
       " 'win': <gensim.models.keyedvectors.Vocab at 0x7fbf37cb4400>,\n",
       " 'quarter': <gensim.models.keyedvectors.Vocab at 0x7fbf37cb4470>,\n",
       " 'use': <gensim.models.keyedvectors.Vocab at 0x7fbf37cb44e0>,\n",
       " 'today': <gensim.models.keyedvectors.Vocab at 0x7fbf37cb4550>,\n",
       " '##.#': <gensim.models.keyedvectors.Vocab at 0x7fbf37cb45c0>,\n",
       " 'same': <gensim.models.keyedvectors.Vocab at 0x7fbf37cb4630>,\n",
       " 'public': <gensim.models.keyedvectors.Vocab at 0x7fbf37cb46a0>,\n",
       " 'run': <gensim.models.keyedvectors.Vocab at 0x7fbf37cb4710>,\n",
       " 'Friday': <gensim.models.keyedvectors.Vocab at 0x7fbf37cb4780>,\n",
       " 'set': <gensim.models.keyedvectors.Vocab at 0x7fbf37cb47f0>,\n",
       " 'month': <gensim.models.keyedvectors.Vocab at 0x7fbf37cb4860>,\n",
       " 'top': <gensim.models.keyedvectors.Vocab at 0x7fbf37cb48d0>,\n",
       " 'billion': <gensim.models.keyedvectors.Vocab at 0x7fbf37cb4940>,\n",
       " 'Tuesday': <gensim.models.keyedvectors.Vocab at 0x7fbf37cb49b0>,\n",
       " 'come': <gensim.models.keyedvectors.Vocab at 0x7fbf37cb4a20>,\n",
       " 'Monday': <gensim.models.keyedvectors.Vocab at 0x7fbf37cb4a90>,\n",
       " 'She': <gensim.models.keyedvectors.Vocab at 0x7fbf37cb4b00>,\n",
       " 'city': <gensim.models.keyedvectors.Vocab at 0x7fbf37cb4b70>,\n",
       " 'place': <gensim.models.keyedvectors.Vocab at 0x7fbf37cb4be0>,\n",
       " 'night': <gensim.models.keyedvectors.Vocab at 0x7fbf37cb4c50>,\n",
       " 'six': <gensim.models.keyedvectors.Vocab at 0x7fbf37cb4cc0>,\n",
       " 'each': <gensim.models.keyedvectors.Vocab at 0x7fbf37cb4d30>,\n",
       " 'Thursday': <gensim.models.keyedvectors.Vocab at 0x7fbf37cb4d68>,\n",
       " '###,###': <gensim.models.keyedvectors.Vocab at 0x7fbf37cb4dd8>,\n",
       " 'Wednesday': <gensim.models.keyedvectors.Vocab at 0x7fbf37cb4e10>,\n",
       " 'here': <gensim.models.keyedvectors.Vocab at 0x7fbf37cb4e80>,\n",
       " 'You': <gensim.models.keyedvectors.Vocab at 0x7fbf37cb4ef0>,\n",
       " 'group': <gensim.models.keyedvectors.Vocab at 0x7fbf37cb4f60>,\n",
       " 'really': <gensim.models.keyedvectors.Vocab at 0x7fbf37cb4fd0>,\n",
       " 'found': <gensim.models.keyedvectors.Vocab at 0x7fbf37cb8080>,\n",
       " 'As': <gensim.models.keyedvectors.Vocab at 0x7fbf37cb80f0>,\n",
       " 'used': <gensim.models.keyedvectors.Vocab at 0x7fbf37cb8160>,\n",
       " '3': <gensim.models.keyedvectors.Vocab at 0x7fbf37cb8198>,\n",
       " 'lot': <gensim.models.keyedvectors.Vocab at 0x7fbf37cb8208>,\n",
       " \"'m\": <gensim.models.keyedvectors.Vocab at 0x7fbf37cb8278>,\n",
       " 'money': <gensim.models.keyedvectors.Vocab at 0x7fbf37cb82e8>,\n",
       " 'put': <gensim.models.keyedvectors.Vocab at 0x7fbf37cb8358>,\n",
       " 'games': <gensim.models.keyedvectors.Vocab at 0x7fbf37cb83c8>,\n",
       " 'support': <gensim.models.keyedvectors.Vocab at 0x7fbf37cb8438>,\n",
       " 'program': <gensim.models.keyedvectors.Vocab at 0x7fbf37cb84a8>,\n",
       " 'half': <gensim.models.keyedvectors.Vocab at 0x7fbf37cb8518>,\n",
       " 'report': <gensim.models.keyedvectors.Vocab at 0x7fbf37cb8588>,\n",
       " 'family': <gensim.models.keyedvectors.Vocab at 0x7fbf37cb85f8>,\n",
       " 'months': <gensim.models.keyedvectors.Vocab at 0x7fbf37cb8668>,\n",
       " 'number': <gensim.models.keyedvectors.Vocab at 0x7fbf37cb86d8>,\n",
       " 'officials': <gensim.models.keyedvectors.Vocab at 0x7fbf37cb8710>,\n",
       " 'am': <gensim.models.keyedvectors.Vocab at 0x7fbf37cb8780>,\n",
       " 'former': <gensim.models.keyedvectors.Vocab at 0x7fbf37cb87f0>,\n",
       " 'own': <gensim.models.keyedvectors.Vocab at 0x7fbf37cb8860>,\n",
       " 'man': <gensim.models.keyedvectors.Vocab at 0x7fbf37cb88d0>,\n",
       " 'Saturday': <gensim.models.keyedvectors.Vocab at 0x7fbf37cb8908>,\n",
       " 'too': <gensim.models.keyedvectors.Vocab at 0x7fbf37cb8978>,\n",
       " 'better': <gensim.models.keyedvectors.Vocab at 0x7fbf37cb89e8>,\n",
       " 'days': <gensim.models.keyedvectors.Vocab at 0x7fbf37cb8a58>,\n",
       " 'came': <gensim.models.keyedvectors.Vocab at 0x7fbf37cb8ac8>,\n",
       " 'lead': <gensim.models.keyedvectors.Vocab at 0x7fbf37cb8b38>,\n",
       " 'life': <gensim.models.keyedvectors.Vocab at 0x7fbf37cb8ba8>,\n",
       " 'American': <gensim.models.keyedvectors.Vocab at 0x7fbf37cb8be0>,\n",
       " '##-##': <gensim.models.keyedvectors.Vocab at 0x7fbf37cb8c50>,\n",
       " 'show': <gensim.models.keyedvectors.Vocab at 0x7fbf37cb8cc0>,\n",
       " 'past': <gensim.models.keyedvectors.Vocab at 0x7fbf37cb8d30>,\n",
       " 'took': <gensim.models.keyedvectors.Vocab at 0x7fbf37cb8da0>,\n",
       " 'added': <gensim.models.keyedvectors.Vocab at 0x7fbf37cb8e10>,\n",
       " 'expected': <gensim.models.keyedvectors.Vocab at 0x7fbf37cb8e48>,\n",
       " 'called': <gensim.models.keyedvectors.Vocab at 0x7fbf37cb8eb8>,\n",
       " 'great': <gensim.models.keyedvectors.Vocab at 0x7fbf37cb8f28>,\n",
       " 'State': <gensim.models.keyedvectors.Vocab at 0x7fbf37cb8f98>,\n",
       " 'services': <gensim.models.keyedvectors.Vocab at 0x7fbf37cb8fd0>,\n",
       " 'children': <gensim.models.keyedvectors.Vocab at 0x7fbf37cba048>,\n",
       " 'hit': <gensim.models.keyedvectors.Vocab at 0x7fbf37cba0b8>,\n",
       " 'area': <gensim.models.keyedvectors.Vocab at 0x7fbf37cba128>,\n",
       " 'system': <gensim.models.keyedvectors.Vocab at 0x7fbf37cba198>,\n",
       " 'every': <gensim.models.keyedvectors.Vocab at 0x7fbf37cba208>,\n",
       " 'pm': <gensim.models.keyedvectors.Vocab at 0x7fbf37cba278>,\n",
       " 'big': <gensim.models.keyedvectors.Vocab at 0x7fbf37cba2e8>,\n",
       " 'service': <gensim.models.keyedvectors.Vocab at 0x7fbf37cba358>,\n",
       " 'few': <gensim.models.keyedvectors.Vocab at 0x7fbf37cba3c8>,\n",
       " 'per': <gensim.models.keyedvectors.Vocab at 0x7fbf37cba438>,\n",
       " 'members': <gensim.models.keyedvectors.Vocab at 0x7fbf37cba4a8>,\n",
       " 'Sunday': <gensim.models.keyedvectors.Vocab at 0x7fbf37cba518>,\n",
       " 'early': <gensim.models.keyedvectors.Vocab at 0x7fbf37cba588>,\n",
       " 'point': <gensim.models.keyedvectors.Vocab at 0x7fbf37cba5f8>,\n",
       " 'start': <gensim.models.keyedvectors.Vocab at 0x7fbf37cba668>,\n",
       " 'companies': <gensim.models.keyedvectors.Vocab at 0x7fbf37cba6a0>,\n",
       " 'little': <gensim.models.keyedvectors.Vocab at 0x7fbf37cba710>,\n",
       " '&': <gensim.models.keyedvectors.Vocab at 0x7fbf37cba748>,\n",
       " 'case': <gensim.models.keyedvectors.Vocab at 0x7fbf37cba7b8>,\n",
       " 'ago': <gensim.models.keyedvectors.Vocab at 0x7fbf37cba828>,\n",
       " 'local': <gensim.models.keyedvectors.Vocab at 0x7fbf37cba898>,\n",
       " 'according': <gensim.models.keyedvectors.Vocab at 0x7fbf37cba8d0>,\n",
       " 'never': <gensim.models.keyedvectors.Vocab at 0x7fbf37cba940>,\n",
       " '5': <gensim.models.keyedvectors.Vocab at 0x7fbf37cba978>,\n",
       " 'without': <gensim.models.keyedvectors.Vocab at 0x7fbf37cba9e8>,\n",
       " 'sales': <gensim.models.keyedvectors.Vocab at 0x7fbf37cbaa58>,\n",
       " 'until': <gensim.models.keyedvectors.Vocab at 0x7fbf37cbaac8>,\n",
       " 'went': <gensim.models.keyedvectors.Vocab at 0x7fbf37cbab38>,\n",
       " 'players': <gensim.models.keyedvectors.Vocab at 0x7fbf37cbaba8>,\n",
       " '##th': <gensim.models.keyedvectors.Vocab at 0x7fbf37cbac18>,\n",
       " 'New_York': <gensim.models.keyedvectors.Vocab at 0x7fbf37cbac50>,\n",
       " 'won': <gensim.models.keyedvectors.Vocab at 0x7fbf37cbacc0>,\n",
       " 'financial': <gensim.models.keyedvectors.Vocab at 0x7fbf37cbacf8>,\n",
       " 'news': <gensim.models.keyedvectors.Vocab at 0x7fbf37cbad68>,\n",
       " '4': <gensim.models.keyedvectors.Vocab at 0x7fbf37cbada0>,\n",
       " 'When': <gensim.models.keyedvectors.Vocab at 0x7fbf37cbae10>,\n",
       " 'share': <gensim.models.keyedvectors.Vocab at 0x7fbf37cbae80>,\n",
       " 'several': <gensim.models.keyedvectors.Vocab at 0x7fbf37cbaef0>,\n",
       " 'free': <gensim.models.keyedvectors.Vocab at 0x7fbf37cbaf60>,\n",
       " 'away': <gensim.models.keyedvectors.Vocab at 0x7fbf37cbafd0>,\n",
       " '##.##': <gensim.models.keyedvectors.Vocab at 0x7fbf37cbd080>,\n",
       " 'already': <gensim.models.keyedvectors.Vocab at 0x7fbf37cbd0f0>,\n",
       " 'On': <gensim.models.keyedvectors.Vocab at 0x7fbf37cbd160>,\n",
       " 'industry': <gensim.models.keyedvectors.Vocab at 0x7fbf37cbd198>,\n",
       " \"'ll\": <gensim.models.keyedvectors.Vocab at 0x7fbf37cbd208>,\n",
       " 'call': <gensim.models.keyedvectors.Vocab at 0x7fbf37cbd278>,\n",
       " 'With': <gensim.models.keyedvectors.Vocab at 0x7fbf37cbd2e8>,\n",
       " 'students': <gensim.models.keyedvectors.Vocab at 0x7fbf37cbd320>,\n",
       " 'line': <gensim.models.keyedvectors.Vocab at 0x7fbf37cbd390>,\n",
       " 'available': <gensim.models.keyedvectors.Vocab at 0x7fbf37cbd3c8>,\n",
       " 'County': <gensim.models.keyedvectors.Vocab at 0x7fbf37cbd438>,\n",
       " 'making': <gensim.models.keyedvectors.Vocab at 0x7fbf37cbd4a8>,\n",
       " 'held': <gensim.models.keyedvectors.Vocab at 0x7fbf37cbd518>,\n",
       " 'final': <gensim.models.keyedvectors.Vocab at 0x7fbf37cbd588>,\n",
       " '#:##': <gensim.models.keyedvectors.Vocab at 0x7fbf37cbd5f8>,\n",
       " 'power': <gensim.models.keyedvectors.Vocab at 0x7fbf37cbd668>,\n",
       " 'plan': <gensim.models.keyedvectors.Vocab at 0x7fbf37cbd6d8>,\n",
       " 'might': <gensim.models.keyedvectors.Vocab at 0x7fbf37cbd748>,\n",
       " 'least': <gensim.models.keyedvectors.Vocab at 0x7fbf37cbd7b8>,\n",
       " 'look': <gensim.models.keyedvectors.Vocab at 0x7fbf37cbd828>,\n",
       " 'forward': <gensim.models.keyedvectors.Vocab at 0x7fbf37cbd898>,\n",
       " 'give': <gensim.models.keyedvectors.Vocab at 0x7fbf37cbd908>,\n",
       " 'At': <gensim.models.keyedvectors.Vocab at 0x7fbf37cbd978>,\n",
       " 'again': <gensim.models.keyedvectors.Vocab at 0x7fbf37cbd9e8>,\n",
       " 'later': <gensim.models.keyedvectors.Vocab at 0x7fbf37cbda58>,\n",
       " 'full': <gensim.models.keyedvectors.Vocab at 0x7fbf37cbdac8>,\n",
       " 'must': <gensim.models.keyedvectors.Vocab at 0x7fbf37cbdb38>,\n",
       " 'things': <gensim.models.keyedvectors.Vocab at 0x7fbf37cbdba8>,\n",
       " 'major': <gensim.models.keyedvectors.Vocab at 0x7fbf37cbdc18>,\n",
       " 'community': <gensim.models.keyedvectors.Vocab at 0x7fbf37cbdc50>,\n",
       " 'announced': <gensim.models.keyedvectors.Vocab at 0x7fbf37cbdc88>,\n",
       " 'open': <gensim.models.keyedvectors.Vocab at 0x7fbf37cbdcf8>,\n",
       " 'record': <gensim.models.keyedvectors.Vocab at 0x7fbf37cbdd68>,\n",
       " 'reported': <gensim.models.keyedvectors.Vocab at 0x7fbf37cbdda0>,\n",
       " 'court': <gensim.models.keyedvectors.Vocab at 0x7fbf37cbde10>,\n",
       " 'working': <gensim.models.keyedvectors.Vocab at 0x7fbf37cbde80>,\n",
       " 'able': <gensim.models.keyedvectors.Vocab at 0x7fbf37cbdef0>,\n",
       " 'something': <gensim.models.keyedvectors.Vocab at 0x7fbf37cbdf28>,\n",
       " 'president': <gensim.models.keyedvectors.Vocab at 0x7fbf37cbdf60>,\n",
       " 'meeting': <gensim.models.keyedvectors.Vocab at 0x7fbf37cbdfd0>,\n",
       " 'keep': <gensim.models.keyedvectors.Vocab at 0x7fbf37cc0080>,\n",
       " 'March': <gensim.models.keyedvectors.Vocab at 0x7fbf37cc00f0>,\n",
       " 'future': <gensim.models.keyedvectors.Vocab at 0x7fbf37cc0160>,\n",
       " 'far': <gensim.models.keyedvectors.Vocab at 0x7fbf37cc01d0>,\n",
       " 'deal': <gensim.models.keyedvectors.Vocab at 0x7fbf37cc0240>,\n",
       " 'City': <gensim.models.keyedvectors.Vocab at 0x7fbf37cc02b0>,\n",
       " 'May': <gensim.models.keyedvectors.Vocab at 0x7fbf37cc0320>,\n",
       " 'development': <gensim.models.keyedvectors.Vocab at 0x7fbf37cc0358>,\n",
       " 'University': <gensim.models.keyedvectors.Vocab at 0x7fbf37cc0390>,\n",
       " 'find': <gensim.models.keyedvectors.Vocab at 0x7fbf37cc0400>,\n",
       " 'times': <gensim.models.keyedvectors.Vocab at 0x7fbf37cc0470>,\n",
       " 'After': <gensim.models.keyedvectors.Vocab at 0x7fbf37cc04e0>,\n",
       " 'office': <gensim.models.keyedvectors.Vocab at 0x7fbf37cc0550>,\n",
       " 'led': <gensim.models.keyedvectors.Vocab at 0x7fbf37cc05c0>,\n",
       " 'among': <gensim.models.keyedvectors.Vocab at 0x7fbf37cc0630>,\n",
       " 'June': <gensim.models.keyedvectors.Vocab at 0x7fbf37cc06a0>,\n",
       " 'increase': <gensim.models.keyedvectors.Vocab at 0x7fbf37cc06d8>,\n",
       " 'China': <gensim.models.keyedvectors.Vocab at 0x7fbf37cc0748>,\n",
       " 'John': <gensim.models.keyedvectors.Vocab at 0x7fbf37cc07b8>,\n",
       " 'whether': <gensim.models.keyedvectors.Vocab at 0x7fbf37cc0828>,\n",
       " 'cost': <gensim.models.keyedvectors.Vocab at 0x7fbf37cc0898>,\n",
       " 'security': <gensim.models.keyedvectors.Vocab at 0x7fbf37cc08d0>,\n",
       " 'job': <gensim.models.keyedvectors.Vocab at 0x7fbf37cc0940>,\n",
       " 'less': <gensim.models.keyedvectors.Vocab at 0x7fbf37cc09b0>,\n",
       " 'head': <gensim.models.keyedvectors.Vocab at 0x7fbf37cc0a20>,\n",
       " 'seven': <gensim.models.keyedvectors.Vocab at 0x7fbf37cc0a90>,\n",
       " 'growth': <gensim.models.keyedvectors.Vocab at 0x7fbf37cc0b00>,\n",
       " 'lost': <gensim.models.keyedvectors.Vocab at 0x7fbf37cc0b70>,\n",
       " 'pay': <gensim.models.keyedvectors.Vocab at 0x7fbf37cc0be0>,\n",
       " 'looking': <gensim.models.keyedvectors.Vocab at 0x7fbf37cc0c50>,\n",
       " 'provide': <gensim.models.keyedvectors.Vocab at 0x7fbf37cc0cc0>,\n",
       " '6': <gensim.models.keyedvectors.Vocab at 0x7fbf37cc0cf8>,\n",
       " 'To': <gensim.models.keyedvectors.Vocab at 0x7fbf37cc0d68>,\n",
       " 'plans': <gensim.models.keyedvectors.Vocab at 0x7fbf37cc0dd8>,\n",
       " 'products': <gensim.models.keyedvectors.Vocab at 0x7fbf37cc0e10>,\n",
       " 'car': <gensim.models.keyedvectors.Vocab at 0x7fbf37cc0e80>,\n",
       " 'recent': <gensim.models.keyedvectors.Vocab at 0x7fbf37cc0ef0>,\n",
       " 'hard': <gensim.models.keyedvectors.Vocab at 0x7fbf37cc0f60>,\n",
       " 'always': <gensim.models.keyedvectors.Vocab at 0x7fbf37cc0fd0>,\n",
       " 'include': <gensim.models.keyedvectors.Vocab at 0x7fbf37cc3080>,\n",
       " 'women': <gensim.models.keyedvectors.Vocab at 0x7fbf37cc30f0>,\n",
       " 'across': <gensim.models.keyedvectors.Vocab at 0x7fbf37cc3160>,\n",
       " 'tax': <gensim.models.keyedvectors.Vocab at 0x7fbf37cc31d0>,\n",
       " 'water': <gensim.models.keyedvectors.Vocab at 0x7fbf37cc3240>,\n",
       " 'April': <gensim.models.keyedvectors.Vocab at 0x7fbf37cc32b0>,\n",
       " 'continue': <gensim.models.keyedvectors.Vocab at 0x7fbf37cc32e8>,\n",
       " 'important': <gensim.models.keyedvectors.Vocab at 0x7fbf37cc3320>,\n",
       " 'different': <gensim.models.keyedvectors.Vocab at 0x7fbf37cc3358>,\n",
       " 'close': <gensim.models.keyedvectors.Vocab at 0x7fbf37cc33c8>,\n",
       " '7': <gensim.models.keyedvectors.Vocab at 0x7fbf37cc3400>,\n",
       " 'One': <gensim.models.keyedvectors.Vocab at 0x7fbf37cc3470>,\n",
       " 'late': <gensim.models.keyedvectors.Vocab at 0x7fbf37cc34e0>,\n",
       " 'decision': <gensim.models.keyedvectors.Vocab at 0x7fbf37cc3518>,\n",
       " 'current': <gensim.models.keyedvectors.Vocab at 0x7fbf37cc3588>,\n",
       " 'law': <gensim.models.keyedvectors.Vocab at 0x7fbf37cc35f8>,\n",
       " 'within': <gensim.models.keyedvectors.Vocab at 0x7fbf37cc3668>,\n",
       " 'along': <gensim.models.keyedvectors.Vocab at 0x7fbf37cc36d8>,\n",
       " 'played': <gensim.models.keyedvectors.Vocab at 0x7fbf37cc3748>,\n",
       " 'move': <gensim.models.keyedvectors.Vocab at 0x7fbf37cc37b8>,\n",
       " 'United_States': <gensim.models.keyedvectors.Vocab at 0x7fbf37cc37f0>,\n",
       " 'enough': <gensim.models.keyedvectors.Vocab at 0x7fbf37cc3860>,\n",
       " 'become': <gensim.models.keyedvectors.Vocab at 0x7fbf37cc38d0>,\n",
       " 'side': <gensim.models.keyedvectors.Vocab at 0x7fbf37cc3940>,\n",
       " 'national': <gensim.models.keyedvectors.Vocab at 0x7fbf37cc3978>,\n",
       " 'Inc.': <gensim.models.keyedvectors.Vocab at 0x7fbf37cc39e8>,\n",
       " 'results': <gensim.models.keyedvectors.Vocab at 0x7fbf37cc3a58>,\n",
       " 'level': <gensim.models.keyedvectors.Vocab at 0x7fbf37cc3ac8>,\n",
       " 'loss': <gensim.models.keyedvectors.Vocab at 0x7fbf37cc3b38>,\n",
       " 'economic': <gensim.models.keyedvectors.Vocab at 0x7fbf37cc3b70>,\n",
       " 'coach': <gensim.models.keyedvectors.Vocab at 0x7fbf37cc3be0>,\n",
       " 'near': <gensim.models.keyedvectors.Vocab at 0x7fbf37cc3c50>,\n",
       " 'getting': <gensim.models.keyedvectors.Vocab at 0x7fbf37cc3cc0>,\n",
       " 'price': <gensim.models.keyedvectors.Vocab at 0x7fbf37cc3d30>,\n",
       " 'Department': <gensim.models.keyedvectors.Vocab at 0x7fbf37cc3d68>,\n",
       " 'event': <gensim.models.keyedvectors.Vocab at 0x7fbf37cc3dd8>,\n",
       " 'fourth': <gensim.models.keyedvectors.Vocab at 0x7fbf37cc3e48>,\n",
       " 'change': <gensim.models.keyedvectors.Vocab at 0x7fbf37cc3eb8>,\n",
       " 'All': <gensim.models.keyedvectors.Vocab at 0x7fbf37cc3f28>,\n",
       " 'small': <gensim.models.keyedvectors.Vocab at 0x7fbf37cc3f98>,\n",
       " 'board': <gensim.models.keyedvectors.Vocab at 0x7fbf37cc7048>,\n",
       " 'National': <gensim.models.keyedvectors.Vocab at 0x7fbf37cc7080>,\n",
       " 'So': <gensim.models.keyedvectors.Vocab at 0x7fbf37cc70f0>,\n",
       " 'goal': <gensim.models.keyedvectors.Vocab at 0x7fbf37cc7160>,\n",
       " 'taken': <gensim.models.keyedvectors.Vocab at 0x7fbf37cc71d0>,\n",
       " 'field': <gensim.models.keyedvectors.Vocab at 0x7fbf37cc7240>,\n",
       " 'prices': <gensim.models.keyedvectors.Vocab at 0x7fbf37cc72b0>,\n",
       " 'weeks': <gensim.models.keyedvectors.Vocab at 0x7fbf37cc7320>,\n",
       " 'men': <gensim.models.keyedvectors.Vocab at 0x7fbf37cc7390>,\n",
       " 'asked': <gensim.models.keyedvectors.Vocab at 0x7fbf37cc7400>,\n",
       " 'eight': <gensim.models.keyedvectors.Vocab at 0x7fbf37cc7470>,\n",
       " 'data': <gensim.models.keyedvectors.Vocab at 0x7fbf37cc74e0>,\n",
       " 'shot': <gensim.models.keyedvectors.Vocab at 0x7fbf37cc7550>,\n",
       " 'New': <gensim.models.keyedvectors.Vocab at 0x7fbf37cc75c0>,\n",
       " 'started': <gensim.models.keyedvectors.Vocab at 0x7fbf37cc7630>,\n",
       " 'July': <gensim.models.keyedvectors.Vocab at 0x7fbf37cc76a0>,\n",
       " 'director': <gensim.models.keyedvectors.Vocab at 0x7fbf37cc76d8>,\n",
       " 'President': <gensim.models.keyedvectors.Vocab at 0x7fbf37cc7710>,\n",
       " 'party': <gensim.models.keyedvectors.Vocab at 0x7fbf37cc7780>,\n",
       " 'federal': <gensim.models.keyedvectors.Vocab at 0x7fbf37cc77f0>,\n",
       " 'done': <gensim.models.keyedvectors.Vocab at 0x7fbf37cc7860>,\n",
       " 'political': <gensim.models.keyedvectors.Vocab at 0x7fbf37cc7898>,\n",
       " 'minutes': <gensim.models.keyedvectors.Vocab at 0x7fbf37cc7908>,\n",
       " 'taking': <gensim.models.keyedvectors.Vocab at 0x7fbf37cc7978>,\n",
       " 'Company': <gensim.models.keyedvectors.Vocab at 0x7fbf37cc79e8>,\n",
       " 'technology': <gensim.models.keyedvectors.Vocab at 0x7fbf37cc7a20>,\n",
       " 'project': <gensim.models.keyedvectors.Vocab at 0x7fbf37cc7a90>,\n",
       " 'center': <gensim.models.keyedvectors.Vocab at 0x7fbf37cc7b00>,\n",
       " 'leading': <gensim.models.keyedvectors.Vocab at 0x7fbf37cc7b70>,\n",
       " 'issue': <gensim.models.keyedvectors.Vocab at 0x7fbf37cc7be0>,\n",
       " 'though': <gensim.models.keyedvectors.Vocab at 0x7fbf37cc7c50>,\n",
       " 'having': <gensim.models.keyedvectors.Vocab at 0x7fbf37cc7cc0>,\n",
       " 'period': <gensim.models.keyedvectors.Vocab at 0x7fbf37cc7d30>,\n",
       " 'likely': <gensim.models.keyedvectors.Vocab at 0x7fbf37cc7da0>,\n",
       " 'scored': <gensim.models.keyedvectors.Vocab at 0x7fbf37cc7e10>,\n",
       " '8': <gensim.models.keyedvectors.Vocab at 0x7fbf37cc7e48>,\n",
       " 'strong': <gensim.models.keyedvectors.Vocab at 0x7fbf37cc7eb8>,\n",
       " 'series': <gensim.models.keyedvectors.Vocab at 0x7fbf37cc7f28>,\n",
       " 'military': <gensim.models.keyedvectors.Vocab at 0x7fbf37cc7f60>,\n",
       " 'seen': <gensim.models.keyedvectors.Vocab at 0x7fbf37cc7fd0>,\n",
       " 'trying': <gensim.models.keyedvectors.Vocab at 0x7fbf37cc8080>,\n",
       " 'What': <gensim.models.keyedvectors.Vocab at 0x7fbf37cc80f0>,\n",
       " 'coming': <gensim.models.keyedvectors.Vocab at 0x7fbf37cc8160>,\n",
       " 'process': <gensim.models.keyedvectors.Vocab at 0x7fbf37cc81d0>,\n",
       " 'building': <gensim.models.keyedvectors.Vocab at 0x7fbf37cc8208>,\n",
       " 'behind': <gensim.models.keyedvectors.Vocab at 0x7fbf37cc8278>,\n",
       " 'performance': <gensim.models.keyedvectors.Vocab at 0x7fbf37cc82b0>,\n",
       " 'management': <gensim.models.keyedvectors.Vocab at 0x7fbf37cc82e8>,\n",
       " 'Iraq': <gensim.models.keyedvectors.Vocab at 0x7fbf37cc8358>,\n",
       " 'saying': <gensim.models.keyedvectors.Vocab at 0x7fbf37cc83c8>,\n",
       " 'earlier': <gensim.models.keyedvectors.Vocab at 0x7fbf37cc8438>,\n",
       " 'believe': <gensim.models.keyedvectors.Vocab at 0x7fbf37cc84a8>,\n",
       " 'oil': <gensim.models.keyedvectors.Vocab at 0x7fbf37cc8518>,\n",
       " 'given': <gensim.models.keyedvectors.Vocab at 0x7fbf37cc8588>,\n",
       " 'Police': <gensim.models.keyedvectors.Vocab at 0x7fbf37cc85f8>,\n",
       " 'customers': <gensim.models.keyedvectors.Vocab at 0x7fbf37cc8630>,\n",
       " 'due': <gensim.models.keyedvectors.Vocab at 0x7fbf37cc86a0>,\n",
       " 'following': <gensim.models.keyedvectors.Vocab at 0x7fbf37cc86d8>,\n",
       " 'term': <gensim.models.keyedvectors.Vocab at 0x7fbf37cc8748>,\n",
       " 'others': <gensim.models.keyedvectors.Vocab at 0x7fbf37cc87b8>,\n",
       " 'statement': <gensim.models.keyedvectors.Vocab at 0x7fbf37cc87f0>,\n",
       " 'international': <gensim.models.keyedvectors.Vocab at 0x7fbf37cc8828>,\n",
       " 'economy': <gensim.models.keyedvectors.Vocab at 0x7fbf37cc8898>,\n",
       " 'health': <gensim.models.keyedvectors.Vocab at 0x7fbf37cc8908>,\n",
       " 'thing': <gensim.models.keyedvectors.Vocab at 0x7fbf37cc8978>,\n",
       " 'Obama': <gensim.models.keyedvectors.Vocab at 0x7fbf37cc89e8>,\n",
       " 'return': <gensim.models.keyedvectors.Vocab at 0x7fbf37cc8a58>,\n",
       " 'killed': <gensim.models.keyedvectors.Vocab at 0x7fbf37cc8ac8>,\n",
       " 'Washington': <gensim.models.keyedvectors.Vocab at 0x7fbf37cc8b00>,\n",
       " 'further': <gensim.models.keyedvectors.Vocab at 0x7fbf37cc8b70>,\n",
       " 'However': <gensim.models.keyedvectors.Vocab at 0x7fbf37cc8be0>,\n",
       " 'doing': <gensim.models.keyedvectors.Vocab at 0x7fbf37cc8c50>,\n",
       " 'face': <gensim.models.keyedvectors.Vocab at 0x7fbf37cc8cc0>,\n",
       " 'low': <gensim.models.keyedvectors.Vocab at 0x7fbf37cc8d30>,\n",
       " 'higher': <gensim.models.keyedvectors.Vocab at 0x7fbf37cc8da0>,\n",
       " 'site': <gensim.models.keyedvectors.Vocab at 0x7fbf37cc8e10>,\n",
       " 'once': <gensim.models.keyedvectors.Vocab at 0x7fbf37cc8e80>,\n",
       " 'yet': <gensim.models.keyedvectors.Vocab at 0x7fbf37cc8ef0>,\n",
       " 'hours': <gensim.models.keyedvectors.Vocab at 0x7fbf37cc8f60>,\n",
       " 'America': <gensim.models.keyedvectors.Vocab at 0x7fbf37cc8fd0>,\n",
       " 'control': <gensim.models.keyedvectors.Vocab at 0x7fbf37ccb080>,\n",
       " 'received': <gensim.models.keyedvectors.Vocab at 0x7fbf37ccb0b8>,\n",
       " 'rate': <gensim.models.keyedvectors.Vocab at 0x7fbf37ccb128>,\n",
       " 'career': <gensim.models.keyedvectors.Vocab at 0x7fbf37ccb198>,\n",
       " 'Bush': <gensim.models.keyedvectors.Vocab at 0x7fbf37ccb208>,\n",
       " 'teams': <gensim.models.keyedvectors.Vocab at 0x7fbf37ccb278>,\n",
       " 'known': <gensim.models.keyedvectors.Vocab at 0x7fbf37ccb2e8>,\n",
       " 'offer': <gensim.models.keyedvectors.Vocab at 0x7fbf37ccb358>,\n",
       " 'race': <gensim.models.keyedvectors.Vocab at 0x7fbf37ccb3c8>,\n",
       " 'ever': <gensim.models.keyedvectors.Vocab at 0x7fbf37ccb438>,\n",
       " 'experience': <gensim.models.keyedvectors.Vocab at 0x7fbf37ccb470>,\n",
       " 'playing': <gensim.models.keyedvectors.Vocab at 0x7fbf37ccb4e0>,\n",
       " 'name': <gensim.models.keyedvectors.Vocab at 0x7fbf37ccb550>,\n",
       " 'possible': <gensim.models.keyedvectors.Vocab at 0x7fbf37ccb588>,\n",
       " 'countries': <gensim.models.keyedvectors.Vocab at 0x7fbf37ccb5c0>,\n",
       " 'Mr.': <gensim.models.keyedvectors.Vocab at 0x7fbf37ccb630>,\n",
       " 'average': <gensim.models.keyedvectors.Vocab at 0x7fbf37ccb6a0>,\n",
       " 'together': <gensim.models.keyedvectors.Vocab at 0x7fbf37ccb6d8>,\n",
       " 'using': <gensim.models.keyedvectors.Vocab at 0x7fbf37ccb748>,\n",
       " '9': <gensim.models.keyedvectors.Vocab at 0x7fbf37ccb780>,\n",
       " 'cut': <gensim.models.keyedvectors.Vocab at 0x7fbf37ccb7f0>,\n",
       " 'While': <gensim.models.keyedvectors.Vocab at 0x7fbf37ccb860>,\n",
       " 'total': <gensim.models.keyedvectors.Vocab at 0x7fbf37ccb8d0>,\n",
       " 'round': <gensim.models.keyedvectors.Vocab at 0x7fbf37ccb940>,\n",
       " 'young': <gensim.models.keyedvectors.Vocab at 0x7fbf37ccb9b0>,\n",
       " 'nearly': <gensim.models.keyedvectors.Vocab at 0x7fbf37ccba20>,\n",
       " 'shares': <gensim.models.keyedvectors.Vocab at 0x7fbf37ccba90>,\n",
       " 'member': <gensim.models.keyedvectors.Vocab at 0x7fbf37ccbb00>,\n",
       " 'campaign': <gensim.models.keyedvectors.Vocab at 0x7fbf37ccbb38>,\n",
       " 'media': <gensim.models.keyedvectors.Vocab at 0x7fbf37ccbba8>,\n",
       " 'needs': <gensim.models.keyedvectors.Vocab at 0x7fbf37ccbc18>,\n",
       " 'why': <gensim.models.keyedvectors.Vocab at 0x7fbf37ccbc88>,\n",
       " 'house': <gensim.models.keyedvectors.Vocab at 0x7fbf37ccbcf8>,\n",
       " 'issues': <gensim.models.keyedvectors.Vocab at 0x7fbf37ccbd68>,\n",
       " 'costs': <gensim.models.keyedvectors.Vocab at 0x7fbf37ccbdd8>,\n",
       " 'fire': <gensim.models.keyedvectors.Vocab at 0x7fbf37ccbe48>,\n",
       " '##-#': <gensim.models.keyedvectors.Vocab at 0x7fbf37ccbeb8>,\n",
       " 'victory': <gensim.models.keyedvectors.Vocab at 0x7fbf37ccbf28>,\n",
       " 'player': <gensim.models.keyedvectors.Vocab at 0x7fbf37ccbf98>,\n",
       " 'began': <gensim.models.keyedvectors.Vocab at 0x7fbf37ccf048>,\n",
       " 'sure': <gensim.models.keyedvectors.Vocab at 0x7fbf37ccf0b8>,\n",
       " 'story': <gensim.models.keyedvectors.Vocab at 0x7fbf37ccf128>,\n",
       " 'per_cent': <gensim.models.keyedvectors.Vocab at 0x7fbf37ccf160>,\n",
       " 'North': <gensim.models.keyedvectors.Vocab at 0x7fbf37ccf1d0>,\n",
       " 'His': <gensim.models.keyedvectors.Vocab at 0x7fbf37ccf240>,\n",
       " 'staff': <gensim.models.keyedvectors.Vocab at 0x7fbf37ccf2b0>,\n",
       " 'order': <gensim.models.keyedvectors.Vocab at 0x7fbf37ccf320>,\n",
       " 'war': <gensim.models.keyedvectors.Vocab at 0x7fbf37ccf390>,\n",
       " 'large': <gensim.models.keyedvectors.Vocab at 0x7fbf37ccf400>,\n",
       " 'interest': <gensim.models.keyedvectors.Vocab at 0x7fbf37ccf438>,\n",
       " 'stock': <gensim.models.keyedvectors.Vocab at 0x7fbf37ccf4a8>,\n",
       " 'food': <gensim.models.keyedvectors.Vocab at 0x7fbf37ccf518>,\n",
       " 'research': <gensim.models.keyedvectors.Vocab at 0x7fbf37ccf550>,\n",
       " 'key': <gensim.models.keyedvectors.Vocab at 0x7fbf37ccf5c0>,\n",
       " 'India': <gensim.models.keyedvectors.Vocab at 0x7fbf37ccf630>,\n",
       " 'South': <gensim.models.keyedvectors.Vocab at 0x7fbf37ccf6a0>,\n",
       " 'morning': <gensim.models.keyedvectors.Vocab at 0x7fbf37ccf710>,\n",
       " 'conference': <gensim.models.keyedvectors.Vocab at 0x7fbf37ccf748>,\n",
       " 'senior': <gensim.models.keyedvectors.Vocab at 0x7fbf37ccf7b8>,\n",
       " 'global': <gensim.models.keyedvectors.Vocab at 0x7fbf37ccf828>,\n",
       " 'Center': <gensim.models.keyedvectors.Vocab at 0x7fbf37ccf898>,\n",
       " 'death': <gensim.models.keyedvectors.Vocab at 0x7fbf37ccf908>,\n",
       " 'person': <gensim.models.keyedvectors.Vocab at 0x7fbf37ccf978>,\n",
       " 'thought': <gensim.models.keyedvectors.Vocab at 0x7fbf37ccf9e8>,\n",
       " 'gave': <gensim.models.keyedvectors.Vocab at 0x7fbf37ccfa58>,\n",
       " 'feel': <gensim.models.keyedvectors.Vocab at 0x7fbf37ccfac8>,\n",
       " 'energy': <gensim.models.keyedvectors.Vocab at 0x7fbf37ccfb38>,\n",
       " 'history': <gensim.models.keyedvectors.Vocab at 0x7fbf37ccfba8>,\n",
       " 'recently': <gensim.models.keyedvectors.Vocab at 0x7fbf37ccfbe0>,\n",
       " 'largest': <gensim.models.keyedvectors.Vocab at 0x7fbf37ccfc50>,\n",
       " 'No.': <gensim.models.keyedvectors.Vocab at 0x7fbf37ccfcc0>,\n",
       " 'general': <gensim.models.keyedvectors.Vocab at 0x7fbf37ccfd30>,\n",
       " 'official': <gensim.models.keyedvectors.Vocab at 0x7fbf37ccfd68>,\n",
       " 'released': <gensim.models.keyedvectors.Vocab at 0x7fbf37ccfda0>,\n",
       " 'wanted': <gensim.models.keyedvectors.Vocab at 0x7fbf37ccfe10>,\n",
       " 'meet': <gensim.models.keyedvectors.Vocab at 0x7fbf37ccfe80>,\n",
       " 'short': <gensim.models.keyedvectors.Vocab at 0x7fbf37ccfef0>,\n",
       " 'outside': <gensim.models.keyedvectors.Vocab at 0x7fbf37ccff60>,\n",
       " 'running': <gensim.models.keyedvectors.Vocab at 0x7fbf37ccffd0>,\n",
       " 'live': <gensim.models.keyedvectors.Vocab at 0x7fbf37cd1080>,\n",
       " 'ball': <gensim.models.keyedvectors.Vocab at 0x7fbf37cd10f0>,\n",
       " 'online': <gensim.models.keyedvectors.Vocab at 0x7fbf37cd1160>,\n",
       " 'real': <gensim.models.keyedvectors.Vocab at 0x7fbf37cd11d0>,\n",
       " 'position': <gensim.models.keyedvectors.Vocab at 0x7fbf37cd1208>,\n",
       " 'fact': <gensim.models.keyedvectors.Vocab at 0x7fbf37cd1278>,\n",
       " 'fell': <gensim.models.keyedvectors.Vocab at 0x7fbf37cd12e8>,\n",
       " 'nine': <gensim.models.keyedvectors.Vocab at 0x7fbf37cd1358>,\n",
       " 'December': <gensim.models.keyedvectors.Vocab at 0x7fbf37cd1390>,\n",
       " 'front': <gensim.models.keyedvectors.Vocab at 0x7fbf37cd1400>,\n",
       " 'action': <gensim.models.keyedvectors.Vocab at 0x7fbf37cd1470>,\n",
       " 'defense': <gensim.models.keyedvectors.Vocab at 0x7fbf37cd14e0>,\n",
       " 'problem': <gensim.models.keyedvectors.Vocab at 0x7fbf37cd1550>,\n",
       " 'problems': <gensim.models.keyedvectors.Vocab at 0x7fbf37cd1588>,\n",
       " 'Mr': <gensim.models.keyedvectors.Vocab at 0x7fbf37cd15f8>,\n",
       " 'nation': <gensim.models.keyedvectors.Vocab at 0x7fbf37cd1668>,\n",
       " 'needed': <gensim.models.keyedvectors.Vocab at 0x7fbf37cd16d8>,\n",
       " 'special': <gensim.models.keyedvectors.Vocab at 0x7fbf37cd1748>,\n",
       " 'January': <gensim.models.keyedvectors.Vocab at 0x7fbf37cd17b8>,\n",
       " 'almost': <gensim.models.keyedvectors.Vocab at 0x7fbf37cd1828>,\n",
       " 'chance': <gensim.models.keyedvectors.Vocab at 0x7fbf37cd1898>,\n",
       " \"'d\": <gensim.models.keyedvectors.Vocab at 0x7fbf37cd1908>,\n",
       " 'result': <gensim.models.keyedvectors.Vocab at 0x7fbf37cd1978>,\n",
       " 'West': <gensim.models.keyedvectors.Vocab at 0x7fbf37cd19e8>,\n",
       " 'September': <gensim.models.keyedvectors.Vocab at 0x7fbf37cd1a20>,\n",
       " 'reports': <gensim.models.keyedvectors.Vocab at 0x7fbf37cd1a90>,\n",
       " 'leader': <gensim.models.keyedvectors.Vocab at 0x7fbf37cd1b00>,\n",
       " 'investment': <gensim.models.keyedvectors.Vocab at 0x7fbf37cd1b38>,\n",
       " 'yesterday': <gensim.models.keyedvectors.Vocab at 0x7fbf37cd1b70>,\n",
       " 'Some': <gensim.models.keyedvectors.Vocab at 0x7fbf37cd1be0>,\n",
       " 'leaders': <gensim.models.keyedvectors.Vocab at 0x7fbf37cd1c50>,\n",
       " 'ahead': <gensim.models.keyedvectors.Vocab at 0x7fbf37cd1cc0>,\n",
       " 'production': <gensim.models.keyedvectors.Vocab at 0x7fbf37cd1cf8>,\n",
       " 'comes': <gensim.models.keyedvectors.Vocab at 0x7fbf37cd1d68>,\n",
       " 'No': <gensim.models.keyedvectors.Vocab at 0x7fbf37cd1dd8>,\n",
       " 'runs': <gensim.models.keyedvectors.Vocab at 0x7fbf37cd1e48>,\n",
       " 'match': <gensim.models.keyedvectors.Vocab at 0x7fbf37cd1eb8>,\n",
       " 'role': <gensim.models.keyedvectors.Vocab at 0x7fbf37cd1f28>,\n",
       " 'kind': <gensim.models.keyedvectors.Vocab at 0x7fbf37cd1f98>,\n",
       " 'try': <gensim.models.keyedvectors.Vocab at 0x7fbf37cd4048>,\n",
       " 'ended': <gensim.models.keyedvectors.Vocab at 0x7fbf37cd40b8>,\n",
       " 'risk': <gensim.models.keyedvectors.Vocab at 0x7fbf37cd4128>,\n",
       " 'areas': <gensim.models.keyedvectors.Vocab at 0x7fbf37cd4198>,\n",
       " 'election': <gensim.models.keyedvectors.Vocab at 0x7fbf37cd41d0>,\n",
       " 'workers': <gensim.models.keyedvectors.Vocab at 0x7fbf37cd4240>,\n",
       " 'visit': <gensim.models.keyedvectors.Vocab at 0x7fbf37cd42b0>,\n",
       " 'bring': <gensim.models.keyedvectors.Vocab at 0x7fbf37cd4320>,\n",
       " 'road': <gensim.models.keyedvectors.Vocab at 0x7fbf37cd4390>,\n",
       " 'music': <gensim.models.keyedvectors.Vocab at 0x7fbf37cd4400>,\n",
       " 'study': <gensim.models.keyedvectors.Vocab at 0x7fbf37cd4470>,\n",
       " 'makes': <gensim.models.keyedvectors.Vocab at 0x7fbf37cd44e0>,\n",
       " 'often': <gensim.models.keyedvectors.Vocab at 0x7fbf37cd4550>,\n",
       " 'release': <gensim.models.keyedvectors.Vocab at 0x7fbf37cd45c0>,\n",
       " 'woman': <gensim.models.keyedvectors.Vocab at 0x7fbf37cd4630>,\n",
       " 'vote': <gensim.models.keyedvectors.Vocab at 0x7fbf37cd46a0>,\n",
       " 'care': <gensim.models.keyedvectors.Vocab at 0x7fbf37cd4710>,\n",
       " 'town': <gensim.models.keyedvectors.Vocab at 0x7fbf37cd4780>,\n",
       " 'clear': <gensim.models.keyedvectors.Vocab at 0x7fbf37cd47f0>,\n",
       " 'comment': <gensim.models.keyedvectors.Vocab at 0x7fbf37cd4860>,\n",
       " 'budget': <gensim.models.keyedvectors.Vocab at 0x7fbf37cd48d0>,\n",
       " 'potential': <gensim.models.keyedvectors.Vocab at 0x7fbf37cd4908>,\n",
       " 'single': <gensim.models.keyedvectors.Vocab at 0x7fbf37cd4978>,\n",
       " 'markets': <gensim.models.keyedvectors.Vocab at 0x7fbf37cd49e8>,\n",
       " 'policy': <gensim.models.keyedvectors.Vocab at 0x7fbf37cd4a58>,\n",
       " 'capital': <gensim.models.keyedvectors.Vocab at 0x7fbf37cd4ac8>,\n",
       " 'saw': <gensim.models.keyedvectors.Vocab at 0x7fbf37cd4b38>,\n",
       " 'access': <gensim.models.keyedvectors.Vocab at 0x7fbf37cd4ba8>,\n",
       " 'weekend': <gensim.models.keyedvectors.Vocab at 0x7fbf37cd4c18>,\n",
       " 'operations': <gensim.models.keyedvectors.Vocab at 0x7fbf37cd4c50>,\n",
       " 'whose': <gensim.models.keyedvectors.Vocab at 0x7fbf37cd4cc0>,\n",
       " 'net': <gensim.models.keyedvectors.Vocab at 0x7fbf37cd4d30>,\n",
       " 'House': <gensim.models.keyedvectors.Vocab at 0x7fbf37cd4da0>,\n",
       " 'hand': <gensim.models.keyedvectors.Vocab at 0x7fbf37cd4e10>,\n",
       " 'increased': <gensim.models.keyedvectors.Vocab at 0x7fbf37cd4e48>,\n",
       " 'charges': <gensim.models.keyedvectors.Vocab at 0x7fbf37cd4eb8>,\n",
       " 'winning': <gensim.models.keyedvectors.Vocab at 0x7fbf37cd4f28>,\n",
       " 'trade': <gensim.models.keyedvectors.Vocab at 0x7fbf37cd4f98>,\n",
       " 'These': <gensim.models.keyedvectors.Vocab at 0x7fbf37cd6048>,\n",
       " 'income': <gensim.models.keyedvectors.Vocab at 0x7fbf37cd60b8>,\n",
       " 'value': <gensim.models.keyedvectors.Vocab at 0x7fbf37cd6128>,\n",
       " 'involved': <gensim.models.keyedvectors.Vocab at 0x7fbf37cd6160>,\n",
       " 'Bank': <gensim.models.keyedvectors.Vocab at 0x7fbf37cd61d0>,\n",
       " 'November': <gensim.models.keyedvectors.Vocab at 0x7fbf37cd6208>,\n",
       " 'bill': <gensim.models.keyedvectors.Vocab at 0x7fbf37cd6278>,\n",
       " 'compared': <gensim.models.keyedvectors.Vocab at 0x7fbf37cd62b0>,\n",
       " 'anything': <gensim.models.keyedvectors.Vocab at 0x7fbf37cd62e8>,\n",
       " 'manager': <gensim.models.keyedvectors.Vocab at 0x7fbf37cd6358>,\n",
       " 'Texas': <gensim.models.keyedvectors.Vocab at 0x7fbf37cd63c8>,\n",
       " 'property': <gensim.models.keyedvectors.Vocab at 0x7fbf37cd6400>,\n",
       " 'stop': <gensim.models.keyedvectors.Vocab at 0x7fbf37cd6470>,\n",
       " 'annual': <gensim.models.keyedvectors.Vocab at 0x7fbf37cd64e0>,\n",
       " 'private': <gensim.models.keyedvectors.Vocab at 0x7fbf37cd6550>,\n",
       " 'contract': <gensim.models.keyedvectors.Vocab at 0x7fbf37cd6588>,\n",
       " 'died': <gensim.models.keyedvectors.Vocab at 0x7fbf37cd65f8>,\n",
       " 'Now': <gensim.models.keyedvectors.Vocab at 0x7fbf37cd6668>,\n",
       " 'hope': <gensim.models.keyedvectors.Vocab at 0x7fbf37cd66d8>,\n",
       " 'product': <gensim.models.keyedvectors.Vocab at 0x7fbf37cd6748>,\n",
       " 'fans': <gensim.models.keyedvectors.Vocab at 0x7fbf37cd67b8>,\n",
       " 'lower': <gensim.models.keyedvectors.Vocab at 0x7fbf37cd6828>,\n",
       " 'demand': <gensim.models.keyedvectors.Vocab at 0x7fbf37cd6898>,\n",
       " 'News': <gensim.models.keyedvectors.Vocab at 0x7fbf37cd6908>,\n",
       " 'David': <gensim.models.keyedvectors.Vocab at 0x7fbf37cd6978>,\n",
       " 'club': <gensim.models.keyedvectors.Vocab at 0x7fbf37cd69e8>,\n",
       " 'comments': <gensim.models.keyedvectors.Vocab at 0x7fbf37cd6a20>,\n",
       " 'film': <gensim.models.keyedvectors.Vocab at 0x7fbf37cd6a90>,\n",
       " 'yards': <gensim.models.keyedvectors.Vocab at 0x7fbf37cd6b00>,\n",
       " 'quality': <gensim.models.keyedvectors.Vocab at 0x7fbf37cd6b70>,\n",
       " 'currently': <gensim.models.keyedvectors.Vocab at 0x7fbf37cd6ba8>,\n",
       " 'events': <gensim.models.keyedvectors.Vocab at 0x7fbf37cd6c18>,\n",
       " 'addition': <gensim.models.keyedvectors.Vocab at 0x7fbf37cd6c50>,\n",
       " 'couple': <gensim.models.keyedvectors.Vocab at 0x7fbf37cd6cc0>,\n",
       " 'schools': <gensim.models.keyedvectors.Vocab at 0x7fbf37cd6d30>,\n",
       " 'attack': <gensim.models.keyedvectors.Vocab at 0x7fbf37cd6da0>,\n",
       " 'region': <gensim.models.keyedvectors.Vocab at 0x7fbf37cd6e10>,\n",
       " 'latest': <gensim.models.keyedvectors.Vocab at 0x7fbf37cd6e80>,\n",
       " 'opportunity': <gensim.models.keyedvectors.Vocab at 0x7fbf37cd6eb8>,\n",
       " 'worked': <gensim.models.keyedvectors.Vocab at 0x7fbf37cd6f28>,\n",
       " 'course': <gensim.models.keyedvectors.Vocab at 0x7fbf37cd6f98>,\n",
       " 'bad': <gensim.models.keyedvectors.Vocab at 0x7fbf37cda048>,\n",
       " 'fall': <gensim.models.keyedvectors.Vocab at 0x7fbf37cda0b8>,\n",
       " 'Group': <gensim.models.keyedvectors.Vocab at 0x7fbf37cda128>,\n",
       " 'October': <gensim.models.keyedvectors.Vocab at 0x7fbf37cda198>,\n",
       " 'jobs': <gensim.models.keyedvectors.Vocab at 0x7fbf37cda208>,\n",
       " 'list': <gensim.models.keyedvectors.Vocab at 0x7fbf37cda278>,\n",
       " 'let': <gensim.models.keyedvectors.Vocab at 0x7fbf37cda2e8>,\n",
       " 'however': <gensim.models.keyedvectors.Vocab at 0x7fbf37cda358>,\n",
       " 'chief': <gensim.models.keyedvectors.Vocab at 0x7fbf37cda3c8>,\n",
       " 'summer': <gensim.models.keyedvectors.Vocab at 0x7fbf37cda438>,\n",
       " 'programs': <gensim.models.keyedvectors.Vocab at 0x7fbf37cda470>,\n",
       " 'According': <gensim.models.keyedvectors.Vocab at 0x7fbf37cda4a8>,\n",
       " 'revenue': <gensim.models.keyedvectors.Vocab at 0x7fbf37cda518>,\n",
       " 'Our': <gensim.models.keyedvectors.Vocab at 0x7fbf37cda588>,\n",
       " 'rose': <gensim.models.keyedvectors.Vocab at 0x7fbf37cda5f8>,\n",
       " 'previous': <gensim.models.keyedvectors.Vocab at 0x7fbf37cda630>,\n",
       " 'TV': <gensim.models.keyedvectors.Vocab at 0x7fbf37cda6a0>,\n",
       " 'football': <gensim.models.keyedvectors.Vocab at 0x7fbf37cda6d8>,\n",
       " 'biggest': <gensim.models.keyedvectors.Vocab at 0x7fbf37cda748>,\n",
       " 'employees': <gensim.models.keyedvectors.Vocab at 0x7fbf37cda780>,\n",
       " 'changes': <gensim.models.keyedvectors.Vocab at 0x7fbf37cda7f0>,\n",
       " 'residents': <gensim.models.keyedvectors.Vocab at 0x7fbf37cda828>,\n",
       " 'means': <gensim.models.keyedvectors.Vocab at 0x7fbf37cda898>,\n",
       " 'agreement': <gensim.models.keyedvectors.Vocab at 0x7fbf37cda8d0>,\n",
       " 'includes': <gensim.models.keyedvectors.Vocab at 0x7fbf37cda908>,\n",
       " 'post': <gensim.models.keyedvectors.Vocab at 0x7fbf37cda978>,\n",
       " 'Canada': <gensim.models.keyedvectors.Vocab at 0x7fbf37cda9e8>,\n",
       " 'probably': <gensim.models.keyedvectors.Vocab at 0x7fbf37cdaa20>,\n",
       " 'related': <gensim.models.keyedvectors.Vocab at 0x7fbf37cdaa90>,\n",
       " 'training': <gensim.models.keyedvectors.Vocab at 0x7fbf37cdaac8>,\n",
       " 'allowed': <gensim.models.keyedvectors.Vocab at 0x7fbf37cdab38>,\n",
       " 'class': <gensim.models.keyedvectors.Vocab at 0x7fbf37cdaba8>,\n",
       " 'bit': <gensim.models.keyedvectors.Vocab at 0x7fbf37cdac18>,\n",
       " 'video': <gensim.models.keyedvectors.Vocab at 0x7fbf37cdac88>,\n",
       " 'Michael': <gensim.models.keyedvectors.Vocab at 0x7fbf37cdacf8>,\n",
       " 'An': <gensim.models.keyedvectors.Vocab at 0x7fbf37cdad68>,\n",
       " 'sent': <gensim.models.keyedvectors.Vocab at 0x7fbf37cdadd8>,\n",
       " 'education': <gensim.models.keyedvectors.Vocab at 0x7fbf37cdae10>,\n",
       " 'states': <gensim.models.keyedvectors.Vocab at 0x7fbf37cdae80>,\n",
       " 'straight': <gensim.models.keyedvectors.Vocab at 0x7fbf37cdaeb8>,\n",
       " 'love': <gensim.models.keyedvectors.Vocab at 0x7fbf37cdaf28>,\n",
       " 'beat': <gensim.models.keyedvectors.Vocab at 0x7fbf37cdaf98>,\n",
       " 'hold': <gensim.models.keyedvectors.Vocab at 0x7fbf37cdd048>,\n",
       " 'turn': <gensim.models.keyedvectors.Vocab at 0x7fbf37cdd0b8>,\n",
       " 'finished': <gensim.models.keyedvectors.Vocab at 0x7fbf37cdd0f0>,\n",
       " 'network': <gensim.models.keyedvectors.Vocab at 0x7fbf37cdd160>,\n",
       " 'Smith': <gensim.models.keyedvectors.Vocab at 0x7fbf37cdd1d0>,\n",
       " 'buy': <gensim.models.keyedvectors.Vocab at 0x7fbf37cdd240>,\n",
       " 'foreign': <gensim.models.keyedvectors.Vocab at 0x7fbf37cdd2b0>,\n",
       " 'especially': <gensim.models.keyedvectors.Vocab at 0x7fbf37cdd2e8>,\n",
       " 'groups': <gensim.models.keyedvectors.Vocab at 0x7fbf37cdd358>,\n",
       " 'wants': <gensim.models.keyedvectors.Vocab at 0x7fbf37cdd3c8>,\n",
       " 'title': <gensim.models.keyedvectors.Vocab at 0x7fbf37cdd438>,\n",
       " 'included': <gensim.models.keyedvectors.Vocab at 0x7fbf37cdd470>,\n",
       " 'turned': <gensim.models.keyedvectors.Vocab at 0x7fbf37cdd4e0>,\n",
       " 'bank': <gensim.models.keyedvectors.Vocab at 0x7fbf37cdd550>,\n",
       " 'Florida': <gensim.models.keyedvectors.Vocab at 0x7fbf37cdd5c0>,\n",
       " 'efforts': <gensim.models.keyedvectors.Vocab at 0x7fbf37cdd630>,\n",
       " 'personal': <gensim.models.keyedvectors.Vocab at 0x7fbf37cdd668>,\n",
       " 'businesses': <gensim.models.keyedvectors.Vocab at 0x7fbf37cdd6a0>,\n",
       " 'August': <gensim.models.keyedvectors.Vocab at 0x7fbf37cdd710>,\n",
       " 'California': <gensim.models.keyedvectors.Vocab at 0x7fbf37cdd748>,\n",
       " 'situation': <gensim.models.keyedvectors.Vocab at 0x7fbf37cdd780>,\n",
       " 'district': <gensim.models.keyedvectors.Vocab at 0x7fbf37cdd7b8>,\n",
       " 'allow': <gensim.models.keyedvectors.Vocab at 0x7fbf37cdd828>,\n",
       " 'helped': <gensim.models.keyedvectors.Vocab at 0x7fbf37cdd898>,\n",
       " 'body': <gensim.models.keyedvectors.Vocab at 0x7fbf37cdd908>,\n",
       " 'nothing': <gensim.models.keyedvectors.Vocab at 0x7fbf37cdd978>,\n",
       " 'soon': <gensim.models.keyedvectors.Vocab at 0x7fbf37cdd9e8>,\n",
       " 'safety': <gensim.models.keyedvectors.Vocab at 0x7fbf37cdda58>,\n",
       " 'officer': <gensim.models.keyedvectors.Vocab at 0x7fbf37cddac8>,\n",
       " 'cents': <gensim.models.keyedvectors.Vocab at 0x7fbf37cddb38>,\n",
       " 'Europe': <gensim.models.keyedvectors.Vocab at 0x7fbf37cddba8>,\n",
       " 'St.': <gensim.models.keyedvectors.Vocab at 0x7fbf37cddc18>,\n",
       " 'additional': <gensim.models.keyedvectors.Vocab at 0x7fbf37cddc50>,\n",
       " 'spokesman': <gensim.models.keyedvectors.Vocab at 0x7fbf37cddc88>,\n",
       " 'February': <gensim.models.keyedvectors.Vocab at 0x7fbf37cddcc0>,\n",
       " 'wife': <gensim.models.keyedvectors.Vocab at 0x7fbf37cddd30>,\n",
       " 'showed': <gensim.models.keyedvectors.Vocab at 0x7fbf37cddda0>,\n",
       " 'leave': <gensim.models.keyedvectors.Vocab at 0x7fbf37cdde10>,\n",
       " 'investors': <gensim.models.keyedvectors.Vocab at 0x7fbf37cdde48>,\n",
       " 'parents': <gensim.models.keyedvectors.Vocab at 0x7fbf37cddeb8>,\n",
       " 'medical': <gensim.models.keyedvectors.Vocab at 0x7fbf37cddf28>,\n",
       " 'spending': <gensim.models.keyedvectors.Vocab at 0x7fbf37cddf60>,\n",
       " 'non': <gensim.models.keyedvectors.Vocab at 0x7fbf37cddfd0>,\n",
       " 'London': <gensim.models.keyedvectors.Vocab at 0x7fbf37cdf080>,\n",
       " 'Council': <gensim.models.keyedvectors.Vocab at 0x7fbf37cdf0f0>,\n",
       " 'matter': <gensim.models.keyedvectors.Vocab at 0x7fbf37cdf160>,\n",
       " 'spent': <gensim.models.keyedvectors.Vocab at 0x7fbf37cdf1d0>,\n",
       " 'child': <gensim.models.keyedvectors.Vocab at 0x7fbf37cdf240>,\n",
       " 'World': <gensim.models.keyedvectors.Vocab at 0x7fbf37cdf2b0>,\n",
       " 'effort': <gensim.models.keyedvectors.Vocab at 0x7fbf37cdf320>,\n",
       " 'opening': <gensim.models.keyedvectors.Vocab at 0x7fbf37cdf390>,\n",
       " 'either': <gensim.models.keyedvectors.Vocab at 0x7fbf37cdf400>,\n",
       " 'range': <gensim.models.keyedvectors.Vocab at 0x7fbf37cdf470>,\n",
       " 'question': <gensim.models.keyedvectors.Vocab at 0x7fbf37cdf4a8>,\n",
       " 'European': <gensim.models.keyedvectors.Vocab at 0x7fbf37cdf4e0>,\n",
       " 'goals': <gensim.models.keyedvectors.Vocab at 0x7fbf37cdf550>,\n",
       " 'administration': <gensim.models.keyedvectors.Vocab at 0x7fbf37cdf588>,\n",
       " 'friends': <gensim.models.keyedvectors.Vocab at 0x7fbf37cdf5f8>,\n",
       " 'himself': <gensim.models.keyedvectors.Vocab at 0x7fbf37cdf668>,\n",
       " 'shows': <gensim.models.keyedvectors.Vocab at 0x7fbf37cdf6d8>,\n",
       " 'difficult': <gensim.models.keyedvectors.Vocab at 0x7fbf37cdf710>,\n",
       " 'kids': <gensim.models.keyedvectors.Vocab at 0x7fbf37cdf780>,\n",
       " 'paid': <gensim.models.keyedvectors.Vocab at 0x7fbf37cdf7f0>,\n",
       " 'create': <gensim.models.keyedvectors.Vocab at 0x7fbf37cdf860>,\n",
       " 'cash': <gensim.models.keyedvectors.Vocab at 0x7fbf37cdf8d0>,\n",
       " 'age': <gensim.models.keyedvectors.Vocab at 0x7fbf37cdf940>,\n",
       " 'league': <gensim.models.keyedvectors.Vocab at 0x7fbf37cdf9b0>,\n",
       " 'form': <gensim.models.keyedvectors.Vocab at 0x7fbf37cdfa20>,\n",
       " 'impact': <gensim.models.keyedvectors.Vocab at 0x7fbf37cdfa90>,\n",
       " 'drive': <gensim.models.keyedvectors.Vocab at 0x7fbf37cdfb00>,\n",
       " 'someone': <gensim.models.keyedvectors.Vocab at 0x7fbf37cdfb70>,\n",
       " 'became': <gensim.models.keyedvectors.Vocab at 0x7fbf37cdfbe0>,\n",
       " 'stay': <gensim.models.keyedvectors.Vocab at 0x7fbf37cdfc50>,\n",
       " 'fight': <gensim.models.keyedvectors.Vocab at 0x7fbf37cdfcc0>,\n",
       " 'significant': <gensim.models.keyedvectors.Vocab at 0x7fbf37cdfcf8>,\n",
       " 'firm': <gensim.models.keyedvectors.Vocab at 0x7fbf37cdfd68>,\n",
       " 'Senate': <gensim.models.keyedvectors.Vocab at 0x7fbf37cdfdd8>,\n",
       " 'hospital': <gensim.models.keyedvectors.Vocab at 0x7fbf37cdfe10>,\n",
       " 'charged': <gensim.models.keyedvectors.Vocab at 0x7fbf37cdfe80>,\n",
       " 'operating': <gensim.models.keyedvectors.Vocab at 0x7fbf37cdfeb8>,\n",
       " 'main': <gensim.models.keyedvectors.Vocab at 0x7fbf37cdff28>,\n",
       " 'book': <gensim.models.keyedvectors.Vocab at 0x7fbf37cdff98>,\n",
       " 'success': <gensim.models.keyedvectors.Vocab at 0x7fbf37ce3048>,\n",
       " 'son': <gensim.models.keyedvectors.Vocab at 0x7fbf37ce30b8>,\n",
       " 'trading': <gensim.models.keyedvectors.Vocab at 0x7fbf37ce3128>,\n",
       " '###-####': <gensim.models.keyedvectors.Vocab at 0x7fbf37ce3160>,\n",
       " 'focus': <gensim.models.keyedvectors.Vocab at 0x7fbf37ce31d0>,\n",
       " 'room': <gensim.models.keyedvectors.Vocab at 0x7fbf37ce3240>,\n",
       " 'continued': <gensim.models.keyedvectors.Vocab at 0x7fbf37ce3278>,\n",
       " 'Congress': <gensim.models.keyedvectors.Vocab at 0x7fbf37ce32b0>,\n",
       " 'everything': <gensim.models.keyedvectors.Vocab at 0x7fbf37ce32e8>,\n",
       " 'Park': <gensim.models.keyedvectors.Vocab at 0x7fbf37ce3358>,\n",
       " 'agency': <gensim.models.keyedvectors.Vocab at 0x7fbf37ce33c8>,\n",
       " 'brought': <gensim.models.keyedvectors.Vocab at 0x7fbf37ce3438>,\n",
       " 'talk': <gensim.models.keyedvectors.Vocab at 0x7fbf37ce34a8>,\n",
       " 'break': <gensim.models.keyedvectors.Vocab at 0x7fbf37ce3518>,\n",
       " 'air': <gensim.models.keyedvectors.Vocab at 0x7fbf37ce3588>,\n",
       " 'software': <gensim.models.keyedvectors.Vocab at 0x7fbf37ce35c0>,\n",
       " 'decided': <gensim.models.keyedvectors.Vocab at 0x7fbf37ce3630>,\n",
       " 'Do': <gensim.models.keyedvectors.Vocab at 0x7fbf37ce36a0>,\n",
       " 'ready': <gensim.models.keyedvectors.Vocab at 0x7fbf37ce3710>,\n",
       " 'arrested': <gensim.models.keyedvectors.Vocab at 0x7fbf37ce3748>,\n",
       " 'track': <gensim.models.keyedvectors.Vocab at 0x7fbf37ce37b8>,\n",
       " 'provides': <gensim.models.keyedvectors.Vocab at 0x7fbf37ce37f0>,\n",
       " 'mother': <gensim.models.keyedvectors.Vocab at 0x7fbf37ce3860>,\n",
       " 'base': <gensim.models.keyedvectors.Vocab at 0x7fbf37ce38d0>,\n",
       " 'trial': <gensim.models.keyedvectors.Vocab at 0x7fbf37ce3940>,\n",
       " 'phone': <gensim.models.keyedvectors.Vocab at 0x7fbf37ce39b0>,\n",
       " 'My': <gensim.models.keyedvectors.Vocab at 0x7fbf37ce3a20>,\n",
       " 'build': <gensim.models.keyedvectors.Vocab at 0x7fbf37ce3a90>,\n",
       " 'conditions': <gensim.models.keyedvectors.Vocab at 0x7fbf37ce3ac8>,\n",
       " 'rest': <gensim.models.keyedvectors.Vocab at 0x7fbf37ce3b38>,\n",
       " 'Johnson': <gensim.models.keyedvectors.Vocab at 0x7fbf37ce3ba8>,\n",
       " 'terms': <gensim.models.keyedvectors.Vocab at 0x7fbf37ce3c18>,\n",
       " 'expect': <gensim.models.keyedvectors.Vocab at 0x7fbf37ce3c88>,\n",
       " 'England': <gensim.models.keyedvectors.Vocab at 0x7fbf37ce3cf8>,\n",
       " 'Israel': <gensim.models.keyedvectors.Vocab at 0x7fbf37ce3d68>,\n",
       " 'despite': <gensim.models.keyedvectors.Vocab at 0x7fbf37ce3dd8>,\n",
       " 'closed': <gensim.models.keyedvectors.Vocab at 0x7fbf37ce3e48>,\n",
       " 'starting': <gensim.models.keyedvectors.Vocab at 0x7fbf37ce3e80>,\n",
       " 'provided': <gensim.models.keyedvectors.Vocab at 0x7fbf37ce3eb8>,\n",
       " 'pressure': <gensim.models.keyedvectors.Vocab at 0x7fbf37ce3ef0>,\n",
       " 'lives': <gensim.models.keyedvectors.Vocab at 0x7fbf37ce3f60>,\n",
       " 'step': <gensim.models.keyedvectors.Vocab at 0x7fbf37ce3fd0>,\n",
       " 'remain': <gensim.models.keyedvectors.Vocab at 0x7fbf37ce6080>,\n",
       " 'similar': <gensim.models.keyedvectors.Vocab at 0x7fbf37ce60f0>,\n",
       " 'charge': <gensim.models.keyedvectors.Vocab at 0x7fbf37ce6160>,\n",
       " 'date': <gensim.models.keyedvectors.Vocab at 0x7fbf37ce61d0>,\n",
       " 'whole': <gensim.models.keyedvectors.Vocab at 0x7fbf37ce6240>,\n",
       " 'land': <gensim.models.keyedvectors.Vocab at 0x7fbf37ce62b0>,\n",
       " 'growing': <gensim.models.keyedvectors.Vocab at 0x7fbf37ce6320>,\n",
       " 'James': <gensim.models.keyedvectors.Vocab at 0x7fbf37ce6390>,\n",
       " 'Internet': <gensim.models.keyedvectors.Vocab at 0x7fbf37ce63c8>,\n",
       " 'projects': <gensim.models.keyedvectors.Vocab at 0x7fbf37ce6400>,\n",
       " 'British': <gensim.models.keyedvectors.Vocab at 0x7fbf37ce6470>,\n",
       " 'cases': <gensim.models.keyedvectors.Vocab at 0x7fbf37ce64e0>,\n",
       " 'ground': <gensim.models.keyedvectors.Vocab at 0x7fbf37ce6550>,\n",
       " 'legal': <gensim.models.keyedvectors.Vocab at 0x7fbf37ce65c0>,\n",
       " 'International': <gensim.models.keyedvectors.Vocab at 0x7fbf37ce65f8>,\n",
       " 'agreed': <gensim.models.keyedvectors.Vocab at 0x7fbf37ce6668>,\n",
       " 'tell': <gensim.models.keyedvectors.Vocab at 0x7fbf37ce66d8>,\n",
       " 'test': <gensim.models.keyedvectors.Vocab at 0x7fbf37ce6748>,\n",
       " 'everyone': <gensim.models.keyedvectors.Vocab at 0x7fbf37ce6780>,\n",
       " 'pretty': <gensim.models.keyedvectors.Vocab at 0x7fbf37ce67f0>,\n",
       " 'authorities': <gensim.models.keyedvectors.Vocab at 0x7fbf37ce6828>,\n",
       " 'Two': <gensim.models.keyedvectors.Vocab at 0x7fbf37ce6898>,\n",
       " 'above': <gensim.models.keyedvectors.Vocab at 0x7fbf37ce6908>,\n",
       " 'moved': <gensim.models.keyedvectors.Vocab at 0x7fbf37ce6978>,\n",
       " 'profit': <gensim.models.keyedvectors.Vocab at 0x7fbf37ce69e8>,\n",
       " 'throughout': <gensim.models.keyedvectors.Vocab at 0x7fbf37ce6a20>,\n",
       " 'inside': <gensim.models.keyedvectors.Vocab at 0x7fbf37ce6a90>,\n",
       " 'ability': <gensim.models.keyedvectors.Vocab at 0x7fbf37ce6b00>,\n",
       " 'overall': <gensim.models.keyedvectors.Vocab at 0x7fbf37ce6b70>,\n",
       " 'pass': <gensim.models.keyedvectors.Vocab at 0x7fbf37ce6be0>,\n",
       " 'officers': <gensim.models.keyedvectors.Vocab at 0x7fbf37ce6c18>,\n",
       " 'rather': <gensim.models.keyedvectors.Vocab at 0x7fbf37ce6c88>,\n",
       " 'Australia': <gensim.models.keyedvectors.Vocab at 0x7fbf37ce6cc0>,\n",
       " 'actually': <gensim.models.keyedvectors.Vocab at 0x7fbf37ce6cf8>,\n",
       " 'county': <gensim.models.keyedvectors.Vocab at 0x7fbf37ce6d68>,\n",
       " 'amount': <gensim.models.keyedvectors.Vocab at 0x7fbf37ce6dd8>,\n",
       " 'scheduled': <gensim.models.keyedvectors.Vocab at 0x7fbf37ce6e10>,\n",
       " 'themselves': <gensim.models.keyedvectors.Vocab at 0x7fbf37ce6e48>,\n",
       " 'organization': <gensim.models.keyedvectors.Vocab at 0x7fbf37ce6e80>,\n",
       " 'giving': <gensim.models.keyedvectors.Vocab at 0x7fbf37ce6ef0>,\n",
       " 'credit': <gensim.models.keyedvectors.Vocab at 0x7fbf37ce6f60>,\n",
       " 'father': <gensim.models.keyedvectors.Vocab at 0x7fbf37ce6fd0>,\n",
       " 'drug': <gensim.models.keyedvectors.Vocab at 0x7fbf37ce7080>,\n",
       " 'investigation': <gensim.models.keyedvectors.Vocab at 0x7fbf37ce70b8>,\n",
       " 'families': <gensim.models.keyedvectors.Vocab at 0x7fbf37ce70f0>,\n",
       " 'Republican': <gensim.models.keyedvectors.Vocab at 0x7fbf37ce7128>,\n",
       " 'funds': <gensim.models.keyedvectors.Vocab at 0x7fbf37ce7198>,\n",
       " 'patients': <gensim.models.keyedvectors.Vocab at 0x7fbf37ce71d0>,\n",
       " 'takes': <gensim.models.keyedvectors.Vocab at 0x7fbf37ce7240>,\n",
       " 'systems': <gensim.models.keyedvectors.Vocab at 0x7fbf37ce72b0>,\n",
       " 'Japan': <gensim.models.keyedvectors.Vocab at 0x7fbf37ce7320>,\n",
       " 'complete': <gensim.models.keyedvectors.Vocab at 0x7fbf37ce7358>,\n",
       " 'sold': <gensim.models.keyedvectors.Vocab at 0x7fbf37ce73c8>,\n",
       " 'practice': <gensim.models.keyedvectors.Vocab at 0x7fbf37ce7400>,\n",
       " 'calls': <gensim.models.keyedvectors.Vocab at 0x7fbf37ce7470>,\n",
       " '•': <gensim.models.keyedvectors.Vocab at 0x7fbf37ce74a8>,\n",
       " 'UK': <gensim.models.keyedvectors.Vocab at 0x7fbf37ce7518>,\n",
       " 'force': <gensim.models.keyedvectors.Vocab at 0x7fbf37ce7588>,\n",
       " 'student': <gensim.models.keyedvectors.Vocab at 0x7fbf37ce75f8>,\n",
       " 'idea': <gensim.models.keyedvectors.Vocab at 0x7fbf37ce7668>,\n",
       " 'reached': <gensim.models.keyedvectors.Vocab at 0x7fbf37ce76d8>,\n",
       " 'reason': <gensim.models.keyedvectors.Vocab at 0x7fbf37ce7748>,\n",
       " 'levels': <gensim.models.keyedvectors.Vocab at 0x7fbf37ce77b8>,\n",
       " 'space': <gensim.models.keyedvectors.Vocab at 0x7fbf37ce7828>,\n",
       " 'competition': <gensim.models.keyedvectors.Vocab at 0x7fbf37ce7860>,\n",
       " 'forces': <gensim.models.keyedvectors.Vocab at 0x7fbf37ce78d0>,\n",
       " 'sector': <gensim.models.keyedvectors.Vocab at 0x7fbf37ce7940>,\n",
       " 'Last': <gensim.models.keyedvectors.Vocab at 0x7fbf37ce79b0>,\n",
       " 'tried': <gensim.models.keyedvectors.Vocab at 0x7fbf37ce7a20>,\n",
       " 'common': <gensim.models.keyedvectors.Vocab at 0x7fbf37ce7a90>,\n",
       " 'homes': <gensim.models.keyedvectors.Vocab at 0x7fbf37ce7b00>,\n",
       " 'stage': <gensim.models.keyedvectors.Vocab at 0x7fbf37ce7b70>,\n",
       " 'department': <gensim.models.keyedvectors.Vocab at 0x7fbf37ce7ba8>,\n",
       " 'named': <gensim.models.keyedvectors.Vocab at 0x7fbf37ce7c18>,\n",
       " 'earnings': <gensim.models.keyedvectors.Vocab at 0x7fbf37ce7c50>,\n",
       " 'offers': <gensim.models.keyedvectors.Vocab at 0x7fbf37ce7cc0>,\n",
       " 'star': <gensim.models.keyedvectors.Vocab at 0x7fbf37ce7d30>,\n",
       " 'certain': <gensim.models.keyedvectors.Vocab at 0x7fbf37ce7da0>,\n",
       " 'double': <gensim.models.keyedvectors.Vocab at 0x7fbf37ce7e10>,\n",
       " 'longer': <gensim.models.keyedvectors.Vocab at 0x7fbf37ce7e80>,\n",
       " 'followed': <gensim.models.keyedvectors.Vocab at 0x7fbf37ce7eb8>,\n",
       " 'cause': <gensim.models.keyedvectors.Vocab at 0x7fbf37ce7f28>,\n",
       " 'Association': <gensim.models.keyedvectors.Vocab at 0x7fbf37ce7f60>,\n",
       " 'signed': <gensim.models.keyedvectors.Vocab at 0x7fbf37ce7fd0>,\n",
       " 'committee': <gensim.models.keyedvectors.Vocab at 0x7fbf37cec048>,\n",
       " 'hour': <gensim.models.keyedvectors.Vocab at 0x7fbf37cec0b8>,\n",
       " 'college': <gensim.models.keyedvectors.Vocab at 0x7fbf37cec128>,\n",
       " 'Pakistan': <gensim.models.keyedvectors.Vocab at 0x7fbf37cec160>,\n",
       " 'users': <gensim.models.keyedvectors.Vocab at 0x7fbf37cec1d0>,\n",
       " 'Iran': <gensim.models.keyedvectors.Vocab at 0x7fbf37cec240>,\n",
       " 'sign': <gensim.models.keyedvectors.Vocab at 0x7fbf37cec2b0>,\n",
       " 'living': <gensim.models.keyedvectors.Vocab at 0x7fbf37cec320>,\n",
       " 'failed': <gensim.models.keyedvectors.Vocab at 0x7fbf37cec390>,\n",
       " 'reach': <gensim.models.keyedvectors.Vocab at 0x7fbf37cec400>,\n",
       " 'quickly': <gensim.models.keyedvectors.Vocab at 0x7fbf37cec470>,\n",
       " 'receive': <gensim.models.keyedvectors.Vocab at 0x7fbf37cec4e0>,\n",
       " 'debt': <gensim.models.keyedvectors.Vocab at 0x7fbf37cec550>,\n",
       " 'sale': <gensim.models.keyedvectors.Vocab at 0x7fbf37cec5c0>,\n",
       " 'Board': <gensim.models.keyedvectors.Vocab at 0x7fbf37cec630>,\n",
       " 'Americans': <gensim.models.keyedvectors.Vocab at 0x7fbf37cec668>,\n",
       " 'Road': <gensim.models.keyedvectors.Vocab at 0x7fbf37cec6d8>,\n",
       " 'Brown': <gensim.models.keyedvectors.Vocab at 0x7fbf37cec748>,\n",
       " 'insurance': <gensim.models.keyedvectors.Vocab at 0x7fbf37cec780>,\n",
       " '##:##': <gensim.models.keyedvectors.Vocab at 0x7fbf37cec7f0>,\n",
       " 'anyone': <gensim.models.keyedvectors.Vocab at 0x7fbf37cec860>,\n",
       " 'tournament': <gensim.models.keyedvectors.Vocab at 0x7fbf37cec898>,\n",
       " 'More': <gensim.models.keyedvectors.Vocab at 0x7fbf37cec908>,\n",
       " 'gas': <gensim.models.keyedvectors.Vocab at 0x7fbf37cec978>,\n",
       " 'talks': <gensim.models.keyedvectors.Vocab at 0x7fbf37cec9e8>,\n",
       " 'serious': <gensim.models.keyedvectors.Vocab at 0x7fbf37ceca58>,\n",
       " 'required': <gensim.models.keyedvectors.Vocab at 0x7fbf37ceca90>,\n",
       " 'sell': <gensim.models.keyedvectors.Vocab at 0x7fbf37cecb00>,\n",
       " 'construction': <gensim.models.keyedvectors.Vocab at 0x7fbf37cecb38>,\n",
       " 'evidence': <gensim.models.keyedvectors.Vocab at 0x7fbf37cecb70>,\n",
       " 'remains': <gensim.models.keyedvectors.Vocab at 0x7fbf37cecbe0>,\n",
       " 'black': <gensim.models.keyedvectors.Vocab at 0x7fbf37cecc50>,\n",
       " 'below': <gensim.models.keyedvectors.Vocab at 0x7fbf37ceccc0>,\n",
       " 'improve': <gensim.models.keyedvectors.Vocab at 0x7fbf37cecd30>,\n",
       " 'crisis': <gensim.models.keyedvectors.Vocab at 0x7fbf37cecda0>,\n",
       " 'address': <gensim.models.keyedvectors.Vocab at 0x7fbf37cece10>,\n",
       " 'questions': <gensim.models.keyedvectors.Vocab at 0x7fbf37cece48>,\n",
       " 'easy': <gensim.models.keyedvectors.Vocab at 0x7fbf37ceceb8>,\n",
       " 'begin': <gensim.models.keyedvectors.Vocab at 0x7fbf37cecf28>,\n",
       " 'view': <gensim.models.keyedvectors.Vocab at 0x7fbf37cecf98>,\n",
       " 'School': <gensim.models.keyedvectors.Vocab at 0x7fbf37cef048>,\n",
       " 'heard': <gensim.models.keyedvectors.Vocab at 0x7fbf37cef0b8>,\n",
       " 'executive': <gensim.models.keyedvectors.Vocab at 0x7fbf37cef0f0>,\n",
       " 'raised': <gensim.models.keyedvectors.Vocab at 0x7fbf37cef160>,\n",
       " ...}"
      ]
     },
     "execution_count": 67,
     "metadata": {
      "tags": []
     },
     "output_type": "execute_result"
    }
   ],
   "source": [
    "word_vectors = model.wv\n",
    "word_vectors.vocab"
   ]
  },
  {
   "cell_type": "code",
   "execution_count": 0,
   "metadata": {
    "colab": {
     "base_uri": "https://localhost:8080/",
     "height": 400
    },
    "colab_type": "code",
    "id": "xgcXkmou8pXZ",
    "outputId": "e9a6ab2e-1062-451d-ea05-74cb3b640e77"
   },
   "outputs": [
    {
     "data": {
      "text/html": [
       "<div>\n",
       "<style scoped>\n",
       "    .dataframe tbody tr th:only-of-type {\n",
       "        vertical-align: middle;\n",
       "    }\n",
       "\n",
       "    .dataframe tbody tr th {\n",
       "        vertical-align: top;\n",
       "    }\n",
       "\n",
       "    .dataframe thead th {\n",
       "        text-align: right;\n",
       "    }\n",
       "</style>\n",
       "<table border=\"1\" class=\"dataframe\">\n",
       "  <thead>\n",
       "    <tr style=\"text-align: right;\">\n",
       "      <th></th>\n",
       "      <th>Unnamed: 0</th>\n",
       "      <th>comments</th>\n",
       "      <th>description</th>\n",
       "      <th>duration</th>\n",
       "      <th>languages</th>\n",
       "      <th>main_speaker</th>\n",
       "      <th>name</th>\n",
       "      <th>num_speaker</th>\n",
       "      <th>related_talks</th>\n",
       "      <th>speaker_occupation</th>\n",
       "      <th>tags</th>\n",
       "      <th>title</th>\n",
       "      <th>url</th>\n",
       "      <th>views</th>\n",
       "      <th>transcript</th>\n",
       "      <th>Funny</th>\n",
       "      <th>Beautiful</th>\n",
       "      <th>Ingenious</th>\n",
       "      <th>Courageous</th>\n",
       "      <th>Longwinded</th>\n",
       "      <th>Confusing</th>\n",
       "      <th>Informative</th>\n",
       "      <th>Fascinating</th>\n",
       "      <th>Unconvincing</th>\n",
       "      <th>Persuasive</th>\n",
       "      <th>Jaw-dropping</th>\n",
       "      <th>OK</th>\n",
       "      <th>Obnoxious</th>\n",
       "      <th>Inspiring</th>\n",
       "      <th>max_rating</th>\n",
       "      <th>yr</th>\n",
       "      <th>month</th>\n",
       "    </tr>\n",
       "  </thead>\n",
       "  <tbody>\n",
       "    <tr>\n",
       "      <th>0</th>\n",
       "      <td>0</td>\n",
       "      <td>4553</td>\n",
       "      <td>Sir Ken Robinson makes an entertaining and pro...</td>\n",
       "      <td>1164</td>\n",
       "      <td>60</td>\n",
       "      <td>Ken Robinson</td>\n",
       "      <td>Ken Robinson: Do schools kill creativity?</td>\n",
       "      <td>1</td>\n",
       "      <td>[{'id': 865, 'hero': 'https://pe.tedcdn.com/im...</td>\n",
       "      <td>Author/educator</td>\n",
       "      <td>['children', 'creativity', 'culture', 'dance',...</td>\n",
       "      <td>Do schools kill creativity?</td>\n",
       "      <td>https://www.ted.com/talks/ken_robinson_says_sc...</td>\n",
       "      <td>47227110</td>\n",
       "      <td>Good morning. How are you?(Laughter)It's been ...</td>\n",
       "      <td>19645</td>\n",
       "      <td>4573</td>\n",
       "      <td>6073</td>\n",
       "      <td>3253</td>\n",
       "      <td>387</td>\n",
       "      <td>242</td>\n",
       "      <td>7346</td>\n",
       "      <td>10581</td>\n",
       "      <td>300</td>\n",
       "      <td>10704</td>\n",
       "      <td>4439</td>\n",
       "      <td>1174</td>\n",
       "      <td>209</td>\n",
       "      <td>24924</td>\n",
       "      <td>Inspiring</td>\n",
       "      <td>2006</td>\n",
       "      <td>6</td>\n",
       "    </tr>\n",
       "    <tr>\n",
       "      <th>1</th>\n",
       "      <td>1</td>\n",
       "      <td>265</td>\n",
       "      <td>With the same humor and humanity he exuded in ...</td>\n",
       "      <td>977</td>\n",
       "      <td>43</td>\n",
       "      <td>Al Gore</td>\n",
       "      <td>Al Gore: Averting the climate crisis</td>\n",
       "      <td>1</td>\n",
       "      <td>[{'id': 243, 'hero': 'https://pe.tedcdn.com/im...</td>\n",
       "      <td>Climate advocate</td>\n",
       "      <td>['alternative energy', 'cars', 'climate change...</td>\n",
       "      <td>Averting the climate crisis</td>\n",
       "      <td>https://www.ted.com/talks/al_gore_on_averting_...</td>\n",
       "      <td>3200520</td>\n",
       "      <td>Thank you so much, Chris. And it's truly a gre...</td>\n",
       "      <td>544</td>\n",
       "      <td>58</td>\n",
       "      <td>56</td>\n",
       "      <td>139</td>\n",
       "      <td>113</td>\n",
       "      <td>62</td>\n",
       "      <td>443</td>\n",
       "      <td>132</td>\n",
       "      <td>258</td>\n",
       "      <td>268</td>\n",
       "      <td>116</td>\n",
       "      <td>203</td>\n",
       "      <td>131</td>\n",
       "      <td>413</td>\n",
       "      <td>Funny</td>\n",
       "      <td>2006</td>\n",
       "      <td>6</td>\n",
       "    </tr>\n",
       "    <tr>\n",
       "      <th>2</th>\n",
       "      <td>2</td>\n",
       "      <td>124</td>\n",
       "      <td>New York Times columnist David Pogue takes aim...</td>\n",
       "      <td>1286</td>\n",
       "      <td>26</td>\n",
       "      <td>David Pogue</td>\n",
       "      <td>David Pogue: Simplicity sells</td>\n",
       "      <td>1</td>\n",
       "      <td>[{'id': 1725, 'hero': 'https://pe.tedcdn.com/i...</td>\n",
       "      <td>Technology columnist</td>\n",
       "      <td>['computers', 'entertainment', 'interface desi...</td>\n",
       "      <td>Simplicity sells</td>\n",
       "      <td>https://www.ted.com/talks/david_pogue_says_sim...</td>\n",
       "      <td>1636292</td>\n",
       "      <td>(Music: \"The Sound of Silence,\" Simon &amp; Garfun...</td>\n",
       "      <td>964</td>\n",
       "      <td>60</td>\n",
       "      <td>183</td>\n",
       "      <td>45</td>\n",
       "      <td>78</td>\n",
       "      <td>27</td>\n",
       "      <td>395</td>\n",
       "      <td>166</td>\n",
       "      <td>104</td>\n",
       "      <td>230</td>\n",
       "      <td>54</td>\n",
       "      <td>146</td>\n",
       "      <td>142</td>\n",
       "      <td>230</td>\n",
       "      <td>Funny</td>\n",
       "      <td>2006</td>\n",
       "      <td>6</td>\n",
       "    </tr>\n",
       "  </tbody>\n",
       "</table>\n",
       "</div>"
      ],
      "text/plain": [
       "   Unnamed: 0  comments  ...    yr  month\n",
       "0           0      4553  ...  2006      6\n",
       "1           1       265  ...  2006      6\n",
       "2           2       124  ...  2006      6\n",
       "\n",
       "[3 rows x 32 columns]"
      ]
     },
     "execution_count": 68,
     "metadata": {
      "tags": []
     },
     "output_type": "execute_result"
    }
   ],
   "source": [
    "# Upload the \"Cleanned\" dataset\n",
    "\n",
    "url = 'https://raw.githubusercontent.com/PoojaDoctor/Data144-FinalProject/master/datasets/cleaned.csv'\n",
    "df_cleanned = pd.read_csv(url)\n",
    "# Dataset is now stored in a Pandas Dataframe\n",
    "df_cleanned.head(3)"
   ]
  },
  {
   "cell_type": "markdown",
   "metadata": {
    "colab_type": "text",
    "id": "zgqiFS-a94bl"
   },
   "source": [
    "# **LINEAR REGRESSION**"
   ]
  },
  {
   "cell_type": "code",
   "execution_count": 0,
   "metadata": {
    "colab": {},
    "colab_type": "code",
    "id": "A2klOIav98Cp"
   },
   "outputs": [],
   "source": [
    "import pandas as pd  \n",
    "import numpy as np  \n",
    "import matplotlib.pyplot as plt  \n",
    "import seaborn as seabornInstance \n",
    "from sklearn.model_selection import train_test_split \n",
    "from sklearn.linear_model import LinearRegression\n",
    "from sklearn import metrics\n",
    "%matplotlib inline"
   ]
  },
  {
   "cell_type": "code",
   "execution_count": 0,
   "metadata": {
    "colab": {
     "base_uri": "https://localhost:8080/",
     "height": 34
    },
    "colab_type": "code",
    "id": "Ks15zAmQ-R8C",
    "outputId": "e296dcac-d599-4cdc-88be-8e36095462b0"
   },
   "outputs": [
    {
     "data": {
      "text/plain": [
       "(2467, 32)"
      ]
     },
     "execution_count": 96,
     "metadata": {
      "tags": []
     },
     "output_type": "execute_result"
    }
   ],
   "source": [
    "# Upload the \"Cleanned\" dataset\n",
    "\n",
    "url = 'https://raw.githubusercontent.com/PoojaDoctor/Data144-FinalProject/master/datasets/cleaned.csv'\n",
    "dataset = pd.read_csv(url)\n",
    "# Dataset is now stored in a Pandas Dataframe\n",
    "dataset.shape"
   ]
  },
  {
   "cell_type": "code",
   "execution_count": 0,
   "metadata": {
    "colab": {
     "base_uri": "https://localhost:8080/",
     "height": 334
    },
    "colab_type": "code",
    "id": "h-rhoZ7o-bdA",
    "outputId": "69015309-e7d6-4d83-d600-f8dc031d48ea"
   },
   "outputs": [
    {
     "data": {
      "text/html": [
       "<div>\n",
       "<style scoped>\n",
       "    .dataframe tbody tr th:only-of-type {\n",
       "        vertical-align: middle;\n",
       "    }\n",
       "\n",
       "    .dataframe tbody tr th {\n",
       "        vertical-align: top;\n",
       "    }\n",
       "\n",
       "    .dataframe thead th {\n",
       "        text-align: right;\n",
       "    }\n",
       "</style>\n",
       "<table border=\"1\" class=\"dataframe\">\n",
       "  <thead>\n",
       "    <tr style=\"text-align: right;\">\n",
       "      <th></th>\n",
       "      <th>Unnamed: 0</th>\n",
       "      <th>comments</th>\n",
       "      <th>duration</th>\n",
       "      <th>languages</th>\n",
       "      <th>num_speaker</th>\n",
       "      <th>views</th>\n",
       "      <th>Funny</th>\n",
       "      <th>Beautiful</th>\n",
       "      <th>Ingenious</th>\n",
       "      <th>Courageous</th>\n",
       "      <th>Longwinded</th>\n",
       "      <th>Confusing</th>\n",
       "      <th>Informative</th>\n",
       "      <th>Fascinating</th>\n",
       "      <th>Unconvincing</th>\n",
       "      <th>Persuasive</th>\n",
       "      <th>Jaw-dropping</th>\n",
       "      <th>OK</th>\n",
       "      <th>Obnoxious</th>\n",
       "      <th>Inspiring</th>\n",
       "      <th>yr</th>\n",
       "      <th>month</th>\n",
       "    </tr>\n",
       "  </thead>\n",
       "  <tbody>\n",
       "    <tr>\n",
       "      <th>count</th>\n",
       "      <td>2467.000000</td>\n",
       "      <td>2467.000000</td>\n",
       "      <td>2467.000000</td>\n",
       "      <td>2467.000000</td>\n",
       "      <td>2467.000000</td>\n",
       "      <td>2.467000e+03</td>\n",
       "      <td>2467.000000</td>\n",
       "      <td>2467.000000</td>\n",
       "      <td>2467.000000</td>\n",
       "      <td>2467.000000</td>\n",
       "      <td>2467.000000</td>\n",
       "      <td>2467.000000</td>\n",
       "      <td>2467.000000</td>\n",
       "      <td>2467.000000</td>\n",
       "      <td>2467.000000</td>\n",
       "      <td>2467.000000</td>\n",
       "      <td>2467.000000</td>\n",
       "      <td>2467.000000</td>\n",
       "      <td>2467.000000</td>\n",
       "      <td>2467.000000</td>\n",
       "      <td>2467.000000</td>\n",
       "      <td>2467.000000</td>\n",
       "    </tr>\n",
       "    <tr>\n",
       "      <th>mean</th>\n",
       "      <td>1290.604783</td>\n",
       "      <td>193.425213</td>\n",
       "      <td>822.725578</td>\n",
       "      <td>28.310093</td>\n",
       "      <td>1.027969</td>\n",
       "      <td>1.747192e+06</td>\n",
       "      <td>157.035671</td>\n",
       "      <td>192.576814</td>\n",
       "      <td>152.175517</td>\n",
       "      <td>168.999595</td>\n",
       "      <td>32.922173</td>\n",
       "      <td>21.098500</td>\n",
       "      <td>354.209566</td>\n",
       "      <td>317.208756</td>\n",
       "      <td>53.531415</td>\n",
       "      <td>223.223754</td>\n",
       "      <td>148.400486</td>\n",
       "      <td>81.757195</td>\n",
       "      <td>25.818808</td>\n",
       "      <td>534.901094</td>\n",
       "      <td>2012.132550</td>\n",
       "      <td>6.337657</td>\n",
       "    </tr>\n",
       "    <tr>\n",
       "      <th>std</th>\n",
       "      <td>745.473521</td>\n",
       "      <td>285.304705</td>\n",
       "      <td>334.002254</td>\n",
       "      <td>8.234100</td>\n",
       "      <td>0.208371</td>\n",
       "      <td>2.533097e+06</td>\n",
       "      <td>598.778813</td>\n",
       "      <td>478.431012</td>\n",
       "      <td>286.539868</td>\n",
       "      <td>445.398923</td>\n",
       "      <td>41.922335</td>\n",
       "      <td>31.827247</td>\n",
       "      <td>546.221176</td>\n",
       "      <td>629.911244</td>\n",
       "      <td>92.849048</td>\n",
       "      <td>470.826345</td>\n",
       "      <td>559.881195</td>\n",
       "      <td>90.024732</td>\n",
       "      <td>53.270378</td>\n",
       "      <td>1298.578684</td>\n",
       "      <td>3.035853</td>\n",
       "      <td>3.350184</td>\n",
       "    </tr>\n",
       "    <tr>\n",
       "      <th>min</th>\n",
       "      <td>0.000000</td>\n",
       "      <td>2.000000</td>\n",
       "      <td>135.000000</td>\n",
       "      <td>1.000000</td>\n",
       "      <td>1.000000</td>\n",
       "      <td>1.558950e+05</td>\n",
       "      <td>0.000000</td>\n",
       "      <td>0.000000</td>\n",
       "      <td>0.000000</td>\n",
       "      <td>0.000000</td>\n",
       "      <td>0.000000</td>\n",
       "      <td>0.000000</td>\n",
       "      <td>0.000000</td>\n",
       "      <td>5.000000</td>\n",
       "      <td>0.000000</td>\n",
       "      <td>0.000000</td>\n",
       "      <td>0.000000</td>\n",
       "      <td>0.000000</td>\n",
       "      <td>0.000000</td>\n",
       "      <td>5.000000</td>\n",
       "      <td>2006.000000</td>\n",
       "      <td>1.000000</td>\n",
       "    </tr>\n",
       "    <tr>\n",
       "      <th>25%</th>\n",
       "      <td>641.500000</td>\n",
       "      <td>63.000000</td>\n",
       "      <td>584.000000</td>\n",
       "      <td>23.000000</td>\n",
       "      <td>1.000000</td>\n",
       "      <td>7.891885e+05</td>\n",
       "      <td>8.000000</td>\n",
       "      <td>26.000000</td>\n",
       "      <td>26.000000</td>\n",
       "      <td>20.000000</td>\n",
       "      <td>9.000000</td>\n",
       "      <td>5.000000</td>\n",
       "      <td>102.500000</td>\n",
       "      <td>80.000000</td>\n",
       "      <td>12.000000</td>\n",
       "      <td>38.000000</td>\n",
       "      <td>18.000000</td>\n",
       "      <td>32.000000</td>\n",
       "      <td>6.000000</td>\n",
       "      <td>114.000000</td>\n",
       "      <td>2010.000000</td>\n",
       "      <td>4.000000</td>\n",
       "    </tr>\n",
       "    <tr>\n",
       "      <th>50%</th>\n",
       "      <td>1315.000000</td>\n",
       "      <td>118.000000</td>\n",
       "      <td>853.000000</td>\n",
       "      <td>28.000000</td>\n",
       "      <td>1.000000</td>\n",
       "      <td>1.149090e+06</td>\n",
       "      <td>21.000000</td>\n",
       "      <td>68.000000</td>\n",
       "      <td>70.000000</td>\n",
       "      <td>53.000000</td>\n",
       "      <td>19.000000</td>\n",
       "      <td>12.000000</td>\n",
       "      <td>217.000000</td>\n",
       "      <td>163.000000</td>\n",
       "      <td>27.000000</td>\n",
       "      <td>98.000000</td>\n",
       "      <td>42.000000</td>\n",
       "      <td>56.000000</td>\n",
       "      <td>13.000000</td>\n",
       "      <td>236.000000</td>\n",
       "      <td>2012.000000</td>\n",
       "      <td>6.000000</td>\n",
       "    </tr>\n",
       "    <tr>\n",
       "      <th>75%</th>\n",
       "      <td>1938.500000</td>\n",
       "      <td>224.000000</td>\n",
       "      <td>1048.000000</td>\n",
       "      <td>33.000000</td>\n",
       "      <td>1.000000</td>\n",
       "      <td>1.739450e+06</td>\n",
       "      <td>91.000000</td>\n",
       "      <td>187.500000</td>\n",
       "      <td>172.000000</td>\n",
       "      <td>150.000000</td>\n",
       "      <td>41.000000</td>\n",
       "      <td>24.000000</td>\n",
       "      <td>410.000000</td>\n",
       "      <td>346.500000</td>\n",
       "      <td>60.000000</td>\n",
       "      <td>231.500000</td>\n",
       "      <td>110.500000</td>\n",
       "      <td>100.000000</td>\n",
       "      <td>27.000000</td>\n",
       "      <td>502.000000</td>\n",
       "      <td>2015.000000</td>\n",
       "      <td>9.000000</td>\n",
       "    </tr>\n",
       "    <tr>\n",
       "      <th>max</th>\n",
       "      <td>2558.000000</td>\n",
       "      <td>6404.000000</td>\n",
       "      <td>3608.000000</td>\n",
       "      <td>72.000000</td>\n",
       "      <td>5.000000</td>\n",
       "      <td>4.722711e+07</td>\n",
       "      <td>19645.000000</td>\n",
       "      <td>9437.000000</td>\n",
       "      <td>6073.000000</td>\n",
       "      <td>8668.000000</td>\n",
       "      <td>447.000000</td>\n",
       "      <td>531.000000</td>\n",
       "      <td>9787.000000</td>\n",
       "      <td>14447.000000</td>\n",
       "      <td>2194.000000</td>\n",
       "      <td>10704.000000</td>\n",
       "      <td>14728.000000</td>\n",
       "      <td>1341.000000</td>\n",
       "      <td>1361.000000</td>\n",
       "      <td>24924.000000</td>\n",
       "      <td>2017.000000</td>\n",
       "      <td>12.000000</td>\n",
       "    </tr>\n",
       "  </tbody>\n",
       "</table>\n",
       "</div>"
      ],
      "text/plain": [
       "        Unnamed: 0     comments  ...           yr        month\n",
       "count  2467.000000  2467.000000  ...  2467.000000  2467.000000\n",
       "mean   1290.604783   193.425213  ...  2012.132550     6.337657\n",
       "std     745.473521   285.304705  ...     3.035853     3.350184\n",
       "min       0.000000     2.000000  ...  2006.000000     1.000000\n",
       "25%     641.500000    63.000000  ...  2010.000000     4.000000\n",
       "50%    1315.000000   118.000000  ...  2012.000000     6.000000\n",
       "75%    1938.500000   224.000000  ...  2015.000000     9.000000\n",
       "max    2558.000000  6404.000000  ...  2017.000000    12.000000\n",
       "\n",
       "[8 rows x 22 columns]"
      ]
     },
     "execution_count": 97,
     "metadata": {
      "tags": []
     },
     "output_type": "execute_result"
    }
   ],
   "source": [
    "dataset.describe()"
   ]
  },
  {
   "cell_type": "code",
   "execution_count": 0,
   "metadata": {
    "colab": {
     "base_uri": "https://localhost:8080/",
     "height": 295
    },
    "colab_type": "code",
    "id": "yr39uzYR-pWj",
    "outputId": "94245232-3e02-4641-a576-ae858bfd815a"
   },
   "outputs": [
    {
     "data": {
      "image/png": "[encoded data removed]",
      "text/plain": [
       "<Figure size 432x288 with 1 Axes>"
      ]
     },
     "metadata": {
      "tags": []
     },
     "output_type": "display_data"
    }
   ],
   "source": [
    "dataset.plot(x='comments', y='views', style='o')  \n",
    "plt.title('comments vs views')  \n",
    "plt.xlabel('comments')  \n",
    "plt.ylabel('views')  \n",
    "plt.show()"
   ]
  },
  {
   "cell_type": "code",
   "execution_count": 0,
   "metadata": {
    "colab": {
     "base_uri": "https://localhost:8080/",
     "height": 623
    },
    "colab_type": "code",
    "id": "JrL3KxllCQUD",
    "outputId": "c2f6aead-1193-4087-e6ba-b4678b8c8414"
   },
   "outputs": [
    {
     "data": {
      "text/plain": [
       "<matplotlib.axes._subplots.AxesSubplot at 0x7fbf086186a0>"
      ]
     },
     "execution_count": 99,
     "metadata": {
      "tags": []
     },
     "output_type": "execute_result"
    },
    {
     "data": {
      "image/png": "[encoded data removed]",
      "text/plain": [
       "<Figure size 1080x720 with 1 Axes>"
      ]
     },
     "metadata": {
      "tags": []
     },
     "output_type": "display_data"
    }
   ],
   "source": [
    "plt.figure(figsize=(15,10))\n",
    "plt.tight_layout()\n",
    "seabornInstance.distplot(dataset['comments'])\n",
    "seabornInstance.distplot(dataset['views'])"
   ]
  },
  {
   "cell_type": "code",
   "execution_count": 0,
   "metadata": {
    "colab": {},
    "colab_type": "code",
    "id": "tknw9wBYCbQL"
   },
   "outputs": [],
   "source": [
    "X = dataset['comments'].values.reshape(-1,1)\n",
    "y = dataset['views'].values.reshape(-1,1)"
   ]
  },
  {
   "cell_type": "code",
   "execution_count": 0,
   "metadata": {
    "colab": {},
    "colab_type": "code",
    "id": "naDuyAz3ChDy"
   },
   "outputs": [],
   "source": [
    "X_train, X_test, y_train, y_test = train_test_split(X, y, test_size=0.2, random_state=0)"
   ]
  },
  {
   "cell_type": "code",
   "execution_count": 0,
   "metadata": {
    "colab": {
     "base_uri": "https://localhost:8080/",
     "height": 34
    },
    "colab_type": "code",
    "id": "GQkPe2oDCjfv",
    "outputId": "9ad71b7e-2606-4d19-da5f-7113e8db928c"
   },
   "outputs": [
    {
     "data": {
      "text/plain": [
       "LinearRegression(copy_X=True, fit_intercept=True, n_jobs=None, normalize=False)"
      ]
     },
     "execution_count": 102,
     "metadata": {
      "tags": []
     },
     "output_type": "execute_result"
    }
   ],
   "source": [
    "regressor = LinearRegression()  \n",
    "regressor.fit(X_train, y_train) #training the algorithm"
   ]
  },
  {
   "cell_type": "code",
   "execution_count": 0,
   "metadata": {
    "colab": {
     "base_uri": "https://localhost:8080/",
     "height": 51
    },
    "colab_type": "code",
    "id": "XB86eFYlCl0T",
    "outputId": "ef64dd5c-cdac-46c2-d2b4-0353a0151953"
   },
   "outputs": [
    {
     "name": "stdout",
     "output_type": "stream",
     "text": [
      "[811099.47110646]\n",
      "[[4921.41552533]]\n"
     ]
    }
   ],
   "source": [
    "#To retrieve the intercept:\n",
    "print(regressor.intercept_)\n",
    "#For retrieving the slope:\n",
    "print(regressor.coef_)"
   ]
  },
  {
   "cell_type": "code",
   "execution_count": 0,
   "metadata": {
    "colab": {
     "base_uri": "https://localhost:8080/",
     "height": 419
    },
    "colab_type": "code",
    "id": "yy1PGjEtCpf6",
    "outputId": "08dec6bd-fd6d-4cb8-9257-d88282ae7647"
   },
   "outputs": [
    {
     "data": {
      "text/html": [
       "<div>\n",
       "<style scoped>\n",
       "    .dataframe tbody tr th:only-of-type {\n",
       "        vertical-align: middle;\n",
       "    }\n",
       "\n",
       "    .dataframe tbody tr th {\n",
       "        vertical-align: top;\n",
       "    }\n",
       "\n",
       "    .dataframe thead th {\n",
       "        text-align: right;\n",
       "    }\n",
       "</style>\n",
       "<table border=\"1\" class=\"dataframe\">\n",
       "  <thead>\n",
       "    <tr style=\"text-align: right;\">\n",
       "      <th></th>\n",
       "      <th>Actual</th>\n",
       "      <th>Predicted</th>\n",
       "    </tr>\n",
       "  </thead>\n",
       "  <tbody>\n",
       "    <tr>\n",
       "      <th>0</th>\n",
       "      <td>415566</td>\n",
       "      <td>1.268791e+06</td>\n",
       "    </tr>\n",
       "    <tr>\n",
       "      <th>1</th>\n",
       "      <td>1174189</td>\n",
       "      <td>4.679332e+06</td>\n",
       "    </tr>\n",
       "    <tr>\n",
       "      <th>2</th>\n",
       "      <td>2649262</td>\n",
       "      <td>1.219577e+06</td>\n",
       "    </tr>\n",
       "    <tr>\n",
       "      <th>3</th>\n",
       "      <td>816019</td>\n",
       "      <td>2.262917e+06</td>\n",
       "    </tr>\n",
       "    <tr>\n",
       "      <th>4</th>\n",
       "      <td>1778739</td>\n",
       "      <td>1.362298e+06</td>\n",
       "    </tr>\n",
       "    <tr>\n",
       "      <th>...</th>\n",
       "      <td>...</td>\n",
       "      <td>...</td>\n",
       "    </tr>\n",
       "    <tr>\n",
       "      <th>489</th>\n",
       "      <td>862238</td>\n",
       "      <td>9.981133e+05</td>\n",
       "    </tr>\n",
       "    <tr>\n",
       "      <th>490</th>\n",
       "      <td>3404977</td>\n",
       "      <td>1.258948e+06</td>\n",
       "    </tr>\n",
       "    <tr>\n",
       "      <th>491</th>\n",
       "      <td>711977</td>\n",
       "      <td>1.726483e+06</td>\n",
       "    </tr>\n",
       "    <tr>\n",
       "      <th>492</th>\n",
       "      <td>1405468</td>\n",
       "      <td>1.027642e+06</td>\n",
       "    </tr>\n",
       "    <tr>\n",
       "      <th>493</th>\n",
       "      <td>2291444</td>\n",
       "      <td>1.632976e+06</td>\n",
       "    </tr>\n",
       "  </tbody>\n",
       "</table>\n",
       "<p>494 rows × 2 columns</p>\n",
       "</div>"
      ],
      "text/plain": [
       "      Actual     Predicted\n",
       "0     415566  1.268791e+06\n",
       "1    1174189  4.679332e+06\n",
       "2    2649262  1.219577e+06\n",
       "3     816019  2.262917e+06\n",
       "4    1778739  1.362298e+06\n",
       "..       ...           ...\n",
       "489   862238  9.981133e+05\n",
       "490  3404977  1.258948e+06\n",
       "491   711977  1.726483e+06\n",
       "492  1405468  1.027642e+06\n",
       "493  2291444  1.632976e+06\n",
       "\n",
       "[494 rows x 2 columns]"
      ]
     },
     "execution_count": 104,
     "metadata": {
      "tags": []
     },
     "output_type": "execute_result"
    }
   ],
   "source": [
    "y_pred = regressor.predict(X_test)\n",
    "df = pd.DataFrame({'Actual': y_test.flatten(), 'Predicted': y_pred.flatten()})\n",
    "df"
   ]
  },
  {
   "cell_type": "code",
   "execution_count": 0,
   "metadata": {
    "colab": {
     "base_uri": "https://localhost:8080/",
     "height": 594
    },
    "colab_type": "code",
    "id": "CRvLVz1rCvWd",
    "outputId": "e733a5a4-ea33-4967-aacf-628274aeb784"
   },
   "outputs": [
    {
     "data": {
      "image/png": "[encoded data removed]",
      "text/plain": [
       "<Figure size 1152x720 with 1 Axes>"
      ]
     },
     "metadata": {
      "tags": []
     },
     "output_type": "display_data"
    }
   ],
   "source": [
    "df1 = df.head(25)\n",
    "df1.plot(kind='bar',figsize=(16,10))\n",
    "plt.grid(which='major', linestyle='-', linewidth='0.5', color='green')\n",
    "plt.grid(which='minor', linestyle=':', linewidth='0.5', color='black')\n",
    "plt.show()"
   ]
  },
  {
   "cell_type": "code",
   "execution_count": 0,
   "metadata": {
    "colab": {
     "base_uri": "https://localhost:8080/",
     "height": 276
    },
    "colab_type": "code",
    "id": "uGhtNZVoCzVk",
    "outputId": "e8fb9773-79c2-4259-ec79-e93069c5b27f"
   },
   "outputs": [
    {
     "data": {
      "image/png": "[encoded data removed]",
      "text/plain": [
       "<Figure size 432x288 with 1 Axes>"
      ]
     },
     "metadata": {
      "tags": []
     },
     "output_type": "display_data"
    }
   ],
   "source": [
    "plt.scatter(X_test, y_test,  color='gray')\n",
    "plt.plot(X_test, y_pred, color='red', linewidth=2)\n",
    "plt.show()"
   ]
  },
  {
   "cell_type": "code",
   "execution_count": 0,
   "metadata": {
    "colab": {
     "base_uri": "https://localhost:8080/",
     "height": 68
    },
    "colab_type": "code",
    "id": "BXQsevLvs_BS",
    "outputId": "31abf3fd-de4a-4378-df90-8d21173189cd"
   },
   "outputs": [
    {
     "name": "stdout",
     "output_type": "stream",
     "text": [
      "Mean Absolute Error: 1003063.9425852079\n",
      "Mean Squared Error: 5230758177844.003\n",
      "Root Mean Squared Error: 2287085.083210505\n"
     ]
    }
   ],
   "source": [
    "from sklearn import metrics\n",
    "\n",
    "print('Mean Absolute Error:', metrics.mean_absolute_error(y_test, y_pred))\n",
    "print('Mean Squared Error:', metrics.mean_squared_error(y_test, y_pred))\n",
    "print('Root Mean Squared Error:', np.sqrt(metrics.mean_squared_error(y_test, y_pred)))"
   ]
  },
  {
   "cell_type": "code",
   "execution_count": 0,
   "metadata": {
    "colab": {},
    "colab_type": "code",
    "id": "l1umqBoQC3HI"
   },
   "outputs": [],
   "source": [
    "# https://towardsdatascience.com/a-beginners-guide-to-linear-regression-in-python-with-scikit-learn-83a8f7ae2b4f"
   ]
  },
  {
   "cell_type": "markdown",
   "metadata": {
    "colab_type": "text",
    "id": "uvjuDtTb5cRc"
   },
   "source": [
    "Transcript:"
   ]
  },
  {
   "cell_type": "code",
   "execution_count": 0,
   "metadata": {
    "colab": {},
    "colab_type": "code",
    "id": "sx2zF9W6B9Yy"
   },
   "outputs": [],
   "source": [
    "# Upload the \"Transcript\" dataset\n",
    "\n",
    "url = 'https://raw.githubusercontent.com/PoojaDoctor/Data144-FinalProject/master/datasets/transcripts.csv'\n",
    "df_trans = pd.read_csv(url)\n",
    "# Dataset is now stored in a Pandas Dataframe"
   ]
  },
  {
   "cell_type": "code",
   "execution_count": 0,
   "metadata": {
    "colab": {
     "base_uri": "https://localhost:8080/",
     "height": 142
    },
    "colab_type": "code",
    "id": "V0cFezWyCozo",
    "outputId": "caa6ef9e-c95b-40f1-eef0-203ad0c956d0"
   },
   "outputs": [
    {
     "data": {
      "text/html": [
       "<div>\n",
       "<style scoped>\n",
       "    .dataframe tbody tr th:only-of-type {\n",
       "        vertical-align: middle;\n",
       "    }\n",
       "\n",
       "    .dataframe tbody tr th {\n",
       "        vertical-align: top;\n",
       "    }\n",
       "\n",
       "    .dataframe thead th {\n",
       "        text-align: right;\n",
       "    }\n",
       "</style>\n",
       "<table border=\"1\" class=\"dataframe\">\n",
       "  <thead>\n",
       "    <tr style=\"text-align: right;\">\n",
       "      <th></th>\n",
       "      <th>transcript</th>\n",
       "      <th>url</th>\n",
       "    </tr>\n",
       "  </thead>\n",
       "  <tbody>\n",
       "    <tr>\n",
       "      <th>0</th>\n",
       "      <td>Good morning. How are you?(Laughter)It's been ...</td>\n",
       "      <td>https://www.ted.com/talks/ken_robinson_says_sc...</td>\n",
       "    </tr>\n",
       "    <tr>\n",
       "      <th>1</th>\n",
       "      <td>Thank you so much, Chris. And it's truly a gre...</td>\n",
       "      <td>https://www.ted.com/talks/al_gore_on_averting_...</td>\n",
       "    </tr>\n",
       "    <tr>\n",
       "      <th>2</th>\n",
       "      <td>(Music: \"The Sound of Silence,\" Simon &amp; Garfun...</td>\n",
       "      <td>https://www.ted.com/talks/david_pogue_says_sim...</td>\n",
       "    </tr>\n",
       "  </tbody>\n",
       "</table>\n",
       "</div>"
      ],
      "text/plain": [
       "                                          transcript                                                url\n",
       "0  Good morning. How are you?(Laughter)It's been ...  https://www.ted.com/talks/ken_robinson_says_sc...\n",
       "1  Thank you so much, Chris. And it's truly a gre...  https://www.ted.com/talks/al_gore_on_averting_...\n",
       "2  (Music: \"The Sound of Silence,\" Simon & Garfun...  https://www.ted.com/talks/david_pogue_says_sim..."
      ]
     },
     "execution_count": 83,
     "metadata": {
      "tags": []
     },
     "output_type": "execute_result"
    }
   ],
   "source": [
    "df_trans.head(3)"
   ]
  }
 ],
 "metadata": {
  "colab": {
   "collapsed_sections": [
    "1_SXrZu3FxyN"
   ],
   "include_colab_link": true,
   "name": "Lily_Data 144_Final Proj_v3 (Model Improvements).ipynb",
   "provenance": []
  },
  "kernelspec": {
   "display_name": "Python 3",
   "language": "python",
   "name": "python3"
  },
  "language_info": {
   "codemirror_mode": {
    "name": "ipython",
    "version": 3
   },
   "file_extension": ".py",
   "mimetype": "text/x-python",
   "name": "python",
   "nbconvert_exporter": "python",
   "pygments_lexer": "ipython3",
   "version": "3.7.1"
  }
 },
 "nbformat": 4,
 "nbformat_minor": 1
}
