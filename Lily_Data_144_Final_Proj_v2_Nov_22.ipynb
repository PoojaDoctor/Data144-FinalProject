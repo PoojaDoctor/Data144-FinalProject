{
  "nbformat": 4,
  "nbformat_minor": 0,
  "metadata": {
    "colab": {
      "name": "Lily_Data 144_Final Proj_v2_Nov 22.ipynb",
      "provenance": [],
      "collapsed_sections": [],
      "include_colab_link": true
    },
    "kernelspec": {
      "name": "python3",
      "display_name": "Python 3"
    }
  },
  "cells": [
    {
      "cell_type": "markdown",
      "metadata": {
        "id": "view-in-github",
        "colab_type": "text"
      },
      "source": [
        "<a href=\"https://colab.research.google.com/github/PoojaDoctor/Data144-FinalProject/blob/master/Lily_Data_144_Final_Proj_v2_Nov_22.ipynb\" target=\"_parent\"><img src=\"https://colab.research.google.com/assets/colab-badge.svg\" alt=\"Open In Colab\"/></a>"
      ]
    },
    {
      "cell_type": "markdown",
      "metadata": {
        "id": "PzFRBnjMAbdE",
        "colab_type": "text"
      },
      "source": [
        "### **Data 144 Final Project Exploration -- Lily Li -- Version 2**"
      ]
    },
    {
      "cell_type": "markdown",
      "metadata": {
        "id": "o-5Z-48e_os-",
        "colab_type": "text"
      },
      "source": [
        "Recommend Methods:\n",
        "1. Random forest\n",
        "2. Decision tree\n",
        "3. Neural network\n",
        "4. Linear Regression\n",
        "\n",
        "Try different models and throw the data into them!"
      ]
    },
    {
      "cell_type": "markdown",
      "metadata": {
        "id": "1_SXrZu3FxyN",
        "colab_type": "text"
      },
      "source": [
        "### **Ted Main Dataset**"
      ]
    },
    {
      "cell_type": "code",
      "metadata": {
        "id": "EBXbuNpYAkNY",
        "colab_type": "code",
        "colab": {}
      },
      "source": [
        "import pandas as pd\n",
        "import matplotlib.pyplot as plt\n",
        "import seaborn as sns\n",
        "import numpy as np\n",
        "from scipy.stats import norm\n",
        "from sklearn.preprocessing import StandardScaler\n",
        "from scipy import stats\n",
        "import warnings\n",
        "warnings.filterwarnings('ignore')\n",
        "%matplotlib inline"
      ],
      "execution_count": 0,
      "outputs": []
    },
    {
      "cell_type": "code",
      "metadata": {
        "id": "F3PnWbv-BCwM",
        "colab_type": "code",
        "colab": {}
      },
      "source": [
        "# Upload the \"Ted Main\" dataset\n",
        "\n",
        "url = 'https://raw.githubusercontent.com/PoojaDoctor/Data144-FinalProject/master/datasets/ted_main.csv'\n",
        "df_ted = pd.read_csv(url)\n",
        "# Dataset is now stored in a Pandas Dataframe"
      ],
      "execution_count": 0,
      "outputs": []
    },
    {
      "cell_type": "code",
      "metadata": {
        "id": "Hc5Ri85xB94H",
        "colab_type": "code",
        "outputId": "087a5ea3-f1c2-4544-ca68-f834e21753d2",
        "colab": {
          "base_uri": "https://localhost:8080/",
          "height": 584
        }
      },
      "source": [
        "df_ted.head()"
      ],
      "execution_count": 3,
      "outputs": [
        {
          "output_type": "execute_result",
          "data": {
            "text/html": [
              "<div>\n",
              "<style scoped>\n",
              "    .dataframe tbody tr th:only-of-type {\n",
              "        vertical-align: middle;\n",
              "    }\n",
              "\n",
              "    .dataframe tbody tr th {\n",
              "        vertical-align: top;\n",
              "    }\n",
              "\n",
              "    .dataframe thead th {\n",
              "        text-align: right;\n",
              "    }\n",
              "</style>\n",
              "<table border=\"1\" class=\"dataframe\">\n",
              "  <thead>\n",
              "    <tr style=\"text-align: right;\">\n",
              "      <th></th>\n",
              "      <th>comments</th>\n",
              "      <th>description</th>\n",
              "      <th>duration</th>\n",
              "      <th>event</th>\n",
              "      <th>film_date</th>\n",
              "      <th>languages</th>\n",
              "      <th>main_speaker</th>\n",
              "      <th>name</th>\n",
              "      <th>num_speaker</th>\n",
              "      <th>published_date</th>\n",
              "      <th>ratings</th>\n",
              "      <th>related_talks</th>\n",
              "      <th>speaker_occupation</th>\n",
              "      <th>tags</th>\n",
              "      <th>title</th>\n",
              "      <th>url</th>\n",
              "      <th>views</th>\n",
              "    </tr>\n",
              "  </thead>\n",
              "  <tbody>\n",
              "    <tr>\n",
              "      <th>0</th>\n",
              "      <td>4553</td>\n",
              "      <td>Sir Ken Robinson makes an entertaining and pro...</td>\n",
              "      <td>1164</td>\n",
              "      <td>TED2006</td>\n",
              "      <td>1140825600</td>\n",
              "      <td>60</td>\n",
              "      <td>Ken Robinson</td>\n",
              "      <td>Ken Robinson: Do schools kill creativity?</td>\n",
              "      <td>1</td>\n",
              "      <td>1151367060</td>\n",
              "      <td>[{'id': 7, 'name': 'Funny', 'count': 19645}, {...</td>\n",
              "      <td>[{'id': 865, 'hero': 'https://pe.tedcdn.com/im...</td>\n",
              "      <td>Author/educator</td>\n",
              "      <td>['children', 'creativity', 'culture', 'dance',...</td>\n",
              "      <td>Do schools kill creativity?</td>\n",
              "      <td>https://www.ted.com/talks/ken_robinson_says_sc...</td>\n",
              "      <td>47227110</td>\n",
              "    </tr>\n",
              "    <tr>\n",
              "      <th>1</th>\n",
              "      <td>265</td>\n",
              "      <td>With the same humor and humanity he exuded in ...</td>\n",
              "      <td>977</td>\n",
              "      <td>TED2006</td>\n",
              "      <td>1140825600</td>\n",
              "      <td>43</td>\n",
              "      <td>Al Gore</td>\n",
              "      <td>Al Gore: Averting the climate crisis</td>\n",
              "      <td>1</td>\n",
              "      <td>1151367060</td>\n",
              "      <td>[{'id': 7, 'name': 'Funny', 'count': 544}, {'i...</td>\n",
              "      <td>[{'id': 243, 'hero': 'https://pe.tedcdn.com/im...</td>\n",
              "      <td>Climate advocate</td>\n",
              "      <td>['alternative energy', 'cars', 'climate change...</td>\n",
              "      <td>Averting the climate crisis</td>\n",
              "      <td>https://www.ted.com/talks/al_gore_on_averting_...</td>\n",
              "      <td>3200520</td>\n",
              "    </tr>\n",
              "    <tr>\n",
              "      <th>2</th>\n",
              "      <td>124</td>\n",
              "      <td>New York Times columnist David Pogue takes aim...</td>\n",
              "      <td>1286</td>\n",
              "      <td>TED2006</td>\n",
              "      <td>1140739200</td>\n",
              "      <td>26</td>\n",
              "      <td>David Pogue</td>\n",
              "      <td>David Pogue: Simplicity sells</td>\n",
              "      <td>1</td>\n",
              "      <td>1151367060</td>\n",
              "      <td>[{'id': 7, 'name': 'Funny', 'count': 964}, {'i...</td>\n",
              "      <td>[{'id': 1725, 'hero': 'https://pe.tedcdn.com/i...</td>\n",
              "      <td>Technology columnist</td>\n",
              "      <td>['computers', 'entertainment', 'interface desi...</td>\n",
              "      <td>Simplicity sells</td>\n",
              "      <td>https://www.ted.com/talks/david_pogue_says_sim...</td>\n",
              "      <td>1636292</td>\n",
              "    </tr>\n",
              "    <tr>\n",
              "      <th>3</th>\n",
              "      <td>200</td>\n",
              "      <td>In an emotionally charged talk, MacArthur-winn...</td>\n",
              "      <td>1116</td>\n",
              "      <td>TED2006</td>\n",
              "      <td>1140912000</td>\n",
              "      <td>35</td>\n",
              "      <td>Majora Carter</td>\n",
              "      <td>Majora Carter: Greening the ghetto</td>\n",
              "      <td>1</td>\n",
              "      <td>1151367060</td>\n",
              "      <td>[{'id': 3, 'name': 'Courageous', 'count': 760}...</td>\n",
              "      <td>[{'id': 1041, 'hero': 'https://pe.tedcdn.com/i...</td>\n",
              "      <td>Activist for environmental justice</td>\n",
              "      <td>['MacArthur grant', 'activism', 'business', 'c...</td>\n",
              "      <td>Greening the ghetto</td>\n",
              "      <td>https://www.ted.com/talks/majora_carter_s_tale...</td>\n",
              "      <td>1697550</td>\n",
              "    </tr>\n",
              "    <tr>\n",
              "      <th>4</th>\n",
              "      <td>593</td>\n",
              "      <td>You've never seen data presented like this. Wi...</td>\n",
              "      <td>1190</td>\n",
              "      <td>TED2006</td>\n",
              "      <td>1140566400</td>\n",
              "      <td>48</td>\n",
              "      <td>Hans Rosling</td>\n",
              "      <td>Hans Rosling: The best stats you've ever seen</td>\n",
              "      <td>1</td>\n",
              "      <td>1151440680</td>\n",
              "      <td>[{'id': 9, 'name': 'Ingenious', 'count': 3202}...</td>\n",
              "      <td>[{'id': 2056, 'hero': 'https://pe.tedcdn.com/i...</td>\n",
              "      <td>Global health expert; data visionary</td>\n",
              "      <td>['Africa', 'Asia', 'Google', 'demo', 'economic...</td>\n",
              "      <td>The best stats you've ever seen</td>\n",
              "      <td>https://www.ted.com/talks/hans_rosling_shows_t...</td>\n",
              "      <td>12005869</td>\n",
              "    </tr>\n",
              "  </tbody>\n",
              "</table>\n",
              "</div>"
            ],
            "text/plain": [
              "   comments  ...     views\n",
              "0      4553  ...  47227110\n",
              "1       265  ...   3200520\n",
              "2       124  ...   1636292\n",
              "3       200  ...   1697550\n",
              "4       593  ...  12005869\n",
              "\n",
              "[5 rows x 17 columns]"
            ]
          },
          "metadata": {
            "tags": []
          },
          "execution_count": 3
        }
      ]
    },
    {
      "cell_type": "code",
      "metadata": {
        "id": "FiuaP6feGZhc",
        "colab_type": "code",
        "outputId": "748c52ee-536d-4ccd-ee8c-acb2e9fa5e44",
        "colab": {
          "base_uri": "https://localhost:8080/",
          "height": 287
        }
      },
      "source": [
        "df_ted.describe()"
      ],
      "execution_count": 4,
      "outputs": [
        {
          "output_type": "execute_result",
          "data": {
            "text/html": [
              "<div>\n",
              "<style scoped>\n",
              "    .dataframe tbody tr th:only-of-type {\n",
              "        vertical-align: middle;\n",
              "    }\n",
              "\n",
              "    .dataframe tbody tr th {\n",
              "        vertical-align: top;\n",
              "    }\n",
              "\n",
              "    .dataframe thead th {\n",
              "        text-align: right;\n",
              "    }\n",
              "</style>\n",
              "<table border=\"1\" class=\"dataframe\">\n",
              "  <thead>\n",
              "    <tr style=\"text-align: right;\">\n",
              "      <th></th>\n",
              "      <th>comments</th>\n",
              "      <th>duration</th>\n",
              "      <th>film_date</th>\n",
              "      <th>languages</th>\n",
              "      <th>num_speaker</th>\n",
              "      <th>published_date</th>\n",
              "      <th>views</th>\n",
              "    </tr>\n",
              "  </thead>\n",
              "  <tbody>\n",
              "    <tr>\n",
              "      <th>count</th>\n",
              "      <td>2550.000000</td>\n",
              "      <td>2550.000000</td>\n",
              "      <td>2.550000e+03</td>\n",
              "      <td>2550.000000</td>\n",
              "      <td>2550.000000</td>\n",
              "      <td>2.550000e+03</td>\n",
              "      <td>2.550000e+03</td>\n",
              "    </tr>\n",
              "    <tr>\n",
              "      <th>mean</th>\n",
              "      <td>191.562353</td>\n",
              "      <td>826.510196</td>\n",
              "      <td>1.321928e+09</td>\n",
              "      <td>27.326275</td>\n",
              "      <td>1.028235</td>\n",
              "      <td>1.343525e+09</td>\n",
              "      <td>1.698297e+06</td>\n",
              "    </tr>\n",
              "    <tr>\n",
              "      <th>std</th>\n",
              "      <td>282.315223</td>\n",
              "      <td>374.009138</td>\n",
              "      <td>1.197391e+08</td>\n",
              "      <td>9.563452</td>\n",
              "      <td>0.207705</td>\n",
              "      <td>9.464009e+07</td>\n",
              "      <td>2.498479e+06</td>\n",
              "    </tr>\n",
              "    <tr>\n",
              "      <th>min</th>\n",
              "      <td>2.000000</td>\n",
              "      <td>135.000000</td>\n",
              "      <td>7.464960e+07</td>\n",
              "      <td>0.000000</td>\n",
              "      <td>1.000000</td>\n",
              "      <td>1.151367e+09</td>\n",
              "      <td>5.044300e+04</td>\n",
              "    </tr>\n",
              "    <tr>\n",
              "      <th>25%</th>\n",
              "      <td>63.000000</td>\n",
              "      <td>577.000000</td>\n",
              "      <td>1.257466e+09</td>\n",
              "      <td>23.000000</td>\n",
              "      <td>1.000000</td>\n",
              "      <td>1.268463e+09</td>\n",
              "      <td>7.557928e+05</td>\n",
              "    </tr>\n",
              "    <tr>\n",
              "      <th>50%</th>\n",
              "      <td>118.000000</td>\n",
              "      <td>848.000000</td>\n",
              "      <td>1.333238e+09</td>\n",
              "      <td>28.000000</td>\n",
              "      <td>1.000000</td>\n",
              "      <td>1.340935e+09</td>\n",
              "      <td>1.124524e+06</td>\n",
              "    </tr>\n",
              "    <tr>\n",
              "      <th>75%</th>\n",
              "      <td>221.750000</td>\n",
              "      <td>1046.750000</td>\n",
              "      <td>1.412964e+09</td>\n",
              "      <td>33.000000</td>\n",
              "      <td>1.000000</td>\n",
              "      <td>1.423432e+09</td>\n",
              "      <td>1.700760e+06</td>\n",
              "    </tr>\n",
              "    <tr>\n",
              "      <th>max</th>\n",
              "      <td>6404.000000</td>\n",
              "      <td>5256.000000</td>\n",
              "      <td>1.503792e+09</td>\n",
              "      <td>72.000000</td>\n",
              "      <td>5.000000</td>\n",
              "      <td>1.506092e+09</td>\n",
              "      <td>4.722711e+07</td>\n",
              "    </tr>\n",
              "  </tbody>\n",
              "</table>\n",
              "</div>"
            ],
            "text/plain": [
              "          comments     duration  ...  published_date         views\n",
              "count  2550.000000  2550.000000  ...    2.550000e+03  2.550000e+03\n",
              "mean    191.562353   826.510196  ...    1.343525e+09  1.698297e+06\n",
              "std     282.315223   374.009138  ...    9.464009e+07  2.498479e+06\n",
              "min       2.000000   135.000000  ...    1.151367e+09  5.044300e+04\n",
              "25%      63.000000   577.000000  ...    1.268463e+09  7.557928e+05\n",
              "50%     118.000000   848.000000  ...    1.340935e+09  1.124524e+06\n",
              "75%     221.750000  1046.750000  ...    1.423432e+09  1.700760e+06\n",
              "max    6404.000000  5256.000000  ...    1.506092e+09  4.722711e+07\n",
              "\n",
              "[8 rows x 7 columns]"
            ]
          },
          "metadata": {
            "tags": []
          },
          "execution_count": 4
        }
      ]
    },
    {
      "cell_type": "code",
      "metadata": {
        "id": "VPsXovZaJUqu",
        "colab_type": "code",
        "outputId": "dcc99fc2-b2c3-458c-8b7f-3d755779b80b",
        "colab": {
          "base_uri": "https://localhost:8080/",
          "height": 406
        }
      },
      "source": [
        "df_ted[['views','comments']] "
      ],
      "execution_count": 5,
      "outputs": [
        {
          "output_type": "execute_result",
          "data": {
            "text/html": [
              "<div>\n",
              "<style scoped>\n",
              "    .dataframe tbody tr th:only-of-type {\n",
              "        vertical-align: middle;\n",
              "    }\n",
              "\n",
              "    .dataframe tbody tr th {\n",
              "        vertical-align: top;\n",
              "    }\n",
              "\n",
              "    .dataframe thead th {\n",
              "        text-align: right;\n",
              "    }\n",
              "</style>\n",
              "<table border=\"1\" class=\"dataframe\">\n",
              "  <thead>\n",
              "    <tr style=\"text-align: right;\">\n",
              "      <th></th>\n",
              "      <th>views</th>\n",
              "      <th>comments</th>\n",
              "    </tr>\n",
              "  </thead>\n",
              "  <tbody>\n",
              "    <tr>\n",
              "      <th>0</th>\n",
              "      <td>47227110</td>\n",
              "      <td>4553</td>\n",
              "    </tr>\n",
              "    <tr>\n",
              "      <th>1</th>\n",
              "      <td>3200520</td>\n",
              "      <td>265</td>\n",
              "    </tr>\n",
              "    <tr>\n",
              "      <th>2</th>\n",
              "      <td>1636292</td>\n",
              "      <td>124</td>\n",
              "    </tr>\n",
              "    <tr>\n",
              "      <th>3</th>\n",
              "      <td>1697550</td>\n",
              "      <td>200</td>\n",
              "    </tr>\n",
              "    <tr>\n",
              "      <th>4</th>\n",
              "      <td>12005869</td>\n",
              "      <td>593</td>\n",
              "    </tr>\n",
              "    <tr>\n",
              "      <th>...</th>\n",
              "      <td>...</td>\n",
              "      <td>...</td>\n",
              "    </tr>\n",
              "    <tr>\n",
              "      <th>2545</th>\n",
              "      <td>450430</td>\n",
              "      <td>17</td>\n",
              "    </tr>\n",
              "    <tr>\n",
              "      <th>2546</th>\n",
              "      <td>417470</td>\n",
              "      <td>6</td>\n",
              "    </tr>\n",
              "    <tr>\n",
              "      <th>2547</th>\n",
              "      <td>375647</td>\n",
              "      <td>10</td>\n",
              "    </tr>\n",
              "    <tr>\n",
              "      <th>2548</th>\n",
              "      <td>419309</td>\n",
              "      <td>32</td>\n",
              "    </tr>\n",
              "    <tr>\n",
              "      <th>2549</th>\n",
              "      <td>391721</td>\n",
              "      <td>8</td>\n",
              "    </tr>\n",
              "  </tbody>\n",
              "</table>\n",
              "<p>2550 rows × 2 columns</p>\n",
              "</div>"
            ],
            "text/plain": [
              "         views  comments\n",
              "0     47227110      4553\n",
              "1      3200520       265\n",
              "2      1636292       124\n",
              "3      1697550       200\n",
              "4     12005869       593\n",
              "...        ...       ...\n",
              "2545    450430        17\n",
              "2546    417470         6\n",
              "2547    375647        10\n",
              "2548    419309        32\n",
              "2549    391721         8\n",
              "\n",
              "[2550 rows x 2 columns]"
            ]
          },
          "metadata": {
            "tags": []
          },
          "execution_count": 5
        }
      ]
    },
    {
      "cell_type": "code",
      "metadata": {
        "id": "hxRYTaotF9Gi",
        "colab_type": "code",
        "outputId": "f0f521a5-624d-42df-acd4-54c8a50b33f0",
        "colab": {
          "base_uri": "https://localhost:8080/",
          "height": 282
        }
      },
      "source": [
        "# Because comments and views have strong correlation:\n",
        "from sklearn.linear_model import LinearRegression\n",
        "\n",
        "data = df_ted[['views','comments']]  # load data set\n",
        "X = data.iloc[:, 0].values.reshape(-1, 1)  # values converts it into a numpy array\n",
        "Y = data.iloc[:, 1].values.reshape(-1, 1)  # -1 means that calculate the dimension of rows, but have 1 column\n",
        "linear_regressor = LinearRegression()  # create object for the class\n",
        "linear_regressor.fit(X, Y)  # perform linear regression\n",
        "Y_pred = linear_regressor.predict(X)  # make predictions\n",
        "data.plot.scatter(x='views', y='comments', xlim=(1,7.722711e+06), ylim=(0,1004))\n",
        "plt.plot(X, Y_pred, color='red')\n",
        "plt.show()\n",
        "\n",
        "#var = 'views'\n",
        "#data = pd.concat([df_ted['comments'], df_ted[var]], axis=1)\n",
        "#data.plot.scatter(x=var, y='comments', xlim=(1,8.722711e+06), ylim=(0,1004));"
      ],
      "execution_count": 9,
      "outputs": [
        {
          "output_type": "display_data",
          "data": {
            "image/png": "[encoded data removed]",
            "text/plain": [
              "<Figure size 432x288 with 1 Axes>"
            ]
          },
          "metadata": {
            "tags": []
          }
        }
      ]
    },
    {
      "cell_type": "code",
      "metadata": {
        "id": "E2ETi4slMvsP",
        "colab_type": "code",
        "colab": {}
      },
      "source": [
        "# How to use number of comments to predict views\n",
        "\n"
      ],
      "execution_count": 0,
      "outputs": []
    },
    {
      "cell_type": "code",
      "metadata": {
        "id": "FwKQiCdrKKyU",
        "colab_type": "code",
        "colab": {}
      },
      "source": [
        "# Now, the next goal is to use the number of comments to predict views."
      ],
      "execution_count": 0,
      "outputs": []
    },
    {
      "cell_type": "code",
      "metadata": {
        "id": "RFOrZ-RwUH3q",
        "colab_type": "code",
        "colab": {}
      },
      "source": [
        "df_ted.shape"
      ],
      "execution_count": 0,
      "outputs": []
    },
    {
      "cell_type": "code",
      "metadata": {
        "id": "4YxKkrjoUNOK",
        "colab_type": "code",
        "colab": {}
      },
      "source": [
        "df_ted.columns"
      ],
      "execution_count": 0,
      "outputs": []
    },
    {
      "cell_type": "code",
      "metadata": {
        "id": "HlyAN6T3URBd",
        "colab_type": "code",
        "colab": {}
      },
      "source": [
        "df_ted.describe()"
      ],
      "execution_count": 0,
      "outputs": []
    },
    {
      "cell_type": "code",
      "metadata": {
        "id": "UPPIY0Nv6upP",
        "colab_type": "code",
        "colab": {}
      },
      "source": [
        "# Finding the null values\n",
        "print(df_ted.isnull().sum())"
      ],
      "execution_count": 0,
      "outputs": []
    },
    {
      "cell_type": "code",
      "metadata": {
        "id": "ryDatc4U7aEJ",
        "colab_type": "code",
        "colab": {}
      },
      "source": [
        "# Identify the null values rolls\n",
        "no_speaker_occ = df_ted[df_ted[\"speaker_occupation\"].isnull()]\n",
        "no_speaker_occ"
      ],
      "execution_count": 0,
      "outputs": []
    },
    {
      "cell_type": "code",
      "metadata": {
        "id": "BZvZoO2Y-9py",
        "colab_type": "code",
        "colab": {}
      },
      "source": [
        "df_ted['views'].describe()"
      ],
      "execution_count": 0,
      "outputs": []
    },
    {
      "cell_type": "code",
      "metadata": {
        "id": "FpB3i6IfUsa1",
        "colab_type": "code",
        "colab": {}
      },
      "source": [
        "no_speaker_occ['views'].describe()"
      ],
      "execution_count": 0,
      "outputs": []
    },
    {
      "cell_type": "code",
      "metadata": {
        "id": "6OOoPyt0UuP_",
        "colab_type": "code",
        "colab": {}
      },
      "source": [
        "# Finding:\n",
        "# Becuase the average views for ted talks that speakers' have no occupations is samller than the average views.\n",
        "# I want to learn more about the relationship between occupations & views."
      ],
      "execution_count": 0,
      "outputs": []
    },
    {
      "cell_type": "code",
      "metadata": {
        "id": "GC6_r5fBVTBE",
        "colab_type": "code",
        "colab": {}
      },
      "source": [
        "df_ted['speaker_occupation'].describe()"
      ],
      "execution_count": 0,
      "outputs": []
    },
    {
      "cell_type": "code",
      "metadata": {
        "id": "V861uUzpVVb4",
        "colab_type": "code",
        "colab": {}
      },
      "source": [
        "print('The most popular occupation for speakers is Writer.')\n",
        "# later, in the graphing area, I will explore more about how different occupations are related to views."
      ],
      "execution_count": 0,
      "outputs": []
    },
    {
      "cell_type": "code",
      "metadata": {
        "id": "1__MAnhbV--q",
        "colab_type": "code",
        "colab": {}
      },
      "source": [
        "# How many unique occupations?\n",
        "print('NUMBER OF UNIQUE OCCUPATIONS')\n",
        "print(len(df_ted['speaker_occupation'].unique()))"
      ],
      "execution_count": 0,
      "outputs": []
    },
    {
      "cell_type": "code",
      "metadata": {
        "id": "fHlFrEY0WHIC",
        "colab_type": "code",
        "colab": {}
      },
      "source": [
        "# How many unique speakers?\n",
        "print('NUMBER OF UNIQUE SPEAKERS')\n",
        "print(len(df_ted['main_speaker'].unique()))"
      ],
      "execution_count": 0,
      "outputs": []
    },
    {
      "cell_type": "code",
      "metadata": {
        "id": "X-ZsAzvxWZhi",
        "colab_type": "code",
        "colab": {}
      },
      "source": [
        "# How many unique event?\n",
        "print('NUMBER OF UNIQUE EVENT')\n",
        "print(len(df_ted['event'].unique()))"
      ],
      "execution_count": 0,
      "outputs": []
    },
    {
      "cell_type": "code",
      "metadata": {
        "id": "Iq3-Al7W_jth",
        "colab_type": "code",
        "colab": {}
      },
      "source": [
        "# histogram\n",
        "# to learn about how do views distribute\n",
        "sns.distplot(df_ted['views']);"
      ],
      "execution_count": 0,
      "outputs": []
    },
    {
      "cell_type": "markdown",
      "metadata": {
        "id": "J60t_e5IBK1i",
        "colab_type": "text"
      },
      "source": [
        "Relationship with numerical variables"
      ]
    },
    {
      "cell_type": "markdown",
      "metadata": {
        "id": "P19ZCDeVBa_g",
        "colab_type": "text"
      },
      "source": [
        "scatter plot comments/views"
      ]
    },
    {
      "cell_type": "code",
      "metadata": {
        "id": "-N-_e6yH_4L_",
        "colab_type": "code",
        "colab": {}
      },
      "source": [
        "# is the the number of comments related to the popularity?\n",
        "\n",
        "var = 'comments'\n",
        "data = pd.concat([df_ted['views'], df_ted[var]], axis=1)\n",
        "data.plot.scatter(x=var, y='views', xlim=(1,400), ylim=(0,7000000));\n"
      ],
      "execution_count": 0,
      "outputs": []
    },
    {
      "cell_type": "markdown",
      "metadata": {
        "id": "nyn8SreZBWKl",
        "colab_type": "text"
      },
      "source": [
        "scatter plot languages/views"
      ]
    },
    {
      "cell_type": "code",
      "metadata": {
        "id": "pYcvkQSDAmCH",
        "colab_type": "code",
        "colab": {}
      },
      "source": [
        "# is the the number of language available related to the popularity?\n",
        "\n",
        "var = 'languages'\n",
        "data = pd.concat([df_ted['views'], df_ted[var]], axis=1)\n",
        "data.plot.scatter(x=var, y='views', xlim=(1,51), ylim=(0,7000000));\n"
      ],
      "execution_count": 0,
      "outputs": []
    },
    {
      "cell_type": "markdown",
      "metadata": {
        "id": "Hy-Fw2EPBQxQ",
        "colab_type": "text"
      },
      "source": [
        "scatter plot num_speaker/views"
      ]
    },
    {
      "cell_type": "code",
      "metadata": {
        "id": "0cL0oETfA2Y_",
        "colab_type": "code",
        "colab": {}
      },
      "source": [
        "# is the the number of speakers related to the popularity?\n",
        "\n",
        "var = 'num_speaker'\n",
        "data = pd.concat([df_ted['views'], df_ted[var]], axis=1)\n",
        "data.plot.scatter(x=var, y='views', xlim=(1,5), ylim=(0,7000000));\n"
      ],
      "execution_count": 0,
      "outputs": []
    },
    {
      "cell_type": "markdown",
      "metadata": {
        "id": "GbTCTIdpBHlQ",
        "colab_type": "text"
      },
      "source": [
        "Relationship with categorical features"
      ]
    },
    {
      "cell_type": "code",
      "metadata": {
        "id": "pcfq60lQAa3W",
        "colab_type": "code",
        "colab": {}
      },
      "source": [
        "# box plot views/speaker_occupation\n",
        "# is the the speaker occupation related to the popularity?\n",
        "\n",
        "var = 'views'\n",
        "data = pd.concat([df_ted['speaker_occupation'], df_ted[var]], axis=1)\n",
        "f, ax = plt.subplots(figsize=(8, 6))\n",
        "fig = sns.boxplot(x=var, y=\"speaker_occupation\", data=data)\n",
        "fig.axis(ymin=0, xmax=2e+07, ymax = 10);"
      ],
      "execution_count": 0,
      "outputs": []
    },
    {
      "cell_type": "code",
      "metadata": {
        "id": "Y625DJ8c5YK-",
        "colab_type": "code",
        "colab": {}
      },
      "source": [
        "no_speaker_occ['views'].describe()"
      ],
      "execution_count": 0,
      "outputs": []
    },
    {
      "cell_type": "code",
      "metadata": {
        "id": "c4a3VCxY54XP",
        "colab_type": "code",
        "colab": {}
      },
      "source": [
        "df_ted[df_ted['main_speaker'] == 'Hans Rosling']"
      ],
      "execution_count": 0,
      "outputs": []
    },
    {
      "cell_type": "code",
      "metadata": {
        "id": "PsTgMDQUXyhT",
        "colab_type": "code",
        "colab": {}
      },
      "source": [
        "# discovering patterns from the most popular speaker, Hans Rosling"
      ],
      "execution_count": 0,
      "outputs": []
    },
    {
      "cell_type": "code",
      "metadata": {
        "id": "SUrPES0mDkT0",
        "colab_type": "code",
        "colab": {}
      },
      "source": [
        "df_ted.groupby('event').sum()"
      ],
      "execution_count": 0,
      "outputs": []
    },
    {
      "cell_type": "code",
      "metadata": {
        "id": "OSGBI9ayRKqc",
        "colab_type": "code",
        "colab": {}
      },
      "source": [
        "df_ted['event'].describe()"
      ],
      "execution_count": 0,
      "outputs": []
    },
    {
      "cell_type": "code",
      "metadata": {
        "id": "vvWz4O7qQbKy",
        "colab_type": "code",
        "colab": {}
      },
      "source": [
        "# box plot views/speaker_occupation\n",
        "var = 'views'\n",
        "data = pd.concat([df_ted['event'], df_ted[var]], axis=1)\n",
        "f, ax = plt.subplots(figsize=(8, 6))\n",
        "fig = sns.boxplot(x=var, y=\"event\", data=data)\n",
        "fig.axis(ymin=0, xmax=8000000, ymax = 20);"
      ],
      "execution_count": 0,
      "outputs": []
    },
    {
      "cell_type": "code",
      "metadata": {
        "id": "OvtT3pbSEn9X",
        "colab_type": "code",
        "colab": {}
      },
      "source": [
        "#histogram and normal probability plot\n",
        "sns.distplot(df_ted['views'], fit=norm);\n",
        "fig = plt.figure()\n",
        "res = stats.probplot(df_ted['views'], plot=plt)"
      ],
      "execution_count": 0,
      "outputs": []
    },
    {
      "cell_type": "code",
      "metadata": {
        "id": "CeULk7w2LiN1",
        "colab_type": "code",
        "colab": {}
      },
      "source": [
        "# Upload the \"Cleanned\" dataset\n",
        "\n",
        "url = 'https://raw.githubusercontent.com/PoojaDoctor/Data144-FinalProject/master/datasets/cleaned.csv'\n",
        "df_cleanned = pd.read_csv(url)\n",
        "# Dataset is now stored in a Pandas Dataframe\n",
        "df_cleanned.head(3)"
      ],
      "execution_count": 0,
      "outputs": []
    },
    {
      "cell_type": "markdown",
      "metadata": {
        "id": "11wWfeYJMJac",
        "colab_type": "text"
      },
      "source": [
        "# **RANDOM FOREST:**"
      ]
    },
    {
      "cell_type": "code",
      "metadata": {
        "id": "Fg2iAudoMLHt",
        "colab_type": "code",
        "colab": {}
      },
      "source": [
        "#Import scikit-learn dataset library\n",
        "from sklearn import datasets\n",
        "data = df_cleanned\n",
        "\n",
        "# Import train_test_split function\n",
        "from sklearn.model_selection import train_test_split\n",
        "\n",
        "X=data[['duration', 'languages','comments', 'month', 'Funny','Beautiful','Ingenious','Courageous','Longwinded',\n",
        "        'Confusing','Informative','Fascinating','Unconvincing','Persuasive','Jaw-dropping','OK']]  # Features\n",
        "y=data['views']  # Labels\n",
        "\n",
        "# Split dataset into training set and test set\n",
        "X_train, X_test, y_train, y_test = train_test_split(X, y, test_size=0.3) # 70% training and 30% test"
      ],
      "execution_count": 0,
      "outputs": []
    },
    {
      "cell_type": "code",
      "metadata": {
        "id": "DT7QtatKSmM3",
        "colab_type": "code",
        "colab": {}
      },
      "source": [
        "#Import scikit-learn metrics module for accuracy calculation\n",
        "from sklearn import metrics\n",
        "# Model Accuracy, how often is the classifier correct?\n",
        "print(\"Accuracy:\",metrics.accuracy_score(y_test, y_pred))\n",
        "\n",
        "print('Accuracy with descriptive labels is Accuracy: 0.001349527665317139')"
      ],
      "execution_count": 0,
      "outputs": []
    },
    {
      "cell_type": "code",
      "metadata": {
        "id": "9iUwk7SMzuwB",
        "colab_type": "code",
        "colab": {}
      },
      "source": [
        "url = 'https://raw.githubusercontent.com/PoojaDoctor/Data144-FinalProject/master/datasets/cleaned.csv'\n",
        "df_cleanned = pd.read_csv(url)"
      ],
      "execution_count": 0,
      "outputs": []
    },
    {
      "cell_type": "code",
      "metadata": {
        "id": "S-LYfWLfzFzT",
        "colab_type": "code",
        "colab": {}
      },
      "source": [
        "#Import scikit-learn dataset library\n",
        "from sklearn import datasets\n",
        "data = df_cleanned\n",
        "\n",
        "# Import train_test_split function\n",
        "from sklearn.model_selection import train_test_split\n",
        "\n",
        "X=data[['duration', 'languages','comments', 'month', 'num_speaker']]  # Features\n",
        "y=data['views']  # Labels\n",
        "\n",
        "# Split dataset into training set and test set\n",
        "X_train, X_test, y_train, y_test = train_test_split(X, y, test_size=0.3) # 70% training and 30% test"
      ],
      "execution_count": 0,
      "outputs": []
    },
    {
      "cell_type": "code",
      "metadata": {
        "id": "zXOlgtsdL1RZ",
        "colab_type": "code",
        "colab": {}
      },
      "source": [
        "#Import scikit-learn metrics module for accuracy calculation\n",
        "from sklearn import metrics\n",
        "# Model Accuracy, how often is the classifier correct?\n",
        "# print(\"Accuracy:\",metrics.accuracy_score(y_test, y_pred))\n",
        "\n",
        "print('Accuracy without descriptive labels is Accuracy: 0.005398110661268556')"
      ],
      "execution_count": 0,
      "outputs": []
    },
    {
      "cell_type": "code",
      "metadata": {
        "id": "Qji3Q4eYL1PW",
        "colab_type": "code",
        "colab": {}
      },
      "source": [
        "# Now you can predict approximate how many views it is.\n",
        "# helpful link: https://www.datacamp.com/community/tutorials/random-forests-classifier-python"
      ],
      "execution_count": 0,
      "outputs": []
    },
    {
      "cell_type": "code",
      "metadata": {
        "id": "YSdjSUCkRREi",
        "colab_type": "code",
        "colab": {}
      },
      "source": [
        "from sklearn.ensemble import RandomForestClassifier\n",
        "\n",
        "#Create a Gaussian Classifier\n",
        "clf=RandomForestClassifier(n_estimators=100)\n",
        "\n",
        "#Train the model using the training sets y_pred=clf.predict(X_test)\n",
        "clf.fit(X_train,y_train)"
      ],
      "execution_count": 0,
      "outputs": []
    },
    {
      "cell_type": "markdown",
      "metadata": {
        "id": "POs_RqopQvTc",
        "colab_type": "text"
      },
      "source": [
        "Conclude Random Forest.\n",
        "\n",
        "Explore: what will make the best accuracy?"
      ]
    },
    {
      "cell_type": "markdown",
      "metadata": {
        "id": "zeF_8mjHQ4kT",
        "colab_type": "text"
      },
      "source": [
        "# **DECISION TREE**"
      ]
    },
    {
      "cell_type": "code",
      "metadata": {
        "id": "JSY3Y3g_L1N1",
        "colab_type": "code",
        "colab": {}
      },
      "source": [
        "# Load libraries\n",
        "import pandas as pd\n",
        "from sklearn.tree import DecisionTreeClassifier # Import Decision Tree Classifier\n",
        "from sklearn.model_selection import train_test_split # Import train_test_split function\n",
        "from sklearn import metrics #Import scikit-learn metrics module for accuracy calculation"
      ],
      "execution_count": 0,
      "outputs": []
    },
    {
      "cell_type": "code",
      "metadata": {
        "id": "SafRfOJBL1L3",
        "colab_type": "code",
        "colab": {}
      },
      "source": [
        "pima = pd.read_csv('https://raw.githubusercontent.com/PoojaDoctor/Data144-FinalProject/master/datasets/cleaned.csv')\n",
        "pima.head()"
      ],
      "execution_count": 0,
      "outputs": []
    },
    {
      "cell_type": "code",
      "metadata": {
        "id": "-K0hGL0pL1Fk",
        "colab_type": "code",
        "colab": {}
      },
      "source": [
        "#split dataset in features and target variable\n",
        "feature_cols = ['duration', 'languages','comments','num_speaker', 'month']\n",
        "X = pima[feature_cols] # Features\n",
        "y = pima.views # Target variable"
      ],
      "execution_count": 0,
      "outputs": []
    },
    {
      "cell_type": "code",
      "metadata": {
        "id": "m24LJDCdL1Dv",
        "colab_type": "code",
        "colab": {}
      },
      "source": [
        "# Split dataset into training set and test set\n",
        "X_train, X_test, y_train, y_test = train_test_split(X, y, test_size=0.3, random_state=1) # 70% training and 30% test"
      ],
      "execution_count": 0,
      "outputs": []
    },
    {
      "cell_type": "code",
      "metadata": {
        "id": "4hfbil2gL1B_",
        "colab_type": "code",
        "colab": {}
      },
      "source": [
        "# Create Decision Tree classifer object\n",
        "clf = DecisionTreeClassifier()\n",
        "\n",
        "# Train Decision Tree Classifer\n",
        "clf = clf.fit(X_train,y_train)\n",
        "\n",
        "#Predict the response for test dataset\n",
        "y_pred = clf.predict(X_test)"
      ],
      "execution_count": 0,
      "outputs": []
    },
    {
      "cell_type": "code",
      "metadata": {
        "id": "7FDL3QaxL09b",
        "colab_type": "code",
        "colab": {}
      },
      "source": [
        "# Model Accuracy, how often is the classifier correct?\n",
        "print(\"Accuracy:\",metrics.accuracy_score(y_test, y_pred))\n",
        "\n",
        "print('The accuracy of metrics in decision tree is higher, 0.006747638326585695, is higher than the random forest.')"
      ],
      "execution_count": 0,
      "outputs": []
    },
    {
      "cell_type": "code",
      "metadata": {
        "id": "PoAlVmenL03T",
        "colab_type": "code",
        "colab": {}
      },
      "source": [
        "#from sklearn.tree import export_graphviz\n",
        "#from sklearn.externals.six import StringIO  \n",
        "#from IPython.display import Image  \n",
        "#import pydotplus\n",
        "\n",
        "#dot_data = StringIO()\n",
        "#export_graphviz(clf, out_file=dot_data,  \n",
        "#                filled=True, rounded=True,\n",
        "#                special_characters=True, feature_names = feature_cols)\n",
        "#graph = pydotplus.graph_from_dot_data(dot_data.getvalue())  \n",
        "#graph.write_png('diabetes.png')\n",
        "#Image(graph.create_png())\n",
        "\n",
        "# Error: Program terminated with status: -9. stderr follows: dot: graph is too large for cairo-renderer bitmaps.\n",
        "# https://www.datacamp.com/community/tutorials/decision-tree-classification-python"
      ],
      "execution_count": 0,
      "outputs": []
    },
    {
      "cell_type": "markdown",
      "metadata": {
        "id": "HU5pZmf02Slg",
        "colab_type": "text"
      },
      "source": [
        "# In Scikit-learn, optimization of decision tree classifier"
      ]
    },
    {
      "cell_type": "code",
      "metadata": {
        "id": "_gipm9enL0v7",
        "colab_type": "code",
        "colab": {}
      },
      "source": [
        "# Create Decision Tree classifer object\n",
        "clf = DecisionTreeClassifier(criterion=\"entropy\", max_depth=3)\n",
        "\n",
        "# Train Decision Tree Classifer\n",
        "clf = clf.fit(X_train,y_train)\n",
        "\n",
        "#Predict the response for test dataset\n",
        "y_pred = clf.predict(X_test)\n",
        "\n",
        "# Model Accuracy, how often is the classifier correct?\n",
        "print(\"Accuracy:\",metrics.accuracy_score(y_test, y_pred))\n",
        "\n",
        "print('The accuracy with scikit-learn does not help to optimize the accuracy')"
      ],
      "execution_count": 0,
      "outputs": []
    },
    {
      "cell_type": "markdown",
      "metadata": {
        "id": "3ic_prvw36_5",
        "colab_type": "text"
      },
      "source": [
        "# **Neural Network**"
      ]
    },
    {
      "cell_type": "code",
      "metadata": {
        "id": "HjT6DXZd39o7",
        "colab_type": "code",
        "colab": {
          "base_uri": "https://localhost:8080/",
          "height": 534
        },
        "outputId": "b261a32c-e57c-4b82-fdbc-5404147361fd"
      },
      "source": [
        "import os\n",
        "import string\n",
        "import pandas as pd\n",
        "import numpy as np\n",
        "import re\n",
        "import pprint\n",
        "from urllib.request import urlopen\n",
        "\n",
        "import gensim\n",
        "from gensim import corpora, models, similarities\n",
        "import nltk\n",
        "from nltk import word_tokenize, tokenize\n",
        "\n",
        "!pip install gensim\n",
        "!wget -nc https://s3.amazonaws.com/dl4j-distribution/GoogleNews-vectors-negative300.bin.gz \n",
        "\n",
        "import pandas as pd\n",
        "import numpy as np \n",
        "import gensim"
      ],
      "execution_count": 3,
      "outputs": [
        {
          "output_type": "stream",
          "text": [
            "Requirement already satisfied: gensim in /usr/local/lib/python3.6/dist-packages (3.6.0)\n",
            "Requirement already satisfied: numpy>=1.11.3 in /usr/local/lib/python3.6/dist-packages (from gensim) (1.17.4)\n",
            "Requirement already satisfied: six>=1.5.0 in /usr/local/lib/python3.6/dist-packages (from gensim) (1.12.0)\n",
            "Requirement already satisfied: smart-open>=1.2.1 in /usr/local/lib/python3.6/dist-packages (from gensim) (1.9.0)\n",
            "Requirement already satisfied: scipy>=0.18.1 in /usr/local/lib/python3.6/dist-packages (from gensim) (1.3.2)\n",
            "Requirement already satisfied: boto>=2.32 in /usr/local/lib/python3.6/dist-packages (from smart-open>=1.2.1->gensim) (2.49.0)\n",
            "Requirement already satisfied: boto3 in /usr/local/lib/python3.6/dist-packages (from smart-open>=1.2.1->gensim) (1.10.18)\n",
            "Requirement already satisfied: requests in /usr/local/lib/python3.6/dist-packages (from smart-open>=1.2.1->gensim) (2.21.0)\n",
            "Requirement already satisfied: s3transfer<0.3.0,>=0.2.0 in /usr/local/lib/python3.6/dist-packages (from boto3->smart-open>=1.2.1->gensim) (0.2.1)\n",
            "Requirement already satisfied: jmespath<1.0.0,>=0.7.1 in /usr/local/lib/python3.6/dist-packages (from boto3->smart-open>=1.2.1->gensim) (0.9.4)\n",
            "Requirement already satisfied: botocore<1.14.0,>=1.13.18 in /usr/local/lib/python3.6/dist-packages (from boto3->smart-open>=1.2.1->gensim) (1.13.18)\n",
            "Requirement already satisfied: idna<2.9,>=2.5 in /usr/local/lib/python3.6/dist-packages (from requests->smart-open>=1.2.1->gensim) (2.8)\n",
            "Requirement already satisfied: chardet<3.1.0,>=3.0.2 in /usr/local/lib/python3.6/dist-packages (from requests->smart-open>=1.2.1->gensim) (3.0.4)\n",
            "Requirement already satisfied: urllib3<1.25,>=1.21.1 in /usr/local/lib/python3.6/dist-packages (from requests->smart-open>=1.2.1->gensim) (1.24.3)\n",
            "Requirement already satisfied: certifi>=2017.4.17 in /usr/local/lib/python3.6/dist-packages (from requests->smart-open>=1.2.1->gensim) (2019.9.11)\n",
            "Requirement already satisfied: python-dateutil<2.8.1,>=2.1; python_version >= \"2.7\" in /usr/local/lib/python3.6/dist-packages (from botocore<1.14.0,>=1.13.18->boto3->smart-open>=1.2.1->gensim) (2.6.1)\n",
            "Requirement already satisfied: docutils<0.16,>=0.10 in /usr/local/lib/python3.6/dist-packages (from botocore<1.14.0,>=1.13.18->boto3->smart-open>=1.2.1->gensim) (0.15.2)\n",
            "--2019-11-23 01:45:30--  https://s3.amazonaws.com/dl4j-distribution/GoogleNews-vectors-negative300.bin.gz\n",
            "Resolving s3.amazonaws.com (s3.amazonaws.com)... 52.217.8.102\n",
            "Connecting to s3.amazonaws.com (s3.amazonaws.com)|52.217.8.102|:443... connected.\n",
            "HTTP request sent, awaiting response... 200 OK\n",
            "Length: 1647046227 (1.5G) [application/x-gzip]\n",
            "Saving to: ‘GoogleNews-vectors-negative300.bin.gz’\n",
            "\n",
            "GoogleNews-vectors- 100%[===================>]   1.53G  35.5MB/s    in 45s     \n",
            "\n",
            "2019-11-23 01:46:16 (34.6 MB/s) - ‘GoogleNews-vectors-negative300.bin.gz’ saved [1647046227/1647046227]\n",
            "\n"
          ],
          "name": "stdout"
        }
      ]
    },
    {
      "cell_type": "code",
      "metadata": {
        "id": "r7z6cLB25lBq",
        "colab_type": "code",
        "colab": {}
      },
      "source": [
        "from gensim.models import KeyedVectors\n",
        "model = KeyedVectors.load_word2vec_format('GoogleNews-vectors-negative300.bin.gz', binary=True)"
      ],
      "execution_count": 0,
      "outputs": []
    },
    {
      "cell_type": "code",
      "metadata": {
        "id": "axewD9_r5nm6",
        "colab_type": "code",
        "colab": {
          "base_uri": "https://localhost:8080/",
          "height": 1000
        },
        "outputId": "89ef805e-873e-43e1-9688-fe4d6f85e5ad"
      },
      "source": [
        "word_vectors = model.wv\n",
        "word_vectors.vocab"
      ],
      "execution_count": 5,
      "outputs": [
        {
          "output_type": "execute_result",
          "data": {
            "text/plain": [
              "{'</s>': <gensim.models.keyedvectors.Vocab at 0x7f2f5acf84a8>,\n",
              " 'in': <gensim.models.keyedvectors.Vocab at 0x7f2f5acf8588>,\n",
              " 'for': <gensim.models.keyedvectors.Vocab at 0x7f2f5acf85f8>,\n",
              " 'that': <gensim.models.keyedvectors.Vocab at 0x7f2f5acf8668>,\n",
              " 'is': <gensim.models.keyedvectors.Vocab at 0x7f2f5acf86d8>,\n",
              " 'on': <gensim.models.keyedvectors.Vocab at 0x7f2f5acf8748>,\n",
              " '##': <gensim.models.keyedvectors.Vocab at 0x7f2f5acf87b8>,\n",
              " 'The': <gensim.models.keyedvectors.Vocab at 0x7f2f5acf8828>,\n",
              " 'with': <gensim.models.keyedvectors.Vocab at 0x7f2f5acf8898>,\n",
              " 'said': <gensim.models.keyedvectors.Vocab at 0x7f2f5acf8908>,\n",
              " 'was': <gensim.models.keyedvectors.Vocab at 0x7f2f5acf8978>,\n",
              " 'the': <gensim.models.keyedvectors.Vocab at 0x7f2f5acf89e8>,\n",
              " 'at': <gensim.models.keyedvectors.Vocab at 0x7f2f5acf8a58>,\n",
              " 'not': <gensim.models.keyedvectors.Vocab at 0x7f2f5acf8ac8>,\n",
              " 'as': <gensim.models.keyedvectors.Vocab at 0x7f2f5acf8b38>,\n",
              " 'it': <gensim.models.keyedvectors.Vocab at 0x7f2f5acf8ba8>,\n",
              " 'be': <gensim.models.keyedvectors.Vocab at 0x7f2f5acf8c18>,\n",
              " 'from': <gensim.models.keyedvectors.Vocab at 0x7f2f5acf8c88>,\n",
              " 'by': <gensim.models.keyedvectors.Vocab at 0x7f2f5acf8cf8>,\n",
              " 'are': <gensim.models.keyedvectors.Vocab at 0x7f2f5acf8d68>,\n",
              " 'I': <gensim.models.keyedvectors.Vocab at 0x7f2f5acf8da0>,\n",
              " 'have': <gensim.models.keyedvectors.Vocab at 0x7f2f5acf8e10>,\n",
              " 'he': <gensim.models.keyedvectors.Vocab at 0x7f2f5acf8e80>,\n",
              " 'will': <gensim.models.keyedvectors.Vocab at 0x7f2f5acf8ef0>,\n",
              " 'has': <gensim.models.keyedvectors.Vocab at 0x7f2f5acf8f60>,\n",
              " '####': <gensim.models.keyedvectors.Vocab at 0x7f2f5acf8fd0>,\n",
              " 'his': <gensim.models.keyedvectors.Vocab at 0x7f2f5ad13080>,\n",
              " 'an': <gensim.models.keyedvectors.Vocab at 0x7f2f5ad130f0>,\n",
              " 'this': <gensim.models.keyedvectors.Vocab at 0x7f2f5ad13160>,\n",
              " 'or': <gensim.models.keyedvectors.Vocab at 0x7f2f5ad131d0>,\n",
              " 'their': <gensim.models.keyedvectors.Vocab at 0x7f2f5ad13240>,\n",
              " 'who': <gensim.models.keyedvectors.Vocab at 0x7f2f5ad132b0>,\n",
              " 'they': <gensim.models.keyedvectors.Vocab at 0x7f2f5ad13320>,\n",
              " 'but': <gensim.models.keyedvectors.Vocab at 0x7f2f5ad13390>,\n",
              " '$': <gensim.models.keyedvectors.Vocab at 0x7f2f5ad133c8>,\n",
              " 'had': <gensim.models.keyedvectors.Vocab at 0x7f2f5ad13438>,\n",
              " 'year': <gensim.models.keyedvectors.Vocab at 0x7f2f5ad134a8>,\n",
              " 'were': <gensim.models.keyedvectors.Vocab at 0x7f2f5ad13518>,\n",
              " 'we': <gensim.models.keyedvectors.Vocab at 0x7f2f5ad13588>,\n",
              " 'more': <gensim.models.keyedvectors.Vocab at 0x7f2f5ad135f8>,\n",
              " '###': <gensim.models.keyedvectors.Vocab at 0x7f2f5ad13668>,\n",
              " 'up': <gensim.models.keyedvectors.Vocab at 0x7f2f5ad136d8>,\n",
              " 'been': <gensim.models.keyedvectors.Vocab at 0x7f2f5ad13748>,\n",
              " 'you': <gensim.models.keyedvectors.Vocab at 0x7f2f5ad137b8>,\n",
              " 'its': <gensim.models.keyedvectors.Vocab at 0x7f2f5ad13828>,\n",
              " 'one': <gensim.models.keyedvectors.Vocab at 0x7f2f5ad13898>,\n",
              " 'about': <gensim.models.keyedvectors.Vocab at 0x7f2f5ad13908>,\n",
              " 'would': <gensim.models.keyedvectors.Vocab at 0x7f2f5ad13978>,\n",
              " 'which': <gensim.models.keyedvectors.Vocab at 0x7f2f5ad139e8>,\n",
              " 'out': <gensim.models.keyedvectors.Vocab at 0x7f2f5ad13a58>,\n",
              " 'can': <gensim.models.keyedvectors.Vocab at 0x7f2f5ad13ac8>,\n",
              " 'It': <gensim.models.keyedvectors.Vocab at 0x7f2f5ad13b38>,\n",
              " 'all': <gensim.models.keyedvectors.Vocab at 0x7f2f5ad13ba8>,\n",
              " 'also': <gensim.models.keyedvectors.Vocab at 0x7f2f5ad13c18>,\n",
              " 'two': <gensim.models.keyedvectors.Vocab at 0x7f2f5ad13c88>,\n",
              " 'after': <gensim.models.keyedvectors.Vocab at 0x7f2f5ad13cf8>,\n",
              " 'first': <gensim.models.keyedvectors.Vocab at 0x7f2f5ad13d68>,\n",
              " 'He': <gensim.models.keyedvectors.Vocab at 0x7f2f5ad13dd8>,\n",
              " 'do': <gensim.models.keyedvectors.Vocab at 0x7f2f5ad13e48>,\n",
              " 'time': <gensim.models.keyedvectors.Vocab at 0x7f2f5ad13eb8>,\n",
              " 'than': <gensim.models.keyedvectors.Vocab at 0x7f2f5ad13f28>,\n",
              " 'when': <gensim.models.keyedvectors.Vocab at 0x7f2f5ad13f98>,\n",
              " 'We': <gensim.models.keyedvectors.Vocab at 0x7f2f5ad12ac8>,\n",
              " 'over': <gensim.models.keyedvectors.Vocab at 0x7f2f5ad12080>,\n",
              " 'last': <gensim.models.keyedvectors.Vocab at 0x7f2f5ad120f0>,\n",
              " 'new': <gensim.models.keyedvectors.Vocab at 0x7f2f5ad12128>,\n",
              " 'other': <gensim.models.keyedvectors.Vocab at 0x7f2f5ad12240>,\n",
              " 'her': <gensim.models.keyedvectors.Vocab at 0x7f2f5ad12208>,\n",
              " 'people': <gensim.models.keyedvectors.Vocab at 0x7f2f5ad12278>,\n",
              " 'into': <gensim.models.keyedvectors.Vocab at 0x7f2f5ad122b0>,\n",
              " 'In': <gensim.models.keyedvectors.Vocab at 0x7f2f5ad12320>,\n",
              " 'our': <gensim.models.keyedvectors.Vocab at 0x7f2f5ad12390>,\n",
              " 'there': <gensim.models.keyedvectors.Vocab at 0x7f2f5ad12400>,\n",
              " 'A': <gensim.models.keyedvectors.Vocab at 0x7f2f5ad12438>,\n",
              " 'she': <gensim.models.keyedvectors.Vocab at 0x7f2f5ad124a8>,\n",
              " 'could': <gensim.models.keyedvectors.Vocab at 0x7f2f5ad12518>,\n",
              " 'just': <gensim.models.keyedvectors.Vocab at 0x7f2f5ad12588>,\n",
              " 'years': <gensim.models.keyedvectors.Vocab at 0x7f2f5ad125f8>,\n",
              " 'some': <gensim.models.keyedvectors.Vocab at 0x7f2f5ad12668>,\n",
              " 'U.S.': <gensim.models.keyedvectors.Vocab at 0x7f2f5ad126d8>,\n",
              " 'three': <gensim.models.keyedvectors.Vocab at 0x7f2f5ad12748>,\n",
              " 'million': <gensim.models.keyedvectors.Vocab at 0x7f2f5ad127b8>,\n",
              " 'them': <gensim.models.keyedvectors.Vocab at 0x7f2f5ad12898>,\n",
              " 'what': <gensim.models.keyedvectors.Vocab at 0x7f2f5ad128d0>,\n",
              " 'But': <gensim.models.keyedvectors.Vocab at 0x7f2f5ad129e8>,\n",
              " 'so': <gensim.models.keyedvectors.Vocab at 0x7f2f5ad129b0>,\n",
              " 'no': <gensim.models.keyedvectors.Vocab at 0x7f2f5ad12a90>,\n",
              " 'like': <gensim.models.keyedvectors.Vocab at 0x7f2f5ad12b00>,\n",
              " 'if': <gensim.models.keyedvectors.Vocab at 0x7f2f5ad12ba8>,\n",
              " 'only': <gensim.models.keyedvectors.Vocab at 0x7f2f5ad12be0>,\n",
              " 'percent': <gensim.models.keyedvectors.Vocab at 0x7f2f5ad12c50>,\n",
              " 'get': <gensim.models.keyedvectors.Vocab at 0x7f2f5ad12c88>,\n",
              " 'did': <gensim.models.keyedvectors.Vocab at 0x7f2f5ad12d30>,\n",
              " 'him': <gensim.models.keyedvectors.Vocab at 0x7f2f5ad12dd8>,\n",
              " 'game': <gensim.models.keyedvectors.Vocab at 0x7f2f5ad12e10>,\n",
              " 'back': <gensim.models.keyedvectors.Vocab at 0x7f2f5ad12e80>,\n",
              " 'because': <gensim.models.keyedvectors.Vocab at 0x7f2f5ad12ef0>,\n",
              " 'now': <gensim.models.keyedvectors.Vocab at 0x7f2f5ad12f60>,\n",
              " '#.#': <gensim.models.keyedvectors.Vocab at 0x7f2f5ad12fd0>,\n",
              " 'before': <gensim.models.keyedvectors.Vocab at 0x7f2f5ad1a080>,\n",
              " 'company': <gensim.models.keyedvectors.Vocab at 0x7f2f5ad1a0f0>,\n",
              " 'any': <gensim.models.keyedvectors.Vocab at 0x7f2f5ad1a160>,\n",
              " 'team': <gensim.models.keyedvectors.Vocab at 0x7f2f5ad1a1d0>,\n",
              " 'against': <gensim.models.keyedvectors.Vocab at 0x7f2f5ad1a240>,\n",
              " 'off': <gensim.models.keyedvectors.Vocab at 0x7f2f5ad1a2b0>,\n",
              " 'This': <gensim.models.keyedvectors.Vocab at 0x7f2f5ad1a320>,\n",
              " 'most': <gensim.models.keyedvectors.Vocab at 0x7f2f5ad1a390>,\n",
              " 'made': <gensim.models.keyedvectors.Vocab at 0x7f2f5ad1a400>,\n",
              " 'through': <gensim.models.keyedvectors.Vocab at 0x7f2f5ad1a470>,\n",
              " 'make': <gensim.models.keyedvectors.Vocab at 0x7f2f5ad1a4e0>,\n",
              " 'second': <gensim.models.keyedvectors.Vocab at 0x7f2f5ad1a550>,\n",
              " 'state': <gensim.models.keyedvectors.Vocab at 0x7f2f5ad1a5c0>,\n",
              " 'well': <gensim.models.keyedvectors.Vocab at 0x7f2f5ad1a630>,\n",
              " 'day': <gensim.models.keyedvectors.Vocab at 0x7f2f5ad1a6a0>,\n",
              " 'season': <gensim.models.keyedvectors.Vocab at 0x7f2f5ad1a710>,\n",
              " 'says': <gensim.models.keyedvectors.Vocab at 0x7f2f5ad1a780>,\n",
              " 'week': <gensim.models.keyedvectors.Vocab at 0x7f2f5ad1a7f0>,\n",
              " 'where': <gensim.models.keyedvectors.Vocab at 0x7f2f5ad1a860>,\n",
              " 'while': <gensim.models.keyedvectors.Vocab at 0x7f2f5ad1a8d0>,\n",
              " 'down': <gensim.models.keyedvectors.Vocab at 0x7f2f5ad1a940>,\n",
              " 'being': <gensim.models.keyedvectors.Vocab at 0x7f2f5ad1a9b0>,\n",
              " 'government': <gensim.models.keyedvectors.Vocab at 0x7f2f5ad1a9e8>,\n",
              " 'your': <gensim.models.keyedvectors.Vocab at 0x7f2f5ad1aa58>,\n",
              " '#-#': <gensim.models.keyedvectors.Vocab at 0x7f2f5ad1aac8>,\n",
              " 'home': <gensim.models.keyedvectors.Vocab at 0x7f2f5ad1ab38>,\n",
              " 'going': <gensim.models.keyedvectors.Vocab at 0x7f2f5ad1aba8>,\n",
              " 'my': <gensim.models.keyedvectors.Vocab at 0x7f2f5ad1ac18>,\n",
              " 'good': <gensim.models.keyedvectors.Vocab at 0x7f2f5ad1ac88>,\n",
              " 'They': <gensim.models.keyedvectors.Vocab at 0x7f2f5ad1acf8>,\n",
              " \"'re\": <gensim.models.keyedvectors.Vocab at 0x7f2f5ad1ad68>,\n",
              " 'should': <gensim.models.keyedvectors.Vocab at 0x7f2f5ad1add8>,\n",
              " 'many': <gensim.models.keyedvectors.Vocab at 0x7f2f5ad1ae48>,\n",
              " 'way': <gensim.models.keyedvectors.Vocab at 0x7f2f5ad1aeb8>,\n",
              " 'those': <gensim.models.keyedvectors.Vocab at 0x7f2f5ad1af28>,\n",
              " 'four': <gensim.models.keyedvectors.Vocab at 0x7f2f5ad1af98>,\n",
              " 'during': <gensim.models.keyedvectors.Vocab at 0x7f2f5ad1b048>,\n",
              " 'such': <gensim.models.keyedvectors.Vocab at 0x7f2f5ad1b0b8>,\n",
              " 'may': <gensim.models.keyedvectors.Vocab at 0x7f2f5ad1b128>,\n",
              " 'very': <gensim.models.keyedvectors.Vocab at 0x7f2f5ad1b198>,\n",
              " 'how': <gensim.models.keyedvectors.Vocab at 0x7f2f5ad1b208>,\n",
              " 'since': <gensim.models.keyedvectors.Vocab at 0x7f2f5ad1b278>,\n",
              " 'work': <gensim.models.keyedvectors.Vocab at 0x7f2f5ad1b2e8>,\n",
              " 'take': <gensim.models.keyedvectors.Vocab at 0x7f2f5ad1b358>,\n",
              " 'including': <gensim.models.keyedvectors.Vocab at 0x7f2f5ad1b390>,\n",
              " 'high': <gensim.models.keyedvectors.Vocab at 0x7f2f5ad1b400>,\n",
              " 'then': <gensim.models.keyedvectors.Vocab at 0x7f2f5ad1b470>,\n",
              " '%': <gensim.models.keyedvectors.Vocab at 0x7f2f5ad1b4a8>,\n",
              " 'next': <gensim.models.keyedvectors.Vocab at 0x7f2f5ad1b518>,\n",
              " '#,###': <gensim.models.keyedvectors.Vocab at 0x7f2f5ad1b588>,\n",
              " 'By': <gensim.models.keyedvectors.Vocab at 0x7f2f5ad1b5f8>,\n",
              " 'much': <gensim.models.keyedvectors.Vocab at 0x7f2f5ad1b668>,\n",
              " 'still': <gensim.models.keyedvectors.Vocab at 0x7f2f5ad1b6d8>,\n",
              " 'go': <gensim.models.keyedvectors.Vocab at 0x7f2f5ad1b748>,\n",
              " 'think': <gensim.models.keyedvectors.Vocab at 0x7f2f5ad1b7b8>,\n",
              " 'old': <gensim.models.keyedvectors.Vocab at 0x7f2f5ad1b828>,\n",
              " 'even': <gensim.models.keyedvectors.Vocab at 0x7f2f5ad1b898>,\n",
              " '#.##': <gensim.models.keyedvectors.Vocab at 0x7f2f5ad1b908>,\n",
              " 'world': <gensim.models.keyedvectors.Vocab at 0x7f2f5ad1b978>,\n",
              " 'see': <gensim.models.keyedvectors.Vocab at 0x7f2f5ad1b9e8>,\n",
              " 'say': <gensim.models.keyedvectors.Vocab at 0x7f2f5ad1ba58>,\n",
              " 'business': <gensim.models.keyedvectors.Vocab at 0x7f2f5ad1ba90>,\n",
              " 'five': <gensim.models.keyedvectors.Vocab at 0x7f2f5ad1bb00>,\n",
              " 'told': <gensim.models.keyedvectors.Vocab at 0x7f2f5ad1bb70>,\n",
              " 'under': <gensim.models.keyedvectors.Vocab at 0x7f2f5ad1bbe0>,\n",
              " 'us': <gensim.models.keyedvectors.Vocab at 0x7f2f5ad1bc50>,\n",
              " '1': <gensim.models.keyedvectors.Vocab at 0x7f2f5ad1bc88>,\n",
              " 'these': <gensim.models.keyedvectors.Vocab at 0x7f2f5ad1bcf8>,\n",
              " 'If': <gensim.models.keyedvectors.Vocab at 0x7f2f5ad1bd68>,\n",
              " 'right': <gensim.models.keyedvectors.Vocab at 0x7f2f5ad1bdd8>,\n",
              " 'And': <gensim.models.keyedvectors.Vocab at 0x7f2f5ad1be48>,\n",
              " 'me': <gensim.models.keyedvectors.Vocab at 0x7f2f5ad1beb8>,\n",
              " 'between': <gensim.models.keyedvectors.Vocab at 0x7f2f5ad1bf28>,\n",
              " 'play': <gensim.models.keyedvectors.Vocab at 0x7f2f5ad1bf98>,\n",
              " 'help': <gensim.models.keyedvectors.Vocab at 0x7f2f5ad1d048>,\n",
              " '##,###': <gensim.models.keyedvectors.Vocab at 0x7f2f5ad1d0b8>,\n",
              " 'market': <gensim.models.keyedvectors.Vocab at 0x7f2f5ad1d128>,\n",
              " 'That': <gensim.models.keyedvectors.Vocab at 0x7f2f5ad1d198>,\n",
              " 'know': <gensim.models.keyedvectors.Vocab at 0x7f2f5ad1d208>,\n",
              " 'end': <gensim.models.keyedvectors.Vocab at 0x7f2f5ad1d278>,\n",
              " 'AP': <gensim.models.keyedvectors.Vocab at 0x7f2f5ad1d2e8>,\n",
              " 'long': <gensim.models.keyedvectors.Vocab at 0x7f2f5ad1d358>,\n",
              " 'information': <gensim.models.keyedvectors.Vocab at 0x7f2f5ad1d390>,\n",
              " 'points': <gensim.models.keyedvectors.Vocab at 0x7f2f5ad1d400>,\n",
              " 'does': <gensim.models.keyedvectors.Vocab at 0x7f2f5ad1d470>,\n",
              " 'both': <gensim.models.keyedvectors.Vocab at 0x7f2f5ad1d4e0>,\n",
              " 'There': <gensim.models.keyedvectors.Vocab at 0x7f2f5ad1d550>,\n",
              " 'part': <gensim.models.keyedvectors.Vocab at 0x7f2f5ad1d5c0>,\n",
              " 'around': <gensim.models.keyedvectors.Vocab at 0x7f2f5ad1d630>,\n",
              " 'police': <gensim.models.keyedvectors.Vocab at 0x7f2f5ad1d6a0>,\n",
              " 'want': <gensim.models.keyedvectors.Vocab at 0x7f2f5ad1d710>,\n",
              " \"'ve\": <gensim.models.keyedvectors.Vocab at 0x7f2f5ad1d780>,\n",
              " 'based': <gensim.models.keyedvectors.Vocab at 0x7f2f5ad1d7f0>,\n",
              " 'For': <gensim.models.keyedvectors.Vocab at 0x7f2f5ad1d860>,\n",
              " 'got': <gensim.models.keyedvectors.Vocab at 0x7f2f5ad1d8d0>,\n",
              " 'third': <gensim.models.keyedvectors.Vocab at 0x7f2f5ad1d940>,\n",
              " 'school': <gensim.models.keyedvectors.Vocab at 0x7f2f5ad1d9b0>,\n",
              " 'left': <gensim.models.keyedvectors.Vocab at 0x7f2f5ad1da20>,\n",
              " 'another': <gensim.models.keyedvectors.Vocab at 0x7f2f5ad1da90>,\n",
              " 'country': <gensim.models.keyedvectors.Vocab at 0x7f2f5ad1db00>,\n",
              " 'need': <gensim.models.keyedvectors.Vocab at 0x7f2f5ad1db70>,\n",
              " '2': <gensim.models.keyedvectors.Vocab at 0x7f2f5ad1dba8>,\n",
              " 'best': <gensim.models.keyedvectors.Vocab at 0x7f2f5ad1dc18>,\n",
              " 'win': <gensim.models.keyedvectors.Vocab at 0x7f2f5ad1dc88>,\n",
              " 'quarter': <gensim.models.keyedvectors.Vocab at 0x7f2f5ad1dcf8>,\n",
              " 'use': <gensim.models.keyedvectors.Vocab at 0x7f2f5ad1dd68>,\n",
              " 'today': <gensim.models.keyedvectors.Vocab at 0x7f2f5ad1ddd8>,\n",
              " '##.#': <gensim.models.keyedvectors.Vocab at 0x7f2f5ad1de48>,\n",
              " 'same': <gensim.models.keyedvectors.Vocab at 0x7f2f5ad1deb8>,\n",
              " 'public': <gensim.models.keyedvectors.Vocab at 0x7f2f5ad1df28>,\n",
              " 'run': <gensim.models.keyedvectors.Vocab at 0x7f2f5ad1df98>,\n",
              " 'Friday': <gensim.models.keyedvectors.Vocab at 0x7f2f5ad20048>,\n",
              " 'set': <gensim.models.keyedvectors.Vocab at 0x7f2f5ad200b8>,\n",
              " 'month': <gensim.models.keyedvectors.Vocab at 0x7f2f5ad20128>,\n",
              " 'top': <gensim.models.keyedvectors.Vocab at 0x7f2f5ad20198>,\n",
              " 'billion': <gensim.models.keyedvectors.Vocab at 0x7f2f5ad20208>,\n",
              " 'Tuesday': <gensim.models.keyedvectors.Vocab at 0x7f2f5ad20278>,\n",
              " 'come': <gensim.models.keyedvectors.Vocab at 0x7f2f5ad202e8>,\n",
              " 'Monday': <gensim.models.keyedvectors.Vocab at 0x7f2f5ad20358>,\n",
              " 'She': <gensim.models.keyedvectors.Vocab at 0x7f2f5ad203c8>,\n",
              " 'city': <gensim.models.keyedvectors.Vocab at 0x7f2f5ad20438>,\n",
              " 'place': <gensim.models.keyedvectors.Vocab at 0x7f2f5ad204a8>,\n",
              " 'night': <gensim.models.keyedvectors.Vocab at 0x7f2f5ad20518>,\n",
              " 'six': <gensim.models.keyedvectors.Vocab at 0x7f2f5ad20588>,\n",
              " 'each': <gensim.models.keyedvectors.Vocab at 0x7f2f5ad205f8>,\n",
              " 'Thursday': <gensim.models.keyedvectors.Vocab at 0x7f2f5ad20630>,\n",
              " '###,###': <gensim.models.keyedvectors.Vocab at 0x7f2f5ad206a0>,\n",
              " 'Wednesday': <gensim.models.keyedvectors.Vocab at 0x7f2f5ad206d8>,\n",
              " 'here': <gensim.models.keyedvectors.Vocab at 0x7f2f5ad20748>,\n",
              " 'You': <gensim.models.keyedvectors.Vocab at 0x7f2f5ad207b8>,\n",
              " 'group': <gensim.models.keyedvectors.Vocab at 0x7f2f5ad20828>,\n",
              " 'really': <gensim.models.keyedvectors.Vocab at 0x7f2f5ad20898>,\n",
              " 'found': <gensim.models.keyedvectors.Vocab at 0x7f2f5ad20908>,\n",
              " 'As': <gensim.models.keyedvectors.Vocab at 0x7f2f5ad20978>,\n",
              " 'used': <gensim.models.keyedvectors.Vocab at 0x7f2f5ad209e8>,\n",
              " '3': <gensim.models.keyedvectors.Vocab at 0x7f2f5ad20a20>,\n",
              " 'lot': <gensim.models.keyedvectors.Vocab at 0x7f2f5ad20a90>,\n",
              " \"'m\": <gensim.models.keyedvectors.Vocab at 0x7f2f5ad20b00>,\n",
              " 'money': <gensim.models.keyedvectors.Vocab at 0x7f2f5ad20b70>,\n",
              " 'put': <gensim.models.keyedvectors.Vocab at 0x7f2f5ad20be0>,\n",
              " 'games': <gensim.models.keyedvectors.Vocab at 0x7f2f5ad20c50>,\n",
              " 'support': <gensim.models.keyedvectors.Vocab at 0x7f2f5ad20cc0>,\n",
              " 'program': <gensim.models.keyedvectors.Vocab at 0x7f2f5ad20d30>,\n",
              " 'half': <gensim.models.keyedvectors.Vocab at 0x7f2f5ad20da0>,\n",
              " 'report': <gensim.models.keyedvectors.Vocab at 0x7f2f5ad20e10>,\n",
              " 'family': <gensim.models.keyedvectors.Vocab at 0x7f2f5ad20e80>,\n",
              " 'months': <gensim.models.keyedvectors.Vocab at 0x7f2f5ad20ef0>,\n",
              " 'number': <gensim.models.keyedvectors.Vocab at 0x7f2f5ad20f60>,\n",
              " 'officials': <gensim.models.keyedvectors.Vocab at 0x7f2f5ad20f98>,\n",
              " 'am': <gensim.models.keyedvectors.Vocab at 0x7f2f5ad22048>,\n",
              " 'former': <gensim.models.keyedvectors.Vocab at 0x7f2f5ad220b8>,\n",
              " 'own': <gensim.models.keyedvectors.Vocab at 0x7f2f5ad22128>,\n",
              " 'man': <gensim.models.keyedvectors.Vocab at 0x7f2f5ad22198>,\n",
              " 'Saturday': <gensim.models.keyedvectors.Vocab at 0x7f2f5ad221d0>,\n",
              " 'too': <gensim.models.keyedvectors.Vocab at 0x7f2f5ad22240>,\n",
              " 'better': <gensim.models.keyedvectors.Vocab at 0x7f2f5ad222b0>,\n",
              " 'days': <gensim.models.keyedvectors.Vocab at 0x7f2f5ad22320>,\n",
              " 'came': <gensim.models.keyedvectors.Vocab at 0x7f2f5ad22390>,\n",
              " 'lead': <gensim.models.keyedvectors.Vocab at 0x7f2f5ad22400>,\n",
              " 'life': <gensim.models.keyedvectors.Vocab at 0x7f2f5ad22470>,\n",
              " 'American': <gensim.models.keyedvectors.Vocab at 0x7f2f5ad224a8>,\n",
              " '##-##': <gensim.models.keyedvectors.Vocab at 0x7f2f5ad22518>,\n",
              " 'show': <gensim.models.keyedvectors.Vocab at 0x7f2f5ad22588>,\n",
              " 'past': <gensim.models.keyedvectors.Vocab at 0x7f2f5ad225f8>,\n",
              " 'took': <gensim.models.keyedvectors.Vocab at 0x7f2f5ad22668>,\n",
              " 'added': <gensim.models.keyedvectors.Vocab at 0x7f2f5ad226d8>,\n",
              " 'expected': <gensim.models.keyedvectors.Vocab at 0x7f2f5ad22710>,\n",
              " 'called': <gensim.models.keyedvectors.Vocab at 0x7f2f5ad22780>,\n",
              " 'great': <gensim.models.keyedvectors.Vocab at 0x7f2f5ad227f0>,\n",
              " 'State': <gensim.models.keyedvectors.Vocab at 0x7f2f5ad22860>,\n",
              " 'services': <gensim.models.keyedvectors.Vocab at 0x7f2f5ad22898>,\n",
              " 'children': <gensim.models.keyedvectors.Vocab at 0x7f2f5ad228d0>,\n",
              " 'hit': <gensim.models.keyedvectors.Vocab at 0x7f2f5ad22940>,\n",
              " 'area': <gensim.models.keyedvectors.Vocab at 0x7f2f5ad229b0>,\n",
              " 'system': <gensim.models.keyedvectors.Vocab at 0x7f2f5ad22a20>,\n",
              " 'every': <gensim.models.keyedvectors.Vocab at 0x7f2f5ad22a90>,\n",
              " 'pm': <gensim.models.keyedvectors.Vocab at 0x7f2f5ad22b00>,\n",
              " 'big': <gensim.models.keyedvectors.Vocab at 0x7f2f5ad22b70>,\n",
              " 'service': <gensim.models.keyedvectors.Vocab at 0x7f2f5ad22be0>,\n",
              " 'few': <gensim.models.keyedvectors.Vocab at 0x7f2f5ad22c50>,\n",
              " 'per': <gensim.models.keyedvectors.Vocab at 0x7f2f5ad22cc0>,\n",
              " 'members': <gensim.models.keyedvectors.Vocab at 0x7f2f5ad22d30>,\n",
              " 'Sunday': <gensim.models.keyedvectors.Vocab at 0x7f2f5ad22da0>,\n",
              " 'early': <gensim.models.keyedvectors.Vocab at 0x7f2f5ad22e10>,\n",
              " 'point': <gensim.models.keyedvectors.Vocab at 0x7f2f5ad22e80>,\n",
              " 'start': <gensim.models.keyedvectors.Vocab at 0x7f2f5ad22ef0>,\n",
              " 'companies': <gensim.models.keyedvectors.Vocab at 0x7f2f5ad22f28>,\n",
              " 'little': <gensim.models.keyedvectors.Vocab at 0x7f2f5ad22f98>,\n",
              " '&': <gensim.models.keyedvectors.Vocab at 0x7f2f5ad22fd0>,\n",
              " 'case': <gensim.models.keyedvectors.Vocab at 0x7f2f5ad24080>,\n",
              " 'ago': <gensim.models.keyedvectors.Vocab at 0x7f2f5ad240f0>,\n",
              " 'local': <gensim.models.keyedvectors.Vocab at 0x7f2f5ad24160>,\n",
              " 'according': <gensim.models.keyedvectors.Vocab at 0x7f2f5ad24198>,\n",
              " 'never': <gensim.models.keyedvectors.Vocab at 0x7f2f5ad24208>,\n",
              " '5': <gensim.models.keyedvectors.Vocab at 0x7f2f5ad24240>,\n",
              " 'without': <gensim.models.keyedvectors.Vocab at 0x7f2f5ad242b0>,\n",
              " 'sales': <gensim.models.keyedvectors.Vocab at 0x7f2f5ad24320>,\n",
              " 'until': <gensim.models.keyedvectors.Vocab at 0x7f2f5ad24390>,\n",
              " 'went': <gensim.models.keyedvectors.Vocab at 0x7f2f5ad24400>,\n",
              " 'players': <gensim.models.keyedvectors.Vocab at 0x7f2f5ad24470>,\n",
              " '##th': <gensim.models.keyedvectors.Vocab at 0x7f2f5ad244e0>,\n",
              " 'New_York': <gensim.models.keyedvectors.Vocab at 0x7f2f5ad24518>,\n",
              " 'won': <gensim.models.keyedvectors.Vocab at 0x7f2f5ad24588>,\n",
              " 'financial': <gensim.models.keyedvectors.Vocab at 0x7f2f5ad245c0>,\n",
              " 'news': <gensim.models.keyedvectors.Vocab at 0x7f2f5ad24630>,\n",
              " '4': <gensim.models.keyedvectors.Vocab at 0x7f2f5ad24668>,\n",
              " 'When': <gensim.models.keyedvectors.Vocab at 0x7f2f5ad246d8>,\n",
              " 'share': <gensim.models.keyedvectors.Vocab at 0x7f2f5ad24748>,\n",
              " 'several': <gensim.models.keyedvectors.Vocab at 0x7f2f5ad247b8>,\n",
              " 'free': <gensim.models.keyedvectors.Vocab at 0x7f2f5ad24828>,\n",
              " 'away': <gensim.models.keyedvectors.Vocab at 0x7f2f5ad24898>,\n",
              " '##.##': <gensim.models.keyedvectors.Vocab at 0x7f2f5ad24908>,\n",
              " 'already': <gensim.models.keyedvectors.Vocab at 0x7f2f5ad24978>,\n",
              " 'On': <gensim.models.keyedvectors.Vocab at 0x7f2f5ad249e8>,\n",
              " 'industry': <gensim.models.keyedvectors.Vocab at 0x7f2f5ad24a20>,\n",
              " \"'ll\": <gensim.models.keyedvectors.Vocab at 0x7f2f5ad24a90>,\n",
              " 'call': <gensim.models.keyedvectors.Vocab at 0x7f2f5ad24b00>,\n",
              " 'With': <gensim.models.keyedvectors.Vocab at 0x7f2f5ad24b70>,\n",
              " 'students': <gensim.models.keyedvectors.Vocab at 0x7f2f5ad24ba8>,\n",
              " 'line': <gensim.models.keyedvectors.Vocab at 0x7f2f5ad24c18>,\n",
              " 'available': <gensim.models.keyedvectors.Vocab at 0x7f2f5ad24c50>,\n",
              " 'County': <gensim.models.keyedvectors.Vocab at 0x7f2f5ad24cc0>,\n",
              " 'making': <gensim.models.keyedvectors.Vocab at 0x7f2f5ad24d30>,\n",
              " 'held': <gensim.models.keyedvectors.Vocab at 0x7f2f5ad24da0>,\n",
              " 'final': <gensim.models.keyedvectors.Vocab at 0x7f2f5ad24e10>,\n",
              " '#:##': <gensim.models.keyedvectors.Vocab at 0x7f2f5ad24e80>,\n",
              " 'power': <gensim.models.keyedvectors.Vocab at 0x7f2f5ad24ef0>,\n",
              " 'plan': <gensim.models.keyedvectors.Vocab at 0x7f2f5ad24f60>,\n",
              " 'might': <gensim.models.keyedvectors.Vocab at 0x7f2f5ad24fd0>,\n",
              " 'least': <gensim.models.keyedvectors.Vocab at 0x7f2f5ad27080>,\n",
              " 'look': <gensim.models.keyedvectors.Vocab at 0x7f2f5ad270f0>,\n",
              " 'forward': <gensim.models.keyedvectors.Vocab at 0x7f2f5ad27160>,\n",
              " 'give': <gensim.models.keyedvectors.Vocab at 0x7f2f5ad271d0>,\n",
              " 'At': <gensim.models.keyedvectors.Vocab at 0x7f2f5ad27240>,\n",
              " 'again': <gensim.models.keyedvectors.Vocab at 0x7f2f5ad272b0>,\n",
              " 'later': <gensim.models.keyedvectors.Vocab at 0x7f2f5ad27320>,\n",
              " 'full': <gensim.models.keyedvectors.Vocab at 0x7f2f5ad27390>,\n",
              " 'must': <gensim.models.keyedvectors.Vocab at 0x7f2f5ad27400>,\n",
              " 'things': <gensim.models.keyedvectors.Vocab at 0x7f2f5ad27470>,\n",
              " 'major': <gensim.models.keyedvectors.Vocab at 0x7f2f5ad274e0>,\n",
              " 'community': <gensim.models.keyedvectors.Vocab at 0x7f2f5ad27518>,\n",
              " 'announced': <gensim.models.keyedvectors.Vocab at 0x7f2f5ad27550>,\n",
              " 'open': <gensim.models.keyedvectors.Vocab at 0x7f2f5ad275c0>,\n",
              " 'record': <gensim.models.keyedvectors.Vocab at 0x7f2f5ad27630>,\n",
              " 'reported': <gensim.models.keyedvectors.Vocab at 0x7f2f5ad27668>,\n",
              " 'court': <gensim.models.keyedvectors.Vocab at 0x7f2f5ad276d8>,\n",
              " 'working': <gensim.models.keyedvectors.Vocab at 0x7f2f5ad27748>,\n",
              " 'able': <gensim.models.keyedvectors.Vocab at 0x7f2f5ad277b8>,\n",
              " 'something': <gensim.models.keyedvectors.Vocab at 0x7f2f5ad277f0>,\n",
              " 'president': <gensim.models.keyedvectors.Vocab at 0x7f2f5ad27828>,\n",
              " 'meeting': <gensim.models.keyedvectors.Vocab at 0x7f2f5ad27898>,\n",
              " 'keep': <gensim.models.keyedvectors.Vocab at 0x7f2f5ad27908>,\n",
              " 'March': <gensim.models.keyedvectors.Vocab at 0x7f2f5ad27978>,\n",
              " 'future': <gensim.models.keyedvectors.Vocab at 0x7f2f5ad279e8>,\n",
              " 'far': <gensim.models.keyedvectors.Vocab at 0x7f2f5ad27a58>,\n",
              " 'deal': <gensim.models.keyedvectors.Vocab at 0x7f2f5ad27ac8>,\n",
              " 'City': <gensim.models.keyedvectors.Vocab at 0x7f2f5ad27b38>,\n",
              " 'May': <gensim.models.keyedvectors.Vocab at 0x7f2f5ad27ba8>,\n",
              " 'development': <gensim.models.keyedvectors.Vocab at 0x7f2f5ad27be0>,\n",
              " 'University': <gensim.models.keyedvectors.Vocab at 0x7f2f5ad27c18>,\n",
              " 'find': <gensim.models.keyedvectors.Vocab at 0x7f2f5ad27c88>,\n",
              " 'times': <gensim.models.keyedvectors.Vocab at 0x7f2f5ad27cf8>,\n",
              " 'After': <gensim.models.keyedvectors.Vocab at 0x7f2f5ad27d68>,\n",
              " 'office': <gensim.models.keyedvectors.Vocab at 0x7f2f5ad27dd8>,\n",
              " 'led': <gensim.models.keyedvectors.Vocab at 0x7f2f5ad27e48>,\n",
              " 'among': <gensim.models.keyedvectors.Vocab at 0x7f2f5ad27eb8>,\n",
              " 'June': <gensim.models.keyedvectors.Vocab at 0x7f2f5ad27f28>,\n",
              " 'increase': <gensim.models.keyedvectors.Vocab at 0x7f2f5ad27f60>,\n",
              " 'China': <gensim.models.keyedvectors.Vocab at 0x7f2f5ad27fd0>,\n",
              " 'John': <gensim.models.keyedvectors.Vocab at 0x7f2f5ad2b080>,\n",
              " 'whether': <gensim.models.keyedvectors.Vocab at 0x7f2f5ad2b0f0>,\n",
              " 'cost': <gensim.models.keyedvectors.Vocab at 0x7f2f5ad2b160>,\n",
              " 'security': <gensim.models.keyedvectors.Vocab at 0x7f2f5ad2b198>,\n",
              " 'job': <gensim.models.keyedvectors.Vocab at 0x7f2f5ad2b208>,\n",
              " 'less': <gensim.models.keyedvectors.Vocab at 0x7f2f5ad2b278>,\n",
              " 'head': <gensim.models.keyedvectors.Vocab at 0x7f2f5ad2b2e8>,\n",
              " 'seven': <gensim.models.keyedvectors.Vocab at 0x7f2f5ad2b358>,\n",
              " 'growth': <gensim.models.keyedvectors.Vocab at 0x7f2f5ad2b3c8>,\n",
              " 'lost': <gensim.models.keyedvectors.Vocab at 0x7f2f5ad2b438>,\n",
              " 'pay': <gensim.models.keyedvectors.Vocab at 0x7f2f5ad2b4a8>,\n",
              " 'looking': <gensim.models.keyedvectors.Vocab at 0x7f2f5ad2b518>,\n",
              " 'provide': <gensim.models.keyedvectors.Vocab at 0x7f2f5ad2b588>,\n",
              " '6': <gensim.models.keyedvectors.Vocab at 0x7f2f5ad2b5c0>,\n",
              " 'To': <gensim.models.keyedvectors.Vocab at 0x7f2f5ad2b630>,\n",
              " 'plans': <gensim.models.keyedvectors.Vocab at 0x7f2f5ad2b6a0>,\n",
              " 'products': <gensim.models.keyedvectors.Vocab at 0x7f2f5ad2b6d8>,\n",
              " 'car': <gensim.models.keyedvectors.Vocab at 0x7f2f5ad2b748>,\n",
              " 'recent': <gensim.models.keyedvectors.Vocab at 0x7f2f5ad2b7b8>,\n",
              " 'hard': <gensim.models.keyedvectors.Vocab at 0x7f2f5ad2b828>,\n",
              " 'always': <gensim.models.keyedvectors.Vocab at 0x7f2f5ad2b898>,\n",
              " 'include': <gensim.models.keyedvectors.Vocab at 0x7f2f5ad2b908>,\n",
              " 'women': <gensim.models.keyedvectors.Vocab at 0x7f2f5ad2b978>,\n",
              " 'across': <gensim.models.keyedvectors.Vocab at 0x7f2f5ad2b9e8>,\n",
              " 'tax': <gensim.models.keyedvectors.Vocab at 0x7f2f5ad2ba58>,\n",
              " 'water': <gensim.models.keyedvectors.Vocab at 0x7f2f5ad2bac8>,\n",
              " 'April': <gensim.models.keyedvectors.Vocab at 0x7f2f5ad2bb38>,\n",
              " 'continue': <gensim.models.keyedvectors.Vocab at 0x7f2f5ad2bb70>,\n",
              " 'important': <gensim.models.keyedvectors.Vocab at 0x7f2f5ad2bba8>,\n",
              " 'different': <gensim.models.keyedvectors.Vocab at 0x7f2f5ad2bbe0>,\n",
              " 'close': <gensim.models.keyedvectors.Vocab at 0x7f2f5ad2bc50>,\n",
              " '7': <gensim.models.keyedvectors.Vocab at 0x7f2f5ad2bc88>,\n",
              " 'One': <gensim.models.keyedvectors.Vocab at 0x7f2f5ad2bcf8>,\n",
              " 'late': <gensim.models.keyedvectors.Vocab at 0x7f2f5ad2bd68>,\n",
              " 'decision': <gensim.models.keyedvectors.Vocab at 0x7f2f5ad2bda0>,\n",
              " 'current': <gensim.models.keyedvectors.Vocab at 0x7f2f5ad2be10>,\n",
              " 'law': <gensim.models.keyedvectors.Vocab at 0x7f2f5ad2be80>,\n",
              " 'within': <gensim.models.keyedvectors.Vocab at 0x7f2f5ad2bef0>,\n",
              " 'along': <gensim.models.keyedvectors.Vocab at 0x7f2f5ad2bf60>,\n",
              " 'played': <gensim.models.keyedvectors.Vocab at 0x7f2f5ad2bfd0>,\n",
              " 'move': <gensim.models.keyedvectors.Vocab at 0x7f2f5acac080>,\n",
              " 'United_States': <gensim.models.keyedvectors.Vocab at 0x7f2f5acac0b8>,\n",
              " 'enough': <gensim.models.keyedvectors.Vocab at 0x7f2f5acac128>,\n",
              " 'become': <gensim.models.keyedvectors.Vocab at 0x7f2f5acac198>,\n",
              " 'side': <gensim.models.keyedvectors.Vocab at 0x7f2f5acac208>,\n",
              " 'national': <gensim.models.keyedvectors.Vocab at 0x7f2f5acac240>,\n",
              " 'Inc.': <gensim.models.keyedvectors.Vocab at 0x7f2f5acac2b0>,\n",
              " 'results': <gensim.models.keyedvectors.Vocab at 0x7f2f5acac320>,\n",
              " 'level': <gensim.models.keyedvectors.Vocab at 0x7f2f5acac390>,\n",
              " 'loss': <gensim.models.keyedvectors.Vocab at 0x7f2f5acac400>,\n",
              " 'economic': <gensim.models.keyedvectors.Vocab at 0x7f2f5acac438>,\n",
              " 'coach': <gensim.models.keyedvectors.Vocab at 0x7f2f5acac4a8>,\n",
              " 'near': <gensim.models.keyedvectors.Vocab at 0x7f2f5acac518>,\n",
              " 'getting': <gensim.models.keyedvectors.Vocab at 0x7f2f5acac588>,\n",
              " 'price': <gensim.models.keyedvectors.Vocab at 0x7f2f5acac5f8>,\n",
              " 'Department': <gensim.models.keyedvectors.Vocab at 0x7f2f5acac630>,\n",
              " 'event': <gensim.models.keyedvectors.Vocab at 0x7f2f5acac6a0>,\n",
              " 'fourth': <gensim.models.keyedvectors.Vocab at 0x7f2f5acac710>,\n",
              " 'change': <gensim.models.keyedvectors.Vocab at 0x7f2f5acac780>,\n",
              " 'All': <gensim.models.keyedvectors.Vocab at 0x7f2f5acac7f0>,\n",
              " 'small': <gensim.models.keyedvectors.Vocab at 0x7f2f5acac860>,\n",
              " 'board': <gensim.models.keyedvectors.Vocab at 0x7f2f5acac8d0>,\n",
              " 'National': <gensim.models.keyedvectors.Vocab at 0x7f2f5acac908>,\n",
              " 'So': <gensim.models.keyedvectors.Vocab at 0x7f2f5acac978>,\n",
              " 'goal': <gensim.models.keyedvectors.Vocab at 0x7f2f5acac9e8>,\n",
              " 'taken': <gensim.models.keyedvectors.Vocab at 0x7f2f5acaca58>,\n",
              " 'field': <gensim.models.keyedvectors.Vocab at 0x7f2f5acacac8>,\n",
              " 'prices': <gensim.models.keyedvectors.Vocab at 0x7f2f5acacb38>,\n",
              " 'weeks': <gensim.models.keyedvectors.Vocab at 0x7f2f5acacba8>,\n",
              " 'men': <gensim.models.keyedvectors.Vocab at 0x7f2f5acacc18>,\n",
              " 'asked': <gensim.models.keyedvectors.Vocab at 0x7f2f5acacc88>,\n",
              " 'eight': <gensim.models.keyedvectors.Vocab at 0x7f2f5acaccf8>,\n",
              " 'data': <gensim.models.keyedvectors.Vocab at 0x7f2f5acacd68>,\n",
              " 'shot': <gensim.models.keyedvectors.Vocab at 0x7f2f5acacdd8>,\n",
              " 'New': <gensim.models.keyedvectors.Vocab at 0x7f2f5acace48>,\n",
              " 'started': <gensim.models.keyedvectors.Vocab at 0x7f2f5acaceb8>,\n",
              " 'July': <gensim.models.keyedvectors.Vocab at 0x7f2f5acacf28>,\n",
              " 'director': <gensim.models.keyedvectors.Vocab at 0x7f2f5acacf60>,\n",
              " 'President': <gensim.models.keyedvectors.Vocab at 0x7f2f5acacf98>,\n",
              " 'party': <gensim.models.keyedvectors.Vocab at 0x7f2f5acaf048>,\n",
              " 'federal': <gensim.models.keyedvectors.Vocab at 0x7f2f5acaf0b8>,\n",
              " 'done': <gensim.models.keyedvectors.Vocab at 0x7f2f5acaf128>,\n",
              " 'political': <gensim.models.keyedvectors.Vocab at 0x7f2f5acaf160>,\n",
              " 'minutes': <gensim.models.keyedvectors.Vocab at 0x7f2f5acaf1d0>,\n",
              " 'taking': <gensim.models.keyedvectors.Vocab at 0x7f2f5acaf240>,\n",
              " 'Company': <gensim.models.keyedvectors.Vocab at 0x7f2f5acaf2b0>,\n",
              " 'technology': <gensim.models.keyedvectors.Vocab at 0x7f2f5acaf2e8>,\n",
              " 'project': <gensim.models.keyedvectors.Vocab at 0x7f2f5acaf358>,\n",
              " 'center': <gensim.models.keyedvectors.Vocab at 0x7f2f5acaf3c8>,\n",
              " 'leading': <gensim.models.keyedvectors.Vocab at 0x7f2f5acaf438>,\n",
              " 'issue': <gensim.models.keyedvectors.Vocab at 0x7f2f5acaf4a8>,\n",
              " 'though': <gensim.models.keyedvectors.Vocab at 0x7f2f5acaf518>,\n",
              " 'having': <gensim.models.keyedvectors.Vocab at 0x7f2f5acaf588>,\n",
              " 'period': <gensim.models.keyedvectors.Vocab at 0x7f2f5acaf5f8>,\n",
              " 'likely': <gensim.models.keyedvectors.Vocab at 0x7f2f5acaf668>,\n",
              " 'scored': <gensim.models.keyedvectors.Vocab at 0x7f2f5acaf6d8>,\n",
              " '8': <gensim.models.keyedvectors.Vocab at 0x7f2f5acaf710>,\n",
              " 'strong': <gensim.models.keyedvectors.Vocab at 0x7f2f5acaf780>,\n",
              " 'series': <gensim.models.keyedvectors.Vocab at 0x7f2f5acaf7f0>,\n",
              " 'military': <gensim.models.keyedvectors.Vocab at 0x7f2f5acaf828>,\n",
              " 'seen': <gensim.models.keyedvectors.Vocab at 0x7f2f5acaf898>,\n",
              " 'trying': <gensim.models.keyedvectors.Vocab at 0x7f2f5acaf908>,\n",
              " 'What': <gensim.models.keyedvectors.Vocab at 0x7f2f5acaf978>,\n",
              " 'coming': <gensim.models.keyedvectors.Vocab at 0x7f2f5acaf9e8>,\n",
              " 'process': <gensim.models.keyedvectors.Vocab at 0x7f2f5acafa58>,\n",
              " 'building': <gensim.models.keyedvectors.Vocab at 0x7f2f5acafa90>,\n",
              " 'behind': <gensim.models.keyedvectors.Vocab at 0x7f2f5acafb00>,\n",
              " 'performance': <gensim.models.keyedvectors.Vocab at 0x7f2f5acafb38>,\n",
              " 'management': <gensim.models.keyedvectors.Vocab at 0x7f2f5acafb70>,\n",
              " 'Iraq': <gensim.models.keyedvectors.Vocab at 0x7f2f5acafbe0>,\n",
              " 'saying': <gensim.models.keyedvectors.Vocab at 0x7f2f5acafc50>,\n",
              " 'earlier': <gensim.models.keyedvectors.Vocab at 0x7f2f5acafcc0>,\n",
              " 'believe': <gensim.models.keyedvectors.Vocab at 0x7f2f5acafd30>,\n",
              " 'oil': <gensim.models.keyedvectors.Vocab at 0x7f2f5acafda0>,\n",
              " 'given': <gensim.models.keyedvectors.Vocab at 0x7f2f5acafe10>,\n",
              " 'Police': <gensim.models.keyedvectors.Vocab at 0x7f2f5acafe80>,\n",
              " 'customers': <gensim.models.keyedvectors.Vocab at 0x7f2f5acafeb8>,\n",
              " 'due': <gensim.models.keyedvectors.Vocab at 0x7f2f5acaff28>,\n",
              " 'following': <gensim.models.keyedvectors.Vocab at 0x7f2f5acaff60>,\n",
              " 'term': <gensim.models.keyedvectors.Vocab at 0x7f2f5acaffd0>,\n",
              " 'others': <gensim.models.keyedvectors.Vocab at 0x7f2f5acb3080>,\n",
              " 'statement': <gensim.models.keyedvectors.Vocab at 0x7f2f5acb30b8>,\n",
              " 'international': <gensim.models.keyedvectors.Vocab at 0x7f2f5acb30f0>,\n",
              " 'economy': <gensim.models.keyedvectors.Vocab at 0x7f2f5acb3160>,\n",
              " 'health': <gensim.models.keyedvectors.Vocab at 0x7f2f5acb31d0>,\n",
              " 'thing': <gensim.models.keyedvectors.Vocab at 0x7f2f5acb3240>,\n",
              " 'Obama': <gensim.models.keyedvectors.Vocab at 0x7f2f5acb32b0>,\n",
              " 'return': <gensim.models.keyedvectors.Vocab at 0x7f2f5acb3320>,\n",
              " 'killed': <gensim.models.keyedvectors.Vocab at 0x7f2f5acb3390>,\n",
              " 'Washington': <gensim.models.keyedvectors.Vocab at 0x7f2f5acb33c8>,\n",
              " 'further': <gensim.models.keyedvectors.Vocab at 0x7f2f5acb3438>,\n",
              " 'However': <gensim.models.keyedvectors.Vocab at 0x7f2f5acb34a8>,\n",
              " 'doing': <gensim.models.keyedvectors.Vocab at 0x7f2f5acb3518>,\n",
              " 'face': <gensim.models.keyedvectors.Vocab at 0x7f2f5acb3588>,\n",
              " 'low': <gensim.models.keyedvectors.Vocab at 0x7f2f5acb35f8>,\n",
              " 'higher': <gensim.models.keyedvectors.Vocab at 0x7f2f5acb3668>,\n",
              " 'site': <gensim.models.keyedvectors.Vocab at 0x7f2f5acb36d8>,\n",
              " 'once': <gensim.models.keyedvectors.Vocab at 0x7f2f5acb3748>,\n",
              " 'yet': <gensim.models.keyedvectors.Vocab at 0x7f2f5acb37b8>,\n",
              " 'hours': <gensim.models.keyedvectors.Vocab at 0x7f2f5acb3828>,\n",
              " 'America': <gensim.models.keyedvectors.Vocab at 0x7f2f5acb3898>,\n",
              " 'control': <gensim.models.keyedvectors.Vocab at 0x7f2f5acb3908>,\n",
              " 'received': <gensim.models.keyedvectors.Vocab at 0x7f2f5acb3940>,\n",
              " 'rate': <gensim.models.keyedvectors.Vocab at 0x7f2f5acb39b0>,\n",
              " 'career': <gensim.models.keyedvectors.Vocab at 0x7f2f5acb3a20>,\n",
              " 'Bush': <gensim.models.keyedvectors.Vocab at 0x7f2f5acb3a90>,\n",
              " 'teams': <gensim.models.keyedvectors.Vocab at 0x7f2f5acb3b00>,\n",
              " 'known': <gensim.models.keyedvectors.Vocab at 0x7f2f5acb3b70>,\n",
              " 'offer': <gensim.models.keyedvectors.Vocab at 0x7f2f5acb3be0>,\n",
              " 'race': <gensim.models.keyedvectors.Vocab at 0x7f2f5acb3c50>,\n",
              " 'ever': <gensim.models.keyedvectors.Vocab at 0x7f2f5acb3cc0>,\n",
              " 'experience': <gensim.models.keyedvectors.Vocab at 0x7f2f5acb3cf8>,\n",
              " 'playing': <gensim.models.keyedvectors.Vocab at 0x7f2f5acb3d68>,\n",
              " 'name': <gensim.models.keyedvectors.Vocab at 0x7f2f5acb3dd8>,\n",
              " 'possible': <gensim.models.keyedvectors.Vocab at 0x7f2f5acb3e10>,\n",
              " 'countries': <gensim.models.keyedvectors.Vocab at 0x7f2f5acb3e48>,\n",
              " 'Mr.': <gensim.models.keyedvectors.Vocab at 0x7f2f5acb3eb8>,\n",
              " 'average': <gensim.models.keyedvectors.Vocab at 0x7f2f5acb3f28>,\n",
              " 'together': <gensim.models.keyedvectors.Vocab at 0x7f2f5acb3f60>,\n",
              " 'using': <gensim.models.keyedvectors.Vocab at 0x7f2f5acb3fd0>,\n",
              " '9': <gensim.models.keyedvectors.Vocab at 0x7f2f5acb5048>,\n",
              " 'cut': <gensim.models.keyedvectors.Vocab at 0x7f2f5acb50b8>,\n",
              " 'While': <gensim.models.keyedvectors.Vocab at 0x7f2f5acb5128>,\n",
              " 'total': <gensim.models.keyedvectors.Vocab at 0x7f2f5acb5198>,\n",
              " 'round': <gensim.models.keyedvectors.Vocab at 0x7f2f5acb5208>,\n",
              " 'young': <gensim.models.keyedvectors.Vocab at 0x7f2f5acb5278>,\n",
              " 'nearly': <gensim.models.keyedvectors.Vocab at 0x7f2f5acb52e8>,\n",
              " 'shares': <gensim.models.keyedvectors.Vocab at 0x7f2f5acb5358>,\n",
              " 'member': <gensim.models.keyedvectors.Vocab at 0x7f2f5acb53c8>,\n",
              " 'campaign': <gensim.models.keyedvectors.Vocab at 0x7f2f5acb5400>,\n",
              " 'media': <gensim.models.keyedvectors.Vocab at 0x7f2f5acb5470>,\n",
              " 'needs': <gensim.models.keyedvectors.Vocab at 0x7f2f5acb54e0>,\n",
              " 'why': <gensim.models.keyedvectors.Vocab at 0x7f2f5acb5550>,\n",
              " 'house': <gensim.models.keyedvectors.Vocab at 0x7f2f5acb55c0>,\n",
              " 'issues': <gensim.models.keyedvectors.Vocab at 0x7f2f5acb5630>,\n",
              " 'costs': <gensim.models.keyedvectors.Vocab at 0x7f2f5acb56a0>,\n",
              " 'fire': <gensim.models.keyedvectors.Vocab at 0x7f2f5acb5710>,\n",
              " '##-#': <gensim.models.keyedvectors.Vocab at 0x7f2f5acb5780>,\n",
              " 'victory': <gensim.models.keyedvectors.Vocab at 0x7f2f5acb57f0>,\n",
              " 'player': <gensim.models.keyedvectors.Vocab at 0x7f2f5acb5860>,\n",
              " 'began': <gensim.models.keyedvectors.Vocab at 0x7f2f5acb58d0>,\n",
              " 'sure': <gensim.models.keyedvectors.Vocab at 0x7f2f5acb5940>,\n",
              " 'story': <gensim.models.keyedvectors.Vocab at 0x7f2f5acb59b0>,\n",
              " 'per_cent': <gensim.models.keyedvectors.Vocab at 0x7f2f5acb59e8>,\n",
              " 'North': <gensim.models.keyedvectors.Vocab at 0x7f2f5acb5a58>,\n",
              " 'His': <gensim.models.keyedvectors.Vocab at 0x7f2f5acb5ac8>,\n",
              " 'staff': <gensim.models.keyedvectors.Vocab at 0x7f2f5acb5b38>,\n",
              " 'order': <gensim.models.keyedvectors.Vocab at 0x7f2f5acb5ba8>,\n",
              " 'war': <gensim.models.keyedvectors.Vocab at 0x7f2f5acb5c18>,\n",
              " 'large': <gensim.models.keyedvectors.Vocab at 0x7f2f5acb5c88>,\n",
              " 'interest': <gensim.models.keyedvectors.Vocab at 0x7f2f5acb5cc0>,\n",
              " 'stock': <gensim.models.keyedvectors.Vocab at 0x7f2f5acb5d30>,\n",
              " 'food': <gensim.models.keyedvectors.Vocab at 0x7f2f5acb5da0>,\n",
              " 'research': <gensim.models.keyedvectors.Vocab at 0x7f2f5acb5dd8>,\n",
              " 'key': <gensim.models.keyedvectors.Vocab at 0x7f2f5acb5e48>,\n",
              " 'India': <gensim.models.keyedvectors.Vocab at 0x7f2f5acb5eb8>,\n",
              " 'South': <gensim.models.keyedvectors.Vocab at 0x7f2f5acb5f28>,\n",
              " 'morning': <gensim.models.keyedvectors.Vocab at 0x7f2f5acb5f98>,\n",
              " 'conference': <gensim.models.keyedvectors.Vocab at 0x7f2f5acb5fd0>,\n",
              " 'senior': <gensim.models.keyedvectors.Vocab at 0x7f2f5acb8080>,\n",
              " 'global': <gensim.models.keyedvectors.Vocab at 0x7f2f5acb80f0>,\n",
              " 'Center': <gensim.models.keyedvectors.Vocab at 0x7f2f5acb8160>,\n",
              " 'death': <gensim.models.keyedvectors.Vocab at 0x7f2f5acb81d0>,\n",
              " 'person': <gensim.models.keyedvectors.Vocab at 0x7f2f5acb8240>,\n",
              " 'thought': <gensim.models.keyedvectors.Vocab at 0x7f2f5acb82b0>,\n",
              " 'gave': <gensim.models.keyedvectors.Vocab at 0x7f2f5acb8320>,\n",
              " 'feel': <gensim.models.keyedvectors.Vocab at 0x7f2f5acb8390>,\n",
              " 'energy': <gensim.models.keyedvectors.Vocab at 0x7f2f5acb8400>,\n",
              " 'history': <gensim.models.keyedvectors.Vocab at 0x7f2f5acb8470>,\n",
              " 'recently': <gensim.models.keyedvectors.Vocab at 0x7f2f5acb84a8>,\n",
              " 'largest': <gensim.models.keyedvectors.Vocab at 0x7f2f5acb8518>,\n",
              " 'No.': <gensim.models.keyedvectors.Vocab at 0x7f2f5acb8588>,\n",
              " 'general': <gensim.models.keyedvectors.Vocab at 0x7f2f5acb85f8>,\n",
              " 'official': <gensim.models.keyedvectors.Vocab at 0x7f2f5acb8630>,\n",
              " 'released': <gensim.models.keyedvectors.Vocab at 0x7f2f5acb8668>,\n",
              " 'wanted': <gensim.models.keyedvectors.Vocab at 0x7f2f5acb86d8>,\n",
              " 'meet': <gensim.models.keyedvectors.Vocab at 0x7f2f5acb8748>,\n",
              " 'short': <gensim.models.keyedvectors.Vocab at 0x7f2f5acb87b8>,\n",
              " 'outside': <gensim.models.keyedvectors.Vocab at 0x7f2f5acb8828>,\n",
              " 'running': <gensim.models.keyedvectors.Vocab at 0x7f2f5acb8898>,\n",
              " 'live': <gensim.models.keyedvectors.Vocab at 0x7f2f5acb8908>,\n",
              " 'ball': <gensim.models.keyedvectors.Vocab at 0x7f2f5acb8978>,\n",
              " 'online': <gensim.models.keyedvectors.Vocab at 0x7f2f5acb89e8>,\n",
              " 'real': <gensim.models.keyedvectors.Vocab at 0x7f2f5acb8a58>,\n",
              " 'position': <gensim.models.keyedvectors.Vocab at 0x7f2f5acb8a90>,\n",
              " 'fact': <gensim.models.keyedvectors.Vocab at 0x7f2f5acb8b00>,\n",
              " 'fell': <gensim.models.keyedvectors.Vocab at 0x7f2f5acb8b70>,\n",
              " 'nine': <gensim.models.keyedvectors.Vocab at 0x7f2f5acb8be0>,\n",
              " 'December': <gensim.models.keyedvectors.Vocab at 0x7f2f5acb8c18>,\n",
              " 'front': <gensim.models.keyedvectors.Vocab at 0x7f2f5acb8c88>,\n",
              " 'action': <gensim.models.keyedvectors.Vocab at 0x7f2f5acb8cf8>,\n",
              " 'defense': <gensim.models.keyedvectors.Vocab at 0x7f2f5acb8d68>,\n",
              " 'problem': <gensim.models.keyedvectors.Vocab at 0x7f2f5acb8dd8>,\n",
              " 'problems': <gensim.models.keyedvectors.Vocab at 0x7f2f5acb8e10>,\n",
              " 'Mr': <gensim.models.keyedvectors.Vocab at 0x7f2f5acb8e80>,\n",
              " 'nation': <gensim.models.keyedvectors.Vocab at 0x7f2f5acb8ef0>,\n",
              " 'needed': <gensim.models.keyedvectors.Vocab at 0x7f2f5acb8f60>,\n",
              " 'special': <gensim.models.keyedvectors.Vocab at 0x7f2f5acb8fd0>,\n",
              " 'January': <gensim.models.keyedvectors.Vocab at 0x7f2f5acba080>,\n",
              " 'almost': <gensim.models.keyedvectors.Vocab at 0x7f2f5acba0f0>,\n",
              " 'chance': <gensim.models.keyedvectors.Vocab at 0x7f2f5acba160>,\n",
              " \"'d\": <gensim.models.keyedvectors.Vocab at 0x7f2f5acba1d0>,\n",
              " 'result': <gensim.models.keyedvectors.Vocab at 0x7f2f5acba240>,\n",
              " 'West': <gensim.models.keyedvectors.Vocab at 0x7f2f5acba2b0>,\n",
              " 'September': <gensim.models.keyedvectors.Vocab at 0x7f2f5acba2e8>,\n",
              " 'reports': <gensim.models.keyedvectors.Vocab at 0x7f2f5acba358>,\n",
              " 'leader': <gensim.models.keyedvectors.Vocab at 0x7f2f5acba3c8>,\n",
              " 'investment': <gensim.models.keyedvectors.Vocab at 0x7f2f5acba400>,\n",
              " 'yesterday': <gensim.models.keyedvectors.Vocab at 0x7f2f5acba438>,\n",
              " 'Some': <gensim.models.keyedvectors.Vocab at 0x7f2f5acba4a8>,\n",
              " 'leaders': <gensim.models.keyedvectors.Vocab at 0x7f2f5acba518>,\n",
              " 'ahead': <gensim.models.keyedvectors.Vocab at 0x7f2f5acba588>,\n",
              " 'production': <gensim.models.keyedvectors.Vocab at 0x7f2f5acba5c0>,\n",
              " 'comes': <gensim.models.keyedvectors.Vocab at 0x7f2f5acba630>,\n",
              " 'No': <gensim.models.keyedvectors.Vocab at 0x7f2f5acba6a0>,\n",
              " 'runs': <gensim.models.keyedvectors.Vocab at 0x7f2f5acba710>,\n",
              " 'match': <gensim.models.keyedvectors.Vocab at 0x7f2f5acba780>,\n",
              " 'role': <gensim.models.keyedvectors.Vocab at 0x7f2f5acba7f0>,\n",
              " 'kind': <gensim.models.keyedvectors.Vocab at 0x7f2f5acba860>,\n",
              " 'try': <gensim.models.keyedvectors.Vocab at 0x7f2f5acba8d0>,\n",
              " 'ended': <gensim.models.keyedvectors.Vocab at 0x7f2f5acba940>,\n",
              " 'risk': <gensim.models.keyedvectors.Vocab at 0x7f2f5acba9b0>,\n",
              " 'areas': <gensim.models.keyedvectors.Vocab at 0x7f2f5acbaa20>,\n",
              " 'election': <gensim.models.keyedvectors.Vocab at 0x7f2f5acbaa58>,\n",
              " 'workers': <gensim.models.keyedvectors.Vocab at 0x7f2f5acbaac8>,\n",
              " 'visit': <gensim.models.keyedvectors.Vocab at 0x7f2f5acbab38>,\n",
              " 'bring': <gensim.models.keyedvectors.Vocab at 0x7f2f5acbaba8>,\n",
              " 'road': <gensim.models.keyedvectors.Vocab at 0x7f2f5acbac18>,\n",
              " 'music': <gensim.models.keyedvectors.Vocab at 0x7f2f5acbac88>,\n",
              " 'study': <gensim.models.keyedvectors.Vocab at 0x7f2f5acbacf8>,\n",
              " 'makes': <gensim.models.keyedvectors.Vocab at 0x7f2f5acbad68>,\n",
              " 'often': <gensim.models.keyedvectors.Vocab at 0x7f2f5acbadd8>,\n",
              " 'release': <gensim.models.keyedvectors.Vocab at 0x7f2f5acbae48>,\n",
              " 'woman': <gensim.models.keyedvectors.Vocab at 0x7f2f5acbaeb8>,\n",
              " 'vote': <gensim.models.keyedvectors.Vocab at 0x7f2f5acbaf28>,\n",
              " 'care': <gensim.models.keyedvectors.Vocab at 0x7f2f5acbaf98>,\n",
              " 'town': <gensim.models.keyedvectors.Vocab at 0x7f2f5acbd048>,\n",
              " 'clear': <gensim.models.keyedvectors.Vocab at 0x7f2f5acbd0b8>,\n",
              " 'comment': <gensim.models.keyedvectors.Vocab at 0x7f2f5acbd128>,\n",
              " 'budget': <gensim.models.keyedvectors.Vocab at 0x7f2f5acbd198>,\n",
              " 'potential': <gensim.models.keyedvectors.Vocab at 0x7f2f5acbd1d0>,\n",
              " 'single': <gensim.models.keyedvectors.Vocab at 0x7f2f5acbd240>,\n",
              " 'markets': <gensim.models.keyedvectors.Vocab at 0x7f2f5acbd2b0>,\n",
              " 'policy': <gensim.models.keyedvectors.Vocab at 0x7f2f5acbd320>,\n",
              " 'capital': <gensim.models.keyedvectors.Vocab at 0x7f2f5acbd390>,\n",
              " 'saw': <gensim.models.keyedvectors.Vocab at 0x7f2f5acbd400>,\n",
              " 'access': <gensim.models.keyedvectors.Vocab at 0x7f2f5acbd470>,\n",
              " 'weekend': <gensim.models.keyedvectors.Vocab at 0x7f2f5acbd4e0>,\n",
              " 'operations': <gensim.models.keyedvectors.Vocab at 0x7f2f5acbd518>,\n",
              " 'whose': <gensim.models.keyedvectors.Vocab at 0x7f2f5acbd588>,\n",
              " 'net': <gensim.models.keyedvectors.Vocab at 0x7f2f5acbd5f8>,\n",
              " 'House': <gensim.models.keyedvectors.Vocab at 0x7f2f5acbd668>,\n",
              " 'hand': <gensim.models.keyedvectors.Vocab at 0x7f2f5acbd6d8>,\n",
              " 'increased': <gensim.models.keyedvectors.Vocab at 0x7f2f5acbd710>,\n",
              " 'charges': <gensim.models.keyedvectors.Vocab at 0x7f2f5acbd780>,\n",
              " 'winning': <gensim.models.keyedvectors.Vocab at 0x7f2f5acbd7f0>,\n",
              " 'trade': <gensim.models.keyedvectors.Vocab at 0x7f2f5acbd860>,\n",
              " 'These': <gensim.models.keyedvectors.Vocab at 0x7f2f5acbd8d0>,\n",
              " 'income': <gensim.models.keyedvectors.Vocab at 0x7f2f5acbd940>,\n",
              " 'value': <gensim.models.keyedvectors.Vocab at 0x7f2f5acbd9b0>,\n",
              " 'involved': <gensim.models.keyedvectors.Vocab at 0x7f2f5acbd9e8>,\n",
              " 'Bank': <gensim.models.keyedvectors.Vocab at 0x7f2f5acbda58>,\n",
              " 'November': <gensim.models.keyedvectors.Vocab at 0x7f2f5acbda90>,\n",
              " 'bill': <gensim.models.keyedvectors.Vocab at 0x7f2f5acbdb00>,\n",
              " 'compared': <gensim.models.keyedvectors.Vocab at 0x7f2f5acbdb38>,\n",
              " 'anything': <gensim.models.keyedvectors.Vocab at 0x7f2f5acbdb70>,\n",
              " 'manager': <gensim.models.keyedvectors.Vocab at 0x7f2f5acbdbe0>,\n",
              " 'Texas': <gensim.models.keyedvectors.Vocab at 0x7f2f5acbdc50>,\n",
              " 'property': <gensim.models.keyedvectors.Vocab at 0x7f2f5acbdc88>,\n",
              " 'stop': <gensim.models.keyedvectors.Vocab at 0x7f2f5acbdcf8>,\n",
              " 'annual': <gensim.models.keyedvectors.Vocab at 0x7f2f5acbdd68>,\n",
              " 'private': <gensim.models.keyedvectors.Vocab at 0x7f2f5acbddd8>,\n",
              " 'contract': <gensim.models.keyedvectors.Vocab at 0x7f2f5acbde10>,\n",
              " 'died': <gensim.models.keyedvectors.Vocab at 0x7f2f5acbde80>,\n",
              " 'Now': <gensim.models.keyedvectors.Vocab at 0x7f2f5acbdef0>,\n",
              " 'hope': <gensim.models.keyedvectors.Vocab at 0x7f2f5acbdf60>,\n",
              " 'product': <gensim.models.keyedvectors.Vocab at 0x7f2f5acbdfd0>,\n",
              " 'fans': <gensim.models.keyedvectors.Vocab at 0x7f2f5acc0080>,\n",
              " 'lower': <gensim.models.keyedvectors.Vocab at 0x7f2f5acc00f0>,\n",
              " 'demand': <gensim.models.keyedvectors.Vocab at 0x7f2f5acc0160>,\n",
              " 'News': <gensim.models.keyedvectors.Vocab at 0x7f2f5acc01d0>,\n",
              " 'David': <gensim.models.keyedvectors.Vocab at 0x7f2f5acc0240>,\n",
              " 'club': <gensim.models.keyedvectors.Vocab at 0x7f2f5acc02b0>,\n",
              " 'comments': <gensim.models.keyedvectors.Vocab at 0x7f2f5acc02e8>,\n",
              " 'film': <gensim.models.keyedvectors.Vocab at 0x7f2f5acc0358>,\n",
              " 'yards': <gensim.models.keyedvectors.Vocab at 0x7f2f5acc03c8>,\n",
              " 'quality': <gensim.models.keyedvectors.Vocab at 0x7f2f5acc0438>,\n",
              " 'currently': <gensim.models.keyedvectors.Vocab at 0x7f2f5acc0470>,\n",
              " 'events': <gensim.models.keyedvectors.Vocab at 0x7f2f5acc04e0>,\n",
              " 'addition': <gensim.models.keyedvectors.Vocab at 0x7f2f5acc0518>,\n",
              " 'couple': <gensim.models.keyedvectors.Vocab at 0x7f2f5acc0588>,\n",
              " 'schools': <gensim.models.keyedvectors.Vocab at 0x7f2f5acc05f8>,\n",
              " 'attack': <gensim.models.keyedvectors.Vocab at 0x7f2f5acc0668>,\n",
              " 'region': <gensim.models.keyedvectors.Vocab at 0x7f2f5acc06d8>,\n",
              " 'latest': <gensim.models.keyedvectors.Vocab at 0x7f2f5acc0748>,\n",
              " 'opportunity': <gensim.models.keyedvectors.Vocab at 0x7f2f5acc0780>,\n",
              " 'worked': <gensim.models.keyedvectors.Vocab at 0x7f2f5acc07f0>,\n",
              " 'course': <gensim.models.keyedvectors.Vocab at 0x7f2f5acc0860>,\n",
              " 'bad': <gensim.models.keyedvectors.Vocab at 0x7f2f5acc08d0>,\n",
              " 'fall': <gensim.models.keyedvectors.Vocab at 0x7f2f5acc0940>,\n",
              " 'Group': <gensim.models.keyedvectors.Vocab at 0x7f2f5acc09b0>,\n",
              " 'October': <gensim.models.keyedvectors.Vocab at 0x7f2f5acc0a20>,\n",
              " 'jobs': <gensim.models.keyedvectors.Vocab at 0x7f2f5acc0a90>,\n",
              " 'list': <gensim.models.keyedvectors.Vocab at 0x7f2f5acc0b00>,\n",
              " 'let': <gensim.models.keyedvectors.Vocab at 0x7f2f5acc0b70>,\n",
              " 'however': <gensim.models.keyedvectors.Vocab at 0x7f2f5acc0be0>,\n",
              " 'chief': <gensim.models.keyedvectors.Vocab at 0x7f2f5acc0c50>,\n",
              " 'summer': <gensim.models.keyedvectors.Vocab at 0x7f2f5acc0cc0>,\n",
              " 'programs': <gensim.models.keyedvectors.Vocab at 0x7f2f5acc0cf8>,\n",
              " 'According': <gensim.models.keyedvectors.Vocab at 0x7f2f5acc0d30>,\n",
              " 'revenue': <gensim.models.keyedvectors.Vocab at 0x7f2f5acc0da0>,\n",
              " 'Our': <gensim.models.keyedvectors.Vocab at 0x7f2f5acc0e10>,\n",
              " 'rose': <gensim.models.keyedvectors.Vocab at 0x7f2f5acc0e80>,\n",
              " 'previous': <gensim.models.keyedvectors.Vocab at 0x7f2f5acc0eb8>,\n",
              " 'TV': <gensim.models.keyedvectors.Vocab at 0x7f2f5acc0f28>,\n",
              " 'football': <gensim.models.keyedvectors.Vocab at 0x7f2f5acc0f60>,\n",
              " 'biggest': <gensim.models.keyedvectors.Vocab at 0x7f2f5acc0fd0>,\n",
              " 'employees': <gensim.models.keyedvectors.Vocab at 0x7f2f5acc2048>,\n",
              " 'changes': <gensim.models.keyedvectors.Vocab at 0x7f2f5acc20b8>,\n",
              " 'residents': <gensim.models.keyedvectors.Vocab at 0x7f2f5acc20f0>,\n",
              " 'means': <gensim.models.keyedvectors.Vocab at 0x7f2f5acc2160>,\n",
              " 'agreement': <gensim.models.keyedvectors.Vocab at 0x7f2f5acc2198>,\n",
              " 'includes': <gensim.models.keyedvectors.Vocab at 0x7f2f5acc21d0>,\n",
              " 'post': <gensim.models.keyedvectors.Vocab at 0x7f2f5acc2240>,\n",
              " 'Canada': <gensim.models.keyedvectors.Vocab at 0x7f2f5acc22b0>,\n",
              " 'probably': <gensim.models.keyedvectors.Vocab at 0x7f2f5acc22e8>,\n",
              " 'related': <gensim.models.keyedvectors.Vocab at 0x7f2f5acc2358>,\n",
              " 'training': <gensim.models.keyedvectors.Vocab at 0x7f2f5acc2390>,\n",
              " 'allowed': <gensim.models.keyedvectors.Vocab at 0x7f2f5acc2400>,\n",
              " 'class': <gensim.models.keyedvectors.Vocab at 0x7f2f5acc2470>,\n",
              " 'bit': <gensim.models.keyedvectors.Vocab at 0x7f2f5acc24e0>,\n",
              " 'video': <gensim.models.keyedvectors.Vocab at 0x7f2f5acc2550>,\n",
              " 'Michael': <gensim.models.keyedvectors.Vocab at 0x7f2f5acc25c0>,\n",
              " 'An': <gensim.models.keyedvectors.Vocab at 0x7f2f5acc2630>,\n",
              " 'sent': <gensim.models.keyedvectors.Vocab at 0x7f2f5acc26a0>,\n",
              " 'education': <gensim.models.keyedvectors.Vocab at 0x7f2f5acc26d8>,\n",
              " 'states': <gensim.models.keyedvectors.Vocab at 0x7f2f5acc2748>,\n",
              " 'straight': <gensim.models.keyedvectors.Vocab at 0x7f2f5acc2780>,\n",
              " 'love': <gensim.models.keyedvectors.Vocab at 0x7f2f5acc27f0>,\n",
              " 'beat': <gensim.models.keyedvectors.Vocab at 0x7f2f5acc2860>,\n",
              " 'hold': <gensim.models.keyedvectors.Vocab at 0x7f2f5acc28d0>,\n",
              " 'turn': <gensim.models.keyedvectors.Vocab at 0x7f2f5acc2940>,\n",
              " 'finished': <gensim.models.keyedvectors.Vocab at 0x7f2f5acc2978>,\n",
              " 'network': <gensim.models.keyedvectors.Vocab at 0x7f2f5acc29e8>,\n",
              " 'Smith': <gensim.models.keyedvectors.Vocab at 0x7f2f5acc2a58>,\n",
              " 'buy': <gensim.models.keyedvectors.Vocab at 0x7f2f5acc2ac8>,\n",
              " 'foreign': <gensim.models.keyedvectors.Vocab at 0x7f2f5acc2b38>,\n",
              " 'especially': <gensim.models.keyedvectors.Vocab at 0x7f2f5acc2b70>,\n",
              " 'groups': <gensim.models.keyedvectors.Vocab at 0x7f2f5acc2be0>,\n",
              " 'wants': <gensim.models.keyedvectors.Vocab at 0x7f2f5acc2c50>,\n",
              " 'title': <gensim.models.keyedvectors.Vocab at 0x7f2f5acc2cc0>,\n",
              " 'included': <gensim.models.keyedvectors.Vocab at 0x7f2f5acc2cf8>,\n",
              " 'turned': <gensim.models.keyedvectors.Vocab at 0x7f2f5acc2d68>,\n",
              " 'bank': <gensim.models.keyedvectors.Vocab at 0x7f2f5acc2dd8>,\n",
              " 'Florida': <gensim.models.keyedvectors.Vocab at 0x7f2f5acc2e48>,\n",
              " 'efforts': <gensim.models.keyedvectors.Vocab at 0x7f2f5acc2eb8>,\n",
              " 'personal': <gensim.models.keyedvectors.Vocab at 0x7f2f5acc2ef0>,\n",
              " 'businesses': <gensim.models.keyedvectors.Vocab at 0x7f2f5acc2f28>,\n",
              " 'August': <gensim.models.keyedvectors.Vocab at 0x7f2f5acc2f98>,\n",
              " 'California': <gensim.models.keyedvectors.Vocab at 0x7f2f5acc2fd0>,\n",
              " 'situation': <gensim.models.keyedvectors.Vocab at 0x7f2f5acc6048>,\n",
              " 'district': <gensim.models.keyedvectors.Vocab at 0x7f2f5acc6080>,\n",
              " 'allow': <gensim.models.keyedvectors.Vocab at 0x7f2f5acc60f0>,\n",
              " 'helped': <gensim.models.keyedvectors.Vocab at 0x7f2f5acc6160>,\n",
              " 'body': <gensim.models.keyedvectors.Vocab at 0x7f2f5acc61d0>,\n",
              " 'nothing': <gensim.models.keyedvectors.Vocab at 0x7f2f5acc6240>,\n",
              " 'soon': <gensim.models.keyedvectors.Vocab at 0x7f2f5acc62b0>,\n",
              " 'safety': <gensim.models.keyedvectors.Vocab at 0x7f2f5acc6320>,\n",
              " 'officer': <gensim.models.keyedvectors.Vocab at 0x7f2f5acc6390>,\n",
              " 'cents': <gensim.models.keyedvectors.Vocab at 0x7f2f5acc6400>,\n",
              " 'Europe': <gensim.models.keyedvectors.Vocab at 0x7f2f5acc6470>,\n",
              " 'St.': <gensim.models.keyedvectors.Vocab at 0x7f2f5acc64e0>,\n",
              " 'additional': <gensim.models.keyedvectors.Vocab at 0x7f2f5acc6518>,\n",
              " 'spokesman': <gensim.models.keyedvectors.Vocab at 0x7f2f5acc6550>,\n",
              " 'February': <gensim.models.keyedvectors.Vocab at 0x7f2f5acc6588>,\n",
              " 'wife': <gensim.models.keyedvectors.Vocab at 0x7f2f5acc65f8>,\n",
              " 'showed': <gensim.models.keyedvectors.Vocab at 0x7f2f5acc6668>,\n",
              " 'leave': <gensim.models.keyedvectors.Vocab at 0x7f2f5acc66d8>,\n",
              " 'investors': <gensim.models.keyedvectors.Vocab at 0x7f2f5acc6710>,\n",
              " 'parents': <gensim.models.keyedvectors.Vocab at 0x7f2f5acc6780>,\n",
              " 'medical': <gensim.models.keyedvectors.Vocab at 0x7f2f5acc67f0>,\n",
              " 'spending': <gensim.models.keyedvectors.Vocab at 0x7f2f5acc6828>,\n",
              " 'non': <gensim.models.keyedvectors.Vocab at 0x7f2f5acc6898>,\n",
              " 'London': <gensim.models.keyedvectors.Vocab at 0x7f2f5acc6908>,\n",
              " 'Council': <gensim.models.keyedvectors.Vocab at 0x7f2f5acc6978>,\n",
              " 'matter': <gensim.models.keyedvectors.Vocab at 0x7f2f5acc69e8>,\n",
              " 'spent': <gensim.models.keyedvectors.Vocab at 0x7f2f5acc6a58>,\n",
              " 'child': <gensim.models.keyedvectors.Vocab at 0x7f2f5acc6ac8>,\n",
              " 'World': <gensim.models.keyedvectors.Vocab at 0x7f2f5acc6b38>,\n",
              " 'effort': <gensim.models.keyedvectors.Vocab at 0x7f2f5acc6ba8>,\n",
              " 'opening': <gensim.models.keyedvectors.Vocab at 0x7f2f5acc6c18>,\n",
              " 'either': <gensim.models.keyedvectors.Vocab at 0x7f2f5acc6c88>,\n",
              " 'range': <gensim.models.keyedvectors.Vocab at 0x7f2f5acc6cf8>,\n",
              " 'question': <gensim.models.keyedvectors.Vocab at 0x7f2f5acc6d30>,\n",
              " 'European': <gensim.models.keyedvectors.Vocab at 0x7f2f5acc6d68>,\n",
              " 'goals': <gensim.models.keyedvectors.Vocab at 0x7f2f5acc6dd8>,\n",
              " 'administration': <gensim.models.keyedvectors.Vocab at 0x7f2f5acc6e10>,\n",
              " 'friends': <gensim.models.keyedvectors.Vocab at 0x7f2f5acc6e80>,\n",
              " 'himself': <gensim.models.keyedvectors.Vocab at 0x7f2f5acc6ef0>,\n",
              " 'shows': <gensim.models.keyedvectors.Vocab at 0x7f2f5acc6f60>,\n",
              " 'difficult': <gensim.models.keyedvectors.Vocab at 0x7f2f5acc6f98>,\n",
              " 'kids': <gensim.models.keyedvectors.Vocab at 0x7f2f5acc9048>,\n",
              " 'paid': <gensim.models.keyedvectors.Vocab at 0x7f2f5acc90b8>,\n",
              " 'create': <gensim.models.keyedvectors.Vocab at 0x7f2f5acc9128>,\n",
              " 'cash': <gensim.models.keyedvectors.Vocab at 0x7f2f5acc9198>,\n",
              " 'age': <gensim.models.keyedvectors.Vocab at 0x7f2f5acc9208>,\n",
              " 'league': <gensim.models.keyedvectors.Vocab at 0x7f2f5acc9278>,\n",
              " 'form': <gensim.models.keyedvectors.Vocab at 0x7f2f5acc92e8>,\n",
              " 'impact': <gensim.models.keyedvectors.Vocab at 0x7f2f5acc9358>,\n",
              " 'drive': <gensim.models.keyedvectors.Vocab at 0x7f2f5acc93c8>,\n",
              " 'someone': <gensim.models.keyedvectors.Vocab at 0x7f2f5acc9438>,\n",
              " 'became': <gensim.models.keyedvectors.Vocab at 0x7f2f5acc94a8>,\n",
              " 'stay': <gensim.models.keyedvectors.Vocab at 0x7f2f5acc9518>,\n",
              " 'fight': <gensim.models.keyedvectors.Vocab at 0x7f2f5acc9588>,\n",
              " 'significant': <gensim.models.keyedvectors.Vocab at 0x7f2f5acc95c0>,\n",
              " 'firm': <gensim.models.keyedvectors.Vocab at 0x7f2f5acc9630>,\n",
              " 'Senate': <gensim.models.keyedvectors.Vocab at 0x7f2f5acc96a0>,\n",
              " 'hospital': <gensim.models.keyedvectors.Vocab at 0x7f2f5acc96d8>,\n",
              " 'charged': <gensim.models.keyedvectors.Vocab at 0x7f2f5acc9748>,\n",
              " 'operating': <gensim.models.keyedvectors.Vocab at 0x7f2f5acc9780>,\n",
              " 'main': <gensim.models.keyedvectors.Vocab at 0x7f2f5acc97f0>,\n",
              " 'book': <gensim.models.keyedvectors.Vocab at 0x7f2f5acc9860>,\n",
              " 'success': <gensim.models.keyedvectors.Vocab at 0x7f2f5acc98d0>,\n",
              " 'son': <gensim.models.keyedvectors.Vocab at 0x7f2f5acc9940>,\n",
              " 'trading': <gensim.models.keyedvectors.Vocab at 0x7f2f5acc99b0>,\n",
              " '###-####': <gensim.models.keyedvectors.Vocab at 0x7f2f5acc99e8>,\n",
              " 'focus': <gensim.models.keyedvectors.Vocab at 0x7f2f5acc9a58>,\n",
              " 'room': <gensim.models.keyedvectors.Vocab at 0x7f2f5acc9ac8>,\n",
              " 'continued': <gensim.models.keyedvectors.Vocab at 0x7f2f5acc9b00>,\n",
              " 'Congress': <gensim.models.keyedvectors.Vocab at 0x7f2f5acc9b38>,\n",
              " 'everything': <gensim.models.keyedvectors.Vocab at 0x7f2f5acc9b70>,\n",
              " 'Park': <gensim.models.keyedvectors.Vocab at 0x7f2f5acc9be0>,\n",
              " 'agency': <gensim.models.keyedvectors.Vocab at 0x7f2f5acc9c50>,\n",
              " 'brought': <gensim.models.keyedvectors.Vocab at 0x7f2f5acc9cc0>,\n",
              " 'talk': <gensim.models.keyedvectors.Vocab at 0x7f2f5acc9d30>,\n",
              " 'break': <gensim.models.keyedvectors.Vocab at 0x7f2f5acc9da0>,\n",
              " 'air': <gensim.models.keyedvectors.Vocab at 0x7f2f5acc9e10>,\n",
              " 'software': <gensim.models.keyedvectors.Vocab at 0x7f2f5acc9e48>,\n",
              " 'decided': <gensim.models.keyedvectors.Vocab at 0x7f2f5acc9eb8>,\n",
              " 'Do': <gensim.models.keyedvectors.Vocab at 0x7f2f5acc9f28>,\n",
              " 'ready': <gensim.models.keyedvectors.Vocab at 0x7f2f5acc9f98>,\n",
              " 'arrested': <gensim.models.keyedvectors.Vocab at 0x7f2f5acc9fd0>,\n",
              " 'track': <gensim.models.keyedvectors.Vocab at 0x7f2f5acca080>,\n",
              " 'provides': <gensim.models.keyedvectors.Vocab at 0x7f2f5acca0b8>,\n",
              " 'mother': <gensim.models.keyedvectors.Vocab at 0x7f2f5acca128>,\n",
              " 'base': <gensim.models.keyedvectors.Vocab at 0x7f2f5acca198>,\n",
              " 'trial': <gensim.models.keyedvectors.Vocab at 0x7f2f5acca208>,\n",
              " 'phone': <gensim.models.keyedvectors.Vocab at 0x7f2f5acca278>,\n",
              " 'My': <gensim.models.keyedvectors.Vocab at 0x7f2f5acca2e8>,\n",
              " 'build': <gensim.models.keyedvectors.Vocab at 0x7f2f5acca358>,\n",
              " 'conditions': <gensim.models.keyedvectors.Vocab at 0x7f2f5acca390>,\n",
              " 'rest': <gensim.models.keyedvectors.Vocab at 0x7f2f5acca400>,\n",
              " 'Johnson': <gensim.models.keyedvectors.Vocab at 0x7f2f5acca470>,\n",
              " 'terms': <gensim.models.keyedvectors.Vocab at 0x7f2f5acca4e0>,\n",
              " 'expect': <gensim.models.keyedvectors.Vocab at 0x7f2f5acca550>,\n",
              " 'England': <gensim.models.keyedvectors.Vocab at 0x7f2f5acca5c0>,\n",
              " 'Israel': <gensim.models.keyedvectors.Vocab at 0x7f2f5acca630>,\n",
              " 'despite': <gensim.models.keyedvectors.Vocab at 0x7f2f5acca6a0>,\n",
              " 'closed': <gensim.models.keyedvectors.Vocab at 0x7f2f5acca710>,\n",
              " 'starting': <gensim.models.keyedvectors.Vocab at 0x7f2f5acca748>,\n",
              " 'provided': <gensim.models.keyedvectors.Vocab at 0x7f2f5acca780>,\n",
              " 'pressure': <gensim.models.keyedvectors.Vocab at 0x7f2f5acca7b8>,\n",
              " 'lives': <gensim.models.keyedvectors.Vocab at 0x7f2f5acca828>,\n",
              " 'step': <gensim.models.keyedvectors.Vocab at 0x7f2f5acca898>,\n",
              " 'remain': <gensim.models.keyedvectors.Vocab at 0x7f2f5acca908>,\n",
              " 'similar': <gensim.models.keyedvectors.Vocab at 0x7f2f5acca978>,\n",
              " 'charge': <gensim.models.keyedvectors.Vocab at 0x7f2f5acca9e8>,\n",
              " 'date': <gensim.models.keyedvectors.Vocab at 0x7f2f5accaa58>,\n",
              " 'whole': <gensim.models.keyedvectors.Vocab at 0x7f2f5accaac8>,\n",
              " 'land': <gensim.models.keyedvectors.Vocab at 0x7f2f5accab38>,\n",
              " 'growing': <gensim.models.keyedvectors.Vocab at 0x7f2f5accaba8>,\n",
              " 'James': <gensim.models.keyedvectors.Vocab at 0x7f2f5accac18>,\n",
              " 'Internet': <gensim.models.keyedvectors.Vocab at 0x7f2f5accac50>,\n",
              " 'projects': <gensim.models.keyedvectors.Vocab at 0x7f2f5accac88>,\n",
              " 'British': <gensim.models.keyedvectors.Vocab at 0x7f2f5accacf8>,\n",
              " 'cases': <gensim.models.keyedvectors.Vocab at 0x7f2f5accad68>,\n",
              " 'ground': <gensim.models.keyedvectors.Vocab at 0x7f2f5accadd8>,\n",
              " 'legal': <gensim.models.keyedvectors.Vocab at 0x7f2f5accae48>,\n",
              " 'International': <gensim.models.keyedvectors.Vocab at 0x7f2f5accae80>,\n",
              " 'agreed': <gensim.models.keyedvectors.Vocab at 0x7f2f5accaef0>,\n",
              " 'tell': <gensim.models.keyedvectors.Vocab at 0x7f2f5accaf60>,\n",
              " 'test': <gensim.models.keyedvectors.Vocab at 0x7f2f5accafd0>,\n",
              " 'everyone': <gensim.models.keyedvectors.Vocab at 0x7f2f5acce048>,\n",
              " 'pretty': <gensim.models.keyedvectors.Vocab at 0x7f2f5acce0b8>,\n",
              " 'authorities': <gensim.models.keyedvectors.Vocab at 0x7f2f5acce0f0>,\n",
              " 'Two': <gensim.models.keyedvectors.Vocab at 0x7f2f5acce160>,\n",
              " 'above': <gensim.models.keyedvectors.Vocab at 0x7f2f5acce1d0>,\n",
              " 'moved': <gensim.models.keyedvectors.Vocab at 0x7f2f5acce240>,\n",
              " 'profit': <gensim.models.keyedvectors.Vocab at 0x7f2f5acce2b0>,\n",
              " 'throughout': <gensim.models.keyedvectors.Vocab at 0x7f2f5acce2e8>,\n",
              " 'inside': <gensim.models.keyedvectors.Vocab at 0x7f2f5acce358>,\n",
              " 'ability': <gensim.models.keyedvectors.Vocab at 0x7f2f5acce3c8>,\n",
              " 'overall': <gensim.models.keyedvectors.Vocab at 0x7f2f5acce438>,\n",
              " 'pass': <gensim.models.keyedvectors.Vocab at 0x7f2f5acce4a8>,\n",
              " 'officers': <gensim.models.keyedvectors.Vocab at 0x7f2f5acce4e0>,\n",
              " 'rather': <gensim.models.keyedvectors.Vocab at 0x7f2f5acce550>,\n",
              " 'Australia': <gensim.models.keyedvectors.Vocab at 0x7f2f5acce588>,\n",
              " 'actually': <gensim.models.keyedvectors.Vocab at 0x7f2f5acce5c0>,\n",
              " 'county': <gensim.models.keyedvectors.Vocab at 0x7f2f5acce630>,\n",
              " 'amount': <gensim.models.keyedvectors.Vocab at 0x7f2f5acce6a0>,\n",
              " 'scheduled': <gensim.models.keyedvectors.Vocab at 0x7f2f5acce6d8>,\n",
              " 'themselves': <gensim.models.keyedvectors.Vocab at 0x7f2f5acce710>,\n",
              " 'organization': <gensim.models.keyedvectors.Vocab at 0x7f2f5acce748>,\n",
              " 'giving': <gensim.models.keyedvectors.Vocab at 0x7f2f5acce7b8>,\n",
              " 'credit': <gensim.models.keyedvectors.Vocab at 0x7f2f5acce828>,\n",
              " 'father': <gensim.models.keyedvectors.Vocab at 0x7f2f5acce898>,\n",
              " 'drug': <gensim.models.keyedvectors.Vocab at 0x7f2f5acce908>,\n",
              " 'investigation': <gensim.models.keyedvectors.Vocab at 0x7f2f5acce940>,\n",
              " 'families': <gensim.models.keyedvectors.Vocab at 0x7f2f5acce978>,\n",
              " 'Republican': <gensim.models.keyedvectors.Vocab at 0x7f2f5acce9b0>,\n",
              " 'funds': <gensim.models.keyedvectors.Vocab at 0x7f2f5accea20>,\n",
              " 'patients': <gensim.models.keyedvectors.Vocab at 0x7f2f5accea58>,\n",
              " 'takes': <gensim.models.keyedvectors.Vocab at 0x7f2f5acceac8>,\n",
              " 'systems': <gensim.models.keyedvectors.Vocab at 0x7f2f5acceb38>,\n",
              " 'Japan': <gensim.models.keyedvectors.Vocab at 0x7f2f5acceba8>,\n",
              " 'complete': <gensim.models.keyedvectors.Vocab at 0x7f2f5accebe0>,\n",
              " 'sold': <gensim.models.keyedvectors.Vocab at 0x7f2f5accec50>,\n",
              " 'practice': <gensim.models.keyedvectors.Vocab at 0x7f2f5accec88>,\n",
              " 'calls': <gensim.models.keyedvectors.Vocab at 0x7f2f5accecf8>,\n",
              " '•': <gensim.models.keyedvectors.Vocab at 0x7f2f5acced30>,\n",
              " 'UK': <gensim.models.keyedvectors.Vocab at 0x7f2f5acceda0>,\n",
              " 'force': <gensim.models.keyedvectors.Vocab at 0x7f2f5accee10>,\n",
              " 'student': <gensim.models.keyedvectors.Vocab at 0x7f2f5accee80>,\n",
              " 'idea': <gensim.models.keyedvectors.Vocab at 0x7f2f5acceef0>,\n",
              " 'reached': <gensim.models.keyedvectors.Vocab at 0x7f2f5accef60>,\n",
              " 'reason': <gensim.models.keyedvectors.Vocab at 0x7f2f5accefd0>,\n",
              " 'levels': <gensim.models.keyedvectors.Vocab at 0x7f2f5acd1080>,\n",
              " 'space': <gensim.models.keyedvectors.Vocab at 0x7f2f5acd10f0>,\n",
              " 'competition': <gensim.models.keyedvectors.Vocab at 0x7f2f5acd1128>,\n",
              " 'forces': <gensim.models.keyedvectors.Vocab at 0x7f2f5acd1198>,\n",
              " 'sector': <gensim.models.keyedvectors.Vocab at 0x7f2f5acd1208>,\n",
              " 'Last': <gensim.models.keyedvectors.Vocab at 0x7f2f5acd1278>,\n",
              " 'tried': <gensim.models.keyedvectors.Vocab at 0x7f2f5acd12e8>,\n",
              " 'common': <gensim.models.keyedvectors.Vocab at 0x7f2f5acd1358>,\n",
              " 'homes': <gensim.models.keyedvectors.Vocab at 0x7f2f5acd13c8>,\n",
              " 'stage': <gensim.models.keyedvectors.Vocab at 0x7f2f5acd1438>,\n",
              " 'department': <gensim.models.keyedvectors.Vocab at 0x7f2f5acd1470>,\n",
              " 'named': <gensim.models.keyedvectors.Vocab at 0x7f2f5acd14e0>,\n",
              " 'earnings': <gensim.models.keyedvectors.Vocab at 0x7f2f5acd1518>,\n",
              " 'offers': <gensim.models.keyedvectors.Vocab at 0x7f2f5acd1588>,\n",
              " 'star': <gensim.models.keyedvectors.Vocab at 0x7f2f5acd15f8>,\n",
              " 'certain': <gensim.models.keyedvectors.Vocab at 0x7f2f5acd1668>,\n",
              " 'double': <gensim.models.keyedvectors.Vocab at 0x7f2f5acd16d8>,\n",
              " 'longer': <gensim.models.keyedvectors.Vocab at 0x7f2f5acd1748>,\n",
              " 'followed': <gensim.models.keyedvectors.Vocab at 0x7f2f5acd1780>,\n",
              " 'cause': <gensim.models.keyedvectors.Vocab at 0x7f2f5acd17f0>,\n",
              " 'Association': <gensim.models.keyedvectors.Vocab at 0x7f2f5acd1828>,\n",
              " 'signed': <gensim.models.keyedvectors.Vocab at 0x7f2f5acd1898>,\n",
              " 'committee': <gensim.models.keyedvectors.Vocab at 0x7f2f5acd18d0>,\n",
              " 'hour': <gensim.models.keyedvectors.Vocab at 0x7f2f5acd1940>,\n",
              " 'college': <gensim.models.keyedvectors.Vocab at 0x7f2f5acd19b0>,\n",
              " 'Pakistan': <gensim.models.keyedvectors.Vocab at 0x7f2f5acd19e8>,\n",
              " 'users': <gensim.models.keyedvectors.Vocab at 0x7f2f5acd1a58>,\n",
              " 'Iran': <gensim.models.keyedvectors.Vocab at 0x7f2f5acd1ac8>,\n",
              " 'sign': <gensim.models.keyedvectors.Vocab at 0x7f2f5acd1b38>,\n",
              " 'living': <gensim.models.keyedvectors.Vocab at 0x7f2f5acd1ba8>,\n",
              " 'failed': <gensim.models.keyedvectors.Vocab at 0x7f2f5acd1c18>,\n",
              " 'reach': <gensim.models.keyedvectors.Vocab at 0x7f2f5acd1c88>,\n",
              " 'quickly': <gensim.models.keyedvectors.Vocab at 0x7f2f5acd1cf8>,\n",
              " 'receive': <gensim.models.keyedvectors.Vocab at 0x7f2f5acd1d68>,\n",
              " 'debt': <gensim.models.keyedvectors.Vocab at 0x7f2f5acd1dd8>,\n",
              " 'sale': <gensim.models.keyedvectors.Vocab at 0x7f2f5acd1e48>,\n",
              " 'Board': <gensim.models.keyedvectors.Vocab at 0x7f2f5acd1eb8>,\n",
              " 'Americans': <gensim.models.keyedvectors.Vocab at 0x7f2f5acd1ef0>,\n",
              " 'Road': <gensim.models.keyedvectors.Vocab at 0x7f2f5acd1f60>,\n",
              " 'Brown': <gensim.models.keyedvectors.Vocab at 0x7f2f5acd1fd0>,\n",
              " 'insurance': <gensim.models.keyedvectors.Vocab at 0x7f2f5acd3048>,\n",
              " '##:##': <gensim.models.keyedvectors.Vocab at 0x7f2f5acd30b8>,\n",
              " 'anyone': <gensim.models.keyedvectors.Vocab at 0x7f2f5acd3128>,\n",
              " 'tournament': <gensim.models.keyedvectors.Vocab at 0x7f2f5acd3160>,\n",
              " 'More': <gensim.models.keyedvectors.Vocab at 0x7f2f5acd31d0>,\n",
              " 'gas': <gensim.models.keyedvectors.Vocab at 0x7f2f5acd3240>,\n",
              " 'talks': <gensim.models.keyedvectors.Vocab at 0x7f2f5acd32b0>,\n",
              " 'serious': <gensim.models.keyedvectors.Vocab at 0x7f2f5acd3320>,\n",
              " 'required': <gensim.models.keyedvectors.Vocab at 0x7f2f5acd3358>,\n",
              " 'sell': <gensim.models.keyedvectors.Vocab at 0x7f2f5acd33c8>,\n",
              " 'construction': <gensim.models.keyedvectors.Vocab at 0x7f2f5acd3400>,\n",
              " 'evidence': <gensim.models.keyedvectors.Vocab at 0x7f2f5acd3438>,\n",
              " 'remains': <gensim.models.keyedvectors.Vocab at 0x7f2f5acd34a8>,\n",
              " 'black': <gensim.models.keyedvectors.Vocab at 0x7f2f5acd3518>,\n",
              " 'below': <gensim.models.keyedvectors.Vocab at 0x7f2f5acd3588>,\n",
              " 'improve': <gensim.models.keyedvectors.Vocab at 0x7f2f5acd35f8>,\n",
              " 'crisis': <gensim.models.keyedvectors.Vocab at 0x7f2f5acd3668>,\n",
              " 'address': <gensim.models.keyedvectors.Vocab at 0x7f2f5acd36d8>,\n",
              " 'questions': <gensim.models.keyedvectors.Vocab at 0x7f2f5acd3710>,\n",
              " 'easy': <gensim.models.keyedvectors.Vocab at 0x7f2f5acd3780>,\n",
              " 'begin': <gensim.models.keyedvectors.Vocab at 0x7f2f5acd37f0>,\n",
              " 'view': <gensim.models.keyedvectors.Vocab at 0x7f2f5acd3860>,\n",
              " 'School': <gensim.models.keyedvectors.Vocab at 0x7f2f5acd38d0>,\n",
              " 'heard': <gensim.models.keyedvectors.Vocab at 0x7f2f5acd3940>,\n",
              " 'executive': <gensim.models.keyedvectors.Vocab at 0x7f2f5acd3978>,\n",
              " 'raised': <gensim.models.keyedvectors.Vocab at 0x7f2f5acd39e8>,\n",
              " ...}"
            ]
          },
          "metadata": {
            "tags": []
          },
          "execution_count": 5
        }
      ]
    },
    {
      "cell_type": "code",
      "metadata": {
        "id": "xgcXkmou8pXZ",
        "colab_type": "code",
        "colab": {
          "base_uri": "https://localhost:8080/",
          "height": 391
        },
        "outputId": "c63e080a-4398-4ea9-d421-4dbca3ca5c2c"
      },
      "source": [
        "# Upload the \"Cleanned\" dataset\n",
        "\n",
        "url = 'https://raw.githubusercontent.com/PoojaDoctor/Data144-FinalProject/master/datasets/cleaned.csv'\n",
        "df_cleanned = pd.read_csv(url)\n",
        "# Dataset is now stored in a Pandas Dataframe\n",
        "df_cleanned.head(3)"
      ],
      "execution_count": 13,
      "outputs": [
        {
          "output_type": "execute_result",
          "data": {
            "text/html": [
              "<div>\n",
              "<style scoped>\n",
              "    .dataframe tbody tr th:only-of-type {\n",
              "        vertical-align: middle;\n",
              "    }\n",
              "\n",
              "    .dataframe tbody tr th {\n",
              "        vertical-align: top;\n",
              "    }\n",
              "\n",
              "    .dataframe thead th {\n",
              "        text-align: right;\n",
              "    }\n",
              "</style>\n",
              "<table border=\"1\" class=\"dataframe\">\n",
              "  <thead>\n",
              "    <tr style=\"text-align: right;\">\n",
              "      <th></th>\n",
              "      <th>Unnamed: 0</th>\n",
              "      <th>comments</th>\n",
              "      <th>description</th>\n",
              "      <th>duration</th>\n",
              "      <th>languages</th>\n",
              "      <th>main_speaker</th>\n",
              "      <th>name</th>\n",
              "      <th>num_speaker</th>\n",
              "      <th>related_talks</th>\n",
              "      <th>speaker_occupation</th>\n",
              "      <th>tags</th>\n",
              "      <th>title</th>\n",
              "      <th>url</th>\n",
              "      <th>views</th>\n",
              "      <th>transcript</th>\n",
              "      <th>Funny</th>\n",
              "      <th>Beautiful</th>\n",
              "      <th>Ingenious</th>\n",
              "      <th>Courageous</th>\n",
              "      <th>Longwinded</th>\n",
              "      <th>Confusing</th>\n",
              "      <th>Informative</th>\n",
              "      <th>Fascinating</th>\n",
              "      <th>Unconvincing</th>\n",
              "      <th>Persuasive</th>\n",
              "      <th>Jaw-dropping</th>\n",
              "      <th>OK</th>\n",
              "      <th>Obnoxious</th>\n",
              "      <th>Inspiring</th>\n",
              "      <th>max_rating</th>\n",
              "      <th>yr</th>\n",
              "      <th>month</th>\n",
              "    </tr>\n",
              "  </thead>\n",
              "  <tbody>\n",
              "    <tr>\n",
              "      <th>0</th>\n",
              "      <td>0</td>\n",
              "      <td>4553</td>\n",
              "      <td>Sir Ken Robinson makes an entertaining and pro...</td>\n",
              "      <td>1164</td>\n",
              "      <td>60</td>\n",
              "      <td>Ken Robinson</td>\n",
              "      <td>Ken Robinson: Do schools kill creativity?</td>\n",
              "      <td>1</td>\n",
              "      <td>[{'id': 865, 'hero': 'https://pe.tedcdn.com/im...</td>\n",
              "      <td>Author/educator</td>\n",
              "      <td>['children', 'creativity', 'culture', 'dance',...</td>\n",
              "      <td>Do schools kill creativity?</td>\n",
              "      <td>https://www.ted.com/talks/ken_robinson_says_sc...</td>\n",
              "      <td>47227110</td>\n",
              "      <td>Good morning. How are you?(Laughter)It's been ...</td>\n",
              "      <td>19645</td>\n",
              "      <td>4573</td>\n",
              "      <td>6073</td>\n",
              "      <td>3253</td>\n",
              "      <td>387</td>\n",
              "      <td>242</td>\n",
              "      <td>7346</td>\n",
              "      <td>10581</td>\n",
              "      <td>300</td>\n",
              "      <td>10704</td>\n",
              "      <td>4439</td>\n",
              "      <td>1174</td>\n",
              "      <td>209</td>\n",
              "      <td>24924</td>\n",
              "      <td>Inspiring</td>\n",
              "      <td>2006</td>\n",
              "      <td>6</td>\n",
              "    </tr>\n",
              "    <tr>\n",
              "      <th>1</th>\n",
              "      <td>1</td>\n",
              "      <td>265</td>\n",
              "      <td>With the same humor and humanity he exuded in ...</td>\n",
              "      <td>977</td>\n",
              "      <td>43</td>\n",
              "      <td>Al Gore</td>\n",
              "      <td>Al Gore: Averting the climate crisis</td>\n",
              "      <td>1</td>\n",
              "      <td>[{'id': 243, 'hero': 'https://pe.tedcdn.com/im...</td>\n",
              "      <td>Climate advocate</td>\n",
              "      <td>['alternative energy', 'cars', 'climate change...</td>\n",
              "      <td>Averting the climate crisis</td>\n",
              "      <td>https://www.ted.com/talks/al_gore_on_averting_...</td>\n",
              "      <td>3200520</td>\n",
              "      <td>Thank you so much, Chris. And it's truly a gre...</td>\n",
              "      <td>544</td>\n",
              "      <td>58</td>\n",
              "      <td>56</td>\n",
              "      <td>139</td>\n",
              "      <td>113</td>\n",
              "      <td>62</td>\n",
              "      <td>443</td>\n",
              "      <td>132</td>\n",
              "      <td>258</td>\n",
              "      <td>268</td>\n",
              "      <td>116</td>\n",
              "      <td>203</td>\n",
              "      <td>131</td>\n",
              "      <td>413</td>\n",
              "      <td>Funny</td>\n",
              "      <td>2006</td>\n",
              "      <td>6</td>\n",
              "    </tr>\n",
              "    <tr>\n",
              "      <th>2</th>\n",
              "      <td>2</td>\n",
              "      <td>124</td>\n",
              "      <td>New York Times columnist David Pogue takes aim...</td>\n",
              "      <td>1286</td>\n",
              "      <td>26</td>\n",
              "      <td>David Pogue</td>\n",
              "      <td>David Pogue: Simplicity sells</td>\n",
              "      <td>1</td>\n",
              "      <td>[{'id': 1725, 'hero': 'https://pe.tedcdn.com/i...</td>\n",
              "      <td>Technology columnist</td>\n",
              "      <td>['computers', 'entertainment', 'interface desi...</td>\n",
              "      <td>Simplicity sells</td>\n",
              "      <td>https://www.ted.com/talks/david_pogue_says_sim...</td>\n",
              "      <td>1636292</td>\n",
              "      <td>(Music: \"The Sound of Silence,\" Simon &amp; Garfun...</td>\n",
              "      <td>964</td>\n",
              "      <td>60</td>\n",
              "      <td>183</td>\n",
              "      <td>45</td>\n",
              "      <td>78</td>\n",
              "      <td>27</td>\n",
              "      <td>395</td>\n",
              "      <td>166</td>\n",
              "      <td>104</td>\n",
              "      <td>230</td>\n",
              "      <td>54</td>\n",
              "      <td>146</td>\n",
              "      <td>142</td>\n",
              "      <td>230</td>\n",
              "      <td>Funny</td>\n",
              "      <td>2006</td>\n",
              "      <td>6</td>\n",
              "    </tr>\n",
              "  </tbody>\n",
              "</table>\n",
              "</div>"
            ],
            "text/plain": [
              "   Unnamed: 0  comments  ...    yr  month\n",
              "0           0      4553  ...  2006      6\n",
              "1           1       265  ...  2006      6\n",
              "2           2       124  ...  2006      6\n",
              "\n",
              "[3 rows x 32 columns]"
            ]
          },
          "metadata": {
            "tags": []
          },
          "execution_count": 13
        }
      ]
    },
    {
      "cell_type": "markdown",
      "metadata": {
        "id": "zgqiFS-a94bl",
        "colab_type": "text"
      },
      "source": [
        "# **LINEAR REGRESSION**"
      ]
    },
    {
      "cell_type": "code",
      "metadata": {
        "id": "A2klOIav98Cp",
        "colab_type": "code",
        "colab": {}
      },
      "source": [
        "import pandas as pd  \n",
        "import numpy as np  \n",
        "import matplotlib.pyplot as plt  \n",
        "import seaborn as seabornInstance \n",
        "from sklearn.model_selection import train_test_split \n",
        "from sklearn.linear_model import LinearRegression\n",
        "from sklearn import metrics\n",
        "%matplotlib inline"
      ],
      "execution_count": 0,
      "outputs": []
    },
    {
      "cell_type": "code",
      "metadata": {
        "id": "Ks15zAmQ-R8C",
        "colab_type": "code",
        "colab": {
          "base_uri": "https://localhost:8080/",
          "height": 34
        },
        "outputId": "8909d9c3-13cb-4596-a1a2-8e0a7bd4d54c"
      },
      "source": [
        "# Upload the \"Cleanned\" dataset\n",
        "\n",
        "url = 'https://raw.githubusercontent.com/PoojaDoctor/Data144-FinalProject/master/datasets/cleaned.csv'\n",
        "dataset = pd.read_csv(url)\n",
        "# Dataset is now stored in a Pandas Dataframe\n",
        "dataset.shape"
      ],
      "execution_count": 10,
      "outputs": [
        {
          "output_type": "execute_result",
          "data": {
            "text/plain": [
              "(2467, 32)"
            ]
          },
          "metadata": {
            "tags": []
          },
          "execution_count": 10
        }
      ]
    },
    {
      "cell_type": "code",
      "metadata": {
        "id": "h-rhoZ7o-bdA",
        "colab_type": "code",
        "colab": {
          "base_uri": "https://localhost:8080/",
          "height": 324
        },
        "outputId": "90b922c2-c182-4043-a140-827de3ed4ef5"
      },
      "source": [
        "dataset.describe()"
      ],
      "execution_count": 11,
      "outputs": [
        {
          "output_type": "execute_result",
          "data": {
            "text/html": [
              "<div>\n",
              "<style scoped>\n",
              "    .dataframe tbody tr th:only-of-type {\n",
              "        vertical-align: middle;\n",
              "    }\n",
              "\n",
              "    .dataframe tbody tr th {\n",
              "        vertical-align: top;\n",
              "    }\n",
              "\n",
              "    .dataframe thead th {\n",
              "        text-align: right;\n",
              "    }\n",
              "</style>\n",
              "<table border=\"1\" class=\"dataframe\">\n",
              "  <thead>\n",
              "    <tr style=\"text-align: right;\">\n",
              "      <th></th>\n",
              "      <th>Unnamed: 0</th>\n",
              "      <th>comments</th>\n",
              "      <th>duration</th>\n",
              "      <th>languages</th>\n",
              "      <th>num_speaker</th>\n",
              "      <th>views</th>\n",
              "      <th>Funny</th>\n",
              "      <th>Beautiful</th>\n",
              "      <th>Ingenious</th>\n",
              "      <th>Courageous</th>\n",
              "      <th>Longwinded</th>\n",
              "      <th>Confusing</th>\n",
              "      <th>Informative</th>\n",
              "      <th>Fascinating</th>\n",
              "      <th>Unconvincing</th>\n",
              "      <th>Persuasive</th>\n",
              "      <th>Jaw-dropping</th>\n",
              "      <th>OK</th>\n",
              "      <th>Obnoxious</th>\n",
              "      <th>Inspiring</th>\n",
              "      <th>yr</th>\n",
              "      <th>month</th>\n",
              "    </tr>\n",
              "  </thead>\n",
              "  <tbody>\n",
              "    <tr>\n",
              "      <th>count</th>\n",
              "      <td>2467.000000</td>\n",
              "      <td>2467.000000</td>\n",
              "      <td>2467.000000</td>\n",
              "      <td>2467.000000</td>\n",
              "      <td>2467.000000</td>\n",
              "      <td>2.467000e+03</td>\n",
              "      <td>2467.000000</td>\n",
              "      <td>2467.000000</td>\n",
              "      <td>2467.000000</td>\n",
              "      <td>2467.000000</td>\n",
              "      <td>2467.000000</td>\n",
              "      <td>2467.000000</td>\n",
              "      <td>2467.000000</td>\n",
              "      <td>2467.000000</td>\n",
              "      <td>2467.000000</td>\n",
              "      <td>2467.000000</td>\n",
              "      <td>2467.000000</td>\n",
              "      <td>2467.000000</td>\n",
              "      <td>2467.000000</td>\n",
              "      <td>2467.000000</td>\n",
              "      <td>2467.000000</td>\n",
              "      <td>2467.000000</td>\n",
              "    </tr>\n",
              "    <tr>\n",
              "      <th>mean</th>\n",
              "      <td>1290.604783</td>\n",
              "      <td>193.425213</td>\n",
              "      <td>822.725578</td>\n",
              "      <td>28.310093</td>\n",
              "      <td>1.027969</td>\n",
              "      <td>1.747192e+06</td>\n",
              "      <td>157.035671</td>\n",
              "      <td>192.576814</td>\n",
              "      <td>152.175517</td>\n",
              "      <td>168.999595</td>\n",
              "      <td>32.922173</td>\n",
              "      <td>21.098500</td>\n",
              "      <td>354.209566</td>\n",
              "      <td>317.208756</td>\n",
              "      <td>53.531415</td>\n",
              "      <td>223.223754</td>\n",
              "      <td>148.400486</td>\n",
              "      <td>81.757195</td>\n",
              "      <td>25.818808</td>\n",
              "      <td>534.901094</td>\n",
              "      <td>2012.132550</td>\n",
              "      <td>6.337657</td>\n",
              "    </tr>\n",
              "    <tr>\n",
              "      <th>std</th>\n",
              "      <td>745.473521</td>\n",
              "      <td>285.304705</td>\n",
              "      <td>334.002254</td>\n",
              "      <td>8.234100</td>\n",
              "      <td>0.208371</td>\n",
              "      <td>2.533097e+06</td>\n",
              "      <td>598.778813</td>\n",
              "      <td>478.431012</td>\n",
              "      <td>286.539868</td>\n",
              "      <td>445.398923</td>\n",
              "      <td>41.922335</td>\n",
              "      <td>31.827247</td>\n",
              "      <td>546.221176</td>\n",
              "      <td>629.911244</td>\n",
              "      <td>92.849048</td>\n",
              "      <td>470.826345</td>\n",
              "      <td>559.881195</td>\n",
              "      <td>90.024732</td>\n",
              "      <td>53.270378</td>\n",
              "      <td>1298.578684</td>\n",
              "      <td>3.035853</td>\n",
              "      <td>3.350184</td>\n",
              "    </tr>\n",
              "    <tr>\n",
              "      <th>min</th>\n",
              "      <td>0.000000</td>\n",
              "      <td>2.000000</td>\n",
              "      <td>135.000000</td>\n",
              "      <td>1.000000</td>\n",
              "      <td>1.000000</td>\n",
              "      <td>1.558950e+05</td>\n",
              "      <td>0.000000</td>\n",
              "      <td>0.000000</td>\n",
              "      <td>0.000000</td>\n",
              "      <td>0.000000</td>\n",
              "      <td>0.000000</td>\n",
              "      <td>0.000000</td>\n",
              "      <td>0.000000</td>\n",
              "      <td>5.000000</td>\n",
              "      <td>0.000000</td>\n",
              "      <td>0.000000</td>\n",
              "      <td>0.000000</td>\n",
              "      <td>0.000000</td>\n",
              "      <td>0.000000</td>\n",
              "      <td>5.000000</td>\n",
              "      <td>2006.000000</td>\n",
              "      <td>1.000000</td>\n",
              "    </tr>\n",
              "    <tr>\n",
              "      <th>25%</th>\n",
              "      <td>641.500000</td>\n",
              "      <td>63.000000</td>\n",
              "      <td>584.000000</td>\n",
              "      <td>23.000000</td>\n",
              "      <td>1.000000</td>\n",
              "      <td>7.891885e+05</td>\n",
              "      <td>8.000000</td>\n",
              "      <td>26.000000</td>\n",
              "      <td>26.000000</td>\n",
              "      <td>20.000000</td>\n",
              "      <td>9.000000</td>\n",
              "      <td>5.000000</td>\n",
              "      <td>102.500000</td>\n",
              "      <td>80.000000</td>\n",
              "      <td>12.000000</td>\n",
              "      <td>38.000000</td>\n",
              "      <td>18.000000</td>\n",
              "      <td>32.000000</td>\n",
              "      <td>6.000000</td>\n",
              "      <td>114.000000</td>\n",
              "      <td>2010.000000</td>\n",
              "      <td>4.000000</td>\n",
              "    </tr>\n",
              "    <tr>\n",
              "      <th>50%</th>\n",
              "      <td>1315.000000</td>\n",
              "      <td>118.000000</td>\n",
              "      <td>853.000000</td>\n",
              "      <td>28.000000</td>\n",
              "      <td>1.000000</td>\n",
              "      <td>1.149090e+06</td>\n",
              "      <td>21.000000</td>\n",
              "      <td>68.000000</td>\n",
              "      <td>70.000000</td>\n",
              "      <td>53.000000</td>\n",
              "      <td>19.000000</td>\n",
              "      <td>12.000000</td>\n",
              "      <td>217.000000</td>\n",
              "      <td>163.000000</td>\n",
              "      <td>27.000000</td>\n",
              "      <td>98.000000</td>\n",
              "      <td>42.000000</td>\n",
              "      <td>56.000000</td>\n",
              "      <td>13.000000</td>\n",
              "      <td>236.000000</td>\n",
              "      <td>2012.000000</td>\n",
              "      <td>6.000000</td>\n",
              "    </tr>\n",
              "    <tr>\n",
              "      <th>75%</th>\n",
              "      <td>1938.500000</td>\n",
              "      <td>224.000000</td>\n",
              "      <td>1048.000000</td>\n",
              "      <td>33.000000</td>\n",
              "      <td>1.000000</td>\n",
              "      <td>1.739450e+06</td>\n",
              "      <td>91.000000</td>\n",
              "      <td>187.500000</td>\n",
              "      <td>172.000000</td>\n",
              "      <td>150.000000</td>\n",
              "      <td>41.000000</td>\n",
              "      <td>24.000000</td>\n",
              "      <td>410.000000</td>\n",
              "      <td>346.500000</td>\n",
              "      <td>60.000000</td>\n",
              "      <td>231.500000</td>\n",
              "      <td>110.500000</td>\n",
              "      <td>100.000000</td>\n",
              "      <td>27.000000</td>\n",
              "      <td>502.000000</td>\n",
              "      <td>2015.000000</td>\n",
              "      <td>9.000000</td>\n",
              "    </tr>\n",
              "    <tr>\n",
              "      <th>max</th>\n",
              "      <td>2558.000000</td>\n",
              "      <td>6404.000000</td>\n",
              "      <td>3608.000000</td>\n",
              "      <td>72.000000</td>\n",
              "      <td>5.000000</td>\n",
              "      <td>4.722711e+07</td>\n",
              "      <td>19645.000000</td>\n",
              "      <td>9437.000000</td>\n",
              "      <td>6073.000000</td>\n",
              "      <td>8668.000000</td>\n",
              "      <td>447.000000</td>\n",
              "      <td>531.000000</td>\n",
              "      <td>9787.000000</td>\n",
              "      <td>14447.000000</td>\n",
              "      <td>2194.000000</td>\n",
              "      <td>10704.000000</td>\n",
              "      <td>14728.000000</td>\n",
              "      <td>1341.000000</td>\n",
              "      <td>1361.000000</td>\n",
              "      <td>24924.000000</td>\n",
              "      <td>2017.000000</td>\n",
              "      <td>12.000000</td>\n",
              "    </tr>\n",
              "  </tbody>\n",
              "</table>\n",
              "</div>"
            ],
            "text/plain": [
              "        Unnamed: 0     comments  ...           yr        month\n",
              "count  2467.000000  2467.000000  ...  2467.000000  2467.000000\n",
              "mean   1290.604783   193.425213  ...  2012.132550     6.337657\n",
              "std     745.473521   285.304705  ...     3.035853     3.350184\n",
              "min       0.000000     2.000000  ...  2006.000000     1.000000\n",
              "25%     641.500000    63.000000  ...  2010.000000     4.000000\n",
              "50%    1315.000000   118.000000  ...  2012.000000     6.000000\n",
              "75%    1938.500000   224.000000  ...  2015.000000     9.000000\n",
              "max    2558.000000  6404.000000  ...  2017.000000    12.000000\n",
              "\n",
              "[8 rows x 22 columns]"
            ]
          },
          "metadata": {
            "tags": []
          },
          "execution_count": 11
        }
      ]
    },
    {
      "cell_type": "code",
      "metadata": {
        "id": "yr39uzYR-pWj",
        "colab_type": "code",
        "colab": {
          "base_uri": "https://localhost:8080/",
          "height": 294
        },
        "outputId": "bcdfbc81-9ec7-49be-ca07-a47df7c6631c"
      },
      "source": [
        "dataset.plot(x='comments', y='views', style='o')  \n",
        "plt.title('comments vs views')  \n",
        "plt.xlabel('comments')  \n",
        "plt.ylabel('views')  \n",
        "plt.show()"
      ],
      "execution_count": 13,
      "outputs": [
        {
          "output_type": "display_data",
          "data": {
            "image/png": "[encoded data removed]",
            "text/plain": [
              "<Figure size 432x288 with 1 Axes>"
            ]
          },
          "metadata": {
            "tags": []
          }
        }
      ]
    },
    {
      "cell_type": "code",
      "metadata": {
        "id": "JrL3KxllCQUD",
        "colab_type": "code",
        "colab": {
          "base_uri": "https://localhost:8080/",
          "height": 623
        },
        "outputId": "9dbbc054-5126-4436-dd6d-7276c144d406"
      },
      "source": [
        "plt.figure(figsize=(15,10))\n",
        "plt.tight_layout()\n",
        "seabornInstance.distplot(dataset['comments'])\n",
        "seabornInstance.distplot(dataset['views'])"
      ],
      "execution_count": 26,
      "outputs": [
        {
          "output_type": "execute_result",
          "data": {
            "text/plain": [
              "<matplotlib.axes._subplots.AxesSubplot at 0x7ff5a98f0fd0>"
            ]
          },
          "metadata": {
            "tags": []
          },
          "execution_count": 26
        },
        {
          "output_type": "display_data",
          "data": {
            "image/png": "[encoded data removed]",
            "text/plain": [
              "<Figure size 1080x720 with 1 Axes>"
            ]
          },
          "metadata": {
            "tags": []
          }
        }
      ]
    },
    {
      "cell_type": "code",
      "metadata": {
        "id": "tknw9wBYCbQL",
        "colab_type": "code",
        "colab": {}
      },
      "source": [
        "X = dataset['comments'].values.reshape(-1,1)\n",
        "y = dataset['views'].values.reshape(-1,1)"
      ],
      "execution_count": 0,
      "outputs": []
    },
    {
      "cell_type": "code",
      "metadata": {
        "id": "naDuyAz3ChDy",
        "colab_type": "code",
        "colab": {}
      },
      "source": [
        "X_train, X_test, y_train, y_test = train_test_split(X, y, test_size=0.2, random_state=0)"
      ],
      "execution_count": 0,
      "outputs": []
    },
    {
      "cell_type": "code",
      "metadata": {
        "id": "GQkPe2oDCjfv",
        "colab_type": "code",
        "colab": {
          "base_uri": "https://localhost:8080/",
          "height": 34
        },
        "outputId": "5fc3eb30-d5e0-4e3a-f418-101f67158119"
      },
      "source": [
        "regressor = LinearRegression()  \n",
        "regressor.fit(X_train, y_train) #training the algorithm"
      ],
      "execution_count": 19,
      "outputs": [
        {
          "output_type": "execute_result",
          "data": {
            "text/plain": [
              "LinearRegression(copy_X=True, fit_intercept=True, n_jobs=None, normalize=False)"
            ]
          },
          "metadata": {
            "tags": []
          },
          "execution_count": 19
        }
      ]
    },
    {
      "cell_type": "code",
      "metadata": {
        "id": "XB86eFYlCl0T",
        "colab_type": "code",
        "colab": {
          "base_uri": "https://localhost:8080/",
          "height": 52
        },
        "outputId": "9e53fd80-be08-4041-9366-dc7938625496"
      },
      "source": [
        "#To retrieve the intercept:\n",
        "print(regressor.intercept_)\n",
        "#For retrieving the slope:\n",
        "print(regressor.coef_)"
      ],
      "execution_count": 20,
      "outputs": [
        {
          "output_type": "stream",
          "text": [
            "[811099.47110646]\n",
            "[[4921.41552533]]\n"
          ],
          "name": "stdout"
        }
      ]
    },
    {
      "cell_type": "code",
      "metadata": {
        "id": "yy1PGjEtCpf6",
        "colab_type": "code",
        "colab": {
          "base_uri": "https://localhost:8080/",
          "height": 406
        },
        "outputId": "2e87f8c9-caec-430c-ce7d-786210900f85"
      },
      "source": [
        "y_pred = regressor.predict(X_test)\n",
        "df = pd.DataFrame({'Actual': y_test.flatten(), 'Predicted': y_pred.flatten()})\n",
        "df"
      ],
      "execution_count": 22,
      "outputs": [
        {
          "output_type": "execute_result",
          "data": {
            "text/html": [
              "<div>\n",
              "<style scoped>\n",
              "    .dataframe tbody tr th:only-of-type {\n",
              "        vertical-align: middle;\n",
              "    }\n",
              "\n",
              "    .dataframe tbody tr th {\n",
              "        vertical-align: top;\n",
              "    }\n",
              "\n",
              "    .dataframe thead th {\n",
              "        text-align: right;\n",
              "    }\n",
              "</style>\n",
              "<table border=\"1\" class=\"dataframe\">\n",
              "  <thead>\n",
              "    <tr style=\"text-align: right;\">\n",
              "      <th></th>\n",
              "      <th>Actual</th>\n",
              "      <th>Predicted</th>\n",
              "    </tr>\n",
              "  </thead>\n",
              "  <tbody>\n",
              "    <tr>\n",
              "      <th>0</th>\n",
              "      <td>415566</td>\n",
              "      <td>1.268791e+06</td>\n",
              "    </tr>\n",
              "    <tr>\n",
              "      <th>1</th>\n",
              "      <td>1174189</td>\n",
              "      <td>4.679332e+06</td>\n",
              "    </tr>\n",
              "    <tr>\n",
              "      <th>2</th>\n",
              "      <td>2649262</td>\n",
              "      <td>1.219577e+06</td>\n",
              "    </tr>\n",
              "    <tr>\n",
              "      <th>3</th>\n",
              "      <td>816019</td>\n",
              "      <td>2.262917e+06</td>\n",
              "    </tr>\n",
              "    <tr>\n",
              "      <th>4</th>\n",
              "      <td>1778739</td>\n",
              "      <td>1.362298e+06</td>\n",
              "    </tr>\n",
              "    <tr>\n",
              "      <th>...</th>\n",
              "      <td>...</td>\n",
              "      <td>...</td>\n",
              "    </tr>\n",
              "    <tr>\n",
              "      <th>489</th>\n",
              "      <td>862238</td>\n",
              "      <td>9.981133e+05</td>\n",
              "    </tr>\n",
              "    <tr>\n",
              "      <th>490</th>\n",
              "      <td>3404977</td>\n",
              "      <td>1.258948e+06</td>\n",
              "    </tr>\n",
              "    <tr>\n",
              "      <th>491</th>\n",
              "      <td>711977</td>\n",
              "      <td>1.726483e+06</td>\n",
              "    </tr>\n",
              "    <tr>\n",
              "      <th>492</th>\n",
              "      <td>1405468</td>\n",
              "      <td>1.027642e+06</td>\n",
              "    </tr>\n",
              "    <tr>\n",
              "      <th>493</th>\n",
              "      <td>2291444</td>\n",
              "      <td>1.632976e+06</td>\n",
              "    </tr>\n",
              "  </tbody>\n",
              "</table>\n",
              "<p>494 rows × 2 columns</p>\n",
              "</div>"
            ],
            "text/plain": [
              "      Actual     Predicted\n",
              "0     415566  1.268791e+06\n",
              "1    1174189  4.679332e+06\n",
              "2    2649262  1.219577e+06\n",
              "3     816019  2.262917e+06\n",
              "4    1778739  1.362298e+06\n",
              "..       ...           ...\n",
              "489   862238  9.981133e+05\n",
              "490  3404977  1.258948e+06\n",
              "491   711977  1.726483e+06\n",
              "492  1405468  1.027642e+06\n",
              "493  2291444  1.632976e+06\n",
              "\n",
              "[494 rows x 2 columns]"
            ]
          },
          "metadata": {
            "tags": []
          },
          "execution_count": 22
        }
      ]
    },
    {
      "cell_type": "code",
      "metadata": {
        "id": "CRvLVz1rCvWd",
        "colab_type": "code",
        "colab": {
          "base_uri": "https://localhost:8080/",
          "height": 594
        },
        "outputId": "1f436e19-57ef-47dd-f90b-c879aefa4002"
      },
      "source": [
        "df1 = df.head(25)\n",
        "df1.plot(kind='bar',figsize=(16,10))\n",
        "plt.grid(which='major', linestyle='-', linewidth='0.5', color='green')\n",
        "plt.grid(which='minor', linestyle=':', linewidth='0.5', color='black')\n",
        "plt.show()"
      ],
      "execution_count": 23,
      "outputs": [
        {
          "output_type": "display_data",
          "data": {
            "image/png": "[encoded data removed]",
            "text/plain": [
              "<Figure size 1152x720 with 1 Axes>"
            ]
          },
          "metadata": {
            "tags": []
          }
        }
      ]
    },
    {
      "cell_type": "code",
      "metadata": {
        "id": "uGhtNZVoCzVk",
        "colab_type": "code",
        "colab": {
          "base_uri": "https://localhost:8080/",
          "height": 275
        },
        "outputId": "43df5cc9-6048-4b1e-f90c-26273787ddf6"
      },
      "source": [
        "plt.scatter(X_test, y_test,  color='gray')\n",
        "plt.plot(X_test, y_pred, color='red', linewidth=2)\n",
        "plt.show()"
      ],
      "execution_count": 24,
      "outputs": [
        {
          "output_type": "display_data",
          "data": {
            "image/png": "[encoded data removed]",
            "text/plain": [
              "<Figure size 432x288 with 1 Axes>"
            ]
          },
          "metadata": {
            "tags": []
          }
        }
      ]
    },
    {
      "cell_type": "code",
      "metadata": {
        "id": "l1umqBoQC3HI",
        "colab_type": "code",
        "colab": {}
      },
      "source": [
        "# https://towardsdatascience.com/a-beginners-guide-to-linear-regression-in-python-with-scikit-learn-83a8f7ae2b4f"
      ],
      "execution_count": 0,
      "outputs": []
    },
    {
      "cell_type": "markdown",
      "metadata": {
        "id": "uvjuDtTb5cRc",
        "colab_type": "text"
      },
      "source": [
        "Transcript:"
      ]
    },
    {
      "cell_type": "code",
      "metadata": {
        "id": "sx2zF9W6B9Yy",
        "colab_type": "code",
        "colab": {}
      },
      "source": [
        "# Upload the \"Transcript\" dataset\n",
        "\n",
        "url = 'https://raw.githubusercontent.com/PoojaDoctor/Data144-FinalProject/master/datasets/transcripts.csv'\n",
        "df_trans = pd.read_csv(url)\n",
        "# Dataset is now stored in a Pandas Dataframe"
      ],
      "execution_count": 0,
      "outputs": []
    },
    {
      "cell_type": "code",
      "metadata": {
        "id": "V0cFezWyCozo",
        "colab_type": "code",
        "colab": {}
      },
      "source": [
        "df_trans.head(3)"
      ],
      "execution_count": 0,
      "outputs": []
    }
  ]
}