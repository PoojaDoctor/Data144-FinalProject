{
  "nbformat": 4,
  "nbformat_minor": 0,
  "metadata": {
    "colab": {
      "name": "Lily_Data 144_Explore_v1.ipynb",
      "provenance": [],
      "collapsed_sections": [],
      "include_colab_link": true
    },
    "kernelspec": {
      "name": "python3",
      "display_name": "Python 3"
    }
  },
  "cells": [
    {
      "cell_type": "markdown",
      "metadata": {
        "id": "view-in-github",
        "colab_type": "text"
      },
      "source": [
        "<a href=\"https://colab.research.google.com/github/PoojaDoctor/Data144-FinalProject/blob/master/Lily_Data_Exploration.ipynb\" target=\"_parent\"><img src=\"https://colab.research.google.com/assets/colab-badge.svg\" alt=\"Open In Colab\"/></a>"
      ]
    },
    {
      "cell_type": "markdown",
      "metadata": {
        "id": "PzFRBnjMAbdE",
        "colab_type": "text"
      },
      "source": [
        "### **Data 144 Final Project Exploration -- Lily Li -- Version 1.1**"
      ]
    },
    {
      "cell_type": "markdown",
      "metadata": {
        "id": "1_SXrZu3FxyN",
        "colab_type": "text"
      },
      "source": [
        "### **Ted Main Dataset**"
      ]
    },
    {
      "cell_type": "code",
      "metadata": {
        "id": "EBXbuNpYAkNY",
        "colab_type": "code",
        "colab": {}
      },
      "source": [
        "import pandas as pd\n",
        "import matplotlib.pyplot as plt\n",
        "import seaborn as sns\n",
        "import numpy as np\n",
        "from scipy.stats import norm\n",
        "from sklearn.preprocessing import StandardScaler\n",
        "from scipy import stats\n",
        "import warnings\n",
        "warnings.filterwarnings('ignore')\n",
        "%matplotlib inline"
      ],
      "execution_count": 0,
      "outputs": []
    },
    {
      "cell_type": "code",
      "metadata": {
        "id": "F3PnWbv-BCwM",
        "colab_type": "code",
        "colab": {}
      },
      "source": [
        "# Upload the \"Ted Main\" dataset\n",
        "\n",
        "url = 'https://raw.githubusercontent.com/PoojaDoctor/Data144-FinalProject/master/datasets/ted_main.csv'\n",
        "df_ted = pd.read_csv(url)\n",
        "# Dataset is now stored in a Pandas Dataframe"
      ],
      "execution_count": 0,
      "outputs": []
    },
    {
      "cell_type": "code",
      "metadata": {
        "id": "Hc5Ri85xB94H",
        "colab_type": "code",
        "outputId": "86f0a7ef-c717-43db-9c9d-4ff39161b707",
        "colab": {
          "base_uri": "https://localhost:8080/",
          "height": 598
        }
      },
      "source": [
        "df_ted.head()"
      ],
      "execution_count": 127,
      "outputs": [
        {
          "output_type": "execute_result",
          "data": {
            "text/html": [
              "<div>\n",
              "<style scoped>\n",
              "    .dataframe tbody tr th:only-of-type {\n",
              "        vertical-align: middle;\n",
              "    }\n",
              "\n",
              "    .dataframe tbody tr th {\n",
              "        vertical-align: top;\n",
              "    }\n",
              "\n",
              "    .dataframe thead th {\n",
              "        text-align: right;\n",
              "    }\n",
              "</style>\n",
              "<table border=\"1\" class=\"dataframe\">\n",
              "  <thead>\n",
              "    <tr style=\"text-align: right;\">\n",
              "      <th></th>\n",
              "      <th>comments</th>\n",
              "      <th>description</th>\n",
              "      <th>duration</th>\n",
              "      <th>event</th>\n",
              "      <th>film_date</th>\n",
              "      <th>languages</th>\n",
              "      <th>main_speaker</th>\n",
              "      <th>name</th>\n",
              "      <th>num_speaker</th>\n",
              "      <th>published_date</th>\n",
              "      <th>ratings</th>\n",
              "      <th>related_talks</th>\n",
              "      <th>speaker_occupation</th>\n",
              "      <th>tags</th>\n",
              "      <th>title</th>\n",
              "      <th>url</th>\n",
              "      <th>views</th>\n",
              "    </tr>\n",
              "  </thead>\n",
              "  <tbody>\n",
              "    <tr>\n",
              "      <th>0</th>\n",
              "      <td>4553</td>\n",
              "      <td>Sir Ken Robinson makes an entertaining and pro...</td>\n",
              "      <td>1164</td>\n",
              "      <td>TED2006</td>\n",
              "      <td>1140825600</td>\n",
              "      <td>60</td>\n",
              "      <td>Ken Robinson</td>\n",
              "      <td>Ken Robinson: Do schools kill creativity?</td>\n",
              "      <td>1</td>\n",
              "      <td>1151367060</td>\n",
              "      <td>[{'id': 7, 'name': 'Funny', 'count': 19645}, {...</td>\n",
              "      <td>[{'id': 865, 'hero': 'https://pe.tedcdn.com/im...</td>\n",
              "      <td>Author/educator</td>\n",
              "      <td>['children', 'creativity', 'culture', 'dance',...</td>\n",
              "      <td>Do schools kill creativity?</td>\n",
              "      <td>https://www.ted.com/talks/ken_robinson_says_sc...</td>\n",
              "      <td>47227110</td>\n",
              "    </tr>\n",
              "    <tr>\n",
              "      <th>1</th>\n",
              "      <td>265</td>\n",
              "      <td>With the same humor and humanity he exuded in ...</td>\n",
              "      <td>977</td>\n",
              "      <td>TED2006</td>\n",
              "      <td>1140825600</td>\n",
              "      <td>43</td>\n",
              "      <td>Al Gore</td>\n",
              "      <td>Al Gore: Averting the climate crisis</td>\n",
              "      <td>1</td>\n",
              "      <td>1151367060</td>\n",
              "      <td>[{'id': 7, 'name': 'Funny', 'count': 544}, {'i...</td>\n",
              "      <td>[{'id': 243, 'hero': 'https://pe.tedcdn.com/im...</td>\n",
              "      <td>Climate advocate</td>\n",
              "      <td>['alternative energy', 'cars', 'climate change...</td>\n",
              "      <td>Averting the climate crisis</td>\n",
              "      <td>https://www.ted.com/talks/al_gore_on_averting_...</td>\n",
              "      <td>3200520</td>\n",
              "    </tr>\n",
              "    <tr>\n",
              "      <th>2</th>\n",
              "      <td>124</td>\n",
              "      <td>New York Times columnist David Pogue takes aim...</td>\n",
              "      <td>1286</td>\n",
              "      <td>TED2006</td>\n",
              "      <td>1140739200</td>\n",
              "      <td>26</td>\n",
              "      <td>David Pogue</td>\n",
              "      <td>David Pogue: Simplicity sells</td>\n",
              "      <td>1</td>\n",
              "      <td>1151367060</td>\n",
              "      <td>[{'id': 7, 'name': 'Funny', 'count': 964}, {'i...</td>\n",
              "      <td>[{'id': 1725, 'hero': 'https://pe.tedcdn.com/i...</td>\n",
              "      <td>Technology columnist</td>\n",
              "      <td>['computers', 'entertainment', 'interface desi...</td>\n",
              "      <td>Simplicity sells</td>\n",
              "      <td>https://www.ted.com/talks/david_pogue_says_sim...</td>\n",
              "      <td>1636292</td>\n",
              "    </tr>\n",
              "    <tr>\n",
              "      <th>3</th>\n",
              "      <td>200</td>\n",
              "      <td>In an emotionally charged talk, MacArthur-winn...</td>\n",
              "      <td>1116</td>\n",
              "      <td>TED2006</td>\n",
              "      <td>1140912000</td>\n",
              "      <td>35</td>\n",
              "      <td>Majora Carter</td>\n",
              "      <td>Majora Carter: Greening the ghetto</td>\n",
              "      <td>1</td>\n",
              "      <td>1151367060</td>\n",
              "      <td>[{'id': 3, 'name': 'Courageous', 'count': 760}...</td>\n",
              "      <td>[{'id': 1041, 'hero': 'https://pe.tedcdn.com/i...</td>\n",
              "      <td>Activist for environmental justice</td>\n",
              "      <td>['MacArthur grant', 'activism', 'business', 'c...</td>\n",
              "      <td>Greening the ghetto</td>\n",
              "      <td>https://www.ted.com/talks/majora_carter_s_tale...</td>\n",
              "      <td>1697550</td>\n",
              "    </tr>\n",
              "    <tr>\n",
              "      <th>4</th>\n",
              "      <td>593</td>\n",
              "      <td>You've never seen data presented like this. Wi...</td>\n",
              "      <td>1190</td>\n",
              "      <td>TED2006</td>\n",
              "      <td>1140566400</td>\n",
              "      <td>48</td>\n",
              "      <td>Hans Rosling</td>\n",
              "      <td>Hans Rosling: The best stats you've ever seen</td>\n",
              "      <td>1</td>\n",
              "      <td>1151440680</td>\n",
              "      <td>[{'id': 9, 'name': 'Ingenious', 'count': 3202}...</td>\n",
              "      <td>[{'id': 2056, 'hero': 'https://pe.tedcdn.com/i...</td>\n",
              "      <td>Global health expert; data visionary</td>\n",
              "      <td>['Africa', 'Asia', 'Google', 'demo', 'economic...</td>\n",
              "      <td>The best stats you've ever seen</td>\n",
              "      <td>https://www.ted.com/talks/hans_rosling_shows_t...</td>\n",
              "      <td>12005869</td>\n",
              "    </tr>\n",
              "  </tbody>\n",
              "</table>\n",
              "</div>"
            ],
            "text/plain": [
              "   comments  ...     views\n",
              "0      4553  ...  47227110\n",
              "1       265  ...   3200520\n",
              "2       124  ...   1636292\n",
              "3       200  ...   1697550\n",
              "4       593  ...  12005869\n",
              "\n",
              "[5 rows x 17 columns]"
            ]
          },
          "metadata": {
            "tags": []
          },
          "execution_count": 127
        }
      ]
    },
    {
      "cell_type": "code",
      "metadata": {
        "id": "RFOrZ-RwUH3q",
        "colab_type": "code",
        "colab": {
          "base_uri": "https://localhost:8080/",
          "height": 34
        },
        "outputId": "a7e9d254-ba16-40d1-d2b6-14171edb792c"
      },
      "source": [
        "df_ted.shape"
      ],
      "execution_count": 130,
      "outputs": [
        {
          "output_type": "execute_result",
          "data": {
            "text/plain": [
              "(2550, 17)"
            ]
          },
          "metadata": {
            "tags": []
          },
          "execution_count": 130
        }
      ]
    },
    {
      "cell_type": "code",
      "metadata": {
        "id": "4YxKkrjoUNOK",
        "colab_type": "code",
        "colab": {
          "base_uri": "https://localhost:8080/",
          "height": 102
        },
        "outputId": "444ee573-1281-4558-dee5-0984e7f76856"
      },
      "source": [
        "df_ted.columns"
      ],
      "execution_count": 131,
      "outputs": [
        {
          "output_type": "execute_result",
          "data": {
            "text/plain": [
              "Index(['comments', 'description', 'duration', 'event', 'film_date',\n",
              "       'languages', 'main_speaker', 'name', 'num_speaker', 'published_date',\n",
              "       'ratings', 'related_talks', 'speaker_occupation', 'tags', 'title',\n",
              "       'url', 'views'],\n",
              "      dtype='object')"
            ]
          },
          "metadata": {
            "tags": []
          },
          "execution_count": 131
        }
      ]
    },
    {
      "cell_type": "code",
      "metadata": {
        "id": "HlyAN6T3URBd",
        "colab_type": "code",
        "colab": {
          "base_uri": "https://localhost:8080/",
          "height": 297
        },
        "outputId": "ad6257e3-ad7b-438e-aaa6-d6f3c5b08fd4"
      },
      "source": [
        "df_ted.describe()"
      ],
      "execution_count": 132,
      "outputs": [
        {
          "output_type": "execute_result",
          "data": {
            "text/html": [
              "<div>\n",
              "<style scoped>\n",
              "    .dataframe tbody tr th:only-of-type {\n",
              "        vertical-align: middle;\n",
              "    }\n",
              "\n",
              "    .dataframe tbody tr th {\n",
              "        vertical-align: top;\n",
              "    }\n",
              "\n",
              "    .dataframe thead th {\n",
              "        text-align: right;\n",
              "    }\n",
              "</style>\n",
              "<table border=\"1\" class=\"dataframe\">\n",
              "  <thead>\n",
              "    <tr style=\"text-align: right;\">\n",
              "      <th></th>\n",
              "      <th>comments</th>\n",
              "      <th>duration</th>\n",
              "      <th>film_date</th>\n",
              "      <th>languages</th>\n",
              "      <th>num_speaker</th>\n",
              "      <th>published_date</th>\n",
              "      <th>views</th>\n",
              "    </tr>\n",
              "  </thead>\n",
              "  <tbody>\n",
              "    <tr>\n",
              "      <th>count</th>\n",
              "      <td>2550.000000</td>\n",
              "      <td>2550.000000</td>\n",
              "      <td>2.550000e+03</td>\n",
              "      <td>2550.000000</td>\n",
              "      <td>2550.000000</td>\n",
              "      <td>2.550000e+03</td>\n",
              "      <td>2.550000e+03</td>\n",
              "    </tr>\n",
              "    <tr>\n",
              "      <th>mean</th>\n",
              "      <td>191.562353</td>\n",
              "      <td>826.510196</td>\n",
              "      <td>1.321928e+09</td>\n",
              "      <td>27.326275</td>\n",
              "      <td>1.028235</td>\n",
              "      <td>1.343525e+09</td>\n",
              "      <td>1.698297e+06</td>\n",
              "    </tr>\n",
              "    <tr>\n",
              "      <th>std</th>\n",
              "      <td>282.315223</td>\n",
              "      <td>374.009138</td>\n",
              "      <td>1.197391e+08</td>\n",
              "      <td>9.563452</td>\n",
              "      <td>0.207705</td>\n",
              "      <td>9.464009e+07</td>\n",
              "      <td>2.498479e+06</td>\n",
              "    </tr>\n",
              "    <tr>\n",
              "      <th>min</th>\n",
              "      <td>2.000000</td>\n",
              "      <td>135.000000</td>\n",
              "      <td>7.464960e+07</td>\n",
              "      <td>0.000000</td>\n",
              "      <td>1.000000</td>\n",
              "      <td>1.151367e+09</td>\n",
              "      <td>5.044300e+04</td>\n",
              "    </tr>\n",
              "    <tr>\n",
              "      <th>25%</th>\n",
              "      <td>63.000000</td>\n",
              "      <td>577.000000</td>\n",
              "      <td>1.257466e+09</td>\n",
              "      <td>23.000000</td>\n",
              "      <td>1.000000</td>\n",
              "      <td>1.268463e+09</td>\n",
              "      <td>7.557928e+05</td>\n",
              "    </tr>\n",
              "    <tr>\n",
              "      <th>50%</th>\n",
              "      <td>118.000000</td>\n",
              "      <td>848.000000</td>\n",
              "      <td>1.333238e+09</td>\n",
              "      <td>28.000000</td>\n",
              "      <td>1.000000</td>\n",
              "      <td>1.340935e+09</td>\n",
              "      <td>1.124524e+06</td>\n",
              "    </tr>\n",
              "    <tr>\n",
              "      <th>75%</th>\n",
              "      <td>221.750000</td>\n",
              "      <td>1046.750000</td>\n",
              "      <td>1.412964e+09</td>\n",
              "      <td>33.000000</td>\n",
              "      <td>1.000000</td>\n",
              "      <td>1.423432e+09</td>\n",
              "      <td>1.700760e+06</td>\n",
              "    </tr>\n",
              "    <tr>\n",
              "      <th>max</th>\n",
              "      <td>6404.000000</td>\n",
              "      <td>5256.000000</td>\n",
              "      <td>1.503792e+09</td>\n",
              "      <td>72.000000</td>\n",
              "      <td>5.000000</td>\n",
              "      <td>1.506092e+09</td>\n",
              "      <td>4.722711e+07</td>\n",
              "    </tr>\n",
              "  </tbody>\n",
              "</table>\n",
              "</div>"
            ],
            "text/plain": [
              "          comments     duration  ...  published_date         views\n",
              "count  2550.000000  2550.000000  ...    2.550000e+03  2.550000e+03\n",
              "mean    191.562353   826.510196  ...    1.343525e+09  1.698297e+06\n",
              "std     282.315223   374.009138  ...    9.464009e+07  2.498479e+06\n",
              "min       2.000000   135.000000  ...    1.151367e+09  5.044300e+04\n",
              "25%      63.000000   577.000000  ...    1.268463e+09  7.557928e+05\n",
              "50%     118.000000   848.000000  ...    1.340935e+09  1.124524e+06\n",
              "75%     221.750000  1046.750000  ...    1.423432e+09  1.700760e+06\n",
              "max    6404.000000  5256.000000  ...    1.506092e+09  4.722711e+07\n",
              "\n",
              "[8 rows x 7 columns]"
            ]
          },
          "metadata": {
            "tags": []
          },
          "execution_count": 132
        }
      ]
    },
    {
      "cell_type": "code",
      "metadata": {
        "id": "UPPIY0Nv6upP",
        "colab_type": "code",
        "outputId": "05774703-ec3d-4a0a-cbb2-a2a71798f81c",
        "colab": {
          "base_uri": "https://localhost:8080/",
          "height": 323
        }
      },
      "source": [
        "# Finding the null values\n",
        "print(df_ted.isnull().sum())"
      ],
      "execution_count": 133,
      "outputs": [
        {
          "output_type": "stream",
          "text": [
            "comments              0\n",
            "description           0\n",
            "duration              0\n",
            "event                 0\n",
            "film_date             0\n",
            "languages             0\n",
            "main_speaker          0\n",
            "name                  0\n",
            "num_speaker           0\n",
            "published_date        0\n",
            "ratings               0\n",
            "related_talks         0\n",
            "speaker_occupation    6\n",
            "tags                  0\n",
            "title                 0\n",
            "url                   0\n",
            "views                 0\n",
            "dtype: int64\n"
          ],
          "name": "stdout"
        }
      ]
    },
    {
      "cell_type": "code",
      "metadata": {
        "id": "ryDatc4U7aEJ",
        "colab_type": "code",
        "outputId": "fef5c458-3367-48c5-d1ef-e48416597775",
        "colab": {
          "base_uri": "https://localhost:8080/",
          "height": 697
        }
      },
      "source": [
        "# Identify the null values rolls\n",
        "no_speaker_occ = df_ted[df_ted[\"speaker_occupation\"].isnull()]\n",
        "no_speaker_occ"
      ],
      "execution_count": 134,
      "outputs": [
        {
          "output_type": "execute_result",
          "data": {
            "text/html": [
              "<div>\n",
              "<style scoped>\n",
              "    .dataframe tbody tr th:only-of-type {\n",
              "        vertical-align: middle;\n",
              "    }\n",
              "\n",
              "    .dataframe tbody tr th {\n",
              "        vertical-align: top;\n",
              "    }\n",
              "\n",
              "    .dataframe thead th {\n",
              "        text-align: right;\n",
              "    }\n",
              "</style>\n",
              "<table border=\"1\" class=\"dataframe\">\n",
              "  <thead>\n",
              "    <tr style=\"text-align: right;\">\n",
              "      <th></th>\n",
              "      <th>comments</th>\n",
              "      <th>description</th>\n",
              "      <th>duration</th>\n",
              "      <th>event</th>\n",
              "      <th>film_date</th>\n",
              "      <th>languages</th>\n",
              "      <th>main_speaker</th>\n",
              "      <th>name</th>\n",
              "      <th>num_speaker</th>\n",
              "      <th>published_date</th>\n",
              "      <th>ratings</th>\n",
              "      <th>related_talks</th>\n",
              "      <th>speaker_occupation</th>\n",
              "      <th>tags</th>\n",
              "      <th>title</th>\n",
              "      <th>url</th>\n",
              "      <th>views</th>\n",
              "    </tr>\n",
              "  </thead>\n",
              "  <tbody>\n",
              "    <tr>\n",
              "      <th>1113</th>\n",
              "      <td>145</td>\n",
              "      <td>After a crisis, how can we tell if water is sa...</td>\n",
              "      <td>217</td>\n",
              "      <td>TEDGlobal 2011</td>\n",
              "      <td>1310601600</td>\n",
              "      <td>38</td>\n",
              "      <td>Sonaar Luthra</td>\n",
              "      <td>Sonaar Luthra: Meet the Water Canary</td>\n",
              "      <td>1</td>\n",
              "      <td>1326731605</td>\n",
              "      <td>[{'id': 10, 'name': 'Inspiring', 'count': 73},...</td>\n",
              "      <td>[{'id': 523, 'hero': 'https://pe.tedcdn.com/im...</td>\n",
              "      <td>NaN</td>\n",
              "      <td>['TED Fellows', 'design', 'global development'...</td>\n",
              "      <td>Meet the Water Canary</td>\n",
              "      <td>https://www.ted.com/talks/sonaar_luthra_meet_t...</td>\n",
              "      <td>353749</td>\n",
              "    </tr>\n",
              "    <tr>\n",
              "      <th>1192</th>\n",
              "      <td>122</td>\n",
              "      <td>The Pirate Party fights for transparency, anon...</td>\n",
              "      <td>1097</td>\n",
              "      <td>TEDxObserver</td>\n",
              "      <td>1331424000</td>\n",
              "      <td>10</td>\n",
              "      <td>Rick Falkvinge</td>\n",
              "      <td>Rick Falkvinge: I am a pirate</td>\n",
              "      <td>1</td>\n",
              "      <td>1333289675</td>\n",
              "      <td>[{'id': 8, 'name': 'Informative', 'count': 156...</td>\n",
              "      <td>[{'id': 1329, 'hero': 'https://pe.tedcdn.com/i...</td>\n",
              "      <td>NaN</td>\n",
              "      <td>['Internet', 'TEDx', 'global issues', 'politic...</td>\n",
              "      <td>I am a pirate</td>\n",
              "      <td>https://www.ted.com/talks/rick_falkvinge_i_am_...</td>\n",
              "      <td>181010</td>\n",
              "    </tr>\n",
              "    <tr>\n",
              "      <th>1220</th>\n",
              "      <td>257</td>\n",
              "      <td>As you surf the Web, information is being coll...</td>\n",
              "      <td>399</td>\n",
              "      <td>TED2012</td>\n",
              "      <td>1330473600</td>\n",
              "      <td>32</td>\n",
              "      <td>Gary Kovacs</td>\n",
              "      <td>Gary Kovacs: Tracking our online trackers</td>\n",
              "      <td>1</td>\n",
              "      <td>1336057219</td>\n",
              "      <td>[{'id': 23, 'name': 'Jaw-dropping', 'count': 9...</td>\n",
              "      <td>[{'id': 1370, 'hero': 'https://pe.tedcdn.com/i...</td>\n",
              "      <td>NaN</td>\n",
              "      <td>['Internet', 'advertising', 'business', 'priva...</td>\n",
              "      <td>Tracking our online trackers</td>\n",
              "      <td>https://www.ted.com/talks/gary_kovacs_tracking...</td>\n",
              "      <td>2098639</td>\n",
              "    </tr>\n",
              "    <tr>\n",
              "      <th>1656</th>\n",
              "      <td>140</td>\n",
              "      <td>In this lovely talk, TED Fellow Ryan Holladay ...</td>\n",
              "      <td>389</td>\n",
              "      <td>TED@BCG San Francisco</td>\n",
              "      <td>1383091200</td>\n",
              "      <td>33</td>\n",
              "      <td>Ryan Holladay</td>\n",
              "      <td>Ryan Holladay: To hear this music you have to ...</td>\n",
              "      <td>1</td>\n",
              "      <td>1389369735</td>\n",
              "      <td>[{'id': 1, 'name': 'Beautiful', 'count': 211},...</td>\n",
              "      <td>[{'id': 1152, 'hero': 'https://pe.tedcdn.com/i...</td>\n",
              "      <td>NaN</td>\n",
              "      <td>['TED Fellows', 'entertainment', 'music', 'tec...</td>\n",
              "      <td>To hear this music you have to be there. Liter...</td>\n",
              "      <td>https://www.ted.com/talks/ryan_holladay_to_hea...</td>\n",
              "      <td>1284510</td>\n",
              "    </tr>\n",
              "    <tr>\n",
              "      <th>1911</th>\n",
              "      <td>48</td>\n",
              "      <td>What do you do with an outdated encyclopedia i...</td>\n",
              "      <td>366</td>\n",
              "      <td>TEDYouth 2014</td>\n",
              "      <td>1415059200</td>\n",
              "      <td>34</td>\n",
              "      <td>Brian Dettmer</td>\n",
              "      <td>Brian Dettmer: Old books reborn as art</td>\n",
              "      <td>1</td>\n",
              "      <td>1423238442</td>\n",
              "      <td>[{'id': 1, 'name': 'Beautiful', 'count': 361},...</td>\n",
              "      <td>[{'id': 610, 'hero': 'https://pe.tedcdn.com/im...</td>\n",
              "      <td>NaN</td>\n",
              "      <td>['TEDYouth', 'art', 'books', 'creativity']</td>\n",
              "      <td>Old books reborn as art</td>\n",
              "      <td>https://www.ted.com/talks/brian_dettmer_old_bo...</td>\n",
              "      <td>1159937</td>\n",
              "    </tr>\n",
              "    <tr>\n",
              "      <th>1949</th>\n",
              "      <td>70</td>\n",
              "      <td>Photographer Boniface Mwangi wanted to protest...</td>\n",
              "      <td>440</td>\n",
              "      <td>TEDGlobal 2014</td>\n",
              "      <td>1413763200</td>\n",
              "      <td>33</td>\n",
              "      <td>Boniface Mwangi</td>\n",
              "      <td>Boniface Mwangi: The day I stood up alone</td>\n",
              "      <td>1</td>\n",
              "      <td>1427989423</td>\n",
              "      <td>[{'id': 3, 'name': 'Courageous', 'count': 614}...</td>\n",
              "      <td>[{'id': 1757, 'hero': 'https://pe.tedcdn.com/i...</td>\n",
              "      <td>NaN</td>\n",
              "      <td>['TED Fellows', 'activism', 'art', 'corruption...</td>\n",
              "      <td>The day I stood up alone</td>\n",
              "      <td>https://www.ted.com/talks/boniface_mwangi_boni...</td>\n",
              "      <td>1342431</td>\n",
              "    </tr>\n",
              "  </tbody>\n",
              "</table>\n",
              "</div>"
            ],
            "text/plain": [
              "      comments  ...    views\n",
              "1113       145  ...   353749\n",
              "1192       122  ...   181010\n",
              "1220       257  ...  2098639\n",
              "1656       140  ...  1284510\n",
              "1911        48  ...  1159937\n",
              "1949        70  ...  1342431\n",
              "\n",
              "[6 rows x 17 columns]"
            ]
          },
          "metadata": {
            "tags": []
          },
          "execution_count": 134
        }
      ]
    },
    {
      "cell_type": "code",
      "metadata": {
        "id": "BZvZoO2Y-9py",
        "colab_type": "code",
        "outputId": "7f201572-a87f-4261-9936-ce27f615e2cf",
        "colab": {
          "base_uri": "https://localhost:8080/",
          "height": 170
        }
      },
      "source": [
        "df_ted['views'].describe()"
      ],
      "execution_count": 136,
      "outputs": [
        {
          "output_type": "execute_result",
          "data": {
            "text/plain": [
              "count    2.550000e+03\n",
              "mean     1.698297e+06\n",
              "std      2.498479e+06\n",
              "min      5.044300e+04\n",
              "25%      7.557928e+05\n",
              "50%      1.124524e+06\n",
              "75%      1.700760e+06\n",
              "max      4.722711e+07\n",
              "Name: views, dtype: float64"
            ]
          },
          "metadata": {
            "tags": []
          },
          "execution_count": 136
        }
      ]
    },
    {
      "cell_type": "code",
      "metadata": {
        "id": "FpB3i6IfUsa1",
        "colab_type": "code",
        "colab": {
          "base_uri": "https://localhost:8080/",
          "height": 170
        },
        "outputId": "3d8e5537-135b-4a83-8b50-44f36d876398"
      },
      "source": [
        "no_speaker_occ['views'].describe()"
      ],
      "execution_count": 137,
      "outputs": [
        {
          "output_type": "execute_result",
          "data": {
            "text/plain": [
              "count    6.000000e+00\n",
              "mean     1.070046e+06\n",
              "std      7.056541e+05\n",
              "min      1.810100e+05\n",
              "25%      5.552960e+05\n",
              "50%      1.222224e+06\n",
              "75%      1.327951e+06\n",
              "max      2.098639e+06\n",
              "Name: views, dtype: float64"
            ]
          },
          "metadata": {
            "tags": []
          },
          "execution_count": 137
        }
      ]
    },
    {
      "cell_type": "code",
      "metadata": {
        "id": "6OOoPyt0UuP_",
        "colab_type": "code",
        "colab": {}
      },
      "source": [
        "# Finding:\n",
        "# Becuase the average views for ted talks that speakers' have no occupations is samller than the average views.\n",
        "# I want to learn more about the relationship between occupations & views."
      ],
      "execution_count": 0,
      "outputs": []
    },
    {
      "cell_type": "code",
      "metadata": {
        "id": "GC6_r5fBVTBE",
        "colab_type": "code",
        "colab": {
          "base_uri": "https://localhost:8080/",
          "height": 102
        },
        "outputId": "2b6de092-5353-41d5-c6c9-f37ff6cb7182"
      },
      "source": [
        "df_ted['speaker_occupation'].describe()"
      ],
      "execution_count": 140,
      "outputs": [
        {
          "output_type": "execute_result",
          "data": {
            "text/plain": [
              "count       2544\n",
              "unique      1458\n",
              "top       Writer\n",
              "freq          45\n",
              "Name: speaker_occupation, dtype: object"
            ]
          },
          "metadata": {
            "tags": []
          },
          "execution_count": 140
        }
      ]
    },
    {
      "cell_type": "code",
      "metadata": {
        "id": "V861uUzpVVb4",
        "colab_type": "code",
        "colab": {
          "base_uri": "https://localhost:8080/",
          "height": 34
        },
        "outputId": "03d3d3b6-3350-49c4-db7a-dacc8364c62e"
      },
      "source": [
        "print('The most popular occupation for speakers is Writer.')\n",
        "# later, in the graphing area, I will explore more about how different occupations are related to views."
      ],
      "execution_count": 143,
      "outputs": [
        {
          "output_type": "stream",
          "text": [
            "The most popular occupation for speakers is Writer.\n"
          ],
          "name": "stdout"
        }
      ]
    },
    {
      "cell_type": "code",
      "metadata": {
        "id": "1__MAnhbV--q",
        "colab_type": "code",
        "colab": {
          "base_uri": "https://localhost:8080/",
          "height": 51
        },
        "outputId": "265809b4-f2a8-4b16-d318-70d3c8d4b86f"
      },
      "source": [
        "# How many unique occupations?\n",
        "print('NUMBER OF UNIQUE OCCUPATIONS')\n",
        "print(len(df_ted['speaker_occupation'].unique()))"
      ],
      "execution_count": 144,
      "outputs": [
        {
          "output_type": "stream",
          "text": [
            "NUMBER OF UNIQUE OCCUPATIONS\n",
            "1459\n"
          ],
          "name": "stdout"
        }
      ]
    },
    {
      "cell_type": "code",
      "metadata": {
        "id": "fHlFrEY0WHIC",
        "colab_type": "code",
        "colab": {
          "base_uri": "https://localhost:8080/",
          "height": 51
        },
        "outputId": "aeb72cc0-4064-45fa-9afd-30bf423a0736"
      },
      "source": [
        "# How many unique speakers?\n",
        "print('NUMBER OF UNIQUE SPEAKERS')\n",
        "print(len(df_ted['main_speaker'].unique()))"
      ],
      "execution_count": 147,
      "outputs": [
        {
          "output_type": "stream",
          "text": [
            "NUMBER OF UNIQUE SPEAKERS\n",
            "2156\n"
          ],
          "name": "stdout"
        }
      ]
    },
    {
      "cell_type": "code",
      "metadata": {
        "id": "X-ZsAzvxWZhi",
        "colab_type": "code",
        "colab": {
          "base_uri": "https://localhost:8080/",
          "height": 51
        },
        "outputId": "dacba11e-3082-4d6a-c980-cfbdb561cd13"
      },
      "source": [
        "# How many unique event?\n",
        "print('NUMBER OF UNIQUE EVENT')\n",
        "print(len(df_ted['event'].unique()))"
      ],
      "execution_count": 148,
      "outputs": [
        {
          "output_type": "stream",
          "text": [
            "NUMBER OF UNIQUE EVENT\n",
            "355\n"
          ],
          "name": "stdout"
        }
      ]
    },
    {
      "cell_type": "code",
      "metadata": {
        "id": "Iq3-Al7W_jth",
        "colab_type": "code",
        "outputId": "011464fe-c072-446b-bf8f-28c6207b4c9e",
        "colab": {
          "base_uri": "https://localhost:8080/",
          "height": 290
        }
      },
      "source": [
        "# histogram\n",
        "# to learn about how do views distribute\n",
        "sns.distplot(df_ted['views']);"
      ],
      "execution_count": 149,
      "outputs": [
        {
          "output_type": "display_data",
          "data": {
            "image/png": "[encoded data removed]",
            "text/plain": [
              "<Figure size 432x288 with 1 Axes>"
            ]
          },
          "metadata": {
            "tags": []
          }
        }
      ]
    },
    {
      "cell_type": "markdown",
      "metadata": {
        "id": "J60t_e5IBK1i",
        "colab_type": "text"
      },
      "source": [
        "Relationship with numerical variables"
      ]
    },
    {
      "cell_type": "markdown",
      "metadata": {
        "id": "P19ZCDeVBa_g",
        "colab_type": "text"
      },
      "source": [
        "scatter plot comments/views"
      ]
    },
    {
      "cell_type": "code",
      "metadata": {
        "id": "-N-_e6yH_4L_",
        "colab_type": "code",
        "outputId": "21f62560-57a1-4f02-e3d5-3b92649c8ad3",
        "colab": {
          "base_uri": "https://localhost:8080/",
          "height": 283
        }
      },
      "source": [
        "# is the the number of comments related to the popularity?\n",
        "\n",
        "var = 'comments'\n",
        "data = pd.concat([df_ted['views'], df_ted[var]], axis=1)\n",
        "data.plot.scatter(x=var, y='views', xlim=(1,400), ylim=(0,7000000));\n"
      ],
      "execution_count": 153,
      "outputs": [
        {
          "output_type": "display_data",
          "data": {
            "image/png": "[encoded data removed]",
            "text/plain": [
              "<Figure size 432x288 with 1 Axes>"
            ]
          },
          "metadata": {
            "tags": []
          }
        }
      ]
    },
    {
      "cell_type": "markdown",
      "metadata": {
        "id": "nyn8SreZBWKl",
        "colab_type": "text"
      },
      "source": [
        "scatter plot languages/views"
      ]
    },
    {
      "cell_type": "code",
      "metadata": {
        "id": "pYcvkQSDAmCH",
        "colab_type": "code",
        "outputId": "3e3cff3a-abaf-4d39-a8c5-b6239bf7f9e1",
        "colab": {
          "base_uri": "https://localhost:8080/",
          "height": 283
        }
      },
      "source": [
        "# is the the number of language available related to the popularity?\n",
        "\n",
        "var = 'languages'\n",
        "data = pd.concat([df_ted['views'], df_ted[var]], axis=1)\n",
        "data.plot.scatter(x=var, y='views', xlim=(1,51), ylim=(0,7000000));\n"
      ],
      "execution_count": 154,
      "outputs": [
        {
          "output_type": "display_data",
          "data": {
            "image/png": "[encoded data removed]",
            "text/plain": [
              "<Figure size 432x288 with 1 Axes>"
            ]
          },
          "metadata": {
            "tags": []
          }
        }
      ]
    },
    {
      "cell_type": "markdown",
      "metadata": {
        "id": "Hy-Fw2EPBQxQ",
        "colab_type": "text"
      },
      "source": [
        "scatter plot num_speaker/views"
      ]
    },
    {
      "cell_type": "code",
      "metadata": {
        "id": "0cL0oETfA2Y_",
        "colab_type": "code",
        "outputId": "890f1101-328c-4ce5-d45b-45cb16af2922",
        "colab": {
          "base_uri": "https://localhost:8080/",
          "height": 284
        }
      },
      "source": [
        "# is the the number of speakers related to the popularity?\n",
        "\n",
        "var = 'num_speaker'\n",
        "data = pd.concat([df_ted['views'], df_ted[var]], axis=1)\n",
        "data.plot.scatter(x=var, y='views', xlim=(1,5), ylim=(0,7000000));\n"
      ],
      "execution_count": 156,
      "outputs": [
        {
          "output_type": "display_data",
          "data": {
            "image/png": "[encoded data removed]",
            "text/plain": [
              "<Figure size 432x288 with 1 Axes>"
            ]
          },
          "metadata": {
            "tags": []
          }
        }
      ]
    },
    {
      "cell_type": "markdown",
      "metadata": {
        "id": "GbTCTIdpBHlQ",
        "colab_type": "text"
      },
      "source": [
        "Relationship with categorical features"
      ]
    },
    {
      "cell_type": "code",
      "metadata": {
        "id": "pcfq60lQAa3W",
        "colab_type": "code",
        "outputId": "5321678d-85d3-4d3b-f47a-23695dc47c23",
        "colab": {
          "base_uri": "https://localhost:8080/",
          "height": 392
        }
      },
      "source": [
        "# box plot views/speaker_occupation\n",
        "# is the the speaker occupation related to the popularity?\n",
        "\n",
        "var = 'views'\n",
        "data = pd.concat([df_ted['speaker_occupation'], df_ted[var]], axis=1)\n",
        "f, ax = plt.subplots(figsize=(8, 6))\n",
        "fig = sns.boxplot(x=var, y=\"speaker_occupation\", data=data)\n",
        "fig.axis(ymin=0, xmax=2e+07, ymax = 10);"
      ],
      "execution_count": 157,
      "outputs": [
        {
          "output_type": "display_data",
          "data": {
            "image/png": "[encoded data removed]",
            "text/plain": [
              "<Figure size 576x432 with 1 Axes>"
            ]
          },
          "metadata": {
            "tags": []
          }
        }
      ]
    },
    {
      "cell_type": "code",
      "metadata": {
        "id": "Y625DJ8c5YK-",
        "colab_type": "code",
        "outputId": "84d58849-c9bb-4d33-fb19-eea960bca121",
        "colab": {
          "base_uri": "https://localhost:8080/",
          "height": 170
        }
      },
      "source": [
        "no_speaker_occ['views'].describe()"
      ],
      "execution_count": 158,
      "outputs": [
        {
          "output_type": "execute_result",
          "data": {
            "text/plain": [
              "count    6.000000e+00\n",
              "mean     1.070046e+06\n",
              "std      7.056541e+05\n",
              "min      1.810100e+05\n",
              "25%      5.552960e+05\n",
              "50%      1.222224e+06\n",
              "75%      1.327951e+06\n",
              "max      2.098639e+06\n",
              "Name: views, dtype: float64"
            ]
          },
          "metadata": {
            "tags": []
          },
          "execution_count": 158
        }
      ]
    },
    {
      "cell_type": "code",
      "metadata": {
        "id": "c4a3VCxY54XP",
        "colab_type": "code",
        "outputId": "857b2994-2804-4b72-a931-0052e407d722",
        "colab": {
          "base_uri": "https://localhost:8080/",
          "height": 1000
        }
      },
      "source": [
        "df_ted[df_ted['main_speaker'] == 'Hans Rosling']"
      ],
      "execution_count": 159,
      "outputs": [
        {
          "output_type": "execute_result",
          "data": {
            "text/html": [
              "<div>\n",
              "<style scoped>\n",
              "    .dataframe tbody tr th:only-of-type {\n",
              "        vertical-align: middle;\n",
              "    }\n",
              "\n",
              "    .dataframe tbody tr th {\n",
              "        vertical-align: top;\n",
              "    }\n",
              "\n",
              "    .dataframe thead th {\n",
              "        text-align: right;\n",
              "    }\n",
              "</style>\n",
              "<table border=\"1\" class=\"dataframe\">\n",
              "  <thead>\n",
              "    <tr style=\"text-align: right;\">\n",
              "      <th></th>\n",
              "      <th>comments</th>\n",
              "      <th>description</th>\n",
              "      <th>duration</th>\n",
              "      <th>event</th>\n",
              "      <th>film_date</th>\n",
              "      <th>languages</th>\n",
              "      <th>main_speaker</th>\n",
              "      <th>name</th>\n",
              "      <th>num_speaker</th>\n",
              "      <th>published_date</th>\n",
              "      <th>ratings</th>\n",
              "      <th>related_talks</th>\n",
              "      <th>speaker_occupation</th>\n",
              "      <th>tags</th>\n",
              "      <th>title</th>\n",
              "      <th>url</th>\n",
              "      <th>views</th>\n",
              "    </tr>\n",
              "  </thead>\n",
              "  <tbody>\n",
              "    <tr>\n",
              "      <th>4</th>\n",
              "      <td>593</td>\n",
              "      <td>You've never seen data presented like this. Wi...</td>\n",
              "      <td>1190</td>\n",
              "      <td>TED2006</td>\n",
              "      <td>1140566400</td>\n",
              "      <td>48</td>\n",
              "      <td>Hans Rosling</td>\n",
              "      <td>Hans Rosling: The best stats you've ever seen</td>\n",
              "      <td>1</td>\n",
              "      <td>1151440680</td>\n",
              "      <td>[{'id': 9, 'name': 'Ingenious', 'count': 3202}...</td>\n",
              "      <td>[{'id': 2056, 'hero': 'https://pe.tedcdn.com/i...</td>\n",
              "      <td>Global health expert; data visionary</td>\n",
              "      <td>['Africa', 'Asia', 'Google', 'demo', 'economic...</td>\n",
              "      <td>The best stats you've ever seen</td>\n",
              "      <td>https://www.ted.com/talks/hans_rosling_shows_t...</td>\n",
              "      <td>12005869</td>\n",
              "    </tr>\n",
              "    <tr>\n",
              "      <th>117</th>\n",
              "      <td>261</td>\n",
              "      <td>Researcher Hans Rosling uses his cool data too...</td>\n",
              "      <td>1137</td>\n",
              "      <td>TED2007</td>\n",
              "      <td>1172880000</td>\n",
              "      <td>35</td>\n",
              "      <td>Hans Rosling</td>\n",
              "      <td>Hans Rosling: New insights on poverty</td>\n",
              "      <td>1</td>\n",
              "      <td>1182762720</td>\n",
              "      <td>[{'id': 1, 'name': 'Beautiful', 'count': 218},...</td>\n",
              "      <td>[{'id': 494, 'hero': 'https://pe.tedcdn.com/im...</td>\n",
              "      <td>Global health expert; data visionary</td>\n",
              "      <td>['Africa', 'Asia', 'Google', 'economics', 'glo...</td>\n",
              "      <td>New insights on poverty</td>\n",
              "      <td>https://www.ted.com/talks/hans_rosling_reveals...</td>\n",
              "      <td>3243784</td>\n",
              "    </tr>\n",
              "    <tr>\n",
              "      <th>447</th>\n",
              "      <td>125</td>\n",
              "      <td>Hans Rosling unveils data visuals that untangl...</td>\n",
              "      <td>602</td>\n",
              "      <td>TED2009</td>\n",
              "      <td>1233878400</td>\n",
              "      <td>40</td>\n",
              "      <td>Hans Rosling</td>\n",
              "      <td>Hans Rosling: Insights on HIV, in stunning dat...</td>\n",
              "      <td>1</td>\n",
              "      <td>1242197400</td>\n",
              "      <td>[{'id': 23, 'name': 'Jaw-dropping', 'count': 9...</td>\n",
              "      <td>[{'id': 499, 'hero': 'https://pe.tedcdn.com/im...</td>\n",
              "      <td>Global health expert; data visionary</td>\n",
              "      <td>['AIDS', 'Africa', 'disease', 'global issues',...</td>\n",
              "      <td>Insights on HIV, in stunning data visuals</td>\n",
              "      <td>https://www.ted.com/talks/hans_rosling_the_tru...</td>\n",
              "      <td>904813</td>\n",
              "    </tr>\n",
              "    <tr>\n",
              "      <th>502</th>\n",
              "      <td>122</td>\n",
              "      <td>Talking at the US State Department this summer...</td>\n",
              "      <td>1196</td>\n",
              "      <td>TED@State</td>\n",
              "      <td>1244073600</td>\n",
              "      <td>33</td>\n",
              "      <td>Hans Rosling</td>\n",
              "      <td>Hans Rosling: Let my dataset change your mindset</td>\n",
              "      <td>1</td>\n",
              "      <td>1251334800</td>\n",
              "      <td>[{'id': 22, 'name': 'Fascinating', 'count': 61...</td>\n",
              "      <td>[{'id': 92, 'hero': 'https://pe.tedcdn.com/ima...</td>\n",
              "      <td>Global health expert; data visionary</td>\n",
              "      <td>['Africa', 'Asia', 'data', 'global development...</td>\n",
              "      <td>Let my dataset change your mindset</td>\n",
              "      <td>https://www.ted.com/talks/hans_rosling_at_state\\n</td>\n",
              "      <td>1471039</td>\n",
              "    </tr>\n",
              "    <tr>\n",
              "      <th>558</th>\n",
              "      <td>276</td>\n",
              "      <td>Hans Rosling was a young guest student in Indi...</td>\n",
              "      <td>950</td>\n",
              "      <td>TEDIndia 2009</td>\n",
              "      <td>1257292800</td>\n",
              "      <td>36</td>\n",
              "      <td>Hans Rosling</td>\n",
              "      <td>Hans Rosling: Asia's rise -- how and when</td>\n",
              "      <td>1</td>\n",
              "      <td>1258938000</td>\n",
              "      <td>[{'id': 22, 'name': 'Fascinating', 'count': 77...</td>\n",
              "      <td>[{'id': 92, 'hero': 'https://pe.tedcdn.com/ima...</td>\n",
              "      <td>Global health expert; data visionary</td>\n",
              "      <td>['Asia', 'economics', 'health', 'india', 'stat...</td>\n",
              "      <td>Asia's rise -- how and when</td>\n",
              "      <td>https://www.ted.com/talks/hans_rosling_asia_s_...</td>\n",
              "      <td>1738069</td>\n",
              "    </tr>\n",
              "    <tr>\n",
              "      <th>726</th>\n",
              "      <td>607</td>\n",
              "      <td>The world's population will grow to 9 billion ...</td>\n",
              "      <td>604</td>\n",
              "      <td>TED@Cannes</td>\n",
              "      <td>1277078400</td>\n",
              "      <td>46</td>\n",
              "      <td>Hans Rosling</td>\n",
              "      <td>Hans Rosling: Global population growth, box by...</td>\n",
              "      <td>1</td>\n",
              "      <td>1278663300</td>\n",
              "      <td>[{'id': 22, 'name': 'Fascinating', 'count': 76...</td>\n",
              "      <td>[{'id': 695, 'hero': 'https://pe.tedcdn.com/im...</td>\n",
              "      <td>Global health expert; data visionary</td>\n",
              "      <td>['culture', 'data', 'demo', 'global issues', '...</td>\n",
              "      <td>Global population growth, box by box</td>\n",
              "      <td>https://www.ted.com/talks/hans_rosling_on_glob...</td>\n",
              "      <td>2934262</td>\n",
              "    </tr>\n",
              "    <tr>\n",
              "      <th>784</th>\n",
              "      <td>342</td>\n",
              "      <td>Hans Rosling reframes 10 years of UN data with...</td>\n",
              "      <td>934</td>\n",
              "      <td>TEDxChange</td>\n",
              "      <td>1284940800</td>\n",
              "      <td>33</td>\n",
              "      <td>Hans Rosling</td>\n",
              "      <td>Hans Rosling: The good news of the decade? We'...</td>\n",
              "      <td>1</td>\n",
              "      <td>1286442720</td>\n",
              "      <td>[{'id': 8, 'name': 'Informative', 'count': 554...</td>\n",
              "      <td>[{'id': 540, 'hero': 'https://pe.tedcdn.com/im...</td>\n",
              "      <td>Global health expert; data visionary</td>\n",
              "      <td>['Africa', 'TEDx', 'data', 'global development...</td>\n",
              "      <td>The good news of the decade? We're winning the...</td>\n",
              "      <td>https://www.ted.com/talks/hans_rosling_the_goo...</td>\n",
              "      <td>738895</td>\n",
              "    </tr>\n",
              "    <tr>\n",
              "      <th>893</th>\n",
              "      <td>268</td>\n",
              "      <td>What was the greatest invention of the industr...</td>\n",
              "      <td>555</td>\n",
              "      <td>TEDWomen 2010</td>\n",
              "      <td>1291420800</td>\n",
              "      <td>46</td>\n",
              "      <td>Hans Rosling</td>\n",
              "      <td>Hans Rosling: The magic washing machine</td>\n",
              "      <td>1</td>\n",
              "      <td>1300714380</td>\n",
              "      <td>[{'id': 9, 'name': 'Ingenious', 'count': 457},...</td>\n",
              "      <td>[{'id': 620, 'hero': 'https://pe.tedcdn.com/im...</td>\n",
              "      <td>Global health expert; data visionary</td>\n",
              "      <td>['culture', 'data', 'economics', 'women']</td>\n",
              "      <td>The magic washing machine</td>\n",
              "      <td>https://www.ted.com/talks/hans_rosling_and_the...</td>\n",
              "      <td>2391977</td>\n",
              "    </tr>\n",
              "    <tr>\n",
              "      <th>1239</th>\n",
              "      <td>491</td>\n",
              "      <td>Hans Rosling had a question: Do some religions...</td>\n",
              "      <td>800</td>\n",
              "      <td>TEDxSummit</td>\n",
              "      <td>1334534400</td>\n",
              "      <td>36</td>\n",
              "      <td>Hans Rosling</td>\n",
              "      <td>Hans Rosling: Religions and babies</td>\n",
              "      <td>1</td>\n",
              "      <td>1337698856</td>\n",
              "      <td>[{'id': 22, 'name': 'Fascinating', 'count': 86...</td>\n",
              "      <td>[{'id': 1418, 'hero': 'https://pe.tedcdn.com/i...</td>\n",
              "      <td>Global health expert; data visionary</td>\n",
              "      <td>['TEDx', 'data', 'global issues', 'population'...</td>\n",
              "      <td>Religions and babies</td>\n",
              "      <td>https://www.ted.com/talks/hans_rosling_religio...</td>\n",
              "      <td>2138419</td>\n",
              "    </tr>\n",
              "  </tbody>\n",
              "</table>\n",
              "</div>"
            ],
            "text/plain": [
              "      comments  ...     views\n",
              "4          593  ...  12005869\n",
              "117        261  ...   3243784\n",
              "447        125  ...    904813\n",
              "502        122  ...   1471039\n",
              "558        276  ...   1738069\n",
              "726        607  ...   2934262\n",
              "784        342  ...    738895\n",
              "893        268  ...   2391977\n",
              "1239       491  ...   2138419\n",
              "\n",
              "[9 rows x 17 columns]"
            ]
          },
          "metadata": {
            "tags": []
          },
          "execution_count": 159
        }
      ]
    },
    {
      "cell_type": "code",
      "metadata": {
        "id": "PsTgMDQUXyhT",
        "colab_type": "code",
        "colab": {}
      },
      "source": [
        "# discovering patterns from the most popular speaker, Hans Rosling"
      ],
      "execution_count": 0,
      "outputs": []
    },
    {
      "cell_type": "code",
      "metadata": {
        "id": "SUrPES0mDkT0",
        "colab_type": "code",
        "outputId": "49cfc5ff-2866-4fc0-8583-e23c11affb82",
        "colab": {
          "base_uri": "https://localhost:8080/",
          "height": 450
        }
      },
      "source": [
        "df_ted.groupby('event').sum()"
      ],
      "execution_count": 161,
      "outputs": [
        {
          "output_type": "execute_result",
          "data": {
            "text/html": [
              "<div>\n",
              "<style scoped>\n",
              "    .dataframe tbody tr th:only-of-type {\n",
              "        vertical-align: middle;\n",
              "    }\n",
              "\n",
              "    .dataframe tbody tr th {\n",
              "        vertical-align: top;\n",
              "    }\n",
              "\n",
              "    .dataframe thead th {\n",
              "        text-align: right;\n",
              "    }\n",
              "</style>\n",
              "<table border=\"1\" class=\"dataframe\">\n",
              "  <thead>\n",
              "    <tr style=\"text-align: right;\">\n",
              "      <th></th>\n",
              "      <th>comments</th>\n",
              "      <th>duration</th>\n",
              "      <th>film_date</th>\n",
              "      <th>languages</th>\n",
              "      <th>num_speaker</th>\n",
              "      <th>published_date</th>\n",
              "      <th>views</th>\n",
              "    </tr>\n",
              "    <tr>\n",
              "      <th>event</th>\n",
              "      <th></th>\n",
              "      <th></th>\n",
              "      <th></th>\n",
              "      <th></th>\n",
              "      <th></th>\n",
              "      <th></th>\n",
              "      <th></th>\n",
              "    </tr>\n",
              "  </thead>\n",
              "  <tbody>\n",
              "    <tr>\n",
              "      <th>AORN Congress</th>\n",
              "      <td>87</td>\n",
              "      <td>510</td>\n",
              "      <td>1237024800</td>\n",
              "      <td>0</td>\n",
              "      <td>1</td>\n",
              "      <td>1263027540</td>\n",
              "      <td>149818</td>\n",
              "    </tr>\n",
              "    <tr>\n",
              "      <th>Arbejdsglaede Live</th>\n",
              "      <td>258</td>\n",
              "      <td>1092</td>\n",
              "      <td>1241481600</td>\n",
              "      <td>22</td>\n",
              "      <td>1</td>\n",
              "      <td>1267802040</td>\n",
              "      <td>971594</td>\n",
              "    </tr>\n",
              "    <tr>\n",
              "      <th>BBC TV</th>\n",
              "      <td>146</td>\n",
              "      <td>3955</td>\n",
              "      <td>426531600</td>\n",
              "      <td>0</td>\n",
              "      <td>1</td>\n",
              "      <td>1267631820</td>\n",
              "      <td>521974</td>\n",
              "    </tr>\n",
              "    <tr>\n",
              "      <th>Bowery Poetry Club</th>\n",
              "      <td>177</td>\n",
              "      <td>182</td>\n",
              "      <td>1131805080</td>\n",
              "      <td>0</td>\n",
              "      <td>1</td>\n",
              "      <td>1264252560</td>\n",
              "      <td>676741</td>\n",
              "    </tr>\n",
              "    <tr>\n",
              "      <th>Business Innovation Factory</th>\n",
              "      <td>264</td>\n",
              "      <td>3317</td>\n",
              "      <td>3765052800</td>\n",
              "      <td>49</td>\n",
              "      <td>3</td>\n",
              "      <td>3832642740</td>\n",
              "      <td>912258</td>\n",
              "    </tr>\n",
              "    <tr>\n",
              "      <th>...</th>\n",
              "      <td>...</td>\n",
              "      <td>...</td>\n",
              "      <td>...</td>\n",
              "      <td>...</td>\n",
              "      <td>...</td>\n",
              "      <td>...</td>\n",
              "      <td>...</td>\n",
              "    </tr>\n",
              "    <tr>\n",
              "      <th>The Do Lectures</th>\n",
              "      <td>40</td>\n",
              "      <td>1690</td>\n",
              "      <td>1253232000</td>\n",
              "      <td>0</td>\n",
              "      <td>1</td>\n",
              "      <td>1285488000</td>\n",
              "      <td>112321</td>\n",
              "    </tr>\n",
              "    <tr>\n",
              "      <th>Toronto Youth Corps</th>\n",
              "      <td>373</td>\n",
              "      <td>262</td>\n",
              "      <td>74649600</td>\n",
              "      <td>0</td>\n",
              "      <td>1</td>\n",
              "      <td>1273847820</td>\n",
              "      <td>1028630</td>\n",
              "    </tr>\n",
              "    <tr>\n",
              "      <th>University of California</th>\n",
              "      <td>121</td>\n",
              "      <td>8829</td>\n",
              "      <td>2087596800</td>\n",
              "      <td>0</td>\n",
              "      <td>2</td>\n",
              "      <td>2532243480</td>\n",
              "      <td>523663</td>\n",
              "    </tr>\n",
              "    <tr>\n",
              "      <th>Web 2.0 Expo 2008</th>\n",
              "      <td>556</td>\n",
              "      <td>927</td>\n",
              "      <td>1221846540</td>\n",
              "      <td>0</td>\n",
              "      <td>1</td>\n",
              "      <td>1268412360</td>\n",
              "      <td>757791</td>\n",
              "    </tr>\n",
              "    <tr>\n",
              "      <th>World Science Festival</th>\n",
              "      <td>321</td>\n",
              "      <td>184</td>\n",
              "      <td>1244592000</td>\n",
              "      <td>0</td>\n",
              "      <td>1</td>\n",
              "      <td>1267232400</td>\n",
              "      <td>3302312</td>\n",
              "    </tr>\n",
              "  </tbody>\n",
              "</table>\n",
              "<p>355 rows × 7 columns</p>\n",
              "</div>"
            ],
            "text/plain": [
              "                             comments  duration  ...  published_date    views\n",
              "event                                            ...                         \n",
              "AORN Congress                      87       510  ...      1263027540   149818\n",
              "Arbejdsglaede Live                258      1092  ...      1267802040   971594\n",
              "BBC TV                            146      3955  ...      1267631820   521974\n",
              "Bowery Poetry Club                177       182  ...      1264252560   676741\n",
              "Business Innovation Factory       264      3317  ...      3832642740   912258\n",
              "...                               ...       ...  ...             ...      ...\n",
              "The Do Lectures                    40      1690  ...      1285488000   112321\n",
              "Toronto Youth Corps               373       262  ...      1273847820  1028630\n",
              "University of California          121      8829  ...      2532243480   523663\n",
              "Web 2.0 Expo 2008                 556       927  ...      1268412360   757791\n",
              "World Science Festival            321       184  ...      1267232400  3302312\n",
              "\n",
              "[355 rows x 7 columns]"
            ]
          },
          "metadata": {
            "tags": []
          },
          "execution_count": 161
        }
      ]
    },
    {
      "cell_type": "code",
      "metadata": {
        "id": "OSGBI9ayRKqc",
        "colab_type": "code",
        "outputId": "3db6677a-d37a-4d67-c106-9858d5f36f2e",
        "colab": {
          "base_uri": "https://localhost:8080/",
          "height": 102
        }
      },
      "source": [
        "df_ted['event'].describe()"
      ],
      "execution_count": 162,
      "outputs": [
        {
          "output_type": "execute_result",
          "data": {
            "text/plain": [
              "count        2550\n",
              "unique        355\n",
              "top       TED2014\n",
              "freq           84\n",
              "Name: event, dtype: object"
            ]
          },
          "metadata": {
            "tags": []
          },
          "execution_count": 162
        }
      ]
    },
    {
      "cell_type": "code",
      "metadata": {
        "id": "vvWz4O7qQbKy",
        "colab_type": "code",
        "outputId": "3cdd2903-9424-4d66-845b-8e87d1b514ee",
        "colab": {
          "base_uri": "https://localhost:8080/",
          "height": 392
        }
      },
      "source": [
        "# box plot views/speaker_occupation\n",
        "var = 'views'\n",
        "data = pd.concat([df_ted['event'], df_ted[var]], axis=1)\n",
        "f, ax = plt.subplots(figsize=(8, 6))\n",
        "fig = sns.boxplot(x=var, y=\"event\", data=data)\n",
        "fig.axis(ymin=0, xmax=8000000, ymax = 20);"
      ],
      "execution_count": 163,
      "outputs": [
        {
          "output_type": "display_data",
          "data": {
            "image/png": "[encoded data removed]",
            "text/plain": [
              "<Figure size 576x432 with 1 Axes>"
            ]
          },
          "metadata": {
            "tags": []
          }
        }
      ]
    },
    {
      "cell_type": "code",
      "metadata": {
        "id": "OvtT3pbSEn9X",
        "colab_type": "code",
        "outputId": "11164958-2915-4b3b-8192-ae9d8f97a566",
        "colab": {
          "base_uri": "https://localhost:8080/",
          "height": 568
        }
      },
      "source": [
        "#histogram and normal probability plot\n",
        "sns.distplot(df_ted['views'], fit=norm);\n",
        "fig = plt.figure()\n",
        "res = stats.probplot(df_ted['views'], plot=plt)"
      ],
      "execution_count": 164,
      "outputs": [
        {
          "output_type": "display_data",
          "data": {
            "image/png": "[encoded data removed]",
            "text/plain": [
              "<Figure size 432x288 with 1 Axes>"
            ]
          },
          "metadata": {
            "tags": []
          }
        },
        {
          "output_type": "display_data",
          "data": {
            "image/png": "[encoded data removed]",
            "text/plain": [
              "<Figure size 432x288 with 1 Axes>"
            ]
          },
          "metadata": {
            "tags": []
          }
        }
      ]
    },
    {
      "cell_type": "code",
      "metadata": {
        "id": "sx2zF9W6B9Yy",
        "colab_type": "code",
        "colab": {}
      },
      "source": [
        "# Upload the \"Transcript\" dataset\n",
        "\n",
        "url = 'https://raw.githubusercontent.com/PoojaDoctor/Data144-FinalProject/master/datasets/transcripts.csv'\n",
        "df_trans = pd.read_csv(url)\n",
        "# Dataset is now stored in a Pandas Dataframe"
      ],
      "execution_count": 0,
      "outputs": []
    },
    {
      "cell_type": "code",
      "metadata": {
        "id": "V0cFezWyCozo",
        "colab_type": "code",
        "outputId": "d485c5be-583a-410d-9fbd-703bd6616ab3",
        "colab": {
          "base_uri": "https://localhost:8080/",
          "height": 142
        }
      },
      "source": [
        "df_trans.head(3)"
      ],
      "execution_count": 166,
      "outputs": [
        {
          "output_type": "execute_result",
          "data": {
            "text/html": [
              "<div>\n",
              "<style scoped>\n",
              "    .dataframe tbody tr th:only-of-type {\n",
              "        vertical-align: middle;\n",
              "    }\n",
              "\n",
              "    .dataframe tbody tr th {\n",
              "        vertical-align: top;\n",
              "    }\n",
              "\n",
              "    .dataframe thead th {\n",
              "        text-align: right;\n",
              "    }\n",
              "</style>\n",
              "<table border=\"1\" class=\"dataframe\">\n",
              "  <thead>\n",
              "    <tr style=\"text-align: right;\">\n",
              "      <th></th>\n",
              "      <th>transcript</th>\n",
              "      <th>url</th>\n",
              "    </tr>\n",
              "  </thead>\n",
              "  <tbody>\n",
              "    <tr>\n",
              "      <th>0</th>\n",
              "      <td>Good morning. How are you?(Laughter)It's been ...</td>\n",
              "      <td>https://www.ted.com/talks/ken_robinson_says_sc...</td>\n",
              "    </tr>\n",
              "    <tr>\n",
              "      <th>1</th>\n",
              "      <td>Thank you so much, Chris. And it's truly a gre...</td>\n",
              "      <td>https://www.ted.com/talks/al_gore_on_averting_...</td>\n",
              "    </tr>\n",
              "    <tr>\n",
              "      <th>2</th>\n",
              "      <td>(Music: \"The Sound of Silence,\" Simon &amp; Garfun...</td>\n",
              "      <td>https://www.ted.com/talks/david_pogue_says_sim...</td>\n",
              "    </tr>\n",
              "  </tbody>\n",
              "</table>\n",
              "</div>"
            ],
            "text/plain": [
              "                                          transcript                                                url\n",
              "0  Good morning. How are you?(Laughter)It's been ...  https://www.ted.com/talks/ken_robinson_says_sc...\n",
              "1  Thank you so much, Chris. And it's truly a gre...  https://www.ted.com/talks/al_gore_on_averting_...\n",
              "2  (Music: \"The Sound of Silence,\" Simon & Garfun...  https://www.ted.com/talks/david_pogue_says_sim..."
            ]
          },
          "metadata": {
            "tags": []
          },
          "execution_count": 166
        }
      ]
    }
  ]
}